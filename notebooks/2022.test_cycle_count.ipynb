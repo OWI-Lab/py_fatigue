{
 "cells": [
  {
   "cell_type": "markdown",
   "id": "693512aa",
   "metadata": {
    "toc": true
   },
   "source": [
    "<h1>Table of Contents<span class=\"tocSkip\"></span></h1>\n",
    "<div class=\"toc\"><ul class=\"toc-item\"></ul></div>"
   ]
  },
  {
   "cell_type": "code",
   "execution_count": 1,
   "id": "63b613d9",
   "metadata": {
    "ExecuteTime": {
     "end_time": "2022-06-16T14:38:31.243656Z",
     "start_time": "2022-06-16T14:38:31.201572Z"
    }
   },
   "outputs": [],
   "source": [
    "%load_ext autoreload\n",
    "%autoreload 2\n",
    "# %matplotlib inline"
   ]
  },
  {
   "cell_type": "code",
   "execution_count": 2,
   "id": "78a9042c",
   "metadata": {
    "ExecuteTime": {
     "end_time": "2022-06-16T14:38:32.550164Z",
     "start_time": "2022-06-16T14:38:31.472154Z"
    }
   },
   "outputs": [
    {
     "name": "stdout",
     "output_type": "stream",
     "text": [
      "PROJECT_PATH = C:\\Users\\pietr\\Documents\\Azure\\py_fatigue\n",
      "Platform: Windows-10-10.0.25136-SP0\n",
      "Python version: 3.9.6 (tags/v3.9.6:db3ff76, Jun 28 2021, 15:26:21) [MSC v.1929 64 bit (AMD64)]\n",
      "numpy version: 1.21.5\n"
     ]
    }
   ],
   "source": [
    "import copy\n",
    "import datetime as dt\n",
    "import os\n",
    "import platform\n",
    "import sys\n",
    "import numpy as np\n",
    "import pandas as pd\n",
    "import matplotlib\n",
    "import matplotlib.pyplot as plt\n",
    "import plotly.graph_objs as go\n",
    "\n",
    "PROJECT_PATH = os.path.dirname(os.getcwd())\n",
    "print(f'PROJECT_PATH = {PROJECT_PATH}')\n",
    "\n",
    "if not PROJECT_PATH in sys.path:\n",
    "    sys.path.append(PROJECT_PATH)\n",
    "    \n",
    "print('Platform:', platform.platform())\n",
    "print('Python version:', sys.version)\n",
    "print('numpy version:', np.__version__)\n",
    "np.set_printoptions(threshold=sys.maxsize)"
   ]
  },
  {
   "cell_type": "code",
   "execution_count": 3,
   "id": "943a556b",
   "metadata": {
    "ExecuteTime": {
     "end_time": "2022-06-16T14:38:32.613081Z",
     "start_time": "2022-06-16T14:38:32.553638Z"
    }
   },
   "outputs": [],
   "source": [
    "#matplotlib tweaking\n",
    "plt.rcParams['figure.figsize'] = (10.5/2.514/0.7, 4.5/2.514/0.7)\n",
    "plt.rcParams[\"font.family\"] = \"Sans\"\n",
    "plt.rcParams[\"font.size\"] = 10\n",
    "plt.rcParams[\"axes.grid\"] = True\n",
    "plt.rcParams['grid.color'] = \"#CCCCCC\"\n",
    "plt.rcParams['grid.linestyle'] = \"-\"\n",
    "plt.rcParams['grid.color'] = \"#DDDDDD\"\n",
    "plt.rcParams['grid.linestyle'] = \"-\"\n",
    "plt.rcParams['axes.spines.right'] = False\n",
    "plt.rcParams['axes.spines.top'] = False\n",
    "plt.rcParams['lines.markersize'] = 3\n",
    "plt.rcParams['xtick.bottom'] = False\n",
    "plt.rcParams['xtick.labelbottom'] = True\n",
    "plt.rcParams['ytick.left'] = False\n",
    "plt.rcParams['ytick.labelleft'] = True"
   ]
  },
  {
   "cell_type": "code",
   "execution_count": 4,
   "id": "09bb7468",
   "metadata": {
    "ExecuteTime": {
     "end_time": "2022-06-16T14:38:33.477590Z",
     "start_time": "2022-06-16T14:38:32.617084Z"
    }
   },
   "outputs": [],
   "source": [
    "import py_fatigue.cycle_count.rainflow as rf\n",
    "import py_fatigue.cycle_count.histogram as ht\n",
    "from py_fatigue.cycle_count import CycleCount\n",
    "from py_fatigue.mean_stress import MeanStress\n",
    "from py_fatigue.stress_range import StressRange\n",
    "import py_fatigue.cycle_count.cycle_count as fcc\n",
    "import py_fatigue.utils as pfu"
   ]
  },
  {
   "cell_type": "code",
   "execution_count": 5,
   "id": "a3205d8a",
   "metadata": {
    "ExecuteTime": {
     "end_time": "2022-06-16T14:38:33.539977Z",
     "start_time": "2022-06-16T14:38:33.479620Z"
    }
   },
   "outputs": [],
   "source": [
    "DATA_FOLDER = os.path.join(PROJECT_PATH, 'tests', 'data')"
   ]
  },
  {
   "cell_type": "code",
   "execution_count": 6,
   "id": "8a078ddb",
   "metadata": {
    "ExecuteTime": {
     "end_time": "2022-06-16T14:38:33.746389Z",
     "start_time": "2022-06-16T14:38:33.541988Z"
    }
   },
   "outputs": [],
   "source": [
    "stress_signal = 1E6 * np.loadtxt(os.path.join(DATA_FOLDER, 'strain_signal.txt'))"
   ]
  },
  {
   "cell_type": "code",
   "execution_count": 7,
   "id": "bb00ac88",
   "metadata": {
    "ExecuteTime": {
     "end_time": "2022-06-16T14:38:33.806329Z",
     "start_time": "2022-06-16T14:38:33.748410Z"
    }
   },
   "outputs": [],
   "source": [
    "\n",
    "SIGNAL = np.array([-3, 1, -1, 5, -1, 5, -1, 0, -4, 2, 1, 4, 1, 4, 3, 4, 2])\n",
    "# fmt: off\n",
    "DICT = {'nr_small_cycles': 0,\n",
    " 'range_bin_lower_bound': 0.5,\n",
    " 'range_bin_width': 1,\n",
    " 'mean_bin_lower_bound': -0.75,\n",
    " 'mean_bin_width': 0.5,\n",
    " 'hist': [[1.0],\n",
    "  [0.0, 1.0],\n",
    "  [],\n",
    "  [],\n",
    "  [1.0],\n",
    "  [0.0, 0.0, 0.0, 0.0, 0.0, 1.0],\n",
    "  [0.0, 0.0, 1.0],\n",
    "  [],\n",
    "  [1.0]],\n",
    " 'lg_c': [],\n",
    " 'res': [[1.0, 8.0], [0.5, 9.0], [0.0, 8.0], [3.0, 2.0]],\n",
    " 'res_sig': [-3, 5, -4, 4, 2]}\n",
    "# fmt: on\n",
    "CTS_1 = np.array([1. , 1. , 1. , 1. , 1. , 1. , 0.5, 0.5, 0.5, 0.5])\n",
    "S_R_1 = np.array([1., 2., 1., 6., 3., 1., 8., 9., 8., 2.])\n",
    "M_S_1 = np.array([-0.5,  0. ,  1.5,  2. ,  2.5,  3.5,  1. ,  0.5,  0. ,  3. ])\n",
    "STRESS_RANGE_1 = StressRange(CTS_1, S_R_1, _bin_lb=0.5, bin_width=1)\n",
    "MEAN_STRESS_1 = MeanStress(CTS_1, M_S_1, _bin_lb=-0.75, bin_width=0.5)"
   ]
  },
  {
   "cell_type": "code",
   "execution_count": 8,
   "id": "329ff57a",
   "metadata": {
    "ExecuteTime": {
     "end_time": "2022-06-16T14:38:33.883124Z",
     "start_time": "2022-06-16T14:38:33.808929Z"
    }
   },
   "outputs": [],
   "source": [
    "DICT.pop('res_sig')\n",
    "assert \"res_sig\" not in DICT.keys()"
   ]
  },
  {
   "cell_type": "code",
   "execution_count": 9,
   "id": "5f7f4b33",
   "metadata": {
    "ExecuteTime": {
     "end_time": "2022-06-16T14:38:34.023807Z",
     "start_time": "2022-06-16T14:38:33.943992Z"
    }
   },
   "outputs": [],
   "source": [
    "cc_from_ts = CycleCount.from_timeseries(\n",
    "    SIGNAL,\n",
    "    timestamp=dt.datetime(2019, 1, 1, tzinfo=dt.timezone.utc),\n",
    "    range_bin_lower_bound=0.5,\n",
    "    range_bin_width=1,\n",
    "    mean_bin_lower_bound=-0.75,\n",
    "    mean_bin_width=0.5,\n",
    "    name=\"Test_CC\",\n",
    ")\n",
    "cc_from_ts_from_rf = CycleCount.from_rainflow(\n",
    "    cc_from_ts.as_dict(), timestamp=dt.datetime(2019, 1, 1, tzinfo=dt.timezone.utc), name=\"Test_CC\"\n",
    ")\n",
    "cc_from_rf = CycleCount.from_rainflow(\n",
    "    DICT,\n",
    "    timestamp=dt.datetime(2019, 1, 1, tzinfo=dt.timezone.utc),\n",
    "    name=\"Test_CC\"\n",
    ")"
   ]
  },
  {
   "cell_type": "code",
   "execution_count": 17,
   "id": "bdf7ea0e",
   "metadata": {
    "ExecuteTime": {
     "end_time": "2022-06-16T14:41:14.994892Z",
     "start_time": "2022-06-16T14:41:14.923367Z"
    }
   },
   "outputs": [],
   "source": [
    "cc_ts = CycleCount.from_rainflow(\n",
    "    DICT,\n",
    "    timestamp=dt.datetime(2022,10,1,tzinfo=dt.timezone.utc),\n",
    "    name=\"Test_CC\"\n",
    ")"
   ]
  },
  {
   "cell_type": "code",
   "execution_count": 18,
   "id": "60f76b16",
   "metadata": {
    "ExecuteTime": {
     "end_time": "2022-06-16T14:41:15.415685Z",
     "start_time": "2022-06-16T14:41:15.321288Z"
    }
   },
   "outputs": [
    {
     "ename": "TypeError",
     "evalue": "01 Jan, 2019, 00:00 predates 01 Oct, 2022, 00:00. Timestamps must be sorted ascending.",
     "output_type": "error",
     "traceback": [
      "\u001b[1;31m---------------------------------------------------------------------------\u001b[0m",
      "\u001b[1;31mTypeError\u001b[0m                                 Traceback (most recent call last)",
      "Input \u001b[1;32mIn [18]\u001b[0m, in \u001b[0;36m<cell line: 1>\u001b[1;34m()\u001b[0m\n\u001b[1;32m----> 1\u001b[0m \u001b[43mcc_ts\u001b[49m\u001b[43m \u001b[49m\u001b[38;5;241;43m+\u001b[39;49m\u001b[43m \u001b[49m\u001b[43mcc_from_ts_from_rf\u001b[49m\n",
      "File \u001b[1;32m~\\Documents\\Azure\\py_fatigue\\py_fatigue\\cycle_count\\cycle_count.py:784\u001b[0m, in \u001b[0;36mCycleCount.__add__\u001b[1;34m(self, other)\u001b[0m\n\u001b[0;32m    751\u001b[0m \u001b[38;5;124;03m\"\"\"Sum operation for :class:`CycleCount` instances.\u001b[39;00m\n\u001b[0;32m    752\u001b[0m \n\u001b[0;32m    753\u001b[0m \u001b[38;5;124;03mParameters\u001b[39;00m\n\u001b[1;32m   (...)\u001b[0m\n\u001b[0;32m    780\u001b[0m \u001b[38;5;124;03m    No residuals_sequence attribute found.\u001b[39;00m\n\u001b[0;32m    781\u001b[0m \u001b[38;5;124;03m\"\"\"\u001b[39;00m\n\u001b[0;32m    783\u001b[0m \u001b[38;5;66;03m# Running initial checks\u001b[39;00m\n\u001b[1;32m--> 784\u001b[0m \u001b[38;5;28;01mif\u001b[39;00m \u001b[38;5;129;01mnot\u001b[39;00m \u001b[43m_cycle_count_add_checks\u001b[49m\u001b[43m(\u001b[49m\u001b[38;5;28;43mself\u001b[39;49m\u001b[43m,\u001b[49m\u001b[43m \u001b[49m\u001b[43mother\u001b[49m\u001b[43m)\u001b[49m:\n\u001b[0;32m    785\u001b[0m     \u001b[38;5;28;01mreturn\u001b[39;00m \u001b[38;5;28mself\u001b[39m\n\u001b[0;32m    787\u001b[0m \u001b[38;5;66;03m# Performing actual sum\u001b[39;00m\n\u001b[0;32m    788\u001b[0m \u001b[38;5;66;03m# added_counts = np.hstack([self.count_cycle, other.count_cycle])\u001b[39;00m\n\u001b[0;32m    789\u001b[0m \u001b[38;5;66;03m# added_range = np.hstack([self.stress_range, other.stress_range])\u001b[39;00m\n\u001b[0;32m    790\u001b[0m \u001b[38;5;66;03m# added_mean = np.hstack([self.mean_stress, other.mean_stress])\u001b[39;00m\n",
      "File \u001b[1;32m~\\Documents\\Azure\\py_fatigue\\py_fatigue\\cycle_count\\cycle_count.py:1518\u001b[0m, in \u001b[0;36m_cycle_count_add_checks\u001b[1;34m(self_, other_)\u001b[0m\n\u001b[0;32m   1511\u001b[0m     \u001b[38;5;28;01mif\u001b[39;00m np\u001b[38;5;241m.\u001b[39mmax(self_\u001b[38;5;241m.\u001b[39mtime_sequence) \u001b[38;5;241m>\u001b[39m np\u001b[38;5;241m.\u001b[39mmin(other_\u001b[38;5;241m.\u001b[39mtime_sequence):\n\u001b[0;32m   1512\u001b[0m         e_msg \u001b[38;5;241m=\u001b[39m (\n\u001b[0;32m   1513\u001b[0m             np\u001b[38;5;241m.\u001b[39mmin(other_\u001b[38;5;241m.\u001b[39mtime_sequence)\u001b[38;5;241m.\u001b[39mstrftime(\u001b[38;5;124m\"\u001b[39m\u001b[38;5;132;01m%d\u001b[39;00m\u001b[38;5;124m \u001b[39m\u001b[38;5;124m%\u001b[39m\u001b[38;5;124mb, \u001b[39m\u001b[38;5;124m%\u001b[39m\u001b[38;5;124mY, \u001b[39m\u001b[38;5;124m%\u001b[39m\u001b[38;5;124mH:\u001b[39m\u001b[38;5;124m%\u001b[39m\u001b[38;5;124mM\u001b[39m\u001b[38;5;124m\"\u001b[39m)\n\u001b[0;32m   1514\u001b[0m             \u001b[38;5;241m+\u001b[39m \u001b[38;5;124m\"\u001b[39m\u001b[38;5;124m predates \u001b[39m\u001b[38;5;124m\"\u001b[39m\n\u001b[0;32m   1515\u001b[0m             \u001b[38;5;241m+\u001b[39m np\u001b[38;5;241m.\u001b[39mmax(self_\u001b[38;5;241m.\u001b[39mtime_sequence)\u001b[38;5;241m.\u001b[39mstrftime(\u001b[38;5;124m\"\u001b[39m\u001b[38;5;132;01m%d\u001b[39;00m\u001b[38;5;124m \u001b[39m\u001b[38;5;124m%\u001b[39m\u001b[38;5;124mb, \u001b[39m\u001b[38;5;124m%\u001b[39m\u001b[38;5;124mY, \u001b[39m\u001b[38;5;124m%\u001b[39m\u001b[38;5;124mH:\u001b[39m\u001b[38;5;124m%\u001b[39m\u001b[38;5;124mM\u001b[39m\u001b[38;5;124m\"\u001b[39m)\n\u001b[0;32m   1516\u001b[0m             \u001b[38;5;241m+\u001b[39m \u001b[38;5;124m\"\u001b[39m\u001b[38;5;124m. Timestamps must be sorted ascending.\u001b[39m\u001b[38;5;124m\"\u001b[39m\n\u001b[0;32m   1517\u001b[0m         )\n\u001b[1;32m-> 1518\u001b[0m         \u001b[38;5;28;01mraise\u001b[39;00m \u001b[38;5;167;01mTypeError\u001b[39;00m(e_msg)\n\u001b[0;32m   1520\u001b[0m \u001b[38;5;66;03m# ! 6) UserWarning\u001b[39;00m\n\u001b[0;32m   1521\u001b[0m \u001b[38;5;66;03m# Adding-up instances having different stress concentration factors.\u001b[39;00m\n\u001b[0;32m   1522\u001b[0m \u001b[38;5;28;01mif\u001b[39;00m self_\u001b[38;5;241m.\u001b[39mstress_concentration_factor \u001b[38;5;241m!=\u001b[39m other_\u001b[38;5;241m.\u001b[39mstress_concentration_factor:\n",
      "\u001b[1;31mTypeError\u001b[0m: 01 Jan, 2019, 00:00 predates 01 Oct, 2022, 00:00. Timestamps must be sorted ascending."
     ]
    }
   ],
   "source": [
    "cc_ts + cc_from_ts_from_rf"
   ]
  },
  {
   "cell_type": "code",
   "execution_count": 19,
   "id": "d9020722",
   "metadata": {
    "ExecuteTime": {
     "end_time": "2022-06-16T14:41:20.897118Z",
     "start_time": "2022-06-16T14:41:20.833112Z"
    }
   },
   "outputs": [
    {
     "ename": "TypeError",
     "evalue": "__init__() got an unexpected keyword argument 'mean_bin_lower_bound'",
     "output_type": "error",
     "traceback": [
      "\u001b[1;31m---------------------------------------------------------------------------\u001b[0m",
      "\u001b[1;31mTypeError\u001b[0m                                 Traceback (most recent call last)",
      "Input \u001b[1;32mIn [19]\u001b[0m, in \u001b[0;36m<cell line: 1>\u001b[1;34m()\u001b[0m\n\u001b[1;32m----> 1\u001b[0m CycleCount(\u001b[38;5;241m*\u001b[39m\u001b[38;5;241m*\u001b[39mDICT)\n",
      "\u001b[1;31mTypeError\u001b[0m: __init__() got an unexpected keyword argument 'mean_bin_lower_bound'"
     ]
    }
   ],
   "source": [
    "CycleCount(**DICT)"
   ]
  },
  {
   "cell_type": "code",
   "execution_count": 20,
   "id": "f277bd55",
   "metadata": {
    "ExecuteTime": {
     "end_time": "2022-06-16T14:41:21.473557Z",
     "start_time": "2022-06-16T14:41:21.410811Z"
    }
   },
   "outputs": [
    {
     "data": {
      "text/plain": [
       "array([-0.5,  0. ,  1.5,  2. ,  2.5,  3.5])"
      ]
     },
     "execution_count": 20,
     "metadata": {},
     "output_type": "execute_result"
    }
   ],
   "source": [
    "MEAN_STRESS_1.full"
   ]
  },
  {
   "cell_type": "code",
   "execution_count": 21,
   "id": "438efcc6",
   "metadata": {
    "ExecuteTime": {
     "end_time": "2022-06-16T14:41:22.167553Z",
     "start_time": "2022-06-16T14:41:22.106919Z"
    }
   },
   "outputs": [
    {
     "data": {
      "text/plain": [
       "True"
      ]
     },
     "execution_count": 21,
     "metadata": {},
     "output_type": "execute_result"
    }
   ],
   "source": [
    "np.allclose(cc_from_rf.full_cycles[:, 0], MEAN_STRESS_1.full)"
   ]
  },
  {
   "cell_type": "code",
   "execution_count": 22,
   "id": "8b10dc3a",
   "metadata": {
    "ExecuteTime": {
     "end_time": "2022-06-16T14:41:22.598901Z",
     "start_time": "2022-06-16T14:41:22.515328Z"
    }
   },
   "outputs": [
    {
     "data": {
      "text/plain": [
       "array([-0.5,  0. ,  1.5,  2. ,  2.5,  3.5])"
      ]
     },
     "execution_count": 22,
     "metadata": {},
     "output_type": "execute_result"
    }
   ],
   "source": [
    "cc_from_ts_from_rf.full_cycles[:, 0]"
   ]
  },
  {
   "cell_type": "code",
   "execution_count": 23,
   "id": "68e2985e",
   "metadata": {
    "ExecuteTime": {
     "end_time": "2022-06-16T14:41:22.868401Z",
     "start_time": "2022-06-16T14:41:22.788362Z"
    },
    "scrolled": true
   },
   "outputs": [
    {
     "data": {
      "text/plain": [
       "{'nr_small_cycles': 0,\n",
       " 'range_bin_lower_bound': 0.5,\n",
       " 'range_bin_width': 1,\n",
       " 'hist': [3.0, 1.0, 1.0, 0.0, 0.0, 1.0],\n",
       " 'lg_c': [],\n",
       " 'res': [8.0, 9.0, 8.0, 2.0],\n",
       " 'res_sig': [-3, 5, -4, 4, 2]}"
      ]
     },
     "execution_count": 23,
     "metadata": {},
     "output_type": "execute_result"
    }
   ],
   "source": [
    "cc_from_ts.as_dict(legacy_export=True)"
   ]
  },
  {
   "cell_type": "code",
   "execution_count": 24,
   "id": "ff8a4c3d",
   "metadata": {
    "ExecuteTime": {
     "end_time": "2022-06-16T14:41:23.058464Z",
     "start_time": "2022-06-16T14:41:22.991488Z"
    }
   },
   "outputs": [
    {
     "data": {
      "text/plain": [
       "False"
      ]
     },
     "execution_count": 24,
     "metadata": {},
     "output_type": "execute_result"
    }
   ],
   "source": [
    "isinstance(cc_from_ts_from_rf, CycleCount)"
   ]
  },
  {
   "cell_type": "code",
   "execution_count": 25,
   "id": "1015fc79",
   "metadata": {
    "ExecuteTime": {
     "end_time": "2022-06-16T14:41:23.351575Z",
     "start_time": "2022-06-16T14:41:23.283580Z"
    }
   },
   "outputs": [
    {
     "data": {
      "text/plain": [
       "False"
      ]
     },
     "execution_count": 25,
     "metadata": {},
     "output_type": "execute_result"
    }
   ],
   "source": [
    "cc_from_ts_from_rf == cc_from_rf"
   ]
  },
  {
   "cell_type": "code",
   "execution_count": 30,
   "id": "095c4460",
   "metadata": {
    "ExecuteTime": {
     "end_time": "2022-06-16T14:41:37.951193Z",
     "start_time": "2022-06-16T14:41:37.890588Z"
    }
   },
   "outputs": [
    {
     "data": {
      "text/plain": [
       "array([ 0. ,  2. , -0.5,  1. ,  1.5,  2.5,  3.5,  0.5,  0. ,  3. ])"
      ]
     },
     "execution_count": 30,
     "metadata": {},
     "output_type": "execute_result"
    }
   ],
   "source": [
    "cc_from_ts.mean_stress"
   ]
  },
  {
   "cell_type": "code",
   "execution_count": 31,
   "id": "6dfe1cdf",
   "metadata": {
    "ExecuteTime": {
     "end_time": "2022-06-16T14:41:38.373094Z",
     "start_time": "2022-06-16T14:41:38.298501Z"
    }
   },
   "outputs": [
    {
     "data": {
      "text/plain": [
       "array([-0.5,  0. ,  1.5,  2. ,  2.5,  3.5,  1. ,  0.5,  0. ,  3. ])"
      ]
     },
     "execution_count": 31,
     "metadata": {},
     "output_type": "execute_result"
    }
   ],
   "source": [
    "cc_from_rf.mean_stress"
   ]
  },
  {
   "cell_type": "code",
   "execution_count": 32,
   "id": "9d366327",
   "metadata": {
    "ExecuteTime": {
     "end_time": "2022-06-16T14:41:38.794766Z",
     "start_time": "2022-06-16T14:41:38.726277Z"
    }
   },
   "outputs": [
    {
     "data": {
      "text/plain": [
       "array([1., 2., 1., 6., 3., 1., 8., 9., 8., 2.])"
      ]
     },
     "execution_count": 32,
     "metadata": {},
     "output_type": "execute_result"
    }
   ],
   "source": [
    "cc_from_rf.stress_range"
   ]
  },
  {
   "cell_type": "code",
   "execution_count": 33,
   "id": "8187fc3d",
   "metadata": {
    "ExecuteTime": {
     "end_time": "2022-06-16T14:41:43.946677Z",
     "start_time": "2022-06-16T14:41:43.867667Z"
    },
    "scrolled": false
   },
   "outputs": [
    {
     "data": {
      "text/html": [
       "<div>\n",
       "<style scoped>\n",
       "    .dataframe tbody tr th:only-of-type {\n",
       "        vertical-align: middle;\n",
       "    }\n",
       "\n",
       "    .dataframe tbody tr th {\n",
       "        vertical-align: top;\n",
       "    }\n",
       "\n",
       "    .dataframe thead th {\n",
       "        text-align: right;\n",
       "    }\n",
       "</style>\n",
       "<table border=\"1\" class=\"dataframe\">\n",
       "  <thead>\n",
       "    <tr style=\"text-align: right;\">\n",
       "      <th></th>\n",
       "      <th>Test_CC</th>\n",
       "    </tr>\n",
       "    <tr>\n",
       "      <th>Cycle counting object</th>\n",
       "      <th></th>\n",
       "    </tr>\n",
       "  </thead>\n",
       "  <tbody>\n",
       "    <tr>\n",
       "      <th>largest full stress range, MPa</th>\n",
       "      <td>6.0</td>\n",
       "    </tr>\n",
       "    <tr>\n",
       "      <th>largest stress range, MPa</th>\n",
       "      <td>9.0</td>\n",
       "    </tr>\n",
       "    <tr>\n",
       "      <th>number of full cycles</th>\n",
       "      <td>6</td>\n",
       "    </tr>\n",
       "    <tr>\n",
       "      <th>number of residuals</th>\n",
       "      <td>4</td>\n",
       "    </tr>\n",
       "    <tr>\n",
       "      <th>number of small cycles</th>\n",
       "      <td>0</td>\n",
       "    </tr>\n",
       "    <tr>\n",
       "      <th>stress concentration factor</th>\n",
       "      <td>N/A</td>\n",
       "    </tr>\n",
       "    <tr>\n",
       "      <th>residuals resolved</th>\n",
       "      <td>False</td>\n",
       "    </tr>\n",
       "    <tr>\n",
       "      <th>mean stress-corrected</th>\n",
       "      <td>No</td>\n",
       "    </tr>\n",
       "  </tbody>\n",
       "</table>\n",
       "</div>"
      ],
      "text/plain": [
       "CycleCount(count_cycle=array([1. , 1. , 1. , 1. , 1. , 1. , 0.5, 0.5, 0.5, 0.5]), stress_range=array([1., 2., 1., 6., 3., 1., 8., 9., 8., 2.]), mean_stress=array([-0.5,  0. ,  1.5,  2. ,  2.5,  3.5,  1. ,  0.5,  0. ,  3. ]), timestamp=datetime.datetime(2019, 1, 1, 0, 0, tzinfo=datetime.timezone.utc), range_bin_lower_bound=0.5, range_bin_width=1, _mean_bin_lower_bound=-0.75, mean_bin_width=0.5, nr_small_cycles=0, residuals_sequence=array([-3,  5, -4,  4,  2]), _min_max_sequence=array([], dtype=float64), lffd_solved=False, mean_stress_corrected='No', stress_concentration_factor=1.0, name='Test_CC', _time_sequence=None)"
      ]
     },
     "execution_count": 33,
     "metadata": {},
     "output_type": "execute_result"
    }
   ],
   "source": [
    "cc_from_ts_from_rf"
   ]
  },
  {
   "cell_type": "code",
   "execution_count": 34,
   "id": "15a686ef",
   "metadata": {
    "ExecuteTime": {
     "end_time": "2022-06-16T14:41:44.332626Z",
     "start_time": "2022-06-16T14:41:44.251394Z"
    }
   },
   "outputs": [
    {
     "data": {
      "text/plain": [
       "False"
      ]
     },
     "execution_count": 34,
     "metadata": {},
     "output_type": "execute_result"
    }
   ],
   "source": [
    "cc_from_ts_from_rf = CycleCount.from_rainflow(\n",
    "    cc_from_ts.as_dict(), timestamp=dt.datetime(2019, 1, 1, tzinfo=dt.timezone.utc), name=\"Test_CC\"\n",
    ")\n",
    "cc_from_ts_from_rf == cc_from_rf"
   ]
  },
  {
   "cell_type": "code",
   "execution_count": 35,
   "id": "fca99e40",
   "metadata": {
    "ExecuteTime": {
     "end_time": "2022-06-16T14:41:44.701279Z",
     "start_time": "2022-06-16T14:41:44.634308Z"
    }
   },
   "outputs": [],
   "source": [
    "SIGNAL_1 = np.array([-3, 1, -1, 5, -1, 5, -1, 0, -4, 2, 1, 4, 1, 4, 3, 4, 2])\n",
    "SIGNAL_2 = SIGNAL_1\n",
    "SIGNAL_3 = np.hstack([SIGNAL_1, SIGNAL_2])"
   ]
  },
  {
   "cell_type": "code",
   "execution_count": 74,
   "id": "433f0220",
   "metadata": {
    "ExecuteTime": {
     "end_time": "2022-06-16T14:43:08.451409Z",
     "start_time": "2022-06-16T14:43:08.379664Z"
    }
   },
   "outputs": [],
   "source": [
    "cc_1 = CycleCount.from_timeseries(SIGNAL_1, name='Test_CC', timestamp=dt.datetime(2019, 1, 1, tzinfo=dt.timezone.utc))\n",
    "cc_2 = CycleCount.from_timeseries(SIGNAL_2, name='Test_CC', timestamp=dt.datetime(2019, 1, 2, tzinfo=dt.timezone.utc))\n",
    "cc_add = cc_1 + cc_2\n",
    "cc_3b = cc_add.solve_lffd()\n",
    "cc_3 = CycleCount.from_timeseries(SIGNAL_3, name='Test_CC', timestamp=dt.datetime(2019, 1, 1, tzinfo=dt.timezone.utc))"
   ]
  },
  {
   "cell_type": "code",
   "execution_count": 38,
   "id": "799638c8",
   "metadata": {
    "ExecuteTime": {
     "end_time": "2022-06-16T14:41:58.179844Z",
     "start_time": "2022-06-16T14:41:58.107878Z"
    }
   },
   "outputs": [
    {
     "data": {
      "text/plain": [
       "array([datetime.datetime(2019, 1, 1, 0, 0, tzinfo=datetime.timezone.utc),\n",
       "       datetime.datetime(2019, 1, 2, 0, 0, tzinfo=datetime.timezone.utc)],\n",
       "      dtype=object)"
      ]
     },
     "execution_count": 38,
     "metadata": {},
     "output_type": "execute_result"
    }
   ],
   "source": [
    "cc_3b.time_sequence"
   ]
  },
  {
   "cell_type": "code",
   "execution_count": 39,
   "id": "aea852b6",
   "metadata": {
    "ExecuteTime": {
     "end_time": "2022-06-16T14:41:59.549277Z",
     "start_time": "2022-06-16T14:41:59.483360Z"
    },
    "scrolled": true
   },
   "outputs": [
    {
     "data": {
      "text/plain": [
       "array([datetime.datetime(2019, 1, 1, 0, 0, tzinfo=datetime.timezone.utc),\n",
       "       datetime.datetime(2019, 1, 2, 0, 0, tzinfo=datetime.timezone.utc)],\n",
       "      dtype=object)"
      ]
     },
     "execution_count": 39,
     "metadata": {},
     "output_type": "execute_result"
    }
   ],
   "source": [
    "cc_add.time_sequence"
   ]
  },
  {
   "cell_type": "code",
   "execution_count": 40,
   "id": "17061fc5",
   "metadata": {
    "ExecuteTime": {
     "end_time": "2022-06-16T14:42:00.085992Z",
     "start_time": "2022-06-16T14:42:00.023295Z"
    }
   },
   "outputs": [
    {
     "data": {
      "text/plain": [
       "array([datetime.datetime(2019, 1, 1, 0, 0, tzinfo=datetime.timezone.utc),\n",
       "       datetime.datetime(2019, 1, 2, 0, 0, tzinfo=datetime.timezone.utc)],\n",
       "      dtype=object)"
      ]
     },
     "execution_count": 40,
     "metadata": {},
     "output_type": "execute_result"
    }
   ],
   "source": [
    "cc_3b.time_sequence"
   ]
  },
  {
   "cell_type": "code",
   "execution_count": 41,
   "id": "c7471b8c",
   "metadata": {
    "ExecuteTime": {
     "end_time": "2022-06-16T14:42:02.892691Z",
     "start_time": "2022-06-16T14:42:02.834441Z"
    }
   },
   "outputs": [],
   "source": [
    "del cc_1.residuals_sequence\n"
   ]
  },
  {
   "cell_type": "code",
   "execution_count": 42,
   "id": "58d021d3",
   "metadata": {
    "ExecuteTime": {
     "end_time": "2022-06-16T14:42:03.096308Z",
     "start_time": "2022-06-16T14:42:03.037252Z"
    }
   },
   "outputs": [],
   "source": [
    "cc_1.residuals_sequence = None\n",
    "cc_1.residuals_sequence"
   ]
  },
  {
   "cell_type": "code",
   "execution_count": null,
   "id": "c9b9ebc5",
   "metadata": {},
   "outputs": [],
   "source": []
  },
  {
   "cell_type": "code",
   "execution_count": 43,
   "id": "13587f0d",
   "metadata": {
    "ExecuteTime": {
     "end_time": "2022-06-16T14:42:03.940078Z",
     "start_time": "2022-06-16T14:42:03.867112Z"
    }
   },
   "outputs": [
    {
     "name": "stderr",
     "output_type": "stream",
     "text": [
      "\u001b[91m\u001b[1mUserWarning:\n",
      "\u001b[0m\u001b[93mNo residuals_sequence found on \u001b[31m01 January 2019, 00:00\u001b[93m.\u001b[0m\n"
     ]
    },
    {
     "data": {
      "text/html": [
       "<div>\n",
       "<style scoped>\n",
       "    .dataframe tbody tr th:only-of-type {\n",
       "        vertical-align: middle;\n",
       "    }\n",
       "\n",
       "    .dataframe tbody tr th {\n",
       "        vertical-align: top;\n",
       "    }\n",
       "\n",
       "    .dataframe thead th {\n",
       "        text-align: right;\n",
       "    }\n",
       "</style>\n",
       "<table border=\"1\" class=\"dataframe\">\n",
       "  <thead>\n",
       "    <tr style=\"text-align: right;\">\n",
       "      <th></th>\n",
       "      <th>Test_CC</th>\n",
       "    </tr>\n",
       "    <tr>\n",
       "      <th>Cycle counting object</th>\n",
       "      <th></th>\n",
       "    </tr>\n",
       "  </thead>\n",
       "  <tbody>\n",
       "    <tr>\n",
       "      <th>largest full stress range, MPa</th>\n",
       "      <td>6.0</td>\n",
       "    </tr>\n",
       "    <tr>\n",
       "      <th>largest stress range, MPa</th>\n",
       "      <td>9.0</td>\n",
       "    </tr>\n",
       "    <tr>\n",
       "      <th>number of full cycles</th>\n",
       "      <td>12</td>\n",
       "    </tr>\n",
       "    <tr>\n",
       "      <th>number of residuals</th>\n",
       "      <td>8</td>\n",
       "    </tr>\n",
       "    <tr>\n",
       "      <th>number of small cycles</th>\n",
       "      <td>0</td>\n",
       "    </tr>\n",
       "    <tr>\n",
       "      <th>stress concentration factor</th>\n",
       "      <td>N/A</td>\n",
       "    </tr>\n",
       "    <tr>\n",
       "      <th>residuals resolved</th>\n",
       "      <td>False</td>\n",
       "    </tr>\n",
       "    <tr>\n",
       "      <th>mean stress-corrected</th>\n",
       "      <td>No</td>\n",
       "    </tr>\n",
       "  </tbody>\n",
       "</table>\n",
       "</div>"
      ],
      "text/plain": [
       "CycleCount(count_cycle=array([1. , 1. , 1. , 0.5, 1. , 1. , 1. , 0.5, 0.5, 0.5, 1. , 1. , 1. ,\n",
       "       0.5, 1. , 1. , 1. , 0.5, 0.5, 0.5]), stress_range=array([2., 6., 1., 8., 1., 3., 1., 9., 8., 2., 2., 6., 1., 8., 1., 3., 1.,\n",
       "       9., 8., 2.]), mean_stress=array([ 0. ,  2. , -0.5,  1. ,  1.5,  2.5,  3.5,  0.5,  0. ,  3. ,  0. ,\n",
       "        2. , -0.5,  1. ,  1.5,  2.5,  3.5,  0.5,  0. ,  3. ]), timestamp=datetime.datetime(2019, 1, 1, 0, 0, tzinfo=datetime.timezone.utc), range_bin_lower_bound=0.2, range_bin_width=0.05, _mean_bin_lower_bound=-5.0, mean_bin_width=10, nr_small_cycles=0, residuals_sequence=array([-3,  5, -4,  4,  2]), _min_max_sequence=array([-4,  5]), lffd_solved=False, mean_stress_corrected='No', stress_concentration_factor=1.0, name='Test_CC', _time_sequence=array([datetime.datetime(2019, 1, 1, 0, 0, tzinfo=datetime.timezone.utc),\n",
       "       datetime.datetime(2019, 1, 2, 0, 0, tzinfo=datetime.timezone.utc)],\n",
       "      dtype=object))"
      ]
     },
     "execution_count": 43,
     "metadata": {},
     "output_type": "execute_result"
    }
   ],
   "source": [
    "cc_1 + cc_2"
   ]
  },
  {
   "cell_type": "code",
   "execution_count": 44,
   "id": "9e191c7f",
   "metadata": {
    "ExecuteTime": {
     "end_time": "2022-06-16T14:42:04.286439Z",
     "start_time": "2022-06-16T14:42:04.218452Z"
    }
   },
   "outputs": [],
   "source": [
    "_, RES_SIG_AFTER_1, _ = rf.rainflow(np.array([-3,  5, -4,  4,  2, -3,  5, -4,  4,  2]))"
   ]
  },
  {
   "cell_type": "code",
   "execution_count": 45,
   "id": "c6afbd26",
   "metadata": {
    "ExecuteTime": {
     "end_time": "2022-06-16T14:42:04.864811Z",
     "start_time": "2022-06-16T14:42:04.802198Z"
    }
   },
   "outputs": [
    {
     "data": {
      "text/plain": [
       "array([-3,  5, -4,  5, -4,  4,  2])"
      ]
     },
     "execution_count": 45,
     "metadata": {},
     "output_type": "execute_result"
    }
   ],
   "source": [
    "RES_SIG_AFTER_1"
   ]
  },
  {
   "cell_type": "code",
   "execution_count": 46,
   "id": "8ab4cd66",
   "metadata": {
    "ExecuteTime": {
     "end_time": "2022-06-16T14:42:05.313361Z",
     "start_time": "2022-06-16T14:42:05.246014Z"
    }
   },
   "outputs": [
    {
     "name": "stderr",
     "output_type": "stream",
     "text": [
      "\u001b[91m\u001b[1mUserWarning:\n",
      "\u001b[0m\u001b[93mSCF already defined and set to \u001b[92m3.0\u001b[93m.\u001b[0m\n"
     ]
    }
   ],
   "source": [
    "cc_3_scf = cc_3 * 3 * 2\n",
    "cc_4_scf = 3 * cc_3 * 2"
   ]
  },
  {
   "cell_type": "code",
   "execution_count": 47,
   "id": "1756d294",
   "metadata": {
    "ExecuteTime": {
     "end_time": "2022-06-16T14:42:05.658597Z",
     "start_time": "2022-06-16T14:42:05.581524Z"
    }
   },
   "outputs": [
    {
     "data": {
      "text/plain": [
       "array([12., 36.,  6., 48.,  6., 18.,  6., 12., 42., 54., 36.,  6., 54.,\n",
       "        6., 18.,  6., 54., 48., 12.])"
      ]
     },
     "execution_count": 47,
     "metadata": {},
     "output_type": "execute_result"
    }
   ],
   "source": [
    "cc_3_scf.stress_range"
   ]
  },
  {
   "cell_type": "code",
   "execution_count": 48,
   "id": "b993140b",
   "metadata": {
    "ExecuteTime": {
     "end_time": "2022-06-16T14:42:05.991879Z",
     "start_time": "2022-06-16T14:42:05.914188Z"
    }
   },
   "outputs": [
    {
     "data": {
      "text/plain": [
       "array([6., 6., 6., 6., 6., 6., 6., 6., 6., 6., 6., 6., 6., 6., 6., 6., 6.,\n",
       "       6., 6.])"
      ]
     },
     "execution_count": 48,
     "metadata": {},
     "output_type": "execute_result"
    }
   ],
   "source": [
    "np.divide(cc_3_scf.stress_range, cc_3.stress_range)"
   ]
  },
  {
   "cell_type": "code",
   "execution_count": 49,
   "id": "b0a525e9",
   "metadata": {
    "ExecuteTime": {
     "end_time": "2022-06-16T14:42:06.316394Z",
     "start_time": "2022-06-16T14:42:06.248408Z"
    }
   },
   "outputs": [
    {
     "data": {
      "text/html": [
       "<div>\n",
       "<style scoped>\n",
       "    .dataframe tbody tr th:only-of-type {\n",
       "        vertical-align: middle;\n",
       "    }\n",
       "\n",
       "    .dataframe tbody tr th {\n",
       "        vertical-align: top;\n",
       "    }\n",
       "\n",
       "    .dataframe thead th {\n",
       "        text-align: right;\n",
       "    }\n",
       "</style>\n",
       "<table border=\"1\" class=\"dataframe\">\n",
       "  <thead>\n",
       "    <tr style=\"text-align: right;\">\n",
       "      <th></th>\n",
       "      <th>Test_CC, SCF=3, SCF=2</th>\n",
       "    </tr>\n",
       "    <tr>\n",
       "      <th>Cycle counting object</th>\n",
       "      <th></th>\n",
       "    </tr>\n",
       "  </thead>\n",
       "  <tbody>\n",
       "    <tr>\n",
       "      <th>largest full stress range, MPa</th>\n",
       "      <td>42.0</td>\n",
       "    </tr>\n",
       "    <tr>\n",
       "      <th>largest stress range, MPa</th>\n",
       "      <td>54.0</td>\n",
       "    </tr>\n",
       "    <tr>\n",
       "      <th>number of full cycles</th>\n",
       "      <td>13</td>\n",
       "    </tr>\n",
       "    <tr>\n",
       "      <th>number of residuals</th>\n",
       "      <td>6</td>\n",
       "    </tr>\n",
       "    <tr>\n",
       "      <th>number of small cycles</th>\n",
       "      <td>0</td>\n",
       "    </tr>\n",
       "    <tr>\n",
       "      <th>stress concentration factor</th>\n",
       "      <td>6.0</td>\n",
       "    </tr>\n",
       "    <tr>\n",
       "      <th>residuals resolved</th>\n",
       "      <td>False</td>\n",
       "    </tr>\n",
       "    <tr>\n",
       "      <th>mean stress-corrected</th>\n",
       "      <td>No</td>\n",
       "    </tr>\n",
       "  </tbody>\n",
       "</table>\n",
       "</div>"
      ],
      "text/plain": [
       "CycleCount(count_cycle=array([1. , 1. , 1. , 0.5, 1. , 1. , 1. , 1. , 1. , 0.5, 1. , 1. , 0.5,\n",
       "       1. , 1. , 1. , 0.5, 0.5, 0.5]), stress_range=array([12., 36.,  6., 48.,  6., 18.,  6., 12., 42., 54., 36.,  6., 54.,\n",
       "        6., 18.,  6., 54., 48., 12.]), mean_stress=array([ 0., 12., -3.,  6.,  9., 15., 21.,  0.,  3.,  3., 12., -3.,  3.,\n",
       "        9., 15., 21.,  3.,  0., 18.]), timestamp=datetime.datetime(2019, 1, 1, 0, 0, tzinfo=datetime.timezone.utc), range_bin_lower_bound=1.2000000000000002, range_bin_width=0.30000000000000004, _mean_bin_lower_bound=-30.0, mean_bin_width=60, nr_small_cycles=0, residuals_sequence=array([-18,  30, -24,  30, -24,  24,  12]), _min_max_sequence=array([-24,  30]), lffd_solved=False, mean_stress_corrected='No', stress_concentration_factor=6.0, name='Test_CC, SCF=3, SCF=2', _time_sequence=None)"
      ]
     },
     "execution_count": 49,
     "metadata": {},
     "output_type": "execute_result"
    }
   ],
   "source": [
    "cc_4_scf"
   ]
  },
  {
   "cell_type": "code",
   "execution_count": 50,
   "id": "7df34aa2",
   "metadata": {
    "ExecuteTime": {
     "end_time": "2022-06-16T14:42:06.882784Z",
     "start_time": "2022-06-16T14:42:06.493295Z"
    }
   },
   "outputs": [
    {
     "data": {
      "text/plain": [
       "(<Figure size 429.594x184.112 with 1 Axes>,\n",
       " <AxesSubplot:xlabel='Residuals sequence', ylabel='Residuals'>)"
      ]
     },
     "execution_count": 50,
     "metadata": {},
     "output_type": "execute_result"
    },
    {
     "data": {
      "image/png": "[encoded data removed]",
      "text/plain": [
       "<Figure size 429.594x184.112 with 1 Axes>"
      ]
     },
     "metadata": {
      "needs_background": "light"
     },
     "output_type": "display_data"
    }
   ],
   "source": [
    "fig = plt.figure()\n",
    "cc_3b.plot_residuals_sequence(fig, marker='o', markersize=7)\n",
    "cc_3.plot_residuals_sequence(fig)"
   ]
  },
  {
   "cell_type": "code",
   "execution_count": 51,
   "id": "ec0912db",
   "metadata": {
    "ExecuteTime": {
     "end_time": "2022-06-16T14:42:07.184605Z",
     "start_time": "2022-06-16T14:42:07.107023Z"
    }
   },
   "outputs": [
    {
     "data": {
      "text/plain": [
       "array([-3.,  5., -4.,  5., -4.,  4.,  2.])"
      ]
     },
     "execution_count": 51,
     "metadata": {},
     "output_type": "execute_result"
    }
   ],
   "source": [
    "cc_3b.residuals_sequence"
   ]
  },
  {
   "cell_type": "code",
   "execution_count": 52,
   "id": "b1b68358",
   "metadata": {
    "ExecuteTime": {
     "end_time": "2022-06-16T14:42:07.368884Z",
     "start_time": "2022-06-16T14:42:07.306121Z"
    }
   },
   "outputs": [],
   "source": [
    "res_rf, res_res_seq, _ = rf.rainflow(\n",
    "        data=cc_add.residuals_sequence,\n",
    "        extended_output=True,\n",
    "    )"
   ]
  },
  {
   "cell_type": "code",
   "execution_count": 53,
   "id": "7cc4d2fb",
   "metadata": {
    "ExecuteTime": {
     "end_time": "2022-06-16T14:42:07.571712Z",
     "start_time": "2022-06-16T14:42:07.499579Z"
    }
   },
   "outputs": [
    {
     "data": {
      "text/plain": [
       "array([-3,  5, -4,  5, -4,  4,  2])"
      ]
     },
     "execution_count": 53,
     "metadata": {},
     "output_type": "execute_result"
    }
   ],
   "source": [
    "res_res_seq"
   ]
  },
  {
   "cell_type": "code",
   "execution_count": 54,
   "id": "088c0838",
   "metadata": {
    "ExecuteTime": {
     "end_time": "2022-06-16T14:42:07.774782Z",
     "start_time": "2022-06-16T14:42:07.709140Z"
    }
   },
   "outputs": [
    {
     "data": {
      "text/html": [
       "<div>\n",
       "<style scoped>\n",
       "    .dataframe tbody tr th:only-of-type {\n",
       "        vertical-align: middle;\n",
       "    }\n",
       "\n",
       "    .dataframe tbody tr th {\n",
       "        vertical-align: top;\n",
       "    }\n",
       "\n",
       "    .dataframe thead th {\n",
       "        text-align: right;\n",
       "    }\n",
       "</style>\n",
       "<table border=\"1\" class=\"dataframe\">\n",
       "  <thead>\n",
       "    <tr style=\"text-align: right;\">\n",
       "      <th></th>\n",
       "      <th>Test_CC</th>\n",
       "    </tr>\n",
       "    <tr>\n",
       "      <th>Cycle counting object</th>\n",
       "      <th></th>\n",
       "    </tr>\n",
       "  </thead>\n",
       "  <tbody>\n",
       "    <tr>\n",
       "      <th>largest full stress range, MPa</th>\n",
       "      <td>7.0</td>\n",
       "    </tr>\n",
       "    <tr>\n",
       "      <th>largest stress range, MPa</th>\n",
       "      <td>9.0</td>\n",
       "    </tr>\n",
       "    <tr>\n",
       "      <th>number of full cycles</th>\n",
       "      <td>13</td>\n",
       "    </tr>\n",
       "    <tr>\n",
       "      <th>number of residuals</th>\n",
       "      <td>6</td>\n",
       "    </tr>\n",
       "    <tr>\n",
       "      <th>number of small cycles</th>\n",
       "      <td>0</td>\n",
       "    </tr>\n",
       "    <tr>\n",
       "      <th>stress concentration factor</th>\n",
       "      <td>N/A</td>\n",
       "    </tr>\n",
       "    <tr>\n",
       "      <th>residuals resolved</th>\n",
       "      <td>True</td>\n",
       "    </tr>\n",
       "    <tr>\n",
       "      <th>mean stress-corrected</th>\n",
       "      <td>No</td>\n",
       "    </tr>\n",
       "  </tbody>\n",
       "</table>\n",
       "</div>"
      ],
      "text/plain": [
       "CycleCount(count_cycle=array([0.5, 1. , 0.5, 0.5, 0.5, 0.5, 0.5, 1. , 1. , 1. , 1. , 1. , 1. ,\n",
       "       1. , 1. , 1. , 1. , 1. , 1. ]), stress_range=array([8., 7., 9., 9., 9., 8., 2., 2., 6., 1., 1., 3., 1., 2., 6., 1., 1.,\n",
       "       3., 1.]), mean_stress=array([ 1. ,  0.5,  0.5,  0.5,  0.5,  0. ,  3. ,  0. ,  2. , -0.5,  1.5,\n",
       "        2.5,  3.5,  0. ,  2. , -0.5,  1.5,  2.5,  3.5]), timestamp=datetime.datetime(2019, 1, 1, 0, 0, tzinfo=datetime.timezone.utc), range_bin_lower_bound=0.2, range_bin_width=0.05, _mean_bin_lower_bound=-5.0, mean_bin_width=10, nr_small_cycles=0, residuals_sequence=array([-3.,  5., -4.,  5., -4.,  4.,  2.]), _min_max_sequence=array([-4.,  5., -4.,  5.]), lffd_solved=True, mean_stress_corrected='No', stress_concentration_factor=1.0, name='Test_CC', _time_sequence=array([datetime.datetime(2019, 1, 1, 0, 0, tzinfo=datetime.timezone.utc),\n",
       "       datetime.datetime(2019, 1, 2, 0, 0, tzinfo=datetime.timezone.utc)],\n",
       "      dtype=object))"
      ]
     },
     "execution_count": 54,
     "metadata": {},
     "output_type": "execute_result"
    }
   ],
   "source": [
    "cc_3b"
   ]
  },
  {
   "cell_type": "code",
   "execution_count": 55,
   "id": "cb1fa167",
   "metadata": {
    "ExecuteTime": {
     "end_time": "2022-06-16T14:42:08.238607Z",
     "start_time": "2022-06-16T14:42:07.953987Z"
    }
   },
   "outputs": [
    {
     "data": {
      "text/plain": [
       "(<Figure size 429.594x184.112 with 1 Axes>,\n",
       " <AxesSubplot:xlabel='Residuals sequence', ylabel='Residuals'>)"
      ]
     },
     "execution_count": 55,
     "metadata": {},
     "output_type": "execute_result"
    },
    {
     "data": {
      "image/png": "[encoded data removed]",
      "text/plain": [
       "<Figure size 429.594x184.112 with 1 Axes>"
      ]
     },
     "metadata": {
      "needs_background": "light"
     },
     "output_type": "display_data"
    }
   ],
   "source": [
    "cc_add.plot_half_cycles_sequence()"
   ]
  },
  {
   "cell_type": "code",
   "execution_count": null,
   "id": "98cf44a8",
   "metadata": {},
   "outputs": [],
   "source": []
  },
  {
   "cell_type": "code",
   "execution_count": 56,
   "id": "8a358581",
   "metadata": {
    "ExecuteTime": {
     "end_time": "2022-06-16T14:42:08.800983Z",
     "start_time": "2022-06-16T14:42:08.739094Z"
    },
    "scrolled": false
   },
   "outputs": [
    {
     "data": {
      "text/html": [
       "<div>\n",
       "<style scoped>\n",
       "    .dataframe tbody tr th:only-of-type {\n",
       "        vertical-align: middle;\n",
       "    }\n",
       "\n",
       "    .dataframe tbody tr th {\n",
       "        vertical-align: top;\n",
       "    }\n",
       "\n",
       "    .dataframe thead th {\n",
       "        text-align: right;\n",
       "    }\n",
       "</style>\n",
       "<table border=\"1\" class=\"dataframe\">\n",
       "  <thead>\n",
       "    <tr style=\"text-align: right;\">\n",
       "      <th></th>\n",
       "      <th>Test_CC</th>\n",
       "    </tr>\n",
       "    <tr>\n",
       "      <th>Cycle counting object</th>\n",
       "      <th></th>\n",
       "    </tr>\n",
       "  </thead>\n",
       "  <tbody>\n",
       "    <tr>\n",
       "      <th>largest full stress range, MPa</th>\n",
       "      <td>7.0</td>\n",
       "    </tr>\n",
       "    <tr>\n",
       "      <th>largest stress range, MPa</th>\n",
       "      <td>9.0</td>\n",
       "    </tr>\n",
       "    <tr>\n",
       "      <th>number of full cycles</th>\n",
       "      <td>13</td>\n",
       "    </tr>\n",
       "    <tr>\n",
       "      <th>number of residuals</th>\n",
       "      <td>6</td>\n",
       "    </tr>\n",
       "    <tr>\n",
       "      <th>number of small cycles</th>\n",
       "      <td>0</td>\n",
       "    </tr>\n",
       "    <tr>\n",
       "      <th>stress concentration factor</th>\n",
       "      <td>N/A</td>\n",
       "    </tr>\n",
       "    <tr>\n",
       "      <th>residuals resolved</th>\n",
       "      <td>False</td>\n",
       "    </tr>\n",
       "    <tr>\n",
       "      <th>mean stress-corrected</th>\n",
       "      <td>No</td>\n",
       "    </tr>\n",
       "  </tbody>\n",
       "</table>\n",
       "</div>"
      ],
      "text/plain": [
       "CycleCount(count_cycle=array([1. , 1. , 1. , 0.5, 1. , 1. , 1. , 1. , 1. , 0.5, 1. , 1. , 0.5,\n",
       "       1. , 1. , 1. , 0.5, 0.5, 0.5]), stress_range=array([2., 6., 1., 8., 1., 3., 1., 2., 7., 9., 6., 1., 9., 1., 3., 1., 9.,\n",
       "       8., 2.]), mean_stress=array([ 0. ,  2. , -0.5,  1. ,  1.5,  2.5,  3.5,  0. ,  0.5,  0.5,  2. ,\n",
       "       -0.5,  0.5,  1.5,  2.5,  3.5,  0.5,  0. ,  3. ]), timestamp=datetime.datetime(2019, 1, 1, 0, 0, tzinfo=datetime.timezone.utc), range_bin_lower_bound=0.2, range_bin_width=0.05, _mean_bin_lower_bound=-5.0, mean_bin_width=10, nr_small_cycles=0, residuals_sequence=array([-3,  5, -4,  5, -4,  4,  2]), _min_max_sequence=array([], dtype=float64), lffd_solved=False, mean_stress_corrected='No', stress_concentration_factor=1.0, name='Test_CC', _time_sequence=None)"
      ]
     },
     "execution_count": 56,
     "metadata": {},
     "output_type": "execute_result"
    }
   ],
   "source": [
    "cc_3"
   ]
  },
  {
   "cell_type": "code",
   "execution_count": 57,
   "id": "e7f06a39",
   "metadata": {
    "ExecuteTime": {
     "end_time": "2022-06-16T14:42:09.268728Z",
     "start_time": "2022-06-16T14:42:08.949943Z"
    }
   },
   "outputs": [
    {
     "data": {
      "text/plain": [
       "(<Figure size 429.594x184.112 with 1 Axes>,\n",
       " <AxesSubplot:xlabel='Residuals sequence', ylabel='Residuals'>)"
      ]
     },
     "execution_count": 57,
     "metadata": {},
     "output_type": "execute_result"
    },
    {
     "data": {
      "image/png": "[encoded data removed]",
      "text/plain": [
       "<Figure size 429.594x184.112 with 1 Axes>"
      ]
     },
     "metadata": {
      "needs_background": "light"
     },
     "output_type": "display_data"
    }
   ],
   "source": [
    "cc_3.plot_half_cycles_sequence()"
   ]
  },
  {
   "cell_type": "code",
   "execution_count": 58,
   "id": "de160dfd",
   "metadata": {
    "ExecuteTime": {
     "end_time": "2022-06-16T14:42:09.440651Z",
     "start_time": "2022-06-16T14:42:09.370516Z"
    }
   },
   "outputs": [
    {
     "data": {
      "text/html": [
       "<div>\n",
       "<style scoped>\n",
       "    .dataframe tbody tr th:only-of-type {\n",
       "        vertical-align: middle;\n",
       "    }\n",
       "\n",
       "    .dataframe tbody tr th {\n",
       "        vertical-align: top;\n",
       "    }\n",
       "\n",
       "    .dataframe thead th {\n",
       "        text-align: right;\n",
       "    }\n",
       "</style>\n",
       "<table border=\"1\" class=\"dataframe\">\n",
       "  <thead>\n",
       "    <tr style=\"text-align: right;\">\n",
       "      <th></th>\n",
       "      <th>Test_CC</th>\n",
       "    </tr>\n",
       "    <tr>\n",
       "      <th>Cycle counting object</th>\n",
       "      <th></th>\n",
       "    </tr>\n",
       "  </thead>\n",
       "  <tbody>\n",
       "    <tr>\n",
       "      <th>largest full stress range, MPa</th>\n",
       "      <td>7.0</td>\n",
       "    </tr>\n",
       "    <tr>\n",
       "      <th>largest stress range, MPa</th>\n",
       "      <td>9.0</td>\n",
       "    </tr>\n",
       "    <tr>\n",
       "      <th>number of full cycles</th>\n",
       "      <td>13</td>\n",
       "    </tr>\n",
       "    <tr>\n",
       "      <th>number of residuals</th>\n",
       "      <td>6</td>\n",
       "    </tr>\n",
       "    <tr>\n",
       "      <th>number of small cycles</th>\n",
       "      <td>0</td>\n",
       "    </tr>\n",
       "    <tr>\n",
       "      <th>stress concentration factor</th>\n",
       "      <td>N/A</td>\n",
       "    </tr>\n",
       "    <tr>\n",
       "      <th>residuals resolved</th>\n",
       "      <td>False</td>\n",
       "    </tr>\n",
       "    <tr>\n",
       "      <th>mean stress-corrected</th>\n",
       "      <td>No</td>\n",
       "    </tr>\n",
       "  </tbody>\n",
       "</table>\n",
       "</div>"
      ],
      "text/plain": [
       "CycleCount(count_cycle=array([1. , 1. , 1. , 0.5, 1. , 1. , 1. , 1. , 1. , 0.5, 1. , 1. , 0.5,\n",
       "       1. , 1. , 1. , 0.5, 0.5, 0.5]), stress_range=array([2., 6., 1., 8., 1., 3., 1., 2., 7., 9., 6., 1., 9., 1., 3., 1., 9.,\n",
       "       8., 2.]), mean_stress=array([ 0. ,  2. , -0.5,  1. ,  1.5,  2.5,  3.5,  0. ,  0.5,  0.5,  2. ,\n",
       "       -0.5,  0.5,  1.5,  2.5,  3.5,  0.5,  0. ,  3. ]), timestamp=datetime.datetime(2019, 1, 1, 0, 0, tzinfo=datetime.timezone.utc), range_bin_lower_bound=0.2, range_bin_width=0.05, _mean_bin_lower_bound=-5.0, mean_bin_width=10, nr_small_cycles=0, residuals_sequence=array([-3,  5, -4,  5, -4,  4,  2]), _min_max_sequence=array([], dtype=float64), lffd_solved=False, mean_stress_corrected='No', stress_concentration_factor=1.0, name='Test_CC', _time_sequence=None)"
      ]
     },
     "execution_count": 58,
     "metadata": {},
     "output_type": "execute_result"
    }
   ],
   "source": [
    "cc_3"
   ]
  },
  {
   "cell_type": "code",
   "execution_count": 59,
   "id": "6ec25190",
   "metadata": {
    "ExecuteTime": {
     "end_time": "2022-06-16T14:42:09.675082Z",
     "start_time": "2022-06-16T14:42:09.596129Z"
    }
   },
   "outputs": [
    {
     "data": {
      "text/plain": [
       "array([[ 1. ,  0. ,  1. ],\n",
       "       [ 3. ,  2. ,  1. ],\n",
       "       [ 0.5, -0.5,  1. ],\n",
       "       [ 4. ,  1. ,  0.5],\n",
       "       [ 0.5,  1.5,  1. ],\n",
       "       [ 1.5,  2.5,  1. ],\n",
       "       [ 0.5,  3.5,  1. ],\n",
       "       [ 4.5,  0.5,  0.5],\n",
       "       [ 4. ,  0. ,  0.5],\n",
       "       [ 1. ,  3. ,  0.5]])"
      ]
     },
     "execution_count": 59,
     "metadata": {},
     "output_type": "execute_result"
    }
   ],
   "source": [
    "rf.findrfc_astm(SIGNAL_1)"
   ]
  },
  {
   "cell_type": "code",
   "execution_count": 60,
   "id": "7addc53c",
   "metadata": {
    "ExecuteTime": {
     "end_time": "2022-06-16T14:42:09.967510Z",
     "start_time": "2022-06-16T14:42:09.870922Z"
    }
   },
   "outputs": [
    {
     "data": {
      "text/plain": [
       "17"
      ]
     },
     "execution_count": 60,
     "metadata": {},
     "output_type": "execute_result"
    }
   ],
   "source": [
    "len(SIGNAL_1)"
   ]
  },
  {
   "cell_type": "code",
   "execution_count": 61,
   "id": "dcfdfe9a",
   "metadata": {
    "ExecuteTime": {
     "end_time": "2022-06-16T14:42:10.232373Z",
     "start_time": "2022-06-16T14:42:10.153374Z"
    }
   },
   "outputs": [
    {
     "data": {
      "text/plain": [
       "array([ 0.00000000e+00, -7.43352485e-03,  2.31603071e-01,  3.24845537e-01,\n",
       "        2.53282247e-01,  4.18556565e-01,  6.03294180e-01,  5.31237492e-01,\n",
       "        5.79621419e-01,  8.02780687e-01,  7.90332132e-01,  7.26448234e-01,\n",
       "        9.12707741e-01,  9.87649417e-01,  8.59976617e-01,  9.43700933e-01,\n",
       "        1.08753972e+00,  9.65374692e-01,  9.18697324e-01,  1.07387743e+00,\n",
       "        1.01553572e+00,  8.60137399e-01,  9.55273785e-01,  9.81788752e-01,\n",
       "        7.79158358e-01,  7.61056629e-01,  8.47138108e-01,  6.71668881e-01,\n",
       "        5.29824589e-01,  6.16089774e-01,  5.22984895e-01,  2.95570991e-01,\n",
       "        3.16520916e-01,  3.18760414e-01,  7.73389278e-02, -7.51303450e-03,\n",
       "        5.70275230e-02, -1.23310812e-01, -3.09188825e-01, -2.44423620e-01,\n",
       "       -3.16305085e-01, -5.52992446e-01, -5.49073674e-01, -5.11680639e-01,\n",
       "       -7.23654035e-01, -8.11135062e-01, -7.08388171e-01, -8.26434266e-01,\n",
       "       -9.89698368e-01, -8.88745846e-01, -8.79090188e-01, -1.06168730e+00,\n",
       "       -1.02143856e+00, -8.99504579e-01, -1.02820848e+00, -1.07206545e+00,\n",
       "       -8.94812342e-01, -9.11736814e-01, -1.01676590e+00, -8.57080654e-01,\n",
       "       -7.45555100e-01, -8.52961002e-01, -7.67550851e-01, -5.60199811e-01,\n",
       "       -6.02408217e-01, -6.07499176e-01, -3.72873831e-01, -3.05072635e-01,\n",
       "       -3.70693628e-01, -1.84340715e-01, -6.30090150e-03, -7.15989858e-02,\n",
       "        1.56321357e-02,  2.57325445e-01,  2.54711990e-01,  2.37115433e-01,\n",
       "        4.67566536e-01,  5.61346082e-01,  4.78587072e-01,  6.25726237e-01,\n",
       "        8.03631850e-01,  7.20816182e-01,  7.45427504e-01,  9.52627944e-01,\n",
       "        9.29267222e-01,  8.40650415e-01,  1.00251528e+00,  1.06438217e+00,\n",
       "        9.14784256e-01,  9.68958434e-01,  1.09550837e+00,  9.55910351e-01,\n",
       "        8.79463529e-01,  1.01251385e+00,  9.40645448e-01,  7.60222728e-01,\n",
       "        8.30048477e-01,  8.44932778e-01,  6.25380202e-01,  5.82566565e-01,\n",
       "        6.56938074e-01,  4.73445346e-01,  3.12224279e-01,  3.86142094e-01,\n",
       "        2.92264285e-01,  5.48266704e-02,  6.43040067e-02,  7.00293944e-02,\n",
       "       -1.70233901e-01, -2.62497180e-01, -1.92978601e-01, -3.61968956e-01,\n",
       "       -5.47623869e-01, -4.77610337e-01, -5.31290970e-01, -7.57774853e-01,\n",
       "       -7.47538721e-01, -6.89404544e-01, -8.81293470e-01, -9.59144743e-01,\n",
       "       -8.36745183e-01, -9.27637185e-01, -1.07562624e+00, -9.57827358e-01,\n",
       "       -9.18645721e-01, -1.07940458e+00, -1.02464819e+00, -8.75821207e-01,\n",
       "       -9.77570665e-01, -1.00737202e+00, -8.09506969e-01, -7.98106148e-01,\n",
       "       -8.87652099e-01, -7.14881827e-01, -5.78610067e-01, -6.68641233e-01,\n",
       "       -5.76515704e-01, -3.52479124e-01, -3.77094706e-01, -3.79284746e-01,\n",
       "       -1.38505072e-01, -5.63814541e-02, -1.20491391e-01,  6.17807060e-02,\n",
       "        2.46821924e-01,  1.82596847e-01,  2.58230044e-01,  4.96636000e-01,\n",
       "        4.93598027e-01,  4.60750311e-01,  6.77054479e-01,  7.66354783e-01,\n",
       "        6.68067607e-01,  7.92423505e-01,  9.59073721e-01,  8.62073590e-01,\n",
       "        8.59575629e-01,  1.04740349e+00,  1.01071433e+00,  8.95544181e-01,\n",
       "        1.03100177e+00,  1.07849396e+00,  9.06676506e-01,  9.30959496e-01,\n",
       "        1.04016907e+00,  8.84236034e-01,  7.79422863e-01,  8.91669559e-01,\n",
       "        8.08566003e-01,  6.06113959e-01,  6.53394260e-01,  6.59937398e-01,\n",
       "        4.27707590e-01,  3.64306688e-01,  4.31092910e-01,  2.44622804e-01,\n",
       "        6.92434962e-02,  1.35625356e-01,  4.63659794e-02, -1.95225913e-01,\n",
       "       -1.91909010e-01, -1.77346150e-01, -4.10485239e-01, -5.04624380e-01,\n",
       "       -4.25099296e-01, -5.77241435e-01, -7.57305679e-01, -6.77540552e-01,\n",
       "       -7.08451862e-01, -9.20008046e-01, -8.99649749e-01, -8.17438083e-01,\n",
       "       -9.85643181e-01, -1.05095363e+00, -9.06919294e-01, -9.68568898e-01,\n",
       "       -1.09950060e+00, -9.64212223e-01, -8.95130984e-01, -1.03364224e+00,\n",
       "       -9.64991027e-01, -7.90593113e-01, -8.66534492e-01, -8.84061212e-01,\n",
       "       -6.68381840e-01, -6.31397586e-01, -7.08343107e-01, -5.26412139e-01,\n",
       "       -3.69572047e-01, -4.46146719e-01, -3.51972202e-01, -1.16502123e-01,\n",
       "       -1.28357011e-01, -1.32710476e-01,  1.08404898e-01,  1.99341302e-01,\n",
       "        1.31551467e-01,  3.03912445e-01,  4.90147588e-01,  4.21894242e-01,\n",
       "        4.80584611e-01,  7.10096493e-01,  7.01833741e-01,  6.49239634e-01,\n",
       "        8.46532004e-01,  9.27110049e-01,  8.09859107e-01,  9.07787672e-01,\n",
       "        1.05981514e+00,  9.46341905e-01,  9.14632497e-01,  1.08094452e+00,\n",
       "        1.02981191e+00,  8.87639200e-01,  9.96073830e-01,  1.02927349e+00,\n",
       "        8.36349379e-01,  8.31821713e-01,  9.25013312e-01,  7.55188402e-01,\n",
       "        6.24751539e-01,  7.18794917e-01,  6.27941830e-01,  4.07612352e-01,\n",
       "        4.36197184e-01,  4.38655934e-01,  1.98883433e-01,  1.19834233e-01,\n",
       "        1.83839718e-01, -1.26660666e-14])"
      ]
     },
     "execution_count": 61,
     "metadata": {},
     "output_type": "execute_result"
    }
   ],
   "source": [
    "t = np.linspace(0, 7 * np.pi, 250)\n",
    "np.sin(t) + 0.1 * np.sin(50 * t)"
   ]
  },
  {
   "cell_type": "code",
   "execution_count": 62,
   "id": "8ebe41f7",
   "metadata": {
    "ExecuteTime": {
     "end_time": "2022-06-16T14:42:10.465103Z",
     "start_time": "2022-06-16T14:42:10.386052Z"
    }
   },
   "outputs": [
    {
     "data": {
      "text/plain": [
       "array([  0,   1,   3,   4,   6,   7,   9,  11,  13,  14,  16,  18,  19,\n",
       "        21,  23,  25,  26,  28,  29,  31,  33,  35,  36,  38,  39,  41,\n",
       "        43,  45,  46,  48,  50,  51,  53,  55,  56,  58,  60,  61,  63,\n",
       "        65,  67,  68,  70,  71,  73,  75,  77,  78,  80,  81,  83,  85,\n",
       "        87,  88,  90,  92,  93,  95,  97,  99, 100, 102, 103, 105, 107,\n",
       "       109, 110, 112, 113, 115, 117, 119, 120, 122, 124, 125, 127, 129,\n",
       "       131, 132, 134, 135, 137, 139, 141, 142, 144, 145, 147, 149, 151,\n",
       "       152, 154, 156, 157, 159, 161, 162, 164, 166, 167, 169, 171, 173,\n",
       "       174, 176, 177, 179, 181, 183, 184, 186, 187, 189, 191, 193, 194,\n",
       "       196, 198, 199, 201, 203, 205, 206, 208, 209, 211, 213, 215, 216,\n",
       "       218, 219, 221, 223, 225, 226, 228, 230, 231, 233, 235, 237, 238,\n",
       "       240, 241, 243, 245, 247, 248, 249])"
      ]
     },
     "execution_count": 62,
     "metadata": {},
     "output_type": "execute_result"
    }
   ],
   "source": [
    "np.array([0, 1, 3, 4, 6, 7, 9, 11, 13, 14, 16, 18, 19, 21, 23, 25, 26, 28, 29,\n",
    "        31, 33, 35, 36, 38, 39, 41, 43, 45, 46, 48, 50, 51, 53, 55, 56, 58, 60,\n",
    "        61, 63, 65, 67, 68, 70, 71, 73, 75, 77, 78, 80, 81, 83, 85, 87, 88, 90,\n",
    "         92, 93, 95, 97, 99, 100, 102, 103, 105, 107, 109, 110, 112, 113, 115,\n",
    "         117, 119, 120, 122, 124, 125, 127, 129, 131, 132, 134, 135, 137, 139,\n",
    "         141, 142, 144, 145, 147, 149, 151, 152, 154, 156, 157, 159, 161, 162,\n",
    "         164, 166, 167, 169, 171, 173, 174, 176, 177, 179, 181, 183, 184, 186,\n",
    "         187, 189, 191, 193, 194, 196, 198, 199, 201, 203, 205, 206, 208, 209,\n",
    "         211, 213, 215, 216, 218, 219, 221, 223, 225, 226, 228, 230, 231, 233,\n",
    "         235, 237, 238, 240, 241, 243, 245, 247, 248, 249])"
   ]
  },
  {
   "cell_type": "code",
   "execution_count": 63,
   "id": "44e86570",
   "metadata": {
    "ExecuteTime": {
     "end_time": "2022-06-16T14:42:10.952116Z",
     "start_time": "2022-06-16T14:42:10.889925Z"
    }
   },
   "outputs": [
    {
     "name": "stderr",
     "output_type": "stream",
     "text": [
      "\u001b[91m\u001b[1mUserWarning:\n",
      "\u001b[0m\u001b[93mNo level v = 0 crossings found in x\u001b[0m\n"
     ]
    },
    {
     "data": {
      "text/plain": [
       "array([], dtype=int64)"
      ]
     },
     "execution_count": 63,
     "metadata": {},
     "output_type": "execute_result"
    }
   ],
   "source": [
    "rf.findextrema([0])"
   ]
  },
  {
   "cell_type": "code",
   "execution_count": 64,
   "id": "f033cd09",
   "metadata": {
    "ExecuteTime": {
     "end_time": "2022-06-16T14:42:11.215174Z",
     "start_time": "2022-06-16T14:42:11.147602Z"
    }
   },
   "outputs": [
    {
     "data": {
      "text/plain": [
       "array([], dtype=int64)"
      ]
     },
     "execution_count": 64,
     "metadata": {},
     "output_type": "execute_result"
    }
   ],
   "source": [
    "rf.findtp([0])"
   ]
  },
  {
   "cell_type": "code",
   "execution_count": 65,
   "id": "a2df005f",
   "metadata": {
    "ExecuteTime": {
     "end_time": "2022-06-16T14:42:11.506278Z",
     "start_time": "2022-06-16T14:42:11.422852Z"
    }
   },
   "outputs": [
    {
     "name": "stdout",
     "output_type": "stream",
     "text": [
      "   First Item  Second Item  Score\n",
      "0           1            2  0.875\n",
      "1           2            1  0.875\n",
      "2           0            1  1.000\n"
     ]
    }
   ],
   "source": [
    "import pandas as pd\n",
    "\n",
    "lst = [(1, 2, 0.875), (2, 1, 0.875), (0, 1, 1.0)]\n",
    "\n",
    "items = ['Apple', 'Banana', 'Pear']\n",
    "\n",
    "# lst_2 = [items[lst]]\n",
    "print(pd.DataFrame.from_records(lst, columns=['First Item', 'Second Item', 'Score']))"
   ]
  },
  {
   "cell_type": "code",
   "execution_count": 66,
   "id": "7eb0ee27",
   "metadata": {
    "ExecuteTime": {
     "end_time": "2022-06-16T14:42:14.883850Z",
     "start_time": "2022-06-16T14:42:14.802167Z"
    }
   },
   "outputs": [
    {
     "name": "stdout",
     "output_type": "stream",
     "text": [
      "  First Item Second Item  Score\n",
      "0     Banana        Pear      2\n",
      "1       Pear      Banana      1\n",
      "2      Apple      Banana      1\n"
     ]
    }
   ],
   "source": [
    "items_score_dict = {'First Item':[], 'Second Item':[], 'Score':[]}\n",
    "for x in lst:\n",
    "#     print((x[0], x[1], x[2]))\n",
    "    items_score_dict['First Item'].append(items[x[0]])\n",
    "    items_score_dict['Second Item'].append(items[x[1]])\n",
    "    items_score_dict['Score'].append(x[1])\n",
    "print(pd.DataFrame(items_score_dict))"
   ]
  },
  {
   "cell_type": "code",
   "execution_count": null,
   "id": "511d57e5",
   "metadata": {
    "ExecuteTime": {
     "end_time": "2022-06-07T21:49:30.427739Z",
     "start_time": "2022-06-07T21:49:30.169176Z"
    }
   },
   "outputs": [],
   "source": []
  },
  {
   "cell_type": "code",
   "execution_count": 67,
   "id": "9cb7cc24",
   "metadata": {
    "ExecuteTime": {
     "end_time": "2022-06-16T14:42:15.284919Z",
     "start_time": "2022-06-16T14:42:15.202866Z"
    }
   },
   "outputs": [],
   "source": [
    "CTS_1 = np.array([1. , 1. , 1. , 1. , 1. , 1. , 0.5, 0.5, 0.5, 0.5])\n",
    "S_R_1 = np.array([1., 2., 1., 6., 3., 1., 8., 9., 8., 2.])\n",
    "M_S_1 = np.array([-0.5, -0.5,  0. ,  0.5,  1. ,  1.5,  1.5,  2.5,  3. ,  3.5])\n",
    "STRESS_RANGE_1 = StressRange(CTS_1, S_R_1, _bin_lb=0.5, bin_width=1)\n",
    "MEAN_STRESS_1 = MeanStress(CTS_1, M_S_1, _bin_lb=-1, bin_width=1)"
   ]
  },
  {
   "cell_type": "code",
   "execution_count": 68,
   "id": "3032a238",
   "metadata": {
    "ExecuteTime": {
     "end_time": "2022-06-16T14:42:15.505620Z",
     "start_time": "2022-06-16T14:42:15.426307Z"
    }
   },
   "outputs": [
    {
     "data": {
      "text/plain": [
       "array([1.5, 2.5, 3. , 3.5])"
      ]
     },
     "execution_count": 68,
     "metadata": {},
     "output_type": "execute_result"
    }
   ],
   "source": [
    "MEAN_STRESS_1.half"
   ]
  },
  {
   "cell_type": "code",
   "execution_count": 69,
   "id": "2e65e701",
   "metadata": {
    "ExecuteTime": {
     "end_time": "2022-06-16T14:42:15.743014Z",
     "start_time": "2022-06-16T14:42:15.660135Z"
    }
   },
   "outputs": [],
   "source": [
    "df1=pd.DataFrame({'col1':['', 'element','element2'], 'col2':[20, 30, 43]})\n",
    "df2=pd.DataFrame({'aaa':['', '',''], 'col1':['one', 'two', 'three'], 'col2':[5, 8, 6]})\n",
    "df3=pd.DataFrame({'col1':[None, None, None], 'col2':[8, 9, 5]})\n",
    "df4=pd.DataFrame({'whatever':[5,8,9], 'bbb':['','','']})"
   ]
  },
  {
   "cell_type": "code",
   "execution_count": 70,
   "id": "f0b42278",
   "metadata": {
    "ExecuteTime": {
     "end_time": "2022-06-16T14:42:15.974328Z",
     "start_time": "2022-06-16T14:42:15.897236Z"
    }
   },
   "outputs": [
    {
     "data": {
      "text/plain": [
       "False"
      ]
     },
     "execution_count": 70,
     "metadata": {},
     "output_type": "execute_result"
    }
   ],
   "source": [
    "df3['col1'].empty"
   ]
  },
  {
   "cell_type": "code",
   "execution_count": 75,
   "id": "805ea440",
   "metadata": {
    "ExecuteTime": {
     "end_time": "2022-06-16T14:43:16.307878Z",
     "start_time": "2022-06-16T14:43:15.820435Z"
    },
    "scrolled": true
   },
   "outputs": [
    {
     "name": "stderr",
     "output_type": "stream",
     "text": [
      "\u001b[91m\u001b[1mRuntimeWarning:\n",
      "\u001b[0m\u001b[93mdivide by zero encountered in true_divide\u001b[0m\n",
      "\u001b[91m\u001b[1mUserWarning:\n",
      "\u001b[0m\u001b[93mIf mean stress correction is performed in the contest of long-term fatigue analysis, please perform the sum of multiple CycleCount instances prior mean stress correction (MSC).\n",
      "In fact, applying the MSC before summing into long-term CycleCount instance results in non-conservative life estimates, as after MSC, low-frequency fatigue cannot be estimated accurately.\u001b[0m\n"
     ]
    },
    {
     "data": {
      "image/png": "[encoded data removed]",
      "text/plain": [
       "<Figure size 429.594x184.112 with 1 Axes>"
      ]
     },
     "metadata": {
      "needs_background": "light"
     },
     "output_type": "display_data"
    }
   ],
   "source": [
    "cc_1_cor = cc_1.mean_stress_correction(plot=True, detail_factor=0.6)"
   ]
  },
  {
   "cell_type": "code",
   "execution_count": 76,
   "id": "85a81379",
   "metadata": {
    "ExecuteTime": {
     "end_time": "2022-06-16T14:43:30.996616Z",
     "start_time": "2022-06-16T14:43:30.931953Z"
    }
   },
   "outputs": [],
   "source": [
    "SIGNAL_0 = np.array([-3, 3, -3, 3, -3, 3, -3, 3, -3, 3, -3, 3, -3, 3, -3])\n",
    "CC_TS_1 = CycleCount.from_timeseries(\n",
    "    SIGNAL_0,\n",
    "#     timestamp=TIMESTAMP_1,\n",
    "    range_bin_lower_bound=0.5,\n",
    "    range_bin_width=1,\n",
    "    mean_bin_lower_bound=-0.75,\n",
    "    mean_bin_width=0.5,\n",
    "    name=\"Test_CC\",\n",
    ")"
   ]
  },
  {
   "cell_type": "code",
   "execution_count": null,
   "id": "9ab3d20b",
   "metadata": {
    "ExecuteTime": {
     "end_time": "2022-06-08T07:17:56.380974Z",
     "start_time": "2022-06-08T07:17:56.291062Z"
    }
   },
   "outputs": [],
   "source": [
    "CC_TS_1.stress_range"
   ]
  },
  {
   "cell_type": "code",
   "execution_count": null,
   "id": "b24cc6c2",
   "metadata": {
    "ExecuteTime": {
     "end_time": "2022-06-08T07:17:57.160795Z",
     "start_time": "2022-06-08T07:17:57.068626Z"
    }
   },
   "outputs": [],
   "source": [
    "len(CC_TS_1.count_cycle)"
   ]
  },
  {
   "cell_type": "code",
   "execution_count": null,
   "id": "5402adf6",
   "metadata": {
    "ExecuteTime": {
     "end_time": "2022-06-16T14:02:59.570887Z",
     "start_time": "2022-06-16T14:02:55.831106Z"
    }
   },
   "outputs": [],
   "source": [
    "import py_fatigue as pf"
   ]
  },
  {
   "cell_type": "code",
   "execution_count": null,
   "id": "8d1152d5",
   "metadata": {
    "ExecuteTime": {
     "end_time": "2022-06-16T14:38:05.177916Z",
     "start_time": "2022-06-16T14:38:05.169834Z"
    }
   },
   "outputs": [],
   "source": [
    "import py_fatigue.damage as dam"
   ]
  },
  {
   "cell_type": "code",
   "execution_count": 79,
   "id": "9a000ed5",
   "metadata": {
    "ExecuteTime": {
     "end_time": "2022-06-16T14:43:50.147927Z",
     "start_time": "2022-06-16T14:43:50.084553Z"
    }
   },
   "outputs": [],
   "source": [
    "df = cc_1.to_df()"
   ]
  },
  {
   "cell_type": "code",
   "execution_count": 81,
   "id": "fe3a1b51",
   "metadata": {
    "ExecuteTime": {
     "end_time": "2022-06-16T14:44:30.218074Z",
     "start_time": "2022-06-16T14:44:30.139428Z"
    }
   },
   "outputs": [
    {
     "ename": "AttributeError",
     "evalue": "'DataFrame' object has no attribute 'miner'",
     "output_type": "error",
     "traceback": [
      "\u001b[1;31m---------------------------------------------------------------------------\u001b[0m",
      "\u001b[1;31mAttributeError\u001b[0m                            Traceback (most recent call last)",
      "Input \u001b[1;32mIn [81]\u001b[0m, in \u001b[0;36m<cell line: 1>\u001b[1;34m()\u001b[0m\n\u001b[1;32m----> 1\u001b[0m \u001b[43mdf\u001b[49m\u001b[38;5;241;43m.\u001b[39;49m\u001b[43mminer\u001b[49m\u001b[38;5;241m.\u001b[39mdamage()\n",
      "File \u001b[1;32mc:\\users\\pietr\\documents\\azure\\pyfatenv\\lib\\site-packages\\pandas\\core\\generic.py:5583\u001b[0m, in \u001b[0;36mNDFrame.__getattr__\u001b[1;34m(self, name)\u001b[0m\n\u001b[0;32m   5576\u001b[0m \u001b[38;5;28;01mif\u001b[39;00m (\n\u001b[0;32m   5577\u001b[0m     name \u001b[38;5;129;01mnot\u001b[39;00m \u001b[38;5;129;01min\u001b[39;00m \u001b[38;5;28mself\u001b[39m\u001b[38;5;241m.\u001b[39m_internal_names_set\n\u001b[0;32m   5578\u001b[0m     \u001b[38;5;129;01mand\u001b[39;00m name \u001b[38;5;129;01mnot\u001b[39;00m \u001b[38;5;129;01min\u001b[39;00m \u001b[38;5;28mself\u001b[39m\u001b[38;5;241m.\u001b[39m_metadata\n\u001b[0;32m   5579\u001b[0m     \u001b[38;5;129;01mand\u001b[39;00m name \u001b[38;5;129;01mnot\u001b[39;00m \u001b[38;5;129;01min\u001b[39;00m \u001b[38;5;28mself\u001b[39m\u001b[38;5;241m.\u001b[39m_accessors\n\u001b[0;32m   5580\u001b[0m     \u001b[38;5;129;01mand\u001b[39;00m \u001b[38;5;28mself\u001b[39m\u001b[38;5;241m.\u001b[39m_info_axis\u001b[38;5;241m.\u001b[39m_can_hold_identifiers_and_holds_name(name)\n\u001b[0;32m   5581\u001b[0m ):\n\u001b[0;32m   5582\u001b[0m     \u001b[38;5;28;01mreturn\u001b[39;00m \u001b[38;5;28mself\u001b[39m[name]\n\u001b[1;32m-> 5583\u001b[0m \u001b[38;5;28;01mreturn\u001b[39;00m \u001b[38;5;28;43mobject\u001b[39;49m\u001b[38;5;241;43m.\u001b[39;49m\u001b[38;5;21;43m__getattribute__\u001b[39;49m\u001b[43m(\u001b[49m\u001b[38;5;28;43mself\u001b[39;49m\u001b[43m,\u001b[49m\u001b[43m \u001b[49m\u001b[43mname\u001b[49m\u001b[43m)\u001b[49m\n",
      "\u001b[1;31mAttributeError\u001b[0m: 'DataFrame' object has no attribute 'miner'"
     ]
    }
   ],
   "source": [
    "df.miner.damage()"
   ]
  },
  {
   "cell_type": "code",
   "execution_count": null,
   "id": "691457c3",
   "metadata": {},
   "outputs": [],
   "source": []
  }
 ],
 "metadata": {
  "hide_input": false,
  "kernelspec": {
   "display_name": "Python 3",
   "language": "python",
   "name": "python3"
  },
  "language_info": {
   "codemirror_mode": {
    "name": "ipython",
    "version": 3
   },
   "file_extension": ".py",
   "mimetype": "text/x-python",
   "name": "python",
   "nbconvert_exporter": "python",
   "pygments_lexer": "ipython3",
   "version": "3.9.7"
  },
  "latex_envs": {
   "LaTeX_envs_menu_present": true,
   "autoclose": false,
   "autocomplete": true,
   "bibliofile": "biblio.bib",
   "cite_by": "apalike",
   "current_citInitial": 1,
   "eqLabelWithNumbers": true,
   "eqNumInitial": 1,
   "hotkeys": {
    "equation": "Ctrl-E",
    "itemize": "Ctrl-I"
   },
   "labels_anchors": false,
   "latex_user_defs": false,
   "report_style_numbering": false,
   "user_envs_cfg": false
  },
  "toc": {
   "base_numbering": 1,
   "nav_menu": {},
   "number_sections": true,
   "sideBar": true,
   "skip_h1_title": true,
   "title_cell": "Table of Contents",
   "title_sidebar": "Contents",
   "toc_cell": true,
   "toc_position": {},
   "toc_section_display": true,
   "toc_window_display": false
  }
 },
 "nbformat": 4,
 "nbformat_minor": 5
}
