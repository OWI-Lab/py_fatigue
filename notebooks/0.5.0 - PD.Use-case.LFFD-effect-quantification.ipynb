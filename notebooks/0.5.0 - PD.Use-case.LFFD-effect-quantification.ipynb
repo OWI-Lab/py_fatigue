{
 "cells": [
  {
   "cell_type": "markdown",
   "id": "147f668b",
   "metadata": {
    "toc": true
   },
   "source": [
    "<h1>Table of Contents<span class=\"tocSkip\"></span></h1>\n",
    "<div class=\"toc\"><ul class=\"toc-item\"></ul></div>"
   ]
  },
  {
   "cell_type": "code",
   "execution_count": 1,
   "id": "7a86d43d",
   "metadata": {
    "ExecuteTime": {
     "end_time": "2022-09-08T21:50:05.699387Z",
     "start_time": "2022-09-08T21:50:03.059085Z"
    }
   },
   "outputs": [],
   "source": [
    "# autoreload updated and newly installed packages\n",
    "# without having to restart Jupyter kernel\n",
    "%load_ext autoreload\n",
    "%autoreload 2\n",
    "# Some little interaction with matplotlib\n",
    "%matplotlib inline\n",
    "# Avoid using Jedi for faster autocomplete (tab)\n",
    "%config Completer.use_jedi = False"
   ]
  },
  {
   "cell_type": "markdown",
   "id": "c91812f9",
   "metadata": {},
   "source": [
    "## Crack growth analysis\n",
    "\n",
    "### Hollow cylinder with crack on the external surface "
   ]
  },
  {
   "cell_type": "code",
   "execution_count": 2,
   "id": "abbb9b78",
   "metadata": {
    "ExecuteTime": {
     "end_time": "2022-09-08T21:50:09.748925Z",
     "start_time": "2022-09-08T21:50:05.703650Z"
    },
    "scrolled": false
   },
   "outputs": [],
   "source": [
    "# Standard imports\n",
    "import ast\n",
    "import datetime\n",
    "import platform\n",
    "import os\n",
    "import sys\n",
    "from typing import List\n",
    "# Non-standard imports\n",
    "from pathlib import Path\n",
    "# from scipy import stats\n",
    "from tqdm import tqdm\n",
    "import matplotlib\n",
    "import matplotlib.pyplot as plt\n",
    "import numba as nb\n",
    "import numpy as np\n",
    "import pandas as pd\n",
    "import plotly.graph_objs as go\n",
    "# py-fatigue import\n",
    "import py_fatigue as pf\n",
    "import py_fatigue.testing as test\n",
    "# Paths of this tutorial and of the data\n",
    "TUTORIAL_PATH = os.path.dirname(os.getcwd())\n",
    "DATA_PATH = os.path.join(Path.home(), \"Documents\", \"Work\", \"data\")\n",
    "if not TUTORIAL_PATH in sys.path:\n",
    "    sys.path.append(TUTORIAL_PATH)\n",
    "np.set_printoptions(threshold=sys.maxsize)"
   ]
  },
  {
   "cell_type": "code",
   "execution_count": 3,
   "id": "ab944957",
   "metadata": {
    "ExecuteTime": {
     "end_time": "2022-09-08T21:50:09.964008Z",
     "start_time": "2022-09-08T21:50:09.748925Z"
    }
   },
   "outputs": [
    {
     "name": "stdout",
     "output_type": "stream",
     "text": [
      "Platform: Linux-5.19.0-26-generic-x86_64-with-glibc2.35\n",
      "Python version: 3.8.15 (default, Dec 14 2022, 14:18:12) \n",
      "[GCC 12.2.0]\n",
      "py-fatigue version: \u001b[1m1.0.7\n",
      "\u001b[47m\u001b[1m\u001b[34m\n",
      "DATA_PATH = /home/pd/Documents/Work/data\n",
      "TUTORIAL_PATH = /home/pd/Python/Packages/Github/py-fatigue\n",
      "\u001b[0m\n"
     ]
    }
   ],
   "source": [
    "print(f\"Platform: {platform.platform()}\")\n",
    "print(f\"Python version: {sys.version}\")\n",
    "print(f\"py-fatigue version: {pf.styling.TermColors.CBOLD}{pf.__version__}\")\n",
    "\n",
    "print(f\"{pf.styling.TermColors.CWHITEBG}\\\n",
    "{pf.styling.TermColors.CBOLD}\\\n",
    "{pf.styling.TermColors.CBLUE}\")\n",
    "      \n",
    "print(f\"DATA_PATH = {DATA_PATH}\")\n",
    "print(f\"TUTORIAL_PATH = {TUTORIAL_PATH}\")\n",
    "\n",
    "print(f\"{pf.styling.TermColors.CEND}\")"
   ]
  },
  {
   "cell_type": "code",
   "execution_count": 4,
   "id": "51597e3a",
   "metadata": {
    "ExecuteTime": {
     "end_time": "2022-09-08T21:50:10.176190Z",
     "start_time": "2022-09-08T21:50:09.965291Z"
    }
   },
   "outputs": [],
   "source": [
    "plt.rcParams[\"figure.figsize\"] = (7, 3.5)\n",
    "plt.rcParams[\"font.family\"] = [\"Sans-Serif\"]\n",
    "plt.rcParams[\"font.size\"] = 10\n",
    "plt.rcParams[\"lines.markersize\"] = 3\n",
    "plt.rcParams[\"axes.grid\"] = True\n",
    "plt.rcParams[\"grid.color\"] = \"#DDDDDD\"\n",
    "plt.rcParams[\"grid.linestyle\"] = \"-\"\n",
    "plt.rcParams[\"axes.spines.right\"] = False\n",
    "plt.rcParams[\"axes.spines.top\"] = False\n",
    "plt.rcParams[\"xtick.bottom\"] = False\n",
    "plt.rcParams[\"xtick.labelbottom\"] = True\n",
    "plt.rcParams[\"ytick.left\"] = False\n",
    "plt.rcParams[\"ytick.labelleft\"] = True"
   ]
  },
  {
   "cell_type": "code",
   "execution_count": 5,
   "id": "c2b4c6c1",
   "metadata": {},
   "outputs": [
    {
     "name": "stdout",
     "output_type": "stream",
     "text": [
      "\u001b[36m1. Read \u001b[1m.csv\u001b[22m file\u001b[0m\n",
      "\u001b[36m2. Set \u001b[1m'timestamp'\u001b[22m as index\u001b[0m\n"
     ]
    },
    {
     "name": "stderr",
     "output_type": "stream",
     "text": [
      "\u001b[36m3. Converting \u001b[1mCC_nr1\u001b[0m: 100%|███████████| 157861/157861 [00:34<00:00, 4582.12it/s]\u001b[0m\n",
      "\u001b[36m3. Converting \u001b[1mCC_nr1\u001b[0m: 100%|███████████| 157861/157861 [00:32<00:00, 4871.47it/s]\u001b[0m\n",
      "\u001b[36m3. Converting \u001b[1mCC_nr1\u001b[0m: 100%|███████████| 157861/157861 [00:30<00:00, 5107.63it/s]\u001b[0m\n",
      "\u001b[36m3. Converting \u001b[1mCC_nr1\u001b[0m: 100%|███████████| 157861/157861 [00:31<00:00, 5016.91it/s]\u001b[0m\n",
      "\u001b[36m3. Converting \u001b[1mCC_nr1\u001b[0m: 100%|███████████| 157861/157861 [00:32<00:00, 4927.34it/s]\u001b[0m\n",
      "\u001b[36m3. Converting \u001b[1mCC_nr1\u001b[0m: 100%|███████████| 157861/157861 [00:33<00:00, 4769.75it/s]\u001b[0m\n"
     ]
    }
   ],
   "source": [
    "# 1\n",
    "print(f\"\\33[36m1. Read \\33[1m.csv\\33[22m file\\33[0m\")\n",
    "df_ = pd.read_csv(os.path.join(DATA_PATH, \"CC_BB_C01_SS_2018_TO_2021.csv\"))\n",
    "# 2\n",
    "print(f\"\\33[36m2. Set \\33[1m'timestamp'\\33[22m as index\\33[0m\")\n",
    "df_ = df_.set_index(\"timestamp\")\n",
    "df_.index = pd.to_datetime(df_.index)\n",
    "# 3\n",
    "for col in df_.columns:\n",
    "    if col.startswith(\"CC_\"):\n",
    "        tqdm.pandas(desc=f\"\\33[36m3. Converting \\33[1m{col[:3]}{col[-3:]}\\33[0m\") \n",
    "        df_[col] = df_[col].progress_apply(\n",
    "            lambda x: ast.literal_eval(x) if not x!=x else x\n",
    "        )\n",
    "# 4\n",
    "tqdm.pandas(desc=f\"\\33[36m4. From \\33[1mdict \\33[22mto \\33[1mdwf.CycleCount\\33[0m\")\n",
    "for col in df_.columns:\n",
    "    if col.startswith(\"CC_\"):\n",
    "        df_[col] = df_[col].progress_apply(\n",
    "            lambda x: pf.CycleCount.from_rainflow(x) if not x!=x else x\n",
    "        )"
   ]
  },
  {
   "cell_type": "code",
   "execution_count": 6,
   "id": "ef74b11f",
   "metadata": {},
   "outputs": [
    {
     "name": "stderr",
     "output_type": "stream",
     "text": [
      "\u001b[36m4. From \u001b[1mdict \u001b[22mto \u001b[1mdwf.CycleCount\u001b[0m: 100%|█| 157861/157861 [00:31<00:00, 5017.33it/s]\u001b[0m\n",
      "\u001b[36m4. From \u001b[1mdict \u001b[22mto \u001b[1mdwf.CycleCount\u001b[0m: 100%|█| 157861/157861 [00:32<00:00, 4906.62it/s]\u001b[0m\n",
      "\u001b[36m4. From \u001b[1mdict \u001b[22mto \u001b[1mdwf.CycleCount\u001b[0m: 100%|█| 157861/157861 [00:32<00:00, 4851.39it/s]\u001b[0m\n",
      "\u001b[36m4. From \u001b[1mdict \u001b[22mto \u001b[1mdwf.CycleCount\u001b[0m: 100%|█| 157861/157861 [00:33<00:00, 4764.63it/s]\u001b[0m\n",
      "\u001b[36m4. From \u001b[1mdict \u001b[22mto \u001b[1mdwf.CycleCount\u001b[0m: 100%|█| 157861/157861 [00:31<00:00, 5024.35it/s]\u001b[0m\n",
      "\u001b[36m4. From \u001b[1mdict \u001b[22mto \u001b[1mdwf.CycleCount\u001b[0m: 100%|█| 157861/157861 [00:31<00:00, 5013.43it/s]\u001b[0m\n"
     ]
    }
   ],
   "source": [
    "# 4\n",
    "tqdm.pandas(desc=f\"\\33[36m4. From \\33[1mdict \\33[22mto \\33[1mdwf.CycleCount\\33[0m\")\n",
    "for col in df_.columns:\n",
    "    if col.startswith(\"CC_\"):\n",
    "        df_[col] = df_[col].progress_apply(\n",
    "            lambda x: pf.CycleCount.from_rainflow(x) if not x!=x else x\n",
    "        )"
   ]
  },
  {
   "cell_type": "code",
   "execution_count": null,
   "id": "929afc64",
   "metadata": {},
   "outputs": [],
   "source": [
    "x"
   ]
  },
  {
   "cell_type": "code",
   "execution_count": null,
   "id": "e087cd5d",
   "metadata": {},
   "outputs": [],
   "source": []
  }
 ],
 "metadata": {
  "hide_input": false,
  "kernelspec": {
   "display_name": "Python 3 (ipykernel)",
   "language": "python",
   "name": "python3"
  },
  "language_info": {
   "codemirror_mode": {
    "name": "ipython",
    "version": 3
   },
   "file_extension": ".py",
   "mimetype": "text/x-python",
   "name": "python",
   "nbconvert_exporter": "python",
   "pygments_lexer": "ipython3",
   "version": "3.8.15"
  },
  "latex_envs": {
   "LaTeX_envs_menu_present": true,
   "autoclose": false,
   "autocomplete": true,
   "bibliofile": "biblio.bib",
   "cite_by": "apalike",
   "current_citInitial": 1,
   "eqLabelWithNumbers": true,
   "eqNumInitial": 1,
   "hotkeys": {
    "equation": "Ctrl-E",
    "itemize": "Ctrl-I"
   },
   "labels_anchors": false,
   "latex_user_defs": false,
   "report_style_numbering": false,
   "user_envs_cfg": false
  },
  "toc": {
   "base_numbering": 1,
   "nav_menu": {},
   "number_sections": true,
   "sideBar": true,
   "skip_h1_title": true,
   "title_cell": "Table of Contents",
   "title_sidebar": "Contents",
   "toc_cell": true,
   "toc_position": {},
   "toc_section_display": true,
   "toc_window_display": false
  }
 },
 "nbformat": 4,
 "nbformat_minor": 5
}
