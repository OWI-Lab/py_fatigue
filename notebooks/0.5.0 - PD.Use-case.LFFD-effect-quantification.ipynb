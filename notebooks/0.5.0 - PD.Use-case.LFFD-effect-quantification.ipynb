{
 "cells": [
  {
   "cell_type": "markdown",
   "id": "147f668b",
   "metadata": {
    "toc": true
   },
   "source": [
    "<h1>Table of Contents<span class=\"tocSkip\"></span></h1>\n",
    "<div class=\"toc\"><ul class=\"toc-item\"></ul></div>"
   ]
  },
  {
   "cell_type": "code",
   "execution_count": 1,
   "id": "7a86d43d",
   "metadata": {
    "ExecuteTime": {
     "end_time": "2022-09-08T21:50:05.699387Z",
     "start_time": "2022-09-08T21:50:03.059085Z"
    }
   },
   "outputs": [],
   "source": [
    "# autoreload updated and newly installed packages\n",
    "# without having to restart Jupyter kernel\n",
    "%load_ext autoreload\n",
    "%autoreload 2\n",
    "# Some little interaction with matplotlib\n",
    "%matplotlib inline\n",
    "# Avoid using Jedi for faster autocomplete (tab)\n",
    "%config Completer.use_jedi = False"
   ]
  },
  {
   "cell_type": "markdown",
   "id": "c91812f9",
   "metadata": {},
   "source": [
    "# Significance of fatigue cycles depending on their frequency"
   ]
  },
  {
   "cell_type": "code",
   "execution_count": 2,
   "id": "abbb9b78",
   "metadata": {
    "ExecuteTime": {
     "end_time": "2022-09-08T21:50:09.748925Z",
     "start_time": "2022-09-08T21:50:05.703650Z"
    },
    "scrolled": false
   },
   "outputs": [],
   "source": [
    "# Backwards compatibility of the cluster_df function with python 3.8.X\n",
    "from __future__ import annotations\n",
    "\n",
    "# Standard imports\n",
    "import ast\n",
    "import copy\n",
    "import datetime\n",
    "import platform\n",
    "import os\n",
    "import sys\n",
    "import time\n",
    "from typing import List, Any\n",
    "from collections import ChainMap, defaultdict\n",
    "\n",
    "# Non-standard imports\n",
    "from pandas.tseries.frequencies import to_offset\n",
    "from pathlib import Path\n",
    "try:\n",
    "    from tqdm import tqdm\n",
    "except ImportError:\n",
    "    print(\"\\33[33mInstall the \\33[1m'tqdm'\\33[22m module in your python\"\n",
    "          \"environment using:\\n\\n\\33[30m>>> \"\n",
    "          \"\\33[1m\\33[34mpip \\33[22m\\33[30minstall \\33[1m\\33[32mtqdm\\33[22m\\n\")\n",
    "import matplotlib\n",
    "import matplotlib.pyplot as plt\n",
    "import numba as nb\n",
    "import numpy as np\n",
    "import pandas as pd\n",
    "import plotly.graph_objs as go\n",
    "\n",
    "# py-fatigue import\n",
    "import py_fatigue as pf\n",
    "import py_fatigue.testing as test\n",
    "# Paths of this tutorial and of the data\n",
    "TUTORIAL_PATH = os.path.dirname(os.getcwd())\n",
    "DATA_PATH = os.path.join(Path.home(), \"Documents\", \"Work\", \"data\")\n",
    "if not TUTORIAL_PATH in sys.path:\n",
    "    sys.path.append(TUTORIAL_PATH)\n",
    "np.set_printoptions(threshold=sys.maxsize)"
   ]
  },
  {
   "cell_type": "code",
   "execution_count": 3,
   "id": "ab944957",
   "metadata": {
    "ExecuteTime": {
     "end_time": "2022-09-08T21:50:09.964008Z",
     "start_time": "2022-09-08T21:50:09.748925Z"
    }
   },
   "outputs": [
    {
     "name": "stdout",
     "output_type": "stream",
     "text": [
      "Platform: Linux-5.19.0-26-generic-x86_64-with-glibc2.35\n",
      "Python version: 3.8.15 (default, Dec 22 2022, 15:11:48) \n",
      "[GCC 12.2.0]\n",
      "py-fatigue version: \u001b[1m1.0.11\n",
      "\u001b[47m\u001b[1m\u001b[34m\n",
      "DATA_PATH = /home/pd/Documents/Work/data\n",
      "TUTORIAL_PATH = /home/pd/Python/Packages/Github/py-fatigue\n",
      "\u001b[0m\n"
     ]
    }
   ],
   "source": [
    "print(f\"Platform: {platform.platform()}\")\n",
    "print(f\"Python version: {sys.version}\")\n",
    "print(f\"py-fatigue version: {pf.styling.TermColors.CBOLD}{pf.__version__}\")\n",
    "\n",
    "print(f\"{pf.styling.TermColors.CWHITEBG}\\\n",
    "{pf.styling.TermColors.CBOLD}\\\n",
    "{pf.styling.TermColors.CBLUE}\")\n",
    "      \n",
    "print(f\"DATA_PATH = {DATA_PATH}\")\n",
    "print(f\"TUTORIAL_PATH = {TUTORIAL_PATH}\")\n",
    "\n",
    "print(f\"{pf.styling.TermColors.CEND}\")"
   ]
  },
  {
   "cell_type": "code",
   "execution_count": 4,
   "id": "51597e3a",
   "metadata": {
    "ExecuteTime": {
     "end_time": "2022-09-08T21:50:10.176190Z",
     "start_time": "2022-09-08T21:50:09.965291Z"
    }
   },
   "outputs": [],
   "source": [
    "plt.rcParams[\"figure.figsize\"] = (7, 3.5)\n",
    "plt.rcParams[\"font.family\"] = [\"Garamond\", \"Sans-Serif\"]\n",
    "plt.rcParams[\"font.size\"] = 13\n",
    "plt.rcParams[\"lines.markersize\"] = 3\n",
    "plt.rcParams[\"axes.grid\"] = True\n",
    "plt.rcParams[\"axes.grid.which\"] = \"both\"\n",
    "plt.rcParams['axes.axisbelow'] = True\n",
    "plt.rcParams[\"grid.linestyle\"] = \"-\"\n",
    "plt.rcParams[\"grid.color\"] = \"#888888\"\n",
    "plt.rcParams[\"axes.spines.right\"] = True\n",
    "plt.rcParams[\"axes.spines.top\"] = True\n",
    "plt.rcParams[\"xtick.bottom\"] = True\n",
    "plt.rcParams[\"xtick.minor.bottom\"] = True\n",
    "plt.rcParams[\"xtick.top\"] = True\n",
    "plt.rcParams[\"xtick.minor.top\"] = True\n",
    "plt.rcParams[\"xtick.direction\"] = \"in\"\n",
    "plt.rcParams[\"xtick.labelbottom\"] = True\n",
    "plt.rcParams[\"ytick.left\"] = True\n",
    "plt.rcParams[\"ytick.minor.left\"] = True\n",
    "plt.rcParams[\"ytick.right\"] = True\n",
    "plt.rcParams[\"ytick.minor.right\"] = True\n",
    "plt.rcParams[\"ytick.direction\"] = \"in\"\n",
    "plt.rcParams[\"ytick.labelleft\"] = True\n",
    "plt.rcParams[\"image.cmap\"] = \"Paired\"\n",
    "plt.rcParams['axes.prop_cycle'] = matplotlib.rcsetup.cycler(\n",
    "    'color',\n",
    "    ['0C5DA5', '00B945', 'FF9500', 'FF2C00', '845B97', '474747', '9E9E9E']\n",
    ")"
   ]
  },
  {
   "cell_type": "markdown",
   "id": "e990afee",
   "metadata": {},
   "source": [
    "## 1. Data handling\n",
    "\n",
    "### Import the data from csv file\n",
    "\n",
    "The following operations are run:\n",
    "\n",
    "1. Read .csv file containing cyce-counts in the form of py-fatigue sparse json\n",
    "2. Set 'timestamp' as index\n",
    "3. Convert literal columns containing the json cycle-counts to python dictionaries"
   ]
  },
  {
   "cell_type": "code",
   "execution_count": 5,
   "id": "c2b4c6c1",
   "metadata": {
    "scrolled": true
   },
   "outputs": [
    {
     "name": "stdout",
     "output_type": "stream",
     "text": [
      "\u001b[36m1. Read \u001b[1m.csv\u001b[22m file\u001b[0m\n",
      "\u001b[36m2. Set \u001b[1m'timestamp'\u001b[22m as index\u001b[0m\n"
     ]
    },
    {
     "name": "stderr",
     "output_type": "stream",
     "text": [
      "\u001b[36m3. Converting \u001b[1mCC_Mtl\u001b[0m: 100%|███████████| 157861/157861 [00:41<00:00, 3809.75it/s]\u001b[0m\n",
      "\u001b[36m3. Converting \u001b[1mCC_Mtn\u001b[0m: 100%|███████████| 157861/157861 [01:12<00:00, 2174.34it/s]\u001b[0m\n",
      "\u001b[36m3. Converting \u001b[1mCC_SG1\u001b[0m: 100%|███████████| 157861/157861 [00:55<00:00, 2840.71it/s]\u001b[0m\n",
      "\u001b[36m3. Converting \u001b[1mCC_SG3\u001b[0m: 100%|███████████| 157861/157861 [00:31<00:00, 5033.78it/s]\u001b[0m\n",
      "\u001b[36m3. Converting \u001b[1mCC_SG5\u001b[0m: 100%|███████████| 157861/157861 [00:28<00:00, 5545.15it/s]\u001b[0m\n",
      "\u001b[36m3. Converting \u001b[1mCC_SG6\u001b[0m: 100%|███████████| 157861/157861 [00:21<00:00, 7206.65it/s]\u001b[0m"
     ]
    },
    {
     "name": "stdout",
     "output_type": "stream",
     "text": [
      "\n",
      "Elapsed time is 258.0, s.\n"
     ]
    },
    {
     "name": "stderr",
     "output_type": "stream",
     "text": [
      "\n"
     ]
    }
   ],
   "source": [
    "start = time.time()\n",
    "# 1\n",
    "print(f\"\\33[36m1. Read \\33[1m.csv\\33[22m file\\33[0m\")\n",
    "df = pd.read_csv(os.path.join(DATA_PATH, \"CC_BB_C01_ALL_2018_TO_2021.csv\"))\n",
    "# 2\n",
    "print(f\"\\33[36m2. Set \\33[1m'timestamp'\\33[22m as index\\33[0m\")\n",
    "df = df.set_index(\"timestamp\")\n",
    "df.index = pd.to_datetime(df.index)\n",
    "# 3\n",
    "for col in df.columns:\n",
    "    if col.startswith(\"CC_\"):\n",
    "        tqdm.pandas(desc=f\"\\33[36m3. Converting \\33[1m{col[:3]}{col[-3:]}\\33[0m\") \n",
    "        df[col] = df[col].progress_apply(\n",
    "            lambda x: ast.literal_eval(x) if not x!=x else x\n",
    "        )\n",
    "end = time.time()\n",
    "print(f\"\\nElapsed time is {np.round(end-start, 0)}, s.\")"
   ]
  },
  {
   "cell_type": "markdown",
   "id": "bf3139a2",
   "metadata": {},
   "source": [
    "<div class=\"alert alert-block alert-warning\">\n",
    "<b> ⚠️ Fallback:</b> In case we mess up with the main dataframe (<tt>df</tt>) used for the subsequent analyses, we keep <tt>df_</tt> intact as a fallback.\n",
    "</div>\n"
   ]
  },
  {
   "cell_type": "code",
   "execution_count": 6,
   "id": "f3a928e3",
   "metadata": {},
   "outputs": [],
   "source": [
    "# df = copy.deepcopy(df_)"
   ]
  },
  {
   "cell_type": "markdown",
   "id": "9e7bbe92",
   "metadata": {},
   "source": [
    "### From `dict` to `CycleCount`\n",
    "\n",
    "The following part is still in the \"managing the input data\" workflow, as it converts the rainflow dictionaries to `pf.CycleCount` instances."
   ]
  },
  {
   "cell_type": "code",
   "execution_count": 7,
   "id": "f0c3c3f9",
   "metadata": {},
   "outputs": [
    {
     "name": "stderr",
     "output_type": "stream",
     "text": [
      "\u001b[36m4. From \u001b[1mdict \u001b[22mto \u001b[1mpf.CycleCount\u001b[0m: 100%|██| 157861/157861 [00:25<00:00, 6189.76it/s]\u001b[0m\n",
      "\u001b[36m4. From \u001b[1mdict \u001b[22mto \u001b[1mpf.CycleCount\u001b[0m: 100%|██| 157861/157861 [00:33<00:00, 4661.12it/s]\u001b[0m\n",
      "\u001b[36m4. From \u001b[1mdict \u001b[22mto \u001b[1mpf.CycleCount\u001b[0m: 100%|██| 157861/157861 [00:26<00:00, 6026.89it/s]\u001b[0m\n",
      "\u001b[36m4. From \u001b[1mdict \u001b[22mto \u001b[1mpf.CycleCount\u001b[0m: 100%|██| 157861/157861 [00:43<00:00, 3638.69it/s]\u001b[0m\n",
      "\u001b[36m4. From \u001b[1mdict \u001b[22mto \u001b[1mpf.CycleCount\u001b[0m: 100%|██| 157861/157861 [00:36<00:00, 4280.69it/s]\u001b[0m\n",
      "\u001b[36m4. From \u001b[1mdict \u001b[22mto \u001b[1mpf.CycleCount\u001b[0m: 100%|██| 157861/157861 [00:30<00:00, 5164.85it/s]\u001b[0m\n"
     ]
    },
    {
     "name": "stdout",
     "output_type": "stream",
     "text": [
      "\n",
      "Elapsed time is 199.0, s.\n"
     ]
    }
   ],
   "source": [
    "# 4\n",
    "start = time.time()\n",
    "tqdm.pandas(desc=f\"\\33[36m4. From \\33[1mdict \\33[22mto \\33[1mpf.CycleCount\\33[0m\")\n",
    "for col in df.columns:\n",
    "    if col.startswith(\"CC_\"):\n",
    "        df[col] = df.progress_apply(\n",
    "            lambda x: pf.CycleCount.from_rainflow(\n",
    "                x[col], name=col[13:], timestamp=x.name\n",
    "            ) if not x[col]!=x[col] else x[col], axis=1\n",
    "        )\n",
    "end = time.time()\n",
    "print(f\"\\nElapsed time is {np.round(end-start, 0)}, s.\")"
   ]
  },
  {
   "cell_type": "markdown",
   "id": "38f71830",
   "metadata": {},
   "source": [
    "### Aggregate the `CycleCounts` in `df` by a time window\n",
    "\n",
    "The following part of the notebook makes extensive usage of the aggregation functionalities provided by [pandas.Dataframe.agg()](https://pandas.pydata.org/pandas-docs/stable/reference/api/pandas.DataFrame.agg.html). \n",
    "\n",
    "<div class=\"alert alert-block alert-info\">\n",
    "<b> ℹ️ Data aggregation:</b> an operation that involves collecting and summarizing data in a way that allows for statistical analysis and helps businesses achieve their goals. It is an important part of data warehousing because it enables decision-making based on large amounts of raw data. By aggregating data, it is possible to forecast future trends and use predictive modeling to make informed decisions. Additionally, proper data aggregation techniques can help to prevent performance issues.\n",
    "</div>\n",
    "\n",
    "*In this notebook, the fatigue data available are aggregated in time using the **`CycleCount.__add__()`** method.*\n",
    "\n",
    "The following operations are performed sequentially:\n",
    "\n",
    "1. Optionally, a subset of the dataframe can be taken for the analysis.\n",
    "2. A set of aggregations in the form of [pandas date offset frequency strings](https://pandas.pydata.org/pandas-docs/stable/user_guide/timeseries.html#timeseries-offset-aliases) has to be assigned. In this example we use: `'T'` (aggregate timestamps within every minute), `'D'` (day), `'W'` (week), `'M'` (month), `'Q'` (quarter), `'Y'` (year). In addition, we use also the `'all'` aggregation which simply aggregates the entire time window.\n",
    "3. Checks are run in order to verify that the aggregations have been assigned in increasing time-range order. This requirement is important in the final part (bar plot).\n",
    "4. The `pf.cycle_count.utils.aggregate_cc()` is run. The function returns:\n",
    "    - The dataframe aggregated by the key assigned (e.g. `'W'`)\n",
    "    - The sequence of residuals and their order of appearence. This datum is interesting to compare with the results of the bar plot.\n"
   ]
  },
  {
   "cell_type": "code",
   "execution_count": 8,
   "id": "03b15f9b",
   "metadata": {},
   "outputs": [],
   "source": [
    "n_days = 365 * 2\n",
    "wf = copy.deepcopy(df).head(144 * n_days)  # Select the needed days (144 × n_days)"
   ]
  },
  {
   "cell_type": "code",
   "execution_count": 9,
   "id": "b8c09a35",
   "metadata": {},
   "outputs": [],
   "source": [
    "aggregations = [\"T\", \"D\", \"W\", \"M\", \"Q\", \"Y\"]"
   ]
  },
  {
   "cell_type": "code",
   "execution_count": null,
   "id": "96d71873",
   "metadata": {
    "scrolled": false
   },
   "outputs": [
    {
     "name": "stdout",
     "output_type": "stream",
     "text": [
      "\u001b[36m1. Running checks on \u001b[1mdf\u001b[22m.\u001b[0m\n",
      "\u001b[36m2. Building the aggregation \u001b[1mdict\u001b[22m.\n",
      "3. Aggregate \u001b[1mdf\u001b[22m by \u001b[1m'T'\u001b[22m.\u001b[0m\n",
      "\u001b[36m4. Retrieving LFFD on aggregated \u001b[1mdf\u001b[22m.\u001b[0m\n",
      "Elapsed time for \u001b[36m\u001b[1m'T'\u001b[0m aggregation is 45.0, s.\n",
      "\n",
      "\u001b[36m1. Running checks on \u001b[1mdf\u001b[22m.\u001b[0m\n",
      "\u001b[36m2. Building the aggregation \u001b[1mdict\u001b[22m.\n",
      "3. Aggregate \u001b[1mdf\u001b[22m by \u001b[1m'D'\u001b[22m.\u001b[0m\n",
      "48/144 -> \u001b[94m|██████████______________________|\u001b[0m -> 33% completed... . \r"
     ]
    },
    {
     "name": "stderr",
     "output_type": "stream",
     "text": [
      "\u001b[91m\u001b[1mUserWarning:\n",
      "\u001b[0m\u001b[93mTrying to add to a non CycleCount object instance after 20 April 2018, 18:00.\u001b[0m\n"
     ]
    },
    {
     "name": "stdout",
     "output_type": "stream",
     "text": [
      "48/144 -> \u001b[94m|██████████______________________|\u001b[0m -> 33% completed... . \r"
     ]
    },
    {
     "name": "stderr",
     "output_type": "stream",
     "text": [
      "\u001b[91m\u001b[1mUserWarning:\n",
      "\u001b[0m\u001b[93mTrying to add to a non CycleCount object instance after 04 May 2018, 06:00.\u001b[0m\n",
      "\u001b[91m\u001b[1mUserWarning:\n",
      "\u001b[0m\u001b[93mTrying to add to a non CycleCount object instance after 04 May 2018, 00:00.\u001b[0m\n"
     ]
    },
    {
     "name": "stdout",
     "output_type": "stream",
     "text": [
      "60/147 -> \u001b[94m|████████████____________________|\u001b[0m -> 38% completed... . \r"
     ]
    },
    {
     "name": "stderr",
     "output_type": "stream",
     "text": [
      "\u001b[91m\u001b[1mUserWarning:\n",
      "\u001b[0m\u001b[93mTrying to add to a non CycleCount object instance after 22 May 2018, 08:00.\u001b[0m\n",
      "\u001b[91m\u001b[1mUserWarning:\n",
      "\u001b[0m\u001b[93mTrying to add to a non CycleCount object instance after 22 May 2018, 00:00.\u001b[0m\n"
     ]
    },
    {
     "name": "stdout",
     "output_type": "stream",
     "text": [
      "120/145 -> \u001b[94m|████████████████████████________|\u001b[0m -> 76% completed...  \r"
     ]
    },
    {
     "name": "stderr",
     "output_type": "stream",
     "text": [
      "\u001b[91m\u001b[1mUserWarning:\n",
      "\u001b[0m\u001b[93mNo residuals_sequence found on \u001b[31m25 May 2018, 13:10\u001b[93m.\u001b[0m\n",
      "\u001b[91m\u001b[1mUserWarning:\n",
      "\u001b[0m\u001b[93mTrying to add to a non CycleCount object instance after 25 May 2018, 12:00.\u001b[0m\n",
      "\u001b[91m\u001b[1mUserWarning:\n",
      "\u001b[0m\u001b[93mNo residuals_sequence found on \u001b[31m25 May 2018, 13:40\u001b[93m.\u001b[0m\n"
     ]
    },
    {
     "name": "stdout",
     "output_type": "stream",
     "text": [
      "66/121 -> \u001b[94m|█████████████████_______________|\u001b[0m -> 54% completed... . \r"
     ]
    },
    {
     "name": "stderr",
     "output_type": "stream",
     "text": [
      "\u001b[91m\u001b[1mUserWarning:\n",
      "\u001b[0m\u001b[93mTrying to add to a non CycleCount object instance after 01 August 2018, 08:00.\u001b[0m\n",
      "\u001b[91m\u001b[1mUserWarning:\n",
      "\u001b[0m\u001b[93mTrying to add to a non CycleCount object instance after 01 August 2018, 00:00.\u001b[0m\n",
      "\u001b[91m\u001b[1mUserWarning:\n",
      "\u001b[0m\u001b[93mTrying to add to a non CycleCount object instance after 02 August 2018, 07:20.\u001b[0m\n"
     ]
    },
    {
     "name": "stdout",
     "output_type": "stream",
     "text": [
      "48/144 -> \u001b[94m|██████████______________________|\u001b[0m -> 33% completed... . \r"
     ]
    },
    {
     "name": "stderr",
     "output_type": "stream",
     "text": [
      "\u001b[91m\u001b[1mUserWarning:\n",
      "\u001b[0m\u001b[93mTrying to add to a non CycleCount object instance after 29 December 2018, 14:00.\u001b[0m\n"
     ]
    },
    {
     "name": "stdout",
     "output_type": "stream",
     "text": [
      "48/144 -> \u001b[94m|██████████______________________|\u001b[0m -> 33% completed... . \r"
     ]
    },
    {
     "name": "stderr",
     "output_type": "stream",
     "text": [
      "\u001b[91m\u001b[1mUserWarning:\n",
      "\u001b[0m\u001b[93mTrying to add to a non CycleCount object instance after 28 January 2019, 00:00.\u001b[0m\n"
     ]
    },
    {
     "name": "stdout",
     "output_type": "stream",
     "text": [
      "144/144 -> \u001b[94m|████████████████████████████████|\u001b[0m -> 100% completed... \r"
     ]
    },
    {
     "name": "stderr",
     "output_type": "stream",
     "text": [
      "\u001b[91m\u001b[1mUserWarning:\n",
      "\u001b[0m\u001b[93mTrying to add to a non CycleCount object instance after 20 February 2019, 10:00.\u001b[0m\n",
      "\u001b[91m\u001b[1mUserWarning:\n",
      "\u001b[0m\u001b[93mTrying to add to a non CycleCount object instance after 20 February 2019, 00:00.\u001b[0m\n"
     ]
    },
    {
     "name": "stdout",
     "output_type": "stream",
     "text": [
      "48/144 -> \u001b[94m|██████████______________________|\u001b[0m -> 33% completed... . \r"
     ]
    },
    {
     "name": "stderr",
     "output_type": "stream",
     "text": [
      "\u001b[91m\u001b[1mUserWarning:\n",
      "\u001b[0m\u001b[93mTrying to add to a non CycleCount object instance after 22 May 2019, 08:00.\u001b[0m\n"
     ]
    },
    {
     "name": "stdout",
     "output_type": "stream",
     "text": [
      "144/144 -> \u001b[94m|████████████████████████████████|\u001b[0m -> 100% completed... \r"
     ]
    },
    {
     "name": "stderr",
     "output_type": "stream",
     "text": [
      "\u001b[91m\u001b[1mUserWarning:\n",
      "\u001b[0m\u001b[93mTrying to add to a non CycleCount object instance after 23 June 2019, 10:00.\u001b[0m\n",
      "\u001b[91m\u001b[1mUserWarning:\n",
      "\u001b[0m\u001b[93mTrying to add to a non CycleCount object instance after 23 June 2019, 00:00.\u001b[0m\n"
     ]
    },
    {
     "name": "stdout",
     "output_type": "stream",
     "text": [
      "108/144 -> \u001b[94m|████████████████████████________|\u001b[0m -> 75% completed...  \r"
     ]
    },
    {
     "name": "stderr",
     "output_type": "stream",
     "text": [
      "\u001b[91m\u001b[1mUserWarning:\n",
      "\u001b[0m\u001b[93mTrying to add to a non CycleCount object instance after 07 July 2019, 14:00.\u001b[0m\n"
     ]
    },
    {
     "name": "stdout",
     "output_type": "stream",
     "text": [
      "36/144 -> \u001b[94m|████████________________________|\u001b[0m -> 25% completed... . \r"
     ]
    },
    {
     "name": "stderr",
     "output_type": "stream",
     "text": [
      "\u001b[91m\u001b[1mUserWarning:\n",
      "\u001b[0m\u001b[93mTrying to add to a non CycleCount object instance after 03 August 2019, 08:00.\u001b[0m\n"
     ]
    },
    {
     "name": "stdout",
     "output_type": "stream",
     "text": [
      "48/144 -> \u001b[94m|██████████______________________|\u001b[0m -> 33% completed... . \r"
     ]
    },
    {
     "name": "stderr",
     "output_type": "stream",
     "text": [
      "\u001b[91m\u001b[1mUserWarning:\n",
      "\u001b[0m\u001b[93mTrying to add to a non CycleCount object instance after 21 August 2019, 06:00.\u001b[0m\n"
     ]
    },
    {
     "name": "stdout",
     "output_type": "stream",
     "text": [
      "132/144 -> \u001b[94m|█████████████████████████████___|\u001b[0m -> 91% completed...  \r"
     ]
    },
    {
     "name": "stderr",
     "output_type": "stream",
     "text": [
      "\u001b[91m\u001b[1mUserWarning:\n",
      "\u001b[0m\u001b[93mTrying to add to a non CycleCount object instance after 22 August 2019, 08:00.\u001b[0m\n",
      "\u001b[91m\u001b[1mUserWarning:\n",
      "\u001b[0m\u001b[93mTrying to add to a non CycleCount object instance after 22 August 2019, 00:00.\u001b[0m\n",
      "\u001b[91m\u001b[1mUserWarning:\n",
      "\u001b[0m\u001b[93mTrying to add to a non CycleCount object instance after 23 August 2019, 06:00.\u001b[0m\n",
      "\u001b[91m\u001b[1mUserWarning:\n",
      "\u001b[0m\u001b[93mTrying to add to a non CycleCount object instance after 23 August 2019, 00:00.\u001b[0m\n"
     ]
    },
    {
     "name": "stdout",
     "output_type": "stream",
     "text": [
      "36/144 -> \u001b[94m|████████________________________|\u001b[0m -> 25% completed... . \r"
     ]
    },
    {
     "name": "stderr",
     "output_type": "stream",
     "text": [
      "\u001b[91m\u001b[1mUserWarning:\n",
      "\u001b[0m\u001b[93mTrying to add to a non CycleCount object instance after 22 September 2019, 16:00.\u001b[0m\n"
     ]
    },
    {
     "name": "stdout",
     "output_type": "stream",
     "text": [
      "36/144 -> \u001b[94m|████████________________________|\u001b[0m -> 25% completed... . \r"
     ]
    },
    {
     "name": "stderr",
     "output_type": "stream",
     "text": [
      "\u001b[91m\u001b[1mUserWarning:\n",
      "\u001b[0m\u001b[93mTrying to add to a non CycleCount object instance after 02 October 2019, 10:00.\u001b[0m\n"
     ]
    },
    {
     "name": "stdout",
     "output_type": "stream",
     "text": [
      "48/144 -> \u001b[94m|██████████______________________|\u001b[0m -> 33% completed... \r",
      "60/144 -> \u001b[94m|█████████████___________________|\u001b[0m -> 41% completed... \r",
      "72/144 -> \u001b[94m|████████████████________________|\u001b[0m -> 50% completed... \r",
      "84/144 -> \u001b[94m|██████████████████______________|\u001b[0m -> 58% completed... \r",
      "96/144 -> \u001b[94m|█████████████████████___________|\u001b[0m -> 66% completed... \r",
      "108/144 -> \u001b[94m|████████████████████████________|\u001b[0m -> 75% completed... \r",
      "120/144 -> \u001b[94m|██████████████████████████______|\u001b[0m -> 83% completed... \r",
      "132/144 -> \u001b[94m|█████████████████████████████___|\u001b[0m -> 91% completed... \r",
      "144/144 -> \u001b[94m|████████████████████████████████|\u001b[0m -> 100% completed... \r",
      "12/144 -> \u001b[94m|██______________________________|\u001b[0m -> 8% completed... \r",
      "24/144 -> \u001b[94m|█████___________________________|\u001b[0m -> 16% completed... \r",
      "36/144 -> \u001b[94m|████████________________________|\u001b[0m -> 25% completed... \r"
     ]
    },
    {
     "name": "stderr",
     "output_type": "stream",
     "text": [
      "\u001b[91m\u001b[1mUserWarning:\n",
      "\u001b[0m\u001b[93mTrying to add to a non CycleCount object instance after 03 October 2019, 08:00.\u001b[0m\n"
     ]
    },
    {
     "name": "stdout",
     "output_type": "stream",
     "text": [
      "144/144 -> \u001b[94m|████████████████████████████████|\u001b[0m -> 100% completed... \r"
     ]
    },
    {
     "name": "stderr",
     "output_type": "stream",
     "text": [
      "\u001b[91m\u001b[1mUserWarning:\n",
      "\u001b[0m\u001b[93mTrying to add to a non CycleCount object instance after 08 November 2019, 00:00.\u001b[0m\n"
     ]
    },
    {
     "name": "stdout",
     "output_type": "stream",
     "text": [
      "36/144 -> \u001b[94m|████████________________________|\u001b[0m -> 25% completed... . \r"
     ]
    },
    {
     "name": "stderr",
     "output_type": "stream",
     "text": [
      "\u001b[91m\u001b[1mUserWarning:\n",
      "\u001b[0m\u001b[93mTrying to add to a non CycleCount object instance after 28 February 2020, 08:00.\u001b[0m\n"
     ]
    },
    {
     "name": "stdout",
     "output_type": "stream",
     "text": [
      "84/144 -> \u001b[94m|██████████████████______________|\u001b[0m -> 58% completed... . \r"
     ]
    },
    {
     "name": "stderr",
     "output_type": "stream",
     "text": [
      "\u001b[91m\u001b[1mUserWarning:\n",
      "\u001b[0m\u001b[93mTrying to add to a non CycleCount object instance after 18 April 2020, 14:00.\u001b[0m\n",
      "\u001b[91m\u001b[1mUserWarning:\n",
      "\u001b[0m\u001b[93mTrying to add to a non CycleCount object instance after 18 April 2020, 00:00.\u001b[0m\n"
     ]
    },
    {
     "name": "stdout",
     "output_type": "stream",
     "text": [
      "144/144 -> \u001b[94m|████████████████████████████████|\u001b[0m -> 100% completed... \r"
     ]
    },
    {
     "name": "stderr",
     "output_type": "stream",
     "text": [
      "\u001b[91m\u001b[1mUserWarning:\n",
      "\u001b[0m\u001b[93mTrying to add to a non CycleCount object instance after 21 April 2020, 20:00.\u001b[0m\n"
     ]
    },
    {
     "name": "stdout",
     "output_type": "stream",
     "text": [
      "144/144 -> \u001b[94m|████████████████████████████████|\u001b[0m -> 100% completed... \r"
     ]
    },
    {
     "name": "stderr",
     "output_type": "stream",
     "text": [
      "\u001b[91m\u001b[1mUserWarning:\n",
      "\u001b[0m\u001b[93mTrying to add to a non CycleCount object instance after 30 April 2020, 16:00.\u001b[0m\n",
      "\u001b[91m\u001b[1mUserWarning:\n",
      "\u001b[0m\u001b[93mTrying to add to a non CycleCount object instance after 30 April 2020, 00:00.\u001b[0m\n"
     ]
    },
    {
     "name": "stdout",
     "output_type": "stream",
     "text": [
      "144/144 -> \u001b[94m|████████████████████████████████|\u001b[0m -> 100% completed... \r"
     ]
    },
    {
     "name": "stderr",
     "output_type": "stream",
     "text": [
      "\u001b[91m\u001b[1mUserWarning:\n",
      "\u001b[0m\u001b[93mTrying to add to a non CycleCount object instance after 23 June 2019, 08:00.\u001b[0m\n"
     ]
    },
    {
     "name": "stdout",
     "output_type": "stream",
     "text": [
      "144/144 -> \u001b[94m|████████████████████████████████|\u001b[0m -> 100% completed... \r"
     ]
    },
    {
     "name": "stderr",
     "output_type": "stream",
     "text": [
      "\u001b[91m\u001b[1mUserWarning:\n",
      "\u001b[0m\u001b[93mTrying to add to a non CycleCount object instance after 28 March 2018, 14:00.\u001b[0m\n"
     ]
    },
    {
     "name": "stdout",
     "output_type": "stream",
     "text": [
      "36/144 -> \u001b[94m|████████________________________|\u001b[0m -> 25% completed... . \r"
     ]
    },
    {
     "name": "stderr",
     "output_type": "stream",
     "text": [
      "\u001b[91m\u001b[1mUserWarning:\n",
      "\u001b[0m\u001b[93mTrying to add to a non CycleCount object instance after 19 April 2018, 14:00.\u001b[0m\n"
     ]
    },
    {
     "name": "stdout",
     "output_type": "stream",
     "text": [
      "60/144 -> \u001b[94m|█████████████___________________|\u001b[0m -> 41% completed... . \r"
     ]
    },
    {
     "name": "stderr",
     "output_type": "stream",
     "text": [
      "\u001b[91m\u001b[1mUserWarning:\n",
      "\u001b[0m\u001b[93mTrying to add to a non CycleCount object instance after 14 May 2018, 08:00.\u001b[0m\n",
      "\u001b[91m\u001b[1mUserWarning:\n",
      "\u001b[0m\u001b[93mTrying to add to a non CycleCount object instance after 14 May 2018, 11:10.\u001b[0m\n",
      "\u001b[91m\u001b[1mUserWarning:\n",
      "\u001b[0m\u001b[93mTrying to add to a non CycleCount object instance after 14 May 2018, 16:00.\u001b[0m\n",
      "\u001b[91m\u001b[1mUserWarning:\n",
      "\u001b[0m\u001b[93mTrying to add to a non CycleCount object instance after 14 May 2018, 18:00.\u001b[0m\n"
     ]
    },
    {
     "name": "stdout",
     "output_type": "stream",
     "text": [
      "24/144 -> \u001b[94m|█████___________________________|\u001b[0m -> 16% completed... . \r"
     ]
    },
    {
     "name": "stderr",
     "output_type": "stream",
     "text": [
      "\u001b[91m\u001b[1mUserWarning:\n",
      "\u001b[0m\u001b[93mTrying to add to a non CycleCount object instance after 19 May 2018, 02:00.\u001b[0m\n"
     ]
    },
    {
     "name": "stdout",
     "output_type": "stream",
     "text": [
      "144/144 -> \u001b[94m|████████████████████████████████|\u001b[0m -> 100% completed... \r"
     ]
    },
    {
     "name": "stderr",
     "output_type": "stream",
     "text": [
      "\u001b[91m\u001b[1mUserWarning:\n",
      "\u001b[0m\u001b[93mTrying to add to a non CycleCount object instance after 26 May 2018, 00:00.\u001b[0m\n"
     ]
    },
    {
     "name": "stdout",
     "output_type": "stream",
     "text": [
      "48/144 -> \u001b[94m|██████████______________________|\u001b[0m -> 33% completed... . \r"
     ]
    },
    {
     "name": "stderr",
     "output_type": "stream",
     "text": [
      "\u001b[91m\u001b[1mUserWarning:\n",
      "\u001b[0m\u001b[93mTrying to add to a non CycleCount object instance after 08 June 2018, 00:00.\u001b[0m\n"
     ]
    },
    {
     "name": "stdout",
     "output_type": "stream",
     "text": [
      "24/144 -> \u001b[94m|█████___________________________|\u001b[0m -> 16% completed... . \r"
     ]
    },
    {
     "name": "stderr",
     "output_type": "stream",
     "text": [
      "\u001b[91m\u001b[1mUserWarning:\n",
      "\u001b[0m\u001b[93mTrying to add to a non CycleCount object instance after 12 June 2018, 16:00.\u001b[0m\n"
     ]
    },
    {
     "name": "stdout",
     "output_type": "stream",
     "text": [
      "144/144 -> \u001b[94m|████████████████████████████████|\u001b[0m -> 100% completed... \r"
     ]
    },
    {
     "name": "stderr",
     "output_type": "stream",
     "text": [
      "\u001b[91m\u001b[1mUserWarning:\n",
      "\u001b[0m\u001b[93mTrying to add to a non CycleCount object instance after 27 July 2018, 12:00.\u001b[0m\n"
     ]
    },
    {
     "name": "stdout",
     "output_type": "stream",
     "text": [
      "48/144 -> \u001b[94m|██████████______________________|\u001b[0m -> 33% completed... . \r"
     ]
    },
    {
     "name": "stderr",
     "output_type": "stream",
     "text": [
      "\u001b[91m\u001b[1mUserWarning:\n",
      "\u001b[0m\u001b[93mTrying to add to a non CycleCount object instance after 01 August 2018, 06:00.\u001b[0m\n",
      "\u001b[91m\u001b[1mUserWarning:\n",
      "\u001b[0m\u001b[93mTrying to add to a non CycleCount object instance after 02 August 2018, 00:00.\u001b[0m\n"
     ]
    },
    {
     "name": "stdout",
     "output_type": "stream",
     "text": [
      "72/144 -> \u001b[94m|████████████████________________|\u001b[0m -> 50% completed... . \r"
     ]
    },
    {
     "name": "stderr",
     "output_type": "stream",
     "text": [
      "\u001b[91m\u001b[1mUserWarning:\n",
      "\u001b[0m\u001b[93mTrying to add to a non CycleCount object instance after 04 August 2018, 06:00.\u001b[0m\n"
     ]
    },
    {
     "name": "stdout",
     "output_type": "stream",
     "text": [
      "48/144 -> \u001b[94m|██████████______________________|\u001b[0m -> 33% completed... . \r"
     ]
    },
    {
     "name": "stderr",
     "output_type": "stream",
     "text": [
      "\u001b[91m\u001b[1mUserWarning:\n",
      "\u001b[0m\u001b[93mTrying to add to a non CycleCount object instance after 05 September 2018, 20:00.\u001b[0m\n"
     ]
    },
    {
     "name": "stdout",
     "output_type": "stream",
     "text": [
      "36/144 -> \u001b[94m|████████________________________|\u001b[0m -> 25% completed... . \r"
     ]
    },
    {
     "name": "stderr",
     "output_type": "stream",
     "text": [
      "\u001b[91m\u001b[1mUserWarning:\n",
      "\u001b[0m\u001b[93mTrying to add to a non CycleCount object instance after 06 November 2018, 12:00.\u001b[0m\n"
     ]
    },
    {
     "name": "stdout",
     "output_type": "stream",
     "text": [
      "24/144 -> \u001b[94m|█████___________________________|\u001b[0m -> 16% completed... . \r"
     ]
    },
    {
     "name": "stderr",
     "output_type": "stream",
     "text": [
      "\u001b[91m\u001b[1mUserWarning:\n",
      "\u001b[0m\u001b[93mTrying to add to a non CycleCount object instance after 08 November 2018, 08:00.\u001b[0m\n",
      "\u001b[91m\u001b[1mUserWarning:\n",
      "\u001b[0m\u001b[93mTrying to add to a non CycleCount object instance after 08 November 2018, 00:00.\u001b[0m\n"
     ]
    },
    {
     "name": "stdout",
     "output_type": "stream",
     "text": [
      "36/144 -> \u001b[94m|████████________________________|\u001b[0m -> 25% completed... . \r"
     ]
    },
    {
     "name": "stderr",
     "output_type": "stream",
     "text": [
      "\u001b[91m\u001b[1mUserWarning:\n",
      "\u001b[0m\u001b[93mTrying to add to a non CycleCount object instance after 02 January 2019, 10:00.\u001b[0m\n"
     ]
    },
    {
     "name": "stdout",
     "output_type": "stream",
     "text": [
      "48/144 -> \u001b[94m|██████████______________________|\u001b[0m -> 33% completed... \r",
      "60/144 -> \u001b[94m|█████████████___________________|\u001b[0m -> 41% completed... \r",
      "72/144 -> \u001b[94m|████████████████________________|\u001b[0m -> 50% completed... \r",
      "84/144 -> \u001b[94m|██████████████████______________|\u001b[0m -> 58% completed... \r",
      "96/144 -> \u001b[94m|█████████████████████___________|\u001b[0m -> 66% completed... \r",
      "108/144 -> \u001b[94m|████████████████████████________|\u001b[0m -> 75% completed... \r",
      "120/144 -> \u001b[94m|██████████████████████████______|\u001b[0m -> 83% completed... \r",
      "132/144 -> \u001b[94m|█████████████████████████████___|\u001b[0m -> 91% completed... \r",
      "144/144 -> \u001b[94m|████████████████████████████████|\u001b[0m -> 100% completed... \r",
      "12/144 -> \u001b[94m|██______________________________|\u001b[0m -> 8% completed... \r",
      "24/144 -> \u001b[94m|█████___________________________|\u001b[0m -> 16% completed... \r"
     ]
    },
    {
     "name": "stderr",
     "output_type": "stream",
     "text": [
      "\u001b[91m\u001b[1mUserWarning:\n",
      "\u001b[0m\u001b[93mTrying to add to a non CycleCount object instance after 03 January 2019, 08:00.\u001b[0m\n"
     ]
    },
    {
     "name": "stdout",
     "output_type": "stream",
     "text": [
      "72/144 -> \u001b[94m|████████████████________________|\u001b[0m -> 50% completed... . \r"
     ]
    },
    {
     "name": "stderr",
     "output_type": "stream",
     "text": [
      "\u001b[91m\u001b[1mUserWarning:\n",
      "\u001b[0m\u001b[93mTrying to add to a non CycleCount object instance after 02 February 2019, 08:00.\u001b[0m\n",
      "\u001b[91m\u001b[1mUserWarning:\n",
      "\u001b[0m\u001b[93mTrying to add to a non CycleCount object instance after 02 February 2019, 14:00.\u001b[0m\n",
      "\u001b[91m\u001b[1mUserWarning:\n",
      "\u001b[0m\u001b[93mTrying to add to a non CycleCount object instance after 02 February 2019, 20:00.\u001b[0m\n"
     ]
    },
    {
     "name": "stdout",
     "output_type": "stream",
     "text": [
      "96/144 -> \u001b[94m|█████████████████████___________|\u001b[0m -> 66% completed... . \r"
     ]
    },
    {
     "name": "stderr",
     "output_type": "stream",
     "text": [
      "\u001b[91m\u001b[1mUserWarning:\n",
      "\u001b[0m\u001b[93mTrying to add to a non CycleCount object instance after 18 May 2019, 22:00.\u001b[0m\n",
      "\u001b[91m\u001b[1mUserWarning:\n",
      "\u001b[0m\u001b[93mTrying to add to a non CycleCount object instance after 19 May 2019, 04:00.\u001b[0m\n"
     ]
    },
    {
     "name": "stdout",
     "output_type": "stream",
     "text": [
      "132/144 -> \u001b[94m|█████████████████████████████___|\u001b[0m -> 91% completed...  \r"
     ]
    },
    {
     "name": "stderr",
     "output_type": "stream",
     "text": [
      "\u001b[91m\u001b[1mUserWarning:\n",
      "\u001b[0m\u001b[93mTrying to add to a non CycleCount object instance after 22 May 2019, 06:00.\u001b[0m\n",
      "\u001b[91m\u001b[1mUserWarning:\n",
      "\u001b[0m\u001b[93mTrying to add to a non CycleCount object instance after 22 May 2019, 00:00.\u001b[0m\n"
     ]
    },
    {
     "name": "stdout",
     "output_type": "stream",
     "text": [
      "144/144 -> \u001b[94m|████████████████████████████████|\u001b[0m -> 100% completed... \r"
     ]
    },
    {
     "name": "stderr",
     "output_type": "stream",
     "text": [
      "\u001b[91m\u001b[1mUserWarning:\n",
      "\u001b[0m\u001b[93mTrying to add to a non CycleCount object instance after 25 June 2019, 12:00.\u001b[0m\n"
     ]
    },
    {
     "name": "stdout",
     "output_type": "stream",
     "text": [
      "36/144 -> \u001b[94m|████████________________________|\u001b[0m -> 25% completed... . \r"
     ]
    },
    {
     "name": "stderr",
     "output_type": "stream",
     "text": [
      "\u001b[91m\u001b[1mUserWarning:\n",
      "\u001b[0m\u001b[93mTrying to add to a non CycleCount object instance after 03 August 2019, 06:00.\u001b[0m\n",
      "\u001b[91m\u001b[1mUserWarning:\n",
      "\u001b[0m\u001b[93mTrying to add to a non CycleCount object instance after 03 August 2019, 10:00.\u001b[0m\n"
     ]
    },
    {
     "name": "stdout",
     "output_type": "stream",
     "text": [
      "36/144 -> \u001b[94m|████████________________________|\u001b[0m -> 25% completed... . \r"
     ]
    },
    {
     "name": "stderr",
     "output_type": "stream",
     "text": [
      "\u001b[91m\u001b[1mUserWarning:\n",
      "\u001b[0m\u001b[93mTrying to add to a non CycleCount object instance after 21 August 2019, 00:00.\u001b[0m\n"
     ]
    },
    {
     "name": "stdout",
     "output_type": "stream",
     "text": [
      "48/144 -> \u001b[94m|██████████______________________|\u001b[0m -> 33% completed... \r",
      "60/144 -> \u001b[94m|█████████████___________________|\u001b[0m -> 41% completed... \r",
      "72/144 -> \u001b[94m|████████████████________________|\u001b[0m -> 50% completed... \r",
      "84/144 -> \u001b[94m|██████████████████______________|\u001b[0m -> 58% completed... \r",
      "96/144 -> \u001b[94m|█████████████████████___________|\u001b[0m -> 66% completed... \r",
      "108/144 -> \u001b[94m|████████████████████████________|\u001b[0m -> 75% completed... \r",
      "120/144 -> \u001b[94m|██████████████████████████______|\u001b[0m -> 83% completed... \r",
      "132/144 -> \u001b[94m|█████████████████████████████___|\u001b[0m -> 91% completed... \r",
      "144/144 -> \u001b[94m|████████████████████████████████|\u001b[0m -> 100% completed... \r",
      "12/144 -> \u001b[94m|██______________________________|\u001b[0m -> 8% completed... \r",
      "24/144 -> \u001b[94m|█████___________________________|\u001b[0m -> 16% completed... \r",
      "36/144 -> \u001b[94m|████████________________________|\u001b[0m -> 25% completed... \r",
      "48/144 -> \u001b[94m|██████████______________________|\u001b[0m -> 33% completed... \r",
      "60/144 -> \u001b[94m|█████████████___________________|\u001b[0m -> 41% completed... \r",
      "72/144 -> \u001b[94m|████████████████________________|\u001b[0m -> 50% completed... \r",
      "84/144 -> \u001b[94m|██████████████████______________|\u001b[0m -> 58% completed... \r"
     ]
    },
    {
     "name": "stderr",
     "output_type": "stream",
     "text": [
      "\u001b[91m\u001b[1mUserWarning:\n",
      "\u001b[0m\u001b[93mTrying to add to a non CycleCount object instance after 22 August 2019, 06:00.\u001b[0m\n",
      "\u001b[91m\u001b[1mUserWarning:\n",
      "\u001b[0m\u001b[93mTrying to add to a non CycleCount object instance after 23 August 2019, 04:00.\u001b[0m\n"
     ]
    },
    {
     "name": "stdout",
     "output_type": "stream",
     "text": [
      "48/144 -> \u001b[94m|██████████______________________|\u001b[0m -> 33% completed... . \r"
     ]
    },
    {
     "name": "stderr",
     "output_type": "stream",
     "text": [
      "\u001b[91m\u001b[1mUserWarning:\n",
      "\u001b[0m\u001b[93mTrying to add to a non CycleCount object instance after 07 September 2019, 20:00.\u001b[0m\n"
     ]
    },
    {
     "name": "stdout",
     "output_type": "stream",
     "text": [
      "48/144 -> \u001b[94m|██████████______________________|\u001b[0m -> 33% completed... . \r"
     ]
    },
    {
     "name": "stderr",
     "output_type": "stream",
     "text": [
      "\u001b[91m\u001b[1mUserWarning:\n",
      "\u001b[0m\u001b[93mTrying to add to a non CycleCount object instance after 17 September 2019, 16:00.\u001b[0m\n"
     ]
    },
    {
     "name": "stdout",
     "output_type": "stream",
     "text": [
      "36/144 -> \u001b[94m|████████________________________|\u001b[0m -> 25% completed... . \r"
     ]
    },
    {
     "name": "stderr",
     "output_type": "stream",
     "text": [
      "\u001b[91m\u001b[1mUserWarning:\n",
      "\u001b[0m\u001b[93mTrying to add to a non CycleCount object instance after 28 October 2019, 02:00.\u001b[0m\n"
     ]
    },
    {
     "name": "stdout",
     "output_type": "stream",
     "text": [
      "36/144 -> \u001b[94m|████████________________________|\u001b[0m -> 25% completed... . \r"
     ]
    },
    {
     "name": "stderr",
     "output_type": "stream",
     "text": [
      "\u001b[91m\u001b[1mUserWarning:\n",
      "\u001b[0m\u001b[93mTrying to add to a non CycleCount object instance after 10 July 2020, 06:00.\u001b[0m\n"
     ]
    },
    {
     "name": "stdout",
     "output_type": "stream",
     "text": [
      "96/144 -> \u001b[94m|█████████████████████___________|\u001b[0m -> 66% completed... . \r"
     ]
    },
    {
     "name": "stderr",
     "output_type": "stream",
     "text": [
      "\u001b[91m\u001b[1mUserWarning:\n",
      "\u001b[0m\u001b[93mTrying to add to a non CycleCount object instance after 19 July 2020, 14:00.\u001b[0m\n"
     ]
    },
    {
     "name": "stdout",
     "output_type": "stream",
     "text": [
      "144/144 -> \u001b[94m|████████████████████████████████|\u001b[0m -> 100% completed... \r"
     ]
    },
    {
     "name": "stderr",
     "output_type": "stream",
     "text": [
      "\u001b[91m\u001b[1mUserWarning:\n",
      "\u001b[0m\u001b[93mTrying to add to a non CycleCount object instance after 21 July 2020, 14:00.\u001b[0m\n",
      "\u001b[91m\u001b[1mUserWarning:\n",
      "\u001b[0m\u001b[93mTrying to add to a non CycleCount object instance after 21 July 2020, 22:00.\u001b[0m\n"
     ]
    },
    {
     "name": "stdout",
     "output_type": "stream",
     "text": [
      "12/144 -> \u001b[94m|██______________________________|\u001b[0m -> 8% completed... .. \r"
     ]
    },
    {
     "name": "stderr",
     "output_type": "stream",
     "text": [
      "\u001b[91m\u001b[1mUserWarning:\n",
      "\u001b[0m\u001b[93mTrying to add to a non CycleCount object instance after 04 August 2020, 00:00.\u001b[0m\n",
      "\u001b[91m\u001b[1mUserWarning:\n",
      "\u001b[0m\u001b[93mTrying to add to a non CycleCount object instance after 04 August 2020, 02:00.\u001b[0m\n"
     ]
    },
    {
     "name": "stdout",
     "output_type": "stream",
     "text": [
      "60/144 -> \u001b[94m|█████████████___________________|\u001b[0m -> 41% completed... . \r"
     ]
    },
    {
     "name": "stderr",
     "output_type": "stream",
     "text": [
      "\u001b[91m\u001b[1mUserWarning:\n",
      "\u001b[0m\u001b[93mTrying to add to a non CycleCount object instance after 01 September 2020, 22:00.\u001b[0m\n"
     ]
    },
    {
     "name": "stdout",
     "output_type": "stream",
     "text": [
      "36/144 -> \u001b[94m|████████________________________|\u001b[0m -> 25% completed... . \r"
     ]
    },
    {
     "name": "stderr",
     "output_type": "stream",
     "text": [
      "\u001b[91m\u001b[1mUserWarning:\n",
      "\u001b[0m\u001b[93mTrying to add to a non CycleCount object instance after 26 September 2020, 16:00.\u001b[0m\n"
     ]
    },
    {
     "name": "stdout",
     "output_type": "stream",
     "text": [
      "48/144 -> \u001b[94m|██████████______________________|\u001b[0m -> 33% completed... \r",
      "60/144 -> \u001b[94m|█████████████___________________|\u001b[0m -> 41% completed... \r",
      "72/144 -> \u001b[94m|████████████████________________|\u001b[0m -> 50% completed... \r",
      "84/144 -> \u001b[94m|██████████████████______________|\u001b[0m -> 58% completed... \r",
      "96/144 -> \u001b[94m|█████████████████████___________|\u001b[0m -> 66% completed... \r",
      "108/144 -> \u001b[94m|████████████████████████________|\u001b[0m -> 75% completed... \r",
      "120/144 -> \u001b[94m|██████████████████████████______|\u001b[0m -> 83% completed... \r",
      "132/144 -> \u001b[94m|█████████████████████████████___|\u001b[0m -> 91% completed... \r",
      "144/144 -> \u001b[94m|████████████████████████████████|\u001b[0m -> 100% completed... \r",
      "12/144 -> \u001b[94m|██______________________________|\u001b[0m -> 8% completed... \r",
      "24/144 -> \u001b[94m|█████___________________________|\u001b[0m -> 16% completed... \r"
     ]
    },
    {
     "name": "stderr",
     "output_type": "stream",
     "text": [
      "\u001b[91m\u001b[1mUserWarning:\n",
      "\u001b[0m\u001b[93mTrying to add to a non CycleCount object instance after 27 September 2020, 12:00.\u001b[0m\n"
     ]
    },
    {
     "name": "stdout",
     "output_type": "stream",
     "text": [
      "12/144 -> \u001b[94m|██______________________________|\u001b[0m -> 8% completed... .. \r"
     ]
    },
    {
     "name": "stderr",
     "output_type": "stream",
     "text": [
      "\u001b[91m\u001b[1mUserWarning:\n",
      "\u001b[0m\u001b[93mTrying to add to a non CycleCount object instance after 11 October 2020, 20:00.\u001b[0m\n"
     ]
    },
    {
     "name": "stdout",
     "output_type": "stream",
     "text": [
      "48/144 -> \u001b[94m|██████████______________________|\u001b[0m -> 33% completed... . \r"
     ]
    },
    {
     "name": "stderr",
     "output_type": "stream",
     "text": [
      "\u001b[91m\u001b[1mUserWarning:\n",
      "\u001b[0m\u001b[93mTrying to add to a non CycleCount object instance after 01 December 2020, 06:00.\u001b[0m\n"
     ]
    },
    {
     "name": "stdout",
     "output_type": "stream",
     "text": [
      "\u001b[36m4. Retrieving LFFD on aggregated \u001b[1mdf\u001b[22m.\u001b[0m-> 100% completed...  \n",
      "Elapsed time for \u001b[36m\u001b[1m'D'\u001b[0m aggregation is 1357.0, s.\n",
      "\n",
      "\u001b[36m1. Running checks on \u001b[1mdf\u001b[22m.\u001b[0m\n",
      "\u001b[36m2. Building the aggregation \u001b[1mdict\u001b[22m.\n",
      "3. Aggregate \u001b[1mdf\u001b[22m by \u001b[1m'W'\u001b[22m.\u001b[0m\n",
      "528/1008 -> \u001b[94m|████████████████████████████████|\u001b[0m -> 100% completed... \r"
     ]
    },
    {
     "name": "stderr",
     "output_type": "stream",
     "text": [
      "\u001b[91m\u001b[1mUserWarning:\n",
      "\u001b[0m\u001b[93mTrying to add to a non CycleCount object instance after 20 April 2018, 17:40.\u001b[0m\n"
     ]
    },
    {
     "name": "stdout",
     "output_type": "stream",
     "text": [
      "528/1008 -> \u001b[94m|████████████████████████████████|\u001b[0m -> 100% completed... \r"
     ]
    },
    {
     "name": "stderr",
     "output_type": "stream",
     "text": [
      "\u001b[91m\u001b[1mUserWarning:\n",
      "\u001b[0m\u001b[93mTrying to add to a non CycleCount object instance after 30 April 2018, 00:00.\u001b[0m\n"
     ]
    },
    {
     "name": "stdout",
     "output_type": "stream",
     "text": [
      "646/1075 -> \u001b[94m|████████████████████████████████|\u001b[0m -> 100% completed... \r"
     ]
    },
    {
     "name": "stderr",
     "output_type": "stream",
     "text": [
      "\u001b[91m\u001b[1mUserWarning:\n",
      "\u001b[0m\u001b[93mTrying to add to a non CycleCount object instance after 22 May 2018, 08:00.\u001b[0m\n",
      "\u001b[91m\u001b[1mUserWarning:\n",
      "\u001b[0m\u001b[93mTrying to add to a non CycleCount object instance after 21 May 2018, 00:00.\u001b[0m\n",
      "\u001b[91m\u001b[1mUserWarning:\n",
      "\u001b[0m\u001b[93mNo residuals_sequence found on \u001b[31m25 May 2018, 13:10\u001b[93m.\u001b[0m\n",
      "\u001b[91m\u001b[1mUserWarning:\n",
      "\u001b[0m\u001b[93mTrying to add to a non CycleCount object instance after 25 May 2018, 10:20.\u001b[0m\n",
      "\u001b[91m\u001b[1mUserWarning:\n",
      "\u001b[0m\u001b[93mNo residuals_sequence found on \u001b[31m25 May 2018, 13:40\u001b[93m.\u001b[0m\n"
     ]
    },
    {
     "name": "stdout",
     "output_type": "stream",
     "text": [
      "768/985 -> \u001b[94m|████████████████████████████████|\u001b[0m -> 100% completed...  \r"
     ]
    },
    {
     "name": "stderr",
     "output_type": "stream",
     "text": [
      "\u001b[91m\u001b[1mUserWarning:\n",
      "\u001b[0m\u001b[93mTrying to add to a non CycleCount object instance after 01 August 2018, 03:40.\u001b[0m\n",
      "\u001b[91m\u001b[1mUserWarning:\n",
      "\u001b[0m\u001b[93mTrying to add to a non CycleCount object instance after 30 July 2018, 00:00.\u001b[0m\n",
      "\u001b[91m\u001b[1mUserWarning:\n",
      "\u001b[0m\u001b[93mTrying to add to a non CycleCount object instance after 02 August 2018, 05:30.\u001b[0m\n"
     ]
    },
    {
     "name": "stdout",
     "output_type": "stream",
     "text": [
      "528/1008 -> \u001b[94m|████████████████████████████████|\u001b[0m -> 100% completed... \r"
     ]
    },
    {
     "name": "stderr",
     "output_type": "stream",
     "text": [
      "\u001b[91m\u001b[1mUserWarning:\n",
      "\u001b[0m\u001b[93mTrying to add to a non CycleCount object instance after 28 January 2019, 00:00.\u001b[0m\n"
     ]
    },
    {
     "name": "stdout",
     "output_type": "stream",
     "text": [
      "528/1008 -> \u001b[94m|████████████████████████████████|\u001b[0m -> 100% completed... \r"
     ]
    },
    {
     "name": "stderr",
     "output_type": "stream",
     "text": [
      "\u001b[91m\u001b[1mUserWarning:\n",
      "\u001b[0m\u001b[93mTrying to add to a non CycleCount object instance after 20 February 2019, 08:50.\u001b[0m\n",
      "\u001b[91m\u001b[1mUserWarning:\n",
      "\u001b[0m\u001b[93mTrying to add to a non CycleCount object instance after 18 February 2019, 00:00.\u001b[0m\n"
     ]
    },
    {
     "name": "stdout",
     "output_type": "stream",
     "text": [
      "528/1008 -> \u001b[94m|████████████████████████████████|\u001b[0m -> 100% completed... \r"
     ]
    },
    {
     "name": "stderr",
     "output_type": "stream",
     "text": [
      "\u001b[91m\u001b[1mUserWarning:\n",
      "\u001b[0m\u001b[93mTrying to add to a non CycleCount object instance after 23 June 2019, 11:00.\u001b[0m\n",
      "\u001b[91m\u001b[1mUserWarning:\n",
      "\u001b[0m\u001b[93mTrying to add to a non CycleCount object instance after 17 June 2019, 00:00.\u001b[0m\n"
     ]
    },
    {
     "name": "stdout",
     "output_type": "stream",
     "text": [
      "528/1008 -> \u001b[94m|████████████████████████████████|\u001b[0m -> 100% completed... \r"
     ]
    },
    {
     "name": "stderr",
     "output_type": "stream",
     "text": [
      "\u001b[91m\u001b[1mUserWarning:\n",
      "\u001b[0m\u001b[93mTrying to add to a non CycleCount object instance after 07 July 2019, 11:00.\u001b[0m\n"
     ]
    },
    {
     "name": "stdout",
     "output_type": "stream",
     "text": [
      "528/1008 -> \u001b[94m|████████████████████████████████|\u001b[0m -> 100% completed... \r"
     ]
    },
    {
     "name": "stderr",
     "output_type": "stream",
     "text": [
      "\u001b[91m\u001b[1mUserWarning:\n",
      "\u001b[0m\u001b[93mTrying to add to a non CycleCount object instance after 03 August 2019, 04:00.\u001b[0m\n"
     ]
    },
    {
     "name": "stdout",
     "output_type": "stream",
     "text": [
      "528/1008 -> \u001b[94m|████████████████████████████████|\u001b[0m -> 100% completed... \r"
     ]
    },
    {
     "name": "stderr",
     "output_type": "stream",
     "text": [
      "\u001b[91m\u001b[1mUserWarning:\n",
      "\u001b[0m\u001b[93mTrying to add to a non CycleCount object instance after 21 August 2019, 03:40.\u001b[0m\n",
      "\u001b[91m\u001b[1mUserWarning:\n",
      "\u001b[0m\u001b[93mTrying to add to a non CycleCount object instance after 22 August 2019, 05:30.\u001b[0m\n",
      "\u001b[91m\u001b[1mUserWarning:\n",
      "\u001b[0m\u001b[93mTrying to add to a non CycleCount object instance after 19 August 2019, 00:00.\u001b[0m\n",
      "\u001b[91m\u001b[1mUserWarning:\n",
      "\u001b[0m\u001b[93mTrying to add to a non CycleCount object instance after 23 August 2019, 02:10.\u001b[0m\n"
     ]
    },
    {
     "name": "stdout",
     "output_type": "stream",
     "text": [
      "528/1008 -> \u001b[94m|████████████████████████████████|\u001b[0m -> 100% completed... \r"
     ]
    },
    {
     "name": "stderr",
     "output_type": "stream",
     "text": [
      "\u001b[91m\u001b[1mUserWarning:\n",
      "\u001b[0m\u001b[93mTrying to add to a non CycleCount object instance after 22 September 2019, 16:10.\u001b[0m\n"
     ]
    },
    {
     "name": "stdout",
     "output_type": "stream",
     "text": [
      "528/1008 -> \u001b[94m|████████████████████████████████|\u001b[0m -> 100% completed... \r"
     ]
    },
    {
     "name": "stderr",
     "output_type": "stream",
     "text": [
      "\u001b[91m\u001b[1mUserWarning:\n",
      "\u001b[0m\u001b[93mTrying to add to a non CycleCount object instance after 02 October 2019, 08:50.\u001b[0m\n",
      "\u001b[91m\u001b[1mUserWarning:\n",
      "\u001b[0m\u001b[93mTrying to add to a non CycleCount object instance after 03 October 2019, 05:30.\u001b[0m\n"
     ]
    },
    {
     "name": "stdout",
     "output_type": "stream",
     "text": [
      "528/1008 -> \u001b[94m|████████████████████████████████|\u001b[0m -> 100% completed... \r"
     ]
    },
    {
     "name": "stderr",
     "output_type": "stream",
     "text": [
      "\u001b[91m\u001b[1mUserWarning:\n",
      "\u001b[0m\u001b[93mTrying to add to a non CycleCount object instance after 08 November 2019, 12:30.\u001b[0m\n",
      "\u001b[91m\u001b[1mUserWarning:\n",
      "\u001b[0m\u001b[93mTrying to add to a non CycleCount object instance after 04 November 2019, 00:00.\u001b[0m\n"
     ]
    },
    {
     "name": "stdout",
     "output_type": "stream",
     "text": [
      "528/1008 -> \u001b[94m|████████████████████████████████|\u001b[0m -> 100% completed... \r"
     ]
    },
    {
     "name": "stderr",
     "output_type": "stream",
     "text": [
      "\u001b[91m\u001b[1mUserWarning:\n",
      "\u001b[0m\u001b[93mTrying to add to a non CycleCount object instance after 28 February 2020, 07:20.\u001b[0m\n"
     ]
    },
    {
     "name": "stdout",
     "output_type": "stream",
     "text": [
      "528/1008 -> \u001b[94m|████████████████████████████████|\u001b[0m -> 100% completed... \r"
     ]
    },
    {
     "name": "stderr",
     "output_type": "stream",
     "text": [
      "\u001b[91m\u001b[1mUserWarning:\n",
      "\u001b[0m\u001b[93mTrying to add to a non CycleCount object instance after 18 April 2020, 09:10.\u001b[0m\n",
      "\u001b[91m\u001b[1mUserWarning:\n",
      "\u001b[0m\u001b[93mTrying to add to a non CycleCount object instance after 13 April 2020, 00:00.\u001b[0m\n"
     ]
    },
    {
     "name": "stdout",
     "output_type": "stream",
     "text": [
      "31/1008 -> \u001b[94m|________________________________|\u001b[0m -> 3% completed... \r",
      "62/1008 -> \u001b[94m|█_______________________________|\u001b[0m -> 6% completed... \r",
      "93/1008 -> \u001b[94m|██______________________________|\u001b[0m -> 9% completed... \r",
      "124/1008 -> \u001b[94m|███_____________________________|\u001b[0m -> 12% completed... \r",
      "155/1008 -> \u001b[94m|████____________________________|\u001b[0m -> 15% completed... \r",
      "186/1008 -> \u001b[94m|█████___________________________|\u001b[0m -> 18% completed... \r",
      "217/1008 -> \u001b[94m|██████__________________________|\u001b[0m -> 21% completed... \r",
      "248/1008 -> \u001b[94m|███████_________________________|\u001b[0m -> 24% completed... \r",
      "279/1008 -> \u001b[94m|████████________________________|\u001b[0m -> 27% completed... \r",
      "310/1008 -> \u001b[94m|█████████_______________________|\u001b[0m -> 30% completed... \r",
      "341/1008 -> \u001b[94m|██████████______________________|\u001b[0m -> 33% completed... \r",
      "372/1008 -> \u001b[94m|███████████_____________________|\u001b[0m -> 36% completed... \r",
      "403/1008 -> \u001b[94m|████████████____________________|\u001b[0m -> 39% completed... \r",
      "434/1008 -> \u001b[94m|█████████████___________________|\u001b[0m -> 42% completed... \r",
      "465/1008 -> \u001b[94m|██████████████__________________|\u001b[0m -> 45% completed... \r",
      "496/1008 -> \u001b[94m|███████████████_________________|\u001b[0m -> 48% completed... \r",
      "527/1008 -> \u001b[94m|████████████████________________|\u001b[0m -> 51% completed... \r",
      "558/1008 -> \u001b[94m|█████████████████_______________|\u001b[0m -> 54% completed... \r",
      "589/1008 -> \u001b[94m|██████████████████______________|\u001b[0m -> 57% completed... \r",
      "620/1008 -> \u001b[94m|███████████████████_____________|\u001b[0m -> 60% completed... \r",
      "651/1008 -> \u001b[94m|████████████████████____________|\u001b[0m -> 63% completed... \r",
      "682/1008 -> \u001b[94m|█████████████████████___________|\u001b[0m -> 66% completed... \r",
      "713/1008 -> \u001b[94m|██████████████████████__________|\u001b[0m -> 69% completed... \r",
      "744/1008 -> \u001b[94m|███████████████████████_________|\u001b[0m -> 72% completed... \r",
      "775/1008 -> \u001b[94m|████████████████████████________|\u001b[0m -> 75% completed... \r",
      "806/1008 -> \u001b[94m|█████████████████████████_______|\u001b[0m -> 78% completed... \r",
      "837/1008 -> \u001b[94m|██████████████████████████______|\u001b[0m -> 81% completed... \r",
      "868/1008 -> \u001b[94m|███████████████████████████_____|\u001b[0m -> 84% completed... \r",
      "899/1008 -> \u001b[94m|████████████████████████████____|\u001b[0m -> 87% completed... \r",
      "930/1008 -> \u001b[94m|█████████████████████████████___|\u001b[0m -> 90% completed... \r",
      "961/1008 -> \u001b[94m|██████████████████████████████__|\u001b[0m -> 93% completed... \r",
      "992/1008 -> \u001b[94m|███████████████████████████████_|\u001b[0m -> 96% completed... \r",
      "528/1008 -> \u001b[94m|████████████████████████████████|\u001b[0m -> 100% completed... \r"
     ]
    },
    {
     "name": "stderr",
     "output_type": "stream",
     "text": [
      "\u001b[91m\u001b[1mUserWarning:\n",
      "\u001b[0m\u001b[93mTrying to add to a non CycleCount object instance after 21 April 2020, 17:20.\u001b[0m\n"
     ]
    },
    {
     "name": "stdout",
     "output_type": "stream",
     "text": [
      "31/1008 -> \u001b[94m|________________________________|\u001b[0m -> 3% completed... \r",
      "62/1008 -> \u001b[94m|█_______________________________|\u001b[0m -> 6% completed... \r",
      "93/1008 -> \u001b[94m|██______________________________|\u001b[0m -> 9% completed... \r",
      "124/1008 -> \u001b[94m|███_____________________________|\u001b[0m -> 12% completed... \r",
      "155/1008 -> \u001b[94m|████____________________________|\u001b[0m -> 15% completed... \r",
      "186/1008 -> \u001b[94m|█████___________________________|\u001b[0m -> 18% completed... \r",
      "217/1008 -> \u001b[94m|██████__________________________|\u001b[0m -> 21% completed... \r",
      "248/1008 -> \u001b[94m|███████_________________________|\u001b[0m -> 24% completed... \r",
      "279/1008 -> \u001b[94m|████████________________________|\u001b[0m -> 27% completed... \r",
      "310/1008 -> \u001b[94m|█████████_______________________|\u001b[0m -> 30% completed... \r",
      "341/1008 -> \u001b[94m|██████████______________________|\u001b[0m -> 33% completed... \r",
      "372/1008 -> \u001b[94m|███████████_____________________|\u001b[0m -> 36% completed... \r",
      "403/1008 -> \u001b[94m|████████████____________________|\u001b[0m -> 39% completed... \r",
      "434/1008 -> \u001b[94m|█████████████___________________|\u001b[0m -> 42% completed... \r",
      "465/1008 -> \u001b[94m|██████████████__________________|\u001b[0m -> 45% completed... \r",
      "496/1008 -> \u001b[94m|███████████████_________________|\u001b[0m -> 48% completed... \r",
      "527/1008 -> \u001b[94m|████████████████________________|\u001b[0m -> 51% completed... \r",
      "558/1008 -> \u001b[94m|█████████████████_______________|\u001b[0m -> 54% completed... \r",
      "589/1008 -> \u001b[94m|██████████████████______________|\u001b[0m -> 57% completed... \r",
      "620/1008 -> \u001b[94m|███████████████████_____________|\u001b[0m -> 60% completed... \r",
      "651/1008 -> \u001b[94m|████████████████████____________|\u001b[0m -> 63% completed... \r",
      "682/1008 -> \u001b[94m|█████████████████████___________|\u001b[0m -> 66% completed... \r",
      "713/1008 -> \u001b[94m|██████████████████████__________|\u001b[0m -> 69% completed... \r",
      "744/1008 -> \u001b[94m|███████████████████████_________|\u001b[0m -> 72% completed... \r",
      "775/1008 -> \u001b[94m|████████████████████████________|\u001b[0m -> 75% completed... \r",
      "806/1008 -> \u001b[94m|█████████████████████████_______|\u001b[0m -> 78% completed... \r",
      "837/1008 -> \u001b[94m|██████████████████████████______|\u001b[0m -> 81% completed... \r",
      "868/1008 -> \u001b[94m|███████████████████████████_____|\u001b[0m -> 84% completed... \r",
      "899/1008 -> \u001b[94m|████████████████████████████____|\u001b[0m -> 87% completed... \r",
      "930/1008 -> \u001b[94m|█████████████████████████████___|\u001b[0m -> 90% completed... \r",
      "961/1008 -> \u001b[94m|██████████████████████████████__|\u001b[0m -> 93% completed... \r",
      "992/1008 -> \u001b[94m|███████████████████████████████_|\u001b[0m -> 96% completed... \r",
      "528/1008 -> \u001b[94m|████████████████████████████████|\u001b[0m -> 100% completed... \r"
     ]
    },
    {
     "name": "stderr",
     "output_type": "stream",
     "text": [
      "\u001b[91m\u001b[1mUserWarning:\n",
      "\u001b[0m\u001b[93mTrying to add to a non CycleCount object instance after 30 April 2020, 15:50.\u001b[0m\n",
      "\u001b[91m\u001b[1mUserWarning:\n",
      "\u001b[0m\u001b[93mTrying to add to a non CycleCount object instance after 27 April 2020, 00:00.\u001b[0m\n"
     ]
    },
    {
     "name": "stdout",
     "output_type": "stream",
     "text": [
      "528/1008 -> \u001b[94m|████████████████████████████████|\u001b[0m -> 100% completed... \r"
     ]
    },
    {
     "name": "stderr",
     "output_type": "stream",
     "text": [
      "\u001b[91m\u001b[1mUserWarning:\n",
      "\u001b[0m\u001b[93mTrying to add to a non CycleCount object instance after 23 June 2019, 05:50.\u001b[0m\n"
     ]
    },
    {
     "name": "stdout",
     "output_type": "stream",
     "text": [
      "528/1008 -> \u001b[94m|████████████████████████████████|\u001b[0m -> 100% completed... \r"
     ]
    },
    {
     "name": "stderr",
     "output_type": "stream",
     "text": [
      "\u001b[91m\u001b[1mUserWarning:\n",
      "\u001b[0m\u001b[93mTrying to add to a non CycleCount object instance after 28 March 2018, 14:00.\u001b[0m\n"
     ]
    },
    {
     "name": "stdout",
     "output_type": "stream",
     "text": [
      "528/1008 -> \u001b[94m|████████████████████████████████|\u001b[0m -> 100% completed... \r"
     ]
    },
    {
     "name": "stderr",
     "output_type": "stream",
     "text": [
      "\u001b[91m\u001b[1mUserWarning:\n",
      "\u001b[0m\u001b[93mTrying to add to a non CycleCount object instance after 19 April 2018, 10:40.\u001b[0m\n"
     ]
    },
    {
     "name": "stdout",
     "output_type": "stream",
     "text": [
      "528/1008 -> \u001b[94m|████████████████████████████████|\u001b[0m -> 100% completed... \r"
     ]
    },
    {
     "name": "stderr",
     "output_type": "stream",
     "text": [
      "\u001b[91m\u001b[1mUserWarning:\n",
      "\u001b[0m\u001b[93mTrying to add to a non CycleCount object instance after 04 May 2018, 02:10.\u001b[0m\n"
     ]
    },
    {
     "name": "stdout",
     "output_type": "stream",
     "text": [
      "528/1008 -> \u001b[94m|████████████████████████████████|\u001b[0m -> 100% completed... \r"
     ]
    },
    {
     "name": "stderr",
     "output_type": "stream",
     "text": [
      "\u001b[91m\u001b[1mUserWarning:\n",
      "\u001b[0m\u001b[93mTrying to add to a non CycleCount object instance after 14 May 2018, 05:10.\u001b[0m\n",
      "\u001b[91m\u001b[1mUserWarning:\n",
      "\u001b[0m\u001b[93mTrying to add to a non CycleCount object instance after 14 May 2018, 11:10.\u001b[0m\n",
      "\u001b[91m\u001b[1mUserWarning:\n",
      "\u001b[0m\u001b[93mTrying to add to a non CycleCount object instance after 14 May 2018, 15:30.\u001b[0m\n",
      "\u001b[91m\u001b[1mUserWarning:\n",
      "\u001b[0m\u001b[93mTrying to add to a non CycleCount object instance after 18 May 2018, 22:50.\u001b[0m\n"
     ]
    },
    {
     "name": "stdout",
     "output_type": "stream",
     "text": [
      "32/1075 -> \u001b[94m|________________________________|\u001b[0m -> 2% completed... \r",
      "64/1075 -> \u001b[94m|█_______________________________|\u001b[0m -> 5% completed... \r",
      "96/1075 -> \u001b[94m|██______________________________|\u001b[0m -> 8% completed... \r",
      "128/1075 -> \u001b[94m|███_____________________________|\u001b[0m -> 11% completed... \r",
      "160/1075 -> \u001b[94m|████____________________________|\u001b[0m -> 14% completed... \r",
      "192/1075 -> \u001b[94m|█████___________________________|\u001b[0m -> 17% completed... \r",
      "224/1075 -> \u001b[94m|██████__________________________|\u001b[0m -> 20% completed... \r",
      "256/1075 -> \u001b[94m|███████_________________________|\u001b[0m -> 23% completed... \r",
      "288/1075 -> \u001b[94m|████████________________________|\u001b[0m -> 26% completed... \r",
      "320/1075 -> \u001b[94m|█████████_______________________|\u001b[0m -> 29% completed... \r",
      "352/1075 -> \u001b[94m|██████████______________________|\u001b[0m -> 32% completed... \r",
      "384/1075 -> \u001b[94m|███████████_____________________|\u001b[0m -> 35% completed... \r",
      "416/1075 -> \u001b[94m|████████████____________________|\u001b[0m -> 38% completed... \r",
      "448/1075 -> \u001b[94m|█████████████___________________|\u001b[0m -> 41% completed... \r",
      "480/1075 -> \u001b[94m|██████████████__________________|\u001b[0m -> 44% completed... \r",
      "512/1075 -> \u001b[94m|███████████████_________________|\u001b[0m -> 47% completed... \r",
      "544/1075 -> \u001b[94m|████████████████________________|\u001b[0m -> 50% completed... \r",
      "576/1075 -> \u001b[94m|████████████████________________|\u001b[0m -> 52% completed... \r",
      "608/1075 -> \u001b[94m|█████████████████_______________|\u001b[0m -> 55% completed... \r",
      "640/1075 -> \u001b[94m|██████████████████______________|\u001b[0m -> 58% completed... \r",
      "672/1075 -> \u001b[94m|███████████████████_____________|\u001b[0m -> 61% completed... \r",
      "704/1075 -> \u001b[94m|████████████████████____________|\u001b[0m -> 64% completed... \r",
      "736/1075 -> \u001b[94m|█████████████████████___________|\u001b[0m -> 67% completed... \r",
      "768/1075 -> \u001b[94m|██████████████████████__________|\u001b[0m -> 70% completed... \r",
      "800/1075 -> \u001b[94m|███████████████████████_________|\u001b[0m -> 73% completed... \r",
      "832/1075 -> \u001b[94m|████████████████████████________|\u001b[0m -> 76% completed... \r",
      "864/1075 -> \u001b[94m|█████████████████████████_______|\u001b[0m -> 79% completed... \r",
      "896/1075 -> \u001b[94m|██████████████████████████______|\u001b[0m -> 82% completed... \r",
      "928/1075 -> \u001b[94m|███████████████████████████_____|\u001b[0m -> 85% completed... \r",
      "960/1075 -> \u001b[94m|████████████████████████████____|\u001b[0m -> 88% completed... \r",
      "992/1075 -> \u001b[94m|█████████████████████████████___|\u001b[0m -> 91% completed... \r",
      "1024/1075 -> \u001b[94m|██████████████████████████████__|\u001b[0m -> 94% completed... \r",
      "1056/1075 -> \u001b[94m|███████████████████████████████_|\u001b[0m -> 97% completed... \r",
      "646/1075 -> \u001b[94m|████████████████████████████████|\u001b[0m -> 100% completed... \r"
     ]
    },
    {
     "name": "stderr",
     "output_type": "stream",
     "text": [
      "\u001b[91m\u001b[1mUserWarning:\n",
      "\u001b[0m\u001b[93mTrying to add to a non CycleCount object instance after 25 May 2018, 20:50.\u001b[0m\n"
     ]
    },
    {
     "name": "stdout",
     "output_type": "stream",
     "text": [
      "528/1008 -> \u001b[94m|████████████████████████████████|\u001b[0m -> 100% completed... \r"
     ]
    },
    {
     "name": "stderr",
     "output_type": "stream",
     "text": [
      "\u001b[91m\u001b[1mUserWarning:\n",
      "\u001b[0m\u001b[93mTrying to add to a non CycleCount object instance after 07 June 2018, 21:00.\u001b[0m\n"
     ]
    },
    {
     "name": "stdout",
     "output_type": "stream",
     "text": [
      "31/1008 -> \u001b[94m|________________________________|\u001b[0m -> 3% completed... \r",
      "62/1008 -> \u001b[94m|█_______________________________|\u001b[0m -> 6% completed... \r",
      "93/1008 -> \u001b[94m|██______________________________|\u001b[0m -> 9% completed... \r",
      "124/1008 -> \u001b[94m|███_____________________________|\u001b[0m -> 12% completed... \r",
      "155/1008 -> \u001b[94m|████____________________________|\u001b[0m -> 15% completed... \r",
      "186/1008 -> \u001b[94m|█████___________________________|\u001b[0m -> 18% completed... \r",
      "217/1008 -> \u001b[94m|██████__________________________|\u001b[0m -> 21% completed... \r",
      "248/1008 -> \u001b[94m|███████_________________________|\u001b[0m -> 24% completed... \r",
      "279/1008 -> \u001b[94m|████████________________________|\u001b[0m -> 27% completed... \r",
      "310/1008 -> \u001b[94m|█████████_______________________|\u001b[0m -> 30% completed... \r",
      "341/1008 -> \u001b[94m|██████████______________________|\u001b[0m -> 33% completed... \r",
      "372/1008 -> \u001b[94m|███████████_____________________|\u001b[0m -> 36% completed... \r",
      "403/1008 -> \u001b[94m|████████████____________________|\u001b[0m -> 39% completed... \r",
      "434/1008 -> \u001b[94m|█████████████___________________|\u001b[0m -> 42% completed... \r",
      "465/1008 -> \u001b[94m|██████████████__________________|\u001b[0m -> 45% completed... \r",
      "496/1008 -> \u001b[94m|███████████████_________________|\u001b[0m -> 48% completed... \r",
      "527/1008 -> \u001b[94m|████████████████________________|\u001b[0m -> 51% completed... \r",
      "558/1008 -> \u001b[94m|█████████████████_______________|\u001b[0m -> 54% completed... \r",
      "589/1008 -> \u001b[94m|██████████████████______________|\u001b[0m -> 57% completed... \r",
      "620/1008 -> \u001b[94m|███████████████████_____________|\u001b[0m -> 60% completed... \r",
      "651/1008 -> \u001b[94m|████████████████████____________|\u001b[0m -> 63% completed... \r",
      "682/1008 -> \u001b[94m|█████████████████████___________|\u001b[0m -> 66% completed... \r",
      "713/1008 -> \u001b[94m|██████████████████████__________|\u001b[0m -> 69% completed... \r",
      "744/1008 -> \u001b[94m|███████████████████████_________|\u001b[0m -> 72% completed... \r",
      "775/1008 -> \u001b[94m|████████████████████████________|\u001b[0m -> 75% completed... \r",
      "806/1008 -> \u001b[94m|█████████████████████████_______|\u001b[0m -> 78% completed... \r",
      "837/1008 -> \u001b[94m|██████████████████████████______|\u001b[0m -> 81% completed... \r",
      "868/1008 -> \u001b[94m|███████████████████████████_____|\u001b[0m -> 84% completed... \r",
      "899/1008 -> \u001b[94m|████████████████████████████____|\u001b[0m -> 87% completed... \r",
      "930/1008 -> \u001b[94m|█████████████████████████████___|\u001b[0m -> 90% completed... \r",
      "961/1008 -> \u001b[94m|██████████████████████████████__|\u001b[0m -> 93% completed... \r",
      "992/1008 -> \u001b[94m|███████████████████████████████_|\u001b[0m -> 96% completed... \r",
      "528/1008 -> \u001b[94m|████████████████████████████████|\u001b[0m -> 100% completed... \r"
     ]
    },
    {
     "name": "stderr",
     "output_type": "stream",
     "text": [
      "\u001b[91m\u001b[1mUserWarning:\n",
      "\u001b[0m\u001b[93mTrying to add to a non CycleCount object instance after 12 June 2018, 17:20.\u001b[0m\n"
     ]
    },
    {
     "name": "stdout",
     "output_type": "stream",
     "text": [
      "528/1008 -> \u001b[94m|████████████████████████████████|\u001b[0m -> 100% completed... \r"
     ]
    },
    {
     "name": "stderr",
     "output_type": "stream",
     "text": [
      "\u001b[91m\u001b[1mUserWarning:\n",
      "\u001b[0m\u001b[93mTrying to add to a non CycleCount object instance after 27 July 2018, 12:30.\u001b[0m\n"
     ]
    },
    {
     "name": "stdout",
     "output_type": "stream",
     "text": [
      "31/985 -> \u001b[94m|█_______________________________|\u001b[0m -> 3% completed... \r",
      "62/985 -> \u001b[94m|██______________________________|\u001b[0m -> 6% completed... \r",
      "93/985 -> \u001b[94m|███_____________________________|\u001b[0m -> 9% completed... \r",
      "124/985 -> \u001b[94m|████____________________________|\u001b[0m -> 12% completed... \r",
      "155/985 -> \u001b[94m|█████___________________________|\u001b[0m -> 15% completed... \r",
      "186/985 -> \u001b[94m|██████__________________________|\u001b[0m -> 18% completed... \r",
      "217/985 -> \u001b[94m|███████_________________________|\u001b[0m -> 21% completed... \r",
      "248/985 -> \u001b[94m|████████________________________|\u001b[0m -> 25% completed... \r",
      "279/985 -> \u001b[94m|█████████_______________________|\u001b[0m -> 28% completed... \r",
      "310/985 -> \u001b[94m|██████████______________________|\u001b[0m -> 31% completed... \r",
      "341/985 -> \u001b[94m|███████████_____________________|\u001b[0m -> 34% completed... \r",
      "372/985 -> \u001b[94m|████████████____________________|\u001b[0m -> 37% completed... \r",
      "403/985 -> \u001b[94m|█████████████___________________|\u001b[0m -> 40% completed... \r",
      "434/985 -> \u001b[94m|██████████████__________________|\u001b[0m -> 43% completed... \r",
      "465/985 -> \u001b[94m|███████████████_________________|\u001b[0m -> 46% completed... \r",
      "496/985 -> \u001b[94m|████████████████________________|\u001b[0m -> 50% completed... \r",
      "527/985 -> \u001b[94m|█████████████████_______________|\u001b[0m -> 53% completed... \r",
      "558/985 -> \u001b[94m|██████████████████______________|\u001b[0m -> 56% completed... \r",
      "589/985 -> \u001b[94m|███████████████████_____________|\u001b[0m -> 59% completed... \r",
      "620/985 -> \u001b[94m|████████████████████____________|\u001b[0m -> 62% completed... \r",
      "651/985 -> \u001b[94m|█████████████████████___________|\u001b[0m -> 65% completed... \r",
      "682/985 -> \u001b[94m|██████████████████████__________|\u001b[0m -> 68% completed... \r",
      "713/985 -> \u001b[94m|███████████████████████_________|\u001b[0m -> 71% completed... \r",
      "744/985 -> \u001b[94m|████████████████████████________|\u001b[0m -> 75% completed... \r",
      "775/985 -> \u001b[94m|█████████████████████████_______|\u001b[0m -> 78% completed... \r",
      "806/985 -> \u001b[94m|██████████████████████████______|\u001b[0m -> 81% completed... \r",
      "837/985 -> \u001b[94m|███████████████████████████_____|\u001b[0m -> 84% completed... \r",
      "868/985 -> \u001b[94m|████████████████████████████____|\u001b[0m -> 87% completed... \r",
      "899/985 -> \u001b[94m|█████████████████████████████___|\u001b[0m -> 90% completed... \r",
      "930/985 -> \u001b[94m|██████████████████████████████__|\u001b[0m -> 93% completed... \r",
      "961/985 -> \u001b[94m|███████████████████████████████_|\u001b[0m -> 96% completed... \r",
      "768/985 -> \u001b[94m|████████████████████████████████|\u001b[0m -> 100% completed... \r"
     ]
    },
    {
     "name": "stderr",
     "output_type": "stream",
     "text": [
      "\u001b[91m\u001b[1mUserWarning:\n",
      "\u001b[0m\u001b[93mTrying to add to a non CycleCount object instance after 04 August 2018, 02:40.\u001b[0m\n"
     ]
    },
    {
     "name": "stdout",
     "output_type": "stream",
     "text": [
      "528/1008 -> \u001b[94m|████████████████████████████████|\u001b[0m -> 100% completed... \r"
     ]
    },
    {
     "name": "stderr",
     "output_type": "stream",
     "text": [
      "\u001b[91m\u001b[1mUserWarning:\n",
      "\u001b[0m\u001b[93mTrying to add to a non CycleCount object instance after 05 September 2018, 19:10.\u001b[0m\n"
     ]
    },
    {
     "name": "stdout",
     "output_type": "stream",
     "text": [
      "528/1008 -> \u001b[94m|████████████████████████████████|\u001b[0m -> 100% completed... \r"
     ]
    },
    {
     "name": "stderr",
     "output_type": "stream",
     "text": [
      "\u001b[91m\u001b[1mUserWarning:\n",
      "\u001b[0m\u001b[93mTrying to add to a non CycleCount object instance after 06 November 2018, 12:10.\u001b[0m\n",
      "\u001b[91m\u001b[1mUserWarning:\n",
      "\u001b[0m\u001b[93mTrying to add to a non CycleCount object instance after 08 November 2018, 05:30.\u001b[0m\n"
     ]
    },
    {
     "name": "stdout",
     "output_type": "stream",
     "text": [
      "528/1008 -> \u001b[94m|████████████████████████████████|\u001b[0m -> 100% completed... \r"
     ]
    },
    {
     "name": "stderr",
     "output_type": "stream",
     "text": [
      "\u001b[91m\u001b[1mUserWarning:\n",
      "\u001b[0m\u001b[93mTrying to add to a non CycleCount object instance after 02 January 2019, 08:50.\u001b[0m\n",
      "\u001b[91m\u001b[1mUserWarning:\n",
      "\u001b[0m\u001b[93mTrying to add to a non CycleCount object instance after 03 January 2019, 05:30.\u001b[0m\n"
     ]
    },
    {
     "name": "stdout",
     "output_type": "stream",
     "text": [
      "528/1008 -> \u001b[94m|████████████████████████████████|\u001b[0m -> 100% completed... \r"
     ]
    },
    {
     "name": "stderr",
     "output_type": "stream",
     "text": [
      "\u001b[91m\u001b[1mUserWarning:\n",
      "\u001b[0m\u001b[93mTrying to add to a non CycleCount object instance after 02 February 2019, 09:10.\u001b[0m\n",
      "\u001b[91m\u001b[1mUserWarning:\n",
      "\u001b[0m\u001b[93mTrying to add to a non CycleCount object instance after 02 February 2019, 14:20.\u001b[0m\n",
      "\u001b[91m\u001b[1mUserWarning:\n",
      "\u001b[0m\u001b[93mTrying to add to a non CycleCount object instance after 02 February 2019, 19:30.\u001b[0m\n"
     ]
    },
    {
     "name": "stdout",
     "output_type": "stream",
     "text": [
      "31/1008 -> \u001b[94m|________________________________|\u001b[0m -> 3% completed... .. \r"
     ]
    },
    {
     "name": "stderr",
     "output_type": "stream",
     "text": [
      "\u001b[91m\u001b[1mUserWarning:\n",
      "\u001b[0m\u001b[93mTrying to add to a non CycleCount object instance after 18 May 2019, 19:30.\u001b[0m\n",
      "\u001b[91m\u001b[1mUserWarning:\n",
      "\u001b[0m\u001b[93mTrying to add to a non CycleCount object instance after 19 May 2019, 00:40.\u001b[0m\n"
     ]
    },
    {
     "name": "stdout",
     "output_type": "stream",
     "text": [
      "62/1008 -> \u001b[94m|█_______________________________|\u001b[0m -> 6% completed... \r",
      "93/1008 -> \u001b[94m|██______________________________|\u001b[0m -> 9% completed... \r",
      "124/1008 -> \u001b[94m|███_____________________________|\u001b[0m -> 12% completed... \r",
      "155/1008 -> \u001b[94m|████____________________________|\u001b[0m -> 15% completed... \r",
      "186/1008 -> \u001b[94m|█████___________________________|\u001b[0m -> 18% completed... \r",
      "217/1008 -> \u001b[94m|██████__________________________|\u001b[0m -> 21% completed... \r",
      "248/1008 -> \u001b[94m|███████_________________________|\u001b[0m -> 24% completed... \r",
      "279/1008 -> \u001b[94m|████████________________________|\u001b[0m -> 27% completed... \r",
      "310/1008 -> \u001b[94m|█████████_______________________|\u001b[0m -> 30% completed... \r",
      "341/1008 -> \u001b[94m|██████████______________________|\u001b[0m -> 33% completed... \r",
      "372/1008 -> \u001b[94m|███████████_____________________|\u001b[0m -> 36% completed... \r",
      "403/1008 -> \u001b[94m|████████████____________________|\u001b[0m -> 39% completed... \r",
      "434/1008 -> \u001b[94m|█████████████___________________|\u001b[0m -> 42% completed... \r",
      "465/1008 -> \u001b[94m|██████████████__________________|\u001b[0m -> 45% completed... \r",
      "496/1008 -> \u001b[94m|███████████████_________________|\u001b[0m -> 48% completed... \r",
      "527/1008 -> \u001b[94m|████████████████________________|\u001b[0m -> 51% completed... \r",
      "558/1008 -> \u001b[94m|█████████████████_______________|\u001b[0m -> 54% completed... \r",
      "589/1008 -> \u001b[94m|██████████████████______________|\u001b[0m -> 57% completed... \r",
      "620/1008 -> \u001b[94m|███████████████████_____________|\u001b[0m -> 60% completed... \r",
      "651/1008 -> \u001b[94m|████████████████████____________|\u001b[0m -> 63% completed... \r",
      "682/1008 -> \u001b[94m|█████████████████████___________|\u001b[0m -> 66% completed... \r",
      "713/1008 -> \u001b[94m|██████████████████████__________|\u001b[0m -> 69% completed... \r",
      "744/1008 -> \u001b[94m|███████████████████████_________|\u001b[0m -> 72% completed... \r",
      "775/1008 -> \u001b[94m|████████████████████████________|\u001b[0m -> 75% completed... \r",
      "806/1008 -> \u001b[94m|█████████████████████████_______|\u001b[0m -> 78% completed... \r",
      "837/1008 -> \u001b[94m|██████████████████████████______|\u001b[0m -> 81% completed... \r",
      "868/1008 -> \u001b[94m|███████████████████████████_____|\u001b[0m -> 84% completed... \r",
      "899/1008 -> \u001b[94m|████████████████████████████____|\u001b[0m -> 87% completed... \r",
      "930/1008 -> \u001b[94m|█████████████████████████████___|\u001b[0m -> 90% completed... \r",
      "961/1008 -> \u001b[94m|██████████████████████████████__|\u001b[0m -> 93% completed... \r",
      "992/1008 -> \u001b[94m|███████████████████████████████_|\u001b[0m -> 96% completed... \r",
      "528/1008 -> \u001b[94m|████████████████████████████████|\u001b[0m -> 100% completed... \r"
     ]
    },
    {
     "name": "stderr",
     "output_type": "stream",
     "text": [
      "\u001b[91m\u001b[1mUserWarning:\n",
      "\u001b[0m\u001b[93mTrying to add to a non CycleCount object instance after 22 May 2019, 03:40.\u001b[0m\n"
     ]
    },
    {
     "name": "stdout",
     "output_type": "stream",
     "text": [
      "528/1008 -> \u001b[94m|████████████████████████████████|\u001b[0m -> 100% completed... \r"
     ]
    },
    {
     "name": "stderr",
     "output_type": "stream",
     "text": [
      "\u001b[91m\u001b[1mUserWarning:\n",
      "\u001b[0m\u001b[93mTrying to add to a non CycleCount object instance after 03 August 2019, 09:10.\u001b[0m\n"
     ]
    },
    {
     "name": "stdout",
     "output_type": "stream",
     "text": [
      "528/1008 -> \u001b[94m|████████████████████████████████|\u001b[0m -> 100% completed... \r"
     ]
    },
    {
     "name": "stderr",
     "output_type": "stream",
     "text": [
      "\u001b[91m\u001b[1mUserWarning:\n",
      "\u001b[0m\u001b[93mTrying to add to a non CycleCount object instance after 07 September 2019, 19:30.\u001b[0m\n"
     ]
    },
    {
     "name": "stdout",
     "output_type": "stream",
     "text": [
      "528/1008 -> \u001b[94m|████████████████████████████████|\u001b[0m -> 100% completed... \r"
     ]
    },
    {
     "name": "stderr",
     "output_type": "stream",
     "text": [
      "\u001b[91m\u001b[1mUserWarning:\n",
      "\u001b[0m\u001b[93mTrying to add to a non CycleCount object instance after 17 September 2019, 12:10.\u001b[0m\n"
     ]
    },
    {
     "name": "stdout",
     "output_type": "stream",
     "text": [
      "528/1008 -> \u001b[94m|████████████████████████████████|\u001b[0m -> 100% completed... \r"
     ]
    },
    {
     "name": "stderr",
     "output_type": "stream",
     "text": [
      "\u001b[91m\u001b[1mUserWarning:\n",
      "\u001b[0m\u001b[93mTrying to add to a non CycleCount object instance after 28 October 2019, 00:00.\u001b[0m\n"
     ]
    },
    {
     "name": "stdout",
     "output_type": "stream",
     "text": [
      "31/1008 -> \u001b[94m|________________________________|\u001b[0m -> 3% completed... \r",
      "62/1008 -> \u001b[94m|█_______________________________|\u001b[0m -> 6% completed... \r",
      "93/1008 -> \u001b[94m|██______________________________|\u001b[0m -> 9% completed... \r",
      "124/1008 -> \u001b[94m|███_____________________________|\u001b[0m -> 12% completed... \r",
      "155/1008 -> \u001b[94m|████____________________________|\u001b[0m -> 15% completed... \r",
      "186/1008 -> \u001b[94m|█████___________________________|\u001b[0m -> 18% completed... \r",
      "217/1008 -> \u001b[94m|██████__________________________|\u001b[0m -> 21% completed... \r",
      "248/1008 -> \u001b[94m|███████_________________________|\u001b[0m -> 24% completed... \r",
      "279/1008 -> \u001b[94m|████████________________________|\u001b[0m -> 27% completed... \r",
      "310/1008 -> \u001b[94m|█████████_______________________|\u001b[0m -> 30% completed... \r",
      "341/1008 -> \u001b[94m|██████████______________________|\u001b[0m -> 33% completed... \r",
      "372/1008 -> \u001b[94m|███████████_____________________|\u001b[0m -> 36% completed... \r",
      "403/1008 -> \u001b[94m|████████████____________________|\u001b[0m -> 39% completed... \r",
      "434/1008 -> \u001b[94m|█████████████___________________|\u001b[0m -> 42% completed... \r",
      "465/1008 -> \u001b[94m|██████████████__________________|\u001b[0m -> 45% completed... \r",
      "496/1008 -> \u001b[94m|███████████████_________________|\u001b[0m -> 48% completed... \r",
      "527/1008 -> \u001b[94m|████████████████________________|\u001b[0m -> 51% completed... \r",
      "558/1008 -> \u001b[94m|█████████████████_______________|\u001b[0m -> 54% completed... \r",
      "589/1008 -> \u001b[94m|██████████████████______________|\u001b[0m -> 57% completed... \r",
      "620/1008 -> \u001b[94m|███████████████████_____________|\u001b[0m -> 60% completed... \r",
      "651/1008 -> \u001b[94m|████████████████████____________|\u001b[0m -> 63% completed... \r",
      "682/1008 -> \u001b[94m|█████████████████████___________|\u001b[0m -> 66% completed... \r",
      "713/1008 -> \u001b[94m|██████████████████████__________|\u001b[0m -> 69% completed... \r",
      "744/1008 -> \u001b[94m|███████████████████████_________|\u001b[0m -> 72% completed... \r",
      "775/1008 -> \u001b[94m|████████████████████████________|\u001b[0m -> 75% completed... \r",
      "806/1008 -> \u001b[94m|█████████████████████████_______|\u001b[0m -> 78% completed... \r",
      "837/1008 -> \u001b[94m|██████████████████████████______|\u001b[0m -> 81% completed... \r",
      "868/1008 -> \u001b[94m|███████████████████████████_____|\u001b[0m -> 84% completed... \r",
      "899/1008 -> \u001b[94m|████████████████████████████____|\u001b[0m -> 87% completed... \r",
      "930/1008 -> \u001b[94m|█████████████████████████████___|\u001b[0m -> 90% completed... \r",
      "961/1008 -> \u001b[94m|██████████████████████████████__|\u001b[0m -> 93% completed... \r",
      "992/1008 -> \u001b[94m|███████████████████████████████_|\u001b[0m -> 96% completed... \r",
      "528/1008 -> \u001b[94m|████████████████████████████████|\u001b[0m -> 100% completed... \r"
     ]
    },
    {
     "name": "stderr",
     "output_type": "stream",
     "text": [
      "\u001b[91m\u001b[1mUserWarning:\n",
      "\u001b[0m\u001b[93mTrying to add to a non CycleCount object instance after 06 November 2019, 03:40.\u001b[0m\n"
     ]
    },
    {
     "name": "stdout",
     "output_type": "stream",
     "text": [
      "528/1008 -> \u001b[94m|████████████████████████████████|\u001b[0m -> 100% completed... \r"
     ]
    },
    {
     "name": "stderr",
     "output_type": "stream",
     "text": [
      "\u001b[91m\u001b[1mUserWarning:\n",
      "\u001b[0m\u001b[93mTrying to add to a non CycleCount object instance after 25 January 2020, 09:10.\u001b[0m\n"
     ]
    },
    {
     "name": "stdout",
     "output_type": "stream",
     "text": [
      "528/1008 -> \u001b[94m|████████████████████████████████|\u001b[0m -> 100% completed... \r"
     ]
    },
    {
     "name": "stderr",
     "output_type": "stream",
     "text": [
      "\u001b[91m\u001b[1mUserWarning:\n",
      "\u001b[0m\u001b[93mTrying to add to a non CycleCount object instance after 20 April 2020, 20:40.\u001b[0m\n"
     ]
    },
    {
     "name": "stdout",
     "output_type": "stream",
     "text": [
      "528/1008 -> \u001b[94m|████████████████████████████████|\u001b[0m -> 100% completed... \r"
     ]
    },
    {
     "name": "stderr",
     "output_type": "stream",
     "text": [
      "\u001b[91m\u001b[1mUserWarning:\n",
      "\u001b[0m\u001b[93mTrying to add to a non CycleCount object instance after 10 July 2020, 02:10.\u001b[0m\n"
     ]
    },
    {
     "name": "stdout",
     "output_type": "stream",
     "text": [
      "31/1008 -> \u001b[94m|________________________________|\u001b[0m -> 3% completed... \r",
      "62/1008 -> \u001b[94m|█_______________________________|\u001b[0m -> 6% completed... \r",
      "93/1008 -> \u001b[94m|██______________________________|\u001b[0m -> 9% completed... \r",
      "124/1008 -> \u001b[94m|███_____________________________|\u001b[0m -> 12% completed... \r",
      "155/1008 -> \u001b[94m|████____________________________|\u001b[0m -> 15% completed... \r",
      "186/1008 -> \u001b[94m|█████___________________________|\u001b[0m -> 18% completed... \r",
      "217/1008 -> \u001b[94m|██████__________________________|\u001b[0m -> 21% completed... \r",
      "248/1008 -> \u001b[94m|███████_________________________|\u001b[0m -> 24% completed... \r",
      "279/1008 -> \u001b[94m|████████________________________|\u001b[0m -> 27% completed... \r",
      "310/1008 -> \u001b[94m|█████████_______________________|\u001b[0m -> 30% completed... \r",
      "341/1008 -> \u001b[94m|██████████______________________|\u001b[0m -> 33% completed... \r",
      "372/1008 -> \u001b[94m|███████████_____________________|\u001b[0m -> 36% completed... \r",
      "403/1008 -> \u001b[94m|████████████____________________|\u001b[0m -> 39% completed... \r",
      "434/1008 -> \u001b[94m|█████████████___________________|\u001b[0m -> 42% completed... \r",
      "465/1008 -> \u001b[94m|██████████████__________________|\u001b[0m -> 45% completed... \r",
      "496/1008 -> \u001b[94m|███████████████_________________|\u001b[0m -> 48% completed... \r",
      "527/1008 -> \u001b[94m|████████████████________________|\u001b[0m -> 51% completed... \r",
      "558/1008 -> \u001b[94m|█████████████████_______________|\u001b[0m -> 54% completed... \r",
      "589/1008 -> \u001b[94m|██████████████████______________|\u001b[0m -> 57% completed... \r",
      "620/1008 -> \u001b[94m|███████████████████_____________|\u001b[0m -> 60% completed... \r",
      "651/1008 -> \u001b[94m|████████████████████____________|\u001b[0m -> 63% completed... \r",
      "682/1008 -> \u001b[94m|█████████████████████___________|\u001b[0m -> 66% completed... \r",
      "713/1008 -> \u001b[94m|██████████████████████__________|\u001b[0m -> 69% completed... \r",
      "744/1008 -> \u001b[94m|███████████████████████_________|\u001b[0m -> 72% completed... \r",
      "775/1008 -> \u001b[94m|████████████████████████________|\u001b[0m -> 75% completed... \r",
      "806/1008 -> \u001b[94m|█████████████████████████_______|\u001b[0m -> 78% completed... \r",
      "837/1008 -> \u001b[94m|██████████████████████████______|\u001b[0m -> 81% completed... \r",
      "868/1008 -> \u001b[94m|███████████████████████████_____|\u001b[0m -> 84% completed... \r",
      "899/1008 -> \u001b[94m|████████████████████████████____|\u001b[0m -> 87% completed... \r",
      "930/1008 -> \u001b[94m|█████████████████████████████___|\u001b[0m -> 90% completed... \r",
      "961/1008 -> \u001b[94m|██████████████████████████████__|\u001b[0m -> 93% completed... \r",
      "992/1008 -> \u001b[94m|███████████████████████████████_|\u001b[0m -> 96% completed... \r",
      "528/1008 -> \u001b[94m|████████████████████████████████|\u001b[0m -> 100% completed... \r"
     ]
    },
    {
     "name": "stderr",
     "output_type": "stream",
     "text": [
      "\u001b[91m\u001b[1mUserWarning:\n",
      "\u001b[0m\u001b[93mTrying to add to a non CycleCount object instance after 19 July 2020, 11:00.\u001b[0m\n"
     ]
    },
    {
     "name": "stdout",
     "output_type": "stream",
     "text": [
      "31/1008 -> \u001b[94m|________________________________|\u001b[0m -> 3% completed... \r",
      "62/1008 -> \u001b[94m|█_______________________________|\u001b[0m -> 6% completed... \r",
      "93/1008 -> \u001b[94m|██______________________________|\u001b[0m -> 9% completed... \r",
      "124/1008 -> \u001b[94m|███_____________________________|\u001b[0m -> 12% completed... \r",
      "155/1008 -> \u001b[94m|████____________________________|\u001b[0m -> 15% completed... \r",
      "186/1008 -> \u001b[94m|█████___________________________|\u001b[0m -> 18% completed... \r",
      "217/1008 -> \u001b[94m|██████__________________________|\u001b[0m -> 21% completed... \r",
      "248/1008 -> \u001b[94m|███████_________________________|\u001b[0m -> 24% completed... \r",
      "279/1008 -> \u001b[94m|████████________________________|\u001b[0m -> 27% completed... \r",
      "310/1008 -> \u001b[94m|█████████_______________________|\u001b[0m -> 30% completed... \r",
      "341/1008 -> \u001b[94m|██████████______________________|\u001b[0m -> 33% completed... \r",
      "372/1008 -> \u001b[94m|███████████_____________________|\u001b[0m -> 36% completed... \r",
      "403/1008 -> \u001b[94m|████████████____________________|\u001b[0m -> 39% completed... \r",
      "434/1008 -> \u001b[94m|█████████████___________________|\u001b[0m -> 42% completed... \r",
      "465/1008 -> \u001b[94m|██████████████__________________|\u001b[0m -> 45% completed... \r",
      "496/1008 -> \u001b[94m|███████████████_________________|\u001b[0m -> 48% completed... \r",
      "527/1008 -> \u001b[94m|████████████████________________|\u001b[0m -> 51% completed... \r",
      "558/1008 -> \u001b[94m|█████████████████_______________|\u001b[0m -> 54% completed... \r",
      "589/1008 -> \u001b[94m|██████████████████______________|\u001b[0m -> 57% completed... \r",
      "620/1008 -> \u001b[94m|███████████████████_____________|\u001b[0m -> 60% completed... \r",
      "651/1008 -> \u001b[94m|████████████████████____________|\u001b[0m -> 63% completed... \r",
      "682/1008 -> \u001b[94m|█████████████████████___________|\u001b[0m -> 66% completed... \r",
      "713/1008 -> \u001b[94m|██████████████████████__________|\u001b[0m -> 69% completed... \r",
      "744/1008 -> \u001b[94m|███████████████████████_________|\u001b[0m -> 72% completed... \r",
      "775/1008 -> \u001b[94m|████████████████████████________|\u001b[0m -> 75% completed... \r",
      "806/1008 -> \u001b[94m|█████████████████████████_______|\u001b[0m -> 78% completed... \r",
      "837/1008 -> \u001b[94m|██████████████████████████______|\u001b[0m -> 81% completed... \r",
      "868/1008 -> \u001b[94m|███████████████████████████_____|\u001b[0m -> 84% completed... \r",
      "899/1008 -> \u001b[94m|████████████████████████████____|\u001b[0m -> 87% completed... \r",
      "930/1008 -> \u001b[94m|█████████████████████████████___|\u001b[0m -> 90% completed... \r",
      "961/1008 -> \u001b[94m|██████████████████████████████__|\u001b[0m -> 93% completed... \r",
      "992/1008 -> \u001b[94m|███████████████████████████████_|\u001b[0m -> 96% completed... \r",
      "528/1008 -> \u001b[94m|████████████████████████████████|\u001b[0m -> 100% completed... \r"
     ]
    },
    {
     "name": "stderr",
     "output_type": "stream",
     "text": [
      "\u001b[91m\u001b[1mUserWarning:\n",
      "\u001b[0m\u001b[93mTrying to add to a non CycleCount object instance after 21 July 2020, 12:10.\u001b[0m\n",
      "\u001b[91m\u001b[1mUserWarning:\n",
      "\u001b[0m\u001b[93mTrying to add to a non CycleCount object instance after 21 July 2020, 22:30.\u001b[0m\n"
     ]
    },
    {
     "name": "stdout",
     "output_type": "stream",
     "text": [
      "528/1008 -> \u001b[94m|████████████████████████████████|\u001b[0m -> 100% completed... \r"
     ]
    },
    {
     "name": "stderr",
     "output_type": "stream",
     "text": [
      "\u001b[91m\u001b[1mUserWarning:\n",
      "\u001b[0m\u001b[93mTrying to add to a non CycleCount object instance after 03 August 2020, 20:40.\u001b[0m\n",
      "\u001b[91m\u001b[1mUserWarning:\n",
      "\u001b[0m\u001b[93mTrying to add to a non CycleCount object instance after 04 August 2020, 01:50.\u001b[0m\n"
     ]
    },
    {
     "name": "stdout",
     "output_type": "stream",
     "text": [
      "528/1008 -> \u001b[94m|████████████████████████████████|\u001b[0m -> 100% completed... \r"
     ]
    },
    {
     "name": "stderr",
     "output_type": "stream",
     "text": [
      "\u001b[91m\u001b[1mUserWarning:\n",
      "\u001b[0m\u001b[93mTrying to add to a non CycleCount object instance after 01 September 2020, 22:30.\u001b[0m\n"
     ]
    },
    {
     "name": "stdout",
     "output_type": "stream",
     "text": [
      "528/1008 -> \u001b[94m|████████████████████████████████|\u001b[0m -> 100% completed... \r"
     ]
    },
    {
     "name": "stderr",
     "output_type": "stream",
     "text": [
      "\u001b[91m\u001b[1mUserWarning:\n",
      "\u001b[0m\u001b[93mTrying to add to a non CycleCount object instance after 26 September 2020, 14:20.\u001b[0m\n",
      "\u001b[91m\u001b[1mUserWarning:\n",
      "\u001b[0m\u001b[93mTrying to add to a non CycleCount object instance after 27 September 2020, 11:00.\u001b[0m\n"
     ]
    },
    {
     "name": "stdout",
     "output_type": "stream",
     "text": [
      "528/1008 -> \u001b[94m|████████████████████████████████|\u001b[0m -> 100% completed... \r"
     ]
    },
    {
     "name": "stderr",
     "output_type": "stream",
     "text": [
      "\u001b[91m\u001b[1mUserWarning:\n",
      "\u001b[0m\u001b[93mTrying to add to a non CycleCount object instance after 11 October 2020, 16:10.\u001b[0m\n"
     ]
    },
    {
     "name": "stdout",
     "output_type": "stream",
     "text": [
      "\u001b[36m4. Retrieving LFFD on aggregated \u001b[1mdf\u001b[22m.\u001b[0m -> 100% completed...  \n",
      "Elapsed time for \u001b[36m\u001b[1m'W'\u001b[0m aggregation is 310.0, s.\n",
      "\n",
      "\u001b[36m1. Running checks on \u001b[1mdf\u001b[22m.\u001b[0m\n",
      "\u001b[36m2. Building the aggregation \u001b[1mdict\u001b[22m.\n",
      "3. Aggregate \u001b[1mdf\u001b[22m by \u001b[1m'M'\u001b[22m.\u001b[0m\n",
      "3640/4320 -> \u001b[94m|██████████████████████████______|\u001b[0m -> 83% completed...  \r"
     ]
    },
    {
     "name": "stderr",
     "output_type": "stream",
     "text": [
      "\u001b[91m\u001b[1mUserWarning:\n",
      "\u001b[0m\u001b[93mTrying to add to a non CycleCount object instance after 20 April 2018, 09:50.\u001b[0m\n"
     ]
    },
    {
     "name": "stdout",
     "output_type": "stream",
     "text": [
      "1273/4531 -> \u001b[94m|████████________________________|\u001b[0m -> 27% completed...  \r"
     ]
    },
    {
     "name": "stderr",
     "output_type": "stream",
     "text": [
      "\u001b[91m\u001b[1mUserWarning:\n",
      "\u001b[0m\u001b[93mTrying to add to a non CycleCount object instance after 04 May 2018, 06:10.\u001b[0m\n"
     ]
    },
    {
     "name": "stdout",
     "output_type": "stream",
     "text": [
      "3953/4531 -> \u001b[94m|███████████████████████████_____|\u001b[0m -> 86% completed... \r"
     ]
    },
    {
     "name": "stderr",
     "output_type": "stream",
     "text": [
      "\u001b[91m\u001b[1mUserWarning:\n",
      "\u001b[0m\u001b[93mTrying to add to a non CycleCount object instance after 22 May 2018, 09:40.\u001b[0m\n",
      "\u001b[91m\u001b[1mUserWarning:\n",
      "\u001b[0m\u001b[93mTrying to add to a non CycleCount object instance after 01 May 2018, 00:00.\u001b[0m\n",
      "\u001b[91m\u001b[1mUserWarning:\n",
      "\u001b[0m\u001b[93mNo residuals_sequence found on \u001b[31m25 May 2018, 13:10\u001b[93m.\u001b[0m\n",
      "\u001b[91m\u001b[1mUserWarning:\n",
      "\u001b[0m\u001b[93mTrying to add to a non CycleCount object instance after 25 May 2018, 04:50.\u001b[0m\n",
      "\u001b[91m\u001b[1mUserWarning:\n",
      "\u001b[0m\u001b[93mNo residuals_sequence found on \u001b[31m25 May 2018, 13:40\u001b[93m.\u001b[0m\n"
     ]
    },
    {
     "name": "stdout",
     "output_type": "stream",
     "text": [
      "1254/4441 -> \u001b[94m|████████________________________|\u001b[0m -> 27% completed...  \r"
     ]
    },
    {
     "name": "stderr",
     "output_type": "stream",
     "text": [
      "\u001b[91m\u001b[1mUserWarning:\n",
      "\u001b[0m\u001b[93mTrying to add to a non CycleCount object instance after 01 August 2018, 00:00.\u001b[0m\n",
      "\u001b[91m\u001b[1mUserWarning:\n",
      "\u001b[0m\u001b[93mTrying to add to a non CycleCount object instance after 01 August 2018, 22:00.\u001b[0m\n"
     ]
    },
    {
     "name": "stdout",
     "output_type": "stream",
     "text": [
      "2856/4464 -> \u001b[94m|████████████████████████████████|\u001b[0m -> 100% completed... \r"
     ]
    },
    {
     "name": "stderr",
     "output_type": "stream",
     "text": [
      "\u001b[91m\u001b[1mUserWarning:\n",
      "\u001b[0m\u001b[93mTrying to add to a non CycleCount object instance after 29 December 2018, 10:00.\u001b[0m\n"
     ]
    },
    {
     "name": "stdout",
     "output_type": "stream",
     "text": [
      "2856/4464 -> \u001b[94m|████████████████████████████████|\u001b[0m -> 100% completed... \r"
     ]
    },
    {
     "name": "stderr",
     "output_type": "stream",
     "text": [
      "\u001b[91m\u001b[1mUserWarning:\n",
      "\u001b[0m\u001b[93mTrying to add to a non CycleCount object instance after 27 January 2019, 14:00.\u001b[0m\n"
     ]
    },
    {
     "name": "stdout",
     "output_type": "stream",
     "text": [
      "2856/4464 -> \u001b[94m|████████████████████████████████|\u001b[0m -> 100% completed... \r"
     ]
    },
    {
     "name": "stderr",
     "output_type": "stream",
     "text": [
      "\u001b[91m\u001b[1mUserWarning:\n",
      "\u001b[0m\u001b[93mTrying to add to a non CycleCount object instance after 20 February 2019, 06:00.\u001b[0m\n",
      "\u001b[91m\u001b[1mUserWarning:\n",
      "\u001b[0m\u001b[93mTrying to add to a non CycleCount object instance after 01 February 2019, 00:00.\u001b[0m\n"
     ]
    },
    {
     "name": "stdout",
     "output_type": "stream",
     "text": [
      "65/4319 -> \u001b[94m|________________________________|\u001b[0m -> 1% completed... \r",
      "130/4319 -> \u001b[94m|________________________________|\u001b[0m -> 2% completed... \r",
      "195/4319 -> \u001b[94m|█_______________________________|\u001b[0m -> 4% completed... \r",
      "260/4319 -> \u001b[94m|█_______________________________|\u001b[0m -> 5% completed... \r",
      "325/4319 -> \u001b[94m|██______________________________|\u001b[0m -> 7% completed... \r",
      "390/4319 -> \u001b[94m|██______________________________|\u001b[0m -> 8% completed... \r",
      "455/4319 -> \u001b[94m|███_____________________________|\u001b[0m -> 10% completed... \r",
      "520/4319 -> \u001b[94m|███_____________________________|\u001b[0m -> 11% completed... \r",
      "585/4319 -> \u001b[94m|████____________________________|\u001b[0m -> 13% completed... \r",
      "650/4319 -> \u001b[94m|████____________________________|\u001b[0m -> 14% completed... \r",
      "715/4319 -> \u001b[94m|█████___________________________|\u001b[0m -> 16% completed... \r",
      "780/4319 -> \u001b[94m|█████___________________________|\u001b[0m -> 17% completed... \r",
      "845/4319 -> \u001b[94m|██████__________________________|\u001b[0m -> 19% completed... \r",
      "910/4319 -> \u001b[94m|██████__________________________|\u001b[0m -> 20% completed... \r",
      "975/4319 -> \u001b[94m|███████_________________________|\u001b[0m -> 22% completed... \r",
      "1040/4319 -> \u001b[94m|███████_________________________|\u001b[0m -> 23% completed... \r",
      "1105/4319 -> \u001b[94m|████████________________________|\u001b[0m -> 25% completed... \r",
      "1170/4319 -> \u001b[94m|████████________________________|\u001b[0m -> 26% completed... \r",
      "1235/4319 -> \u001b[94m|█████████_______________________|\u001b[0m -> 28% completed... \r",
      "1300/4319 -> \u001b[94m|█████████_______________________|\u001b[0m -> 29% completed... \r",
      "1365/4319 -> \u001b[94m|██████████______________________|\u001b[0m -> 31% completed... \r",
      "1430/4319 -> \u001b[94m|██████████______________________|\u001b[0m -> 32% completed... \r",
      "1495/4319 -> \u001b[94m|██████████______________________|\u001b[0m -> 34% completed... \r",
      "1560/4319 -> \u001b[94m|███████████_____________________|\u001b[0m -> 35% completed... \r",
      "1625/4319 -> \u001b[94m|███████████_____________________|\u001b[0m -> 37% completed... \r",
      "1690/4319 -> \u001b[94m|████████████____________________|\u001b[0m -> 38% completed... \r",
      "1755/4319 -> \u001b[94m|████████████____________________|\u001b[0m -> 40% completed... \r",
      "1820/4319 -> \u001b[94m|█████████████___________________|\u001b[0m -> 41% completed... \r",
      "1885/4319 -> \u001b[94m|█████████████___________________|\u001b[0m -> 43% completed... \r",
      "1950/4319 -> \u001b[94m|██████████████__________________|\u001b[0m -> 44% completed... \r",
      "2015/4319 -> \u001b[94m|██████████████__________________|\u001b[0m -> 46% completed... \r",
      "2080/4319 -> \u001b[94m|███████████████_________________|\u001b[0m -> 47% completed... \r",
      "2145/4319 -> \u001b[94m|███████████████_________________|\u001b[0m -> 49% completed... \r",
      "2210/4319 -> \u001b[94m|████████████████________________|\u001b[0m -> 50% completed... \r",
      "2275/4319 -> \u001b[94m|████████████████________________|\u001b[0m -> 52% completed... \r",
      "2340/4319 -> \u001b[94m|█████████████████_______________|\u001b[0m -> 53% completed... \r",
      "2405/4319 -> \u001b[94m|█████████████████_______________|\u001b[0m -> 55% completed... \r",
      "2470/4319 -> \u001b[94m|██████████████████______________|\u001b[0m -> 56% completed... \r",
      "2535/4319 -> \u001b[94m|██████████████████______________|\u001b[0m -> 58% completed... \r",
      "2600/4319 -> \u001b[94m|███████████████████_____________|\u001b[0m -> 59% completed... \r",
      "2665/4319 -> \u001b[94m|███████████████████_____________|\u001b[0m -> 61% completed... \r",
      "2730/4319 -> \u001b[94m|████████████████████____________|\u001b[0m -> 62% completed... \r",
      "2795/4319 -> \u001b[94m|████████████████████____________|\u001b[0m -> 64% completed... \r",
      "2860/4319 -> \u001b[94m|█████████████████████___________|\u001b[0m -> 65% completed... \r",
      "2925/4319 -> \u001b[94m|█████████████████████___________|\u001b[0m -> 67% completed... \r",
      "2990/4319 -> \u001b[94m|█████████████████████___________|\u001b[0m -> 68% completed... \r",
      "3055/4319 -> \u001b[94m|██████████████████████__________|\u001b[0m -> 70% completed... \r",
      "3120/4319 -> \u001b[94m|██████████████████████__________|\u001b[0m -> 71% completed... \r",
      "3185/4319 -> \u001b[94m|███████████████████████_________|\u001b[0m -> 73% completed... \r",
      "3250/4319 -> \u001b[94m|███████████████████████_________|\u001b[0m -> 74% completed... \r",
      "3315/4319 -> \u001b[94m|████████████████████████________|\u001b[0m -> 76% completed... \r",
      "3380/4319 -> \u001b[94m|████████████████████████________|\u001b[0m -> 77% completed... \r",
      "3445/4319 -> \u001b[94m|█████████████████████████_______|\u001b[0m -> 79% completed... \r",
      "3510/4319 -> \u001b[94m|█████████████████████████_______|\u001b[0m -> 80% completed... \r",
      "3575/4319 -> \u001b[94m|██████████████████████████______|\u001b[0m -> 82% completed... \r",
      "3640/4319 -> \u001b[94m|██████████████████████████______|\u001b[0m -> 83% completed... \r",
      "3705/4319 -> \u001b[94m|███████████████████████████_____|\u001b[0m -> 85% completed... \r",
      "3770/4319 -> \u001b[94m|███████████████████████████_____|\u001b[0m -> 86% completed... \r",
      "3835/4319 -> \u001b[94m|████████████████████████████____|\u001b[0m -> 88% completed... \r",
      "3900/4319 -> \u001b[94m|████████████████████████████____|\u001b[0m -> 89% completed... \r",
      "3965/4319 -> \u001b[94m|█████████████████████████████___|\u001b[0m -> 91% completed... \r",
      "4030/4319 -> \u001b[94m|█████████████████████████████___|\u001b[0m -> 92% completed... \r",
      "4095/4319 -> \u001b[94m|██████████████████████████████__|\u001b[0m -> 94% completed... \r",
      "4160/4319 -> \u001b[94m|██████████████████████████████__|\u001b[0m -> 95% completed... \r",
      "4225/4319 -> \u001b[94m|███████████████████████████████_|\u001b[0m -> 97% completed... \r",
      "4290/4319 -> \u001b[94m|███████████████████████████████_|\u001b[0m -> 98% completed... \r",
      "1943/4319 -> \u001b[94m|████████████████████████████████|\u001b[0m -> 100% completed... \r",
      "66/4464 -> \u001b[94m|________________________________|\u001b[0m -> 1% completed... \r",
      "132/4464 -> \u001b[94m|________________________________|\u001b[0m -> 2% completed... \r",
      "198/4464 -> \u001b[94m|█_______________________________|\u001b[0m -> 4% completed... \r",
      "264/4464 -> \u001b[94m|█_______________________________|\u001b[0m -> 5% completed... \r",
      "330/4464 -> \u001b[94m|██______________________________|\u001b[0m -> 7% completed... \r",
      "396/4464 -> \u001b[94m|██______________________________|\u001b[0m -> 8% completed... \r",
      "462/4464 -> \u001b[94m|███_____________________________|\u001b[0m -> 10% completed... \r",
      "528/4464 -> \u001b[94m|███_____________________________|\u001b[0m -> 11% completed... \r",
      "594/4464 -> \u001b[94m|████____________________________|\u001b[0m -> 13% completed... \r",
      "660/4464 -> \u001b[94m|████____________________________|\u001b[0m -> 14% completed... \r",
      "726/4464 -> \u001b[94m|█████___________________________|\u001b[0m -> 16% completed... \r",
      "792/4464 -> \u001b[94m|█████___________________________|\u001b[0m -> 17% completed... \r",
      "858/4464 -> \u001b[94m|██████__________________________|\u001b[0m -> 19% completed... \r",
      "924/4464 -> \u001b[94m|██████__________________________|\u001b[0m -> 20% completed... \r",
      "990/4464 -> \u001b[94m|███████_________________________|\u001b[0m -> 22% completed... \r",
      "1056/4464 -> \u001b[94m|███████_________________________|\u001b[0m -> 23% completed... \r",
      "1122/4464 -> \u001b[94m|████████________________________|\u001b[0m -> 25% completed... \r",
      "1188/4464 -> \u001b[94m|████████________________________|\u001b[0m -> 26% completed... \r",
      "1254/4464 -> \u001b[94m|████████________________________|\u001b[0m -> 27% completed... \r",
      "1320/4464 -> \u001b[94m|█████████_______________________|\u001b[0m -> 29% completed... \r",
      "1386/4464 -> \u001b[94m|█████████_______________________|\u001b[0m -> 30% completed... \r",
      "1452/4464 -> \u001b[94m|██████████______________________|\u001b[0m -> 32% completed... \r",
      "1518/4464 -> \u001b[94m|██████████______________________|\u001b[0m -> 33% completed... \r",
      "1584/4464 -> \u001b[94m|███████████_____________________|\u001b[0m -> 35% completed... \r",
      "1650/4464 -> \u001b[94m|███████████_____________________|\u001b[0m -> 36% completed... \r",
      "1716/4464 -> \u001b[94m|████████████____________________|\u001b[0m -> 38% completed... \r",
      "1782/4464 -> \u001b[94m|████████████____________________|\u001b[0m -> 39% completed... \r",
      "1848/4464 -> \u001b[94m|█████████████___________________|\u001b[0m -> 41% completed... \r",
      "1914/4464 -> \u001b[94m|█████████████___________________|\u001b[0m -> 42% completed... \r",
      "1980/4464 -> \u001b[94m|██████████████__________________|\u001b[0m -> 44% completed... \r",
      "2046/4464 -> \u001b[94m|██████████████__________________|\u001b[0m -> 45% completed... \r",
      "2112/4464 -> \u001b[94m|███████████████_________________|\u001b[0m -> 47% completed... \r",
      "2178/4464 -> \u001b[94m|███████████████_________________|\u001b[0m -> 48% completed... \r",
      "2244/4464 -> \u001b[94m|████████████████________________|\u001b[0m -> 50% completed... \r",
      "2310/4464 -> \u001b[94m|████████████████________________|\u001b[0m -> 51% completed... \r",
      "2376/4464 -> \u001b[94m|████████████████________________|\u001b[0m -> 52% completed... \r",
      "2442/4464 -> \u001b[94m|█████████████████_______________|\u001b[0m -> 54% completed... \r",
      "2508/4464 -> \u001b[94m|█████████████████_______________|\u001b[0m -> 55% completed... \r",
      "2574/4464 -> \u001b[94m|██████████████████______________|\u001b[0m -> 57% completed... \r"
     ]
    },
    {
     "name": "stdout",
     "output_type": "stream",
     "text": [
      "2640/4464 -> \u001b[94m|██████████████████______________|\u001b[0m -> 58% completed... \r",
      "2706/4464 -> \u001b[94m|███████████████████_____________|\u001b[0m -> 60% completed... \r",
      "2772/4464 -> \u001b[94m|███████████████████_____________|\u001b[0m -> 61% completed... \r",
      "2838/4464 -> \u001b[94m|████████████████████____________|\u001b[0m -> 63% completed... \r",
      "2904/4464 -> \u001b[94m|████████████████████____________|\u001b[0m -> 64% completed... \r",
      "2970/4464 -> \u001b[94m|█████████████████████___________|\u001b[0m -> 66% completed... \r",
      "3036/4464 -> \u001b[94m|█████████████████████___________|\u001b[0m -> 67% completed... \r",
      "3102/4464 -> \u001b[94m|██████████████████████__________|\u001b[0m -> 69% completed... \r",
      "3168/4464 -> \u001b[94m|██████████████████████__________|\u001b[0m -> 70% completed... \r",
      "3234/4464 -> \u001b[94m|███████████████████████_________|\u001b[0m -> 72% completed... \r",
      "3300/4464 -> \u001b[94m|███████████████████████_________|\u001b[0m -> 73% completed... \r",
      "3366/4464 -> \u001b[94m|████████████████████████________|\u001b[0m -> 75% completed... \r",
      "3432/4464 -> \u001b[94m|████████████████████████________|\u001b[0m -> 76% completed... \r",
      "3498/4464 -> \u001b[94m|████████████████████████________|\u001b[0m -> 77% completed... \r",
      "3564/4464 -> \u001b[94m|█████████████████████████_______|\u001b[0m -> 79% completed... \r",
      "3630/4464 -> \u001b[94m|█████████████████████████_______|\u001b[0m -> 80% completed... \r",
      "3696/4464 -> \u001b[94m|██████████████████████████______|\u001b[0m -> 82% completed... \r",
      "3762/4464 -> \u001b[94m|██████████████████████████______|\u001b[0m -> 83% completed... \r",
      "3828/4464 -> \u001b[94m|███████████████████████████_____|\u001b[0m -> 85% completed... \r",
      "3894/4464 -> \u001b[94m|███████████████████████████_____|\u001b[0m -> 86% completed... \r",
      "3960/4464 -> \u001b[94m|████████████████████████████____|\u001b[0m -> 88% completed... \r"
     ]
    },
    {
     "name": "stderr",
     "output_type": "stream",
     "text": [
      "\u001b[91m\u001b[1mUserWarning:\n",
      "\u001b[0m\u001b[93mTrying to add to a non CycleCount object instance after 22 May 2019, 02:00.\u001b[0m\n"
     ]
    },
    {
     "name": "stdout",
     "output_type": "stream",
     "text": [
      "3835/4320 -> \u001b[94m|████████████████████████████____|\u001b[0m -> 88% completed...  \r"
     ]
    },
    {
     "name": "stderr",
     "output_type": "stream",
     "text": [
      "\u001b[91m\u001b[1mUserWarning:\n",
      "\u001b[0m\u001b[93mTrying to add to a non CycleCount object instance after 23 June 2019, 02:50.\u001b[0m\n",
      "\u001b[91m\u001b[1mUserWarning:\n",
      "\u001b[0m\u001b[93mTrying to add to a non CycleCount object instance after 01 June 2019, 00:00.\u001b[0m\n"
     ]
    },
    {
     "name": "stdout",
     "output_type": "stream",
     "text": [
      "1254/4464 -> \u001b[94m|████████________________________|\u001b[0m -> 27% completed...  \r"
     ]
    },
    {
     "name": "stderr",
     "output_type": "stream",
     "text": [
      "\u001b[91m\u001b[1mUserWarning:\n",
      "\u001b[0m\u001b[93mTrying to add to a non CycleCount object instance after 07 July 2019, 10:00.\u001b[0m\n"
     ]
    },
    {
     "name": "stdout",
     "output_type": "stream",
     "text": [
      "1254/4464 -> \u001b[94m|████████________________________|\u001b[0m -> 27% completed...  \r"
     ]
    },
    {
     "name": "stderr",
     "output_type": "stream",
     "text": [
      "\u001b[91m\u001b[1mUserWarning:\n",
      "\u001b[0m\u001b[93mTrying to add to a non CycleCount object instance after 03 August 2019, 07:00.\u001b[0m\n"
     ]
    },
    {
     "name": "stdout",
     "output_type": "stream",
     "text": [
      "3564/4464 -> \u001b[94m|█████████████████████████_______|\u001b[0m -> 79% completed... \r"
     ]
    },
    {
     "name": "stderr",
     "output_type": "stream",
     "text": [
      "\u001b[91m\u001b[1mUserWarning:\n",
      "\u001b[0m\u001b[93mTrying to add to a non CycleCount object instance after 21 August 2019, 04:00.\u001b[0m\n",
      "\u001b[91m\u001b[1mUserWarning:\n",
      "\u001b[0m\u001b[93mTrying to add to a non CycleCount object instance after 22 August 2019, 02:00.\u001b[0m\n",
      "\u001b[91m\u001b[1mUserWarning:\n",
      "\u001b[0m\u001b[93mTrying to add to a non CycleCount object instance after 23 August 2019, 00:00.\u001b[0m\n"
     ]
    },
    {
     "name": "stdout",
     "output_type": "stream",
     "text": [
      "3640/4320 -> \u001b[94m|██████████████████████████______|\u001b[0m -> 83% completed...  \r"
     ]
    },
    {
     "name": "stderr",
     "output_type": "stream",
     "text": [
      "\u001b[91m\u001b[1mUserWarning:\n",
      "\u001b[0m\u001b[93mTrying to add to a non CycleCount object instance after 22 September 2019, 16:00.\u001b[0m\n"
     ]
    },
    {
     "name": "stdout",
     "output_type": "stream",
     "text": [
      "1254/4464 -> \u001b[94m|████████________________________|\u001b[0m -> 27% completed...  \r"
     ]
    },
    {
     "name": "stderr",
     "output_type": "stream",
     "text": [
      "\u001b[91m\u001b[1mUserWarning:\n",
      "\u001b[0m\u001b[93mTrying to add to a non CycleCount object instance after 02 October 2019, 09:00.\u001b[0m\n",
      "\u001b[91m\u001b[1mUserWarning:\n",
      "\u001b[0m\u001b[93mTrying to add to a non CycleCount object instance after 03 October 2019, 07:00.\u001b[0m\n"
     ]
    },
    {
     "name": "stdout",
     "output_type": "stream",
     "text": [
      "1755/4320 -> \u001b[94m|████████████____________________|\u001b[0m -> 40% completed...  \r"
     ]
    },
    {
     "name": "stderr",
     "output_type": "stream",
     "text": [
      "\u001b[91m\u001b[1mUserWarning:\n",
      "\u001b[0m\u001b[93mTrying to add to a non CycleCount object instance after 08 November 2019, 05:20.\u001b[0m\n",
      "\u001b[91m\u001b[1mUserWarning:\n",
      "\u001b[0m\u001b[93mTrying to add to a non CycleCount object instance after 01 November 2019, 00:00.\u001b[0m\n"
     ]
    },
    {
     "name": "stdout",
     "output_type": "stream",
     "text": [
      "1056/4176 -> \u001b[94m|████████████████████████████████|\u001b[0m -> 100% completed... \r"
     ]
    },
    {
     "name": "stderr",
     "output_type": "stream",
     "text": [
      "\u001b[91m\u001b[1mUserWarning:\n",
      "\u001b[0m\u001b[93mTrying to add to a non CycleCount object instance after 28 February 2020, 02:40.\u001b[0m\n"
     ]
    },
    {
     "name": "stdout",
     "output_type": "stream",
     "text": [
      "2600/4320 -> \u001b[94m|███████████████████_____________|\u001b[0m -> 59% completed...  \r"
     ]
    },
    {
     "name": "stderr",
     "output_type": "stream",
     "text": [
      "\u001b[91m\u001b[1mUserWarning:\n",
      "\u001b[0m\u001b[93mTrying to add to a non CycleCount object instance after 18 April 2020, 03:40.\u001b[0m\n",
      "\u001b[91m\u001b[1mUserWarning:\n",
      "\u001b[0m\u001b[93mTrying to add to a non CycleCount object instance after 21 April 2020, 18:20.\u001b[0m\n"
     ]
    },
    {
     "name": "stdout",
     "output_type": "stream",
     "text": [
      "2010/4320 -> \u001b[94m|████████████████████████████████|\u001b[0m -> 100% completed... \r"
     ]
    },
    {
     "name": "stderr",
     "output_type": "stream",
     "text": [
      "\u001b[91m\u001b[1mUserWarning:\n",
      "\u001b[0m\u001b[93mTrying to add to a non CycleCount object instance after 30 April 2020, 08:10.\u001b[0m\n",
      "\u001b[91m\u001b[1mUserWarning:\n",
      "\u001b[0m\u001b[93mTrying to add to a non CycleCount object instance after 01 April 2020, 00:00.\u001b[0m\n"
     ]
    },
    {
     "name": "stdout",
     "output_type": "stream",
     "text": [
      "4087/4531 -> \u001b[94m|████████████████████████████____|\u001b[0m -> 89% completed...  \r"
     ]
    },
    {
     "name": "stderr",
     "output_type": "stream",
     "text": [
      "\u001b[91m\u001b[1mUserWarning:\n",
      "\u001b[0m\u001b[93mTrying to add to a non CycleCount object instance after 21 May 2018, 22:30.\u001b[0m\n"
     ]
    },
    {
     "name": "stdout",
     "output_type": "stream",
     "text": [
      "4158/4464 -> \u001b[94m|█████████████████████████████___|\u001b[0m -> 92% completed...  \r"
     ]
    },
    {
     "name": "stderr",
     "output_type": "stream",
     "text": [
      "\u001b[91m\u001b[1mUserWarning:\n",
      "\u001b[0m\u001b[93mTrying to add to a non CycleCount object instance after 28 March 2018, 12:00.\u001b[0m\n"
     ]
    },
    {
     "name": "stdout",
     "output_type": "stream",
     "text": [
      "3250/4320 -> \u001b[94m|███████████████████████_________|\u001b[0m -> 74% completed...  \r"
     ]
    },
    {
     "name": "stderr",
     "output_type": "stream",
     "text": [
      "\u001b[91m\u001b[1mUserWarning:\n",
      "\u001b[0m\u001b[93mTrying to add to a non CycleCount object instance after 19 April 2018, 12:10.\u001b[0m\n"
     ]
    },
    {
     "name": "stdout",
     "output_type": "stream",
     "text": [
      "1206/4531 -> \u001b[94m|████████________________________|\u001b[0m -> 26% completed...  \r"
     ]
    },
    {
     "name": "stderr",
     "output_type": "stream",
     "text": [
      "\u001b[91m\u001b[1mUserWarning:\n",
      "\u001b[0m\u001b[93mTrying to add to a non CycleCount object instance after 03 May 2018, 19:00.\u001b[0m\n"
     ]
    },
    {
     "name": "stdout",
     "output_type": "stream",
     "text": [
      "1273/4531 -> \u001b[94m|████████________________________|\u001b[0m -> 27% completed... \r",
      "1340/4531 -> \u001b[94m|█████████_______________________|\u001b[0m -> 29% completed... \r",
      "1407/4531 -> \u001b[94m|█████████_______________________|\u001b[0m -> 30% completed... \r",
      "1474/4531 -> \u001b[94m|██████████______________________|\u001b[0m -> 32% completed... \r",
      "1541/4531 -> \u001b[94m|██████████______________________|\u001b[0m -> 33% completed... \r",
      "1608/4531 -> \u001b[94m|███████████_____________________|\u001b[0m -> 35% completed... \r",
      "1675/4531 -> \u001b[94m|███████████_____________________|\u001b[0m -> 36% completed... \r",
      "1742/4531 -> \u001b[94m|████████████____________________|\u001b[0m -> 38% completed... \r",
      "1809/4531 -> \u001b[94m|████████████____________________|\u001b[0m -> 39% completed... \r",
      "1876/4531 -> \u001b[94m|█████████████___________________|\u001b[0m -> 41% completed... \r",
      "1943/4531 -> \u001b[94m|█████████████___________________|\u001b[0m -> 42% completed... \r",
      "2010/4531 -> \u001b[94m|██████████████__________________|\u001b[0m -> 44% completed... \r",
      "2077/4531 -> \u001b[94m|██████████████__________________|\u001b[0m -> 45% completed... \r",
      "2144/4531 -> \u001b[94m|███████████████_________________|\u001b[0m -> 47% completed... \r",
      "2211/4531 -> \u001b[94m|███████████████_________________|\u001b[0m -> 48% completed... \r"
     ]
    },
    {
     "name": "stderr",
     "output_type": "stream",
     "text": [
      "\u001b[91m\u001b[1mUserWarning:\n",
      "\u001b[0m\u001b[93mTrying to add to a non CycleCount object instance after 14 May 2018, 00:40.\u001b[0m\n",
      "\u001b[91m\u001b[1mUserWarning:\n",
      "\u001b[0m\u001b[93mTrying to add to a non CycleCount object instance after 14 May 2018, 13:00.\u001b[0m\n",
      "\u001b[91m\u001b[1mUserWarning:\n",
      "\u001b[0m\u001b[93mTrying to add to a non CycleCount object instance after 19 May 2018, 03:30.\u001b[0m\n"
     ]
    },
    {
     "name": "stdout",
     "output_type": "stream",
     "text": [
      "4355/4531 -> \u001b[94m|██████████████████████████████__|\u001b[0m -> 95% completed... \r"
     ]
    },
    {
     "name": "stderr",
     "output_type": "stream",
     "text": [
      "\u001b[91m\u001b[1mUserWarning:\n",
      "\u001b[0m\u001b[93mTrying to add to a non CycleCount object instance after 25 May 2018, 15:50.\u001b[0m\n"
     ]
    },
    {
     "name": "stdout",
     "output_type": "stream",
     "text": [
      "1235/4320 -> \u001b[94m|█████████_______________________|\u001b[0m -> 28% completed...  \r"
     ]
    },
    {
     "name": "stderr",
     "output_type": "stream",
     "text": [
      "\u001b[91m\u001b[1mUserWarning:\n",
      "\u001b[0m\u001b[93mTrying to add to a non CycleCount object instance after 07 June 2018, 18:30.\u001b[0m\n",
      "\u001b[91m\u001b[1mUserWarning:\n",
      "\u001b[0m\u001b[93mTrying to add to a non CycleCount object instance after 12 June 2018, 17:40.\u001b[0m\n"
     ]
    },
    {
     "name": "stdout",
     "output_type": "stream",
     "text": [
      "4158/4464 -> \u001b[94m|█████████████████████████████___|\u001b[0m -> 92% completed...  \r"
     ]
    },
    {
     "name": "stderr",
     "output_type": "stream",
     "text": [
      "\u001b[91m\u001b[1mUserWarning:\n",
      "\u001b[0m\u001b[93mTrying to add to a non CycleCount object instance after 27 July 2018, 03:00.\u001b[0m\n"
     ]
    },
    {
     "name": "stdout",
     "output_type": "stream",
     "text": [
      "1320/4441 -> \u001b[94m|█████████_______________________|\u001b[0m -> 29% completed...  \r"
     ]
    },
    {
     "name": "stderr",
     "output_type": "stream",
     "text": [
      "\u001b[91m\u001b[1mUserWarning:\n",
      "\u001b[0m\u001b[93mTrying to add to a non CycleCount object instance after 03 August 2018, 21:50.\u001b[0m\n"
     ]
    },
    {
     "name": "stdout",
     "output_type": "stream",
     "text": [
      "1235/4320 -> \u001b[94m|█████████_______________________|\u001b[0m -> 28% completed...  \r"
     ]
    },
    {
     "name": "stderr",
     "output_type": "stream",
     "text": [
      "\u001b[91m\u001b[1mUserWarning:\n",
      "\u001b[0m\u001b[93mTrying to add to a non CycleCount object instance after 05 September 2018, 12:20.\u001b[0m\n"
     ]
    },
    {
     "name": "stdout",
     "output_type": "stream",
     "text": [
      "1235/4320 -> \u001b[94m|█████████_______________________|\u001b[0m -> 28% completed...  \r"
     ]
    },
    {
     "name": "stderr",
     "output_type": "stream",
     "text": [
      "\u001b[91m\u001b[1mUserWarning:\n",
      "\u001b[0m\u001b[93mTrying to add to a non CycleCount object instance after 06 November 2018, 10:00.\u001b[0m\n",
      "\u001b[91m\u001b[1mUserWarning:\n",
      "\u001b[0m\u001b[93mTrying to add to a non CycleCount object instance after 08 November 2018, 05:20.\u001b[0m\n"
     ]
    },
    {
     "name": "stdout",
     "output_type": "stream",
     "text": [
      "1320/4464 -> \u001b[94m|█████████_______________________|\u001b[0m -> 29% completed...  \r"
     ]
    },
    {
     "name": "stderr",
     "output_type": "stream",
     "text": [
      "\u001b[91m\u001b[1mUserWarning:\n",
      "\u001b[0m\u001b[93mTrying to add to a non CycleCount object instance after 02 January 2019, 09:00.\u001b[0m\n",
      "\u001b[91m\u001b[1mUserWarning:\n",
      "\u001b[0m\u001b[93mTrying to add to a non CycleCount object instance after 03 January 2019, 07:00.\u001b[0m\n"
     ]
    },
    {
     "name": "stdout",
     "output_type": "stream",
     "text": [
      "1449/4032 -> \u001b[94m|███████████_____________________|\u001b[0m -> 35% completed...  \r"
     ]
    },
    {
     "name": "stderr",
     "output_type": "stream",
     "text": [
      "\u001b[91m\u001b[1mUserWarning:\n",
      "\u001b[0m\u001b[93mTrying to add to a non CycleCount object instance after 02 February 2019, 07:30.\u001b[0m\n",
      "\u001b[91m\u001b[1mUserWarning:\n",
      "\u001b[0m\u001b[93mTrying to add to a non CycleCount object instance after 02 February 2019, 18:00.\u001b[0m\n"
     ]
    },
    {
     "name": "stdout",
     "output_type": "stream",
     "text": [
      "3828/4464 -> \u001b[94m|███████████████████████████_____|\u001b[0m -> 85% completed...  \r"
     ]
    },
    {
     "name": "stderr",
     "output_type": "stream",
     "text": [
      "\u001b[91m\u001b[1mUserWarning:\n",
      "\u001b[0m\u001b[93mTrying to add to a non CycleCount object instance after 18 May 2019, 21:00.\u001b[0m\n"
     ]
    },
    {
     "name": "stdout",
     "output_type": "stream",
     "text": [
      "3835/4320 -> \u001b[94m|████████████████████████████____|\u001b[0m -> 88% completed...  \r"
     ]
    },
    {
     "name": "stderr",
     "output_type": "stream",
     "text": [
      "\u001b[91m\u001b[1mUserWarning:\n",
      "\u001b[0m\u001b[93mTrying to add to a non CycleCount object instance after 25 June 2019, 09:00.\u001b[0m\n"
     ]
    },
    {
     "name": "stdout",
     "output_type": "stream",
     "text": [
      "1254/4464 -> \u001b[94m|████████________________________|\u001b[0m -> 27% completed...  \r"
     ]
    },
    {
     "name": "stderr",
     "output_type": "stream",
     "text": [
      "\u001b[91m\u001b[1mUserWarning:\n",
      "\u001b[0m\u001b[93mTrying to add to a non CycleCount object instance after 02 August 2019, 20:00.\u001b[0m\n",
      "\u001b[91m\u001b[1mUserWarning:\n",
      "\u001b[0m\u001b[93mTrying to add to a non CycleCount object instance after 03 August 2019, 09:10.\u001b[0m\n"
     ]
    },
    {
     "name": "stdout",
     "output_type": "stream",
     "text": [
      "1235/4320 -> \u001b[94m|█████████_______________________|\u001b[0m -> 28% completed...  \r"
     ]
    },
    {
     "name": "stderr",
     "output_type": "stream",
     "text": [
      "\u001b[91m\u001b[1mUserWarning:\n",
      "\u001b[0m\u001b[93mTrying to add to a non CycleCount object instance after 07 September 2019, 18:30.\u001b[0m\n"
     ]
    },
    {
     "name": "stdout",
     "output_type": "stream",
     "text": [
      "1300/4320 -> \u001b[94m|█████████_______________________|\u001b[0m -> 29% completed... \r",
      "1365/4320 -> \u001b[94m|██████████______________________|\u001b[0m -> 31% completed... \r",
      "1430/4320 -> \u001b[94m|██████████______________________|\u001b[0m -> 32% completed... \r",
      "1495/4320 -> \u001b[94m|██████████______________________|\u001b[0m -> 34% completed... \r",
      "1560/4320 -> \u001b[94m|███████████_____________________|\u001b[0m -> 35% completed... \r",
      "1625/4320 -> \u001b[94m|███████████_____________________|\u001b[0m -> 37% completed... \r",
      "1690/4320 -> \u001b[94m|████████████____________________|\u001b[0m -> 38% completed... \r",
      "1755/4320 -> \u001b[94m|████████████____________________|\u001b[0m -> 40% completed... \r",
      "1820/4320 -> \u001b[94m|█████████████___________________|\u001b[0m -> 41% completed... \r",
      "1885/4320 -> \u001b[94m|█████████████___________________|\u001b[0m -> 43% completed... \r",
      "1950/4320 -> \u001b[94m|██████████████__________________|\u001b[0m -> 44% completed... \r",
      "2015/4320 -> \u001b[94m|██████████████__________________|\u001b[0m -> 46% completed... \r",
      "2080/4320 -> \u001b[94m|███████████████_________________|\u001b[0m -> 47% completed... \r",
      "2145/4320 -> \u001b[94m|███████████████_________________|\u001b[0m -> 49% completed... \r",
      "2210/4320 -> \u001b[94m|████████████████________________|\u001b[0m -> 50% completed... \r",
      "2275/4320 -> \u001b[94m|████████████████________________|\u001b[0m -> 52% completed... \r",
      "2340/4320 -> \u001b[94m|█████████████████_______________|\u001b[0m -> 53% completed... \r",
      "2405/4320 -> \u001b[94m|█████████████████_______________|\u001b[0m -> 55% completed... \r"
     ]
    },
    {
     "name": "stderr",
     "output_type": "stream",
     "text": [
      "\u001b[91m\u001b[1mUserWarning:\n",
      "\u001b[0m\u001b[93mTrying to add to a non CycleCount object instance after 17 September 2019, 06:00.\u001b[0m\n"
     ]
    },
    {
     "name": "stdout",
     "output_type": "stream",
     "text": [
      "2856/4464 -> \u001b[94m|████████████████████████████████|\u001b[0m -> 100% completed... \r"
     ]
    },
    {
     "name": "stderr",
     "output_type": "stream",
     "text": [
      "\u001b[91m\u001b[1mUserWarning:\n",
      "\u001b[0m\u001b[93mTrying to add to a non CycleCount object instance after 28 October 2019, 01:00.\u001b[0m\n"
     ]
    },
    {
     "name": "stdout",
     "output_type": "stream",
     "text": [
      "65/4320 -> \u001b[94m|________________________________|\u001b[0m -> 1% completed... \r",
      "130/4320 -> \u001b[94m|________________________________|\u001b[0m -> 2% completed... \r",
      "195/4320 -> \u001b[94m|█_______________________________|\u001b[0m -> 4% completed... \r",
      "260/4320 -> \u001b[94m|█_______________________________|\u001b[0m -> 5% completed... \r",
      "325/4320 -> \u001b[94m|██______________________________|\u001b[0m -> 7% completed... \r",
      "390/4320 -> \u001b[94m|██______________________________|\u001b[0m -> 8% completed... \r",
      "455/4320 -> \u001b[94m|███_____________________________|\u001b[0m -> 10% completed... \r",
      "520/4320 -> \u001b[94m|███_____________________________|\u001b[0m -> 11% completed... \r",
      "585/4320 -> \u001b[94m|████____________________________|\u001b[0m -> 13% completed... \r",
      "650/4320 -> \u001b[94m|████____________________________|\u001b[0m -> 14% completed... \r",
      "715/4320 -> \u001b[94m|█████___________________________|\u001b[0m -> 16% completed... \r",
      "780/4320 -> \u001b[94m|█████___________________________|\u001b[0m -> 17% completed... \r",
      "845/4320 -> \u001b[94m|██████__________________________|\u001b[0m -> 19% completed... \r",
      "910/4320 -> \u001b[94m|██████__________________________|\u001b[0m -> 20% completed... \r",
      "975/4320 -> \u001b[94m|███████_________________________|\u001b[0m -> 22% completed... \r",
      "1040/4320 -> \u001b[94m|███████_________________________|\u001b[0m -> 23% completed... \r",
      "1105/4320 -> \u001b[94m|████████________________________|\u001b[0m -> 25% completed... \r",
      "1170/4320 -> \u001b[94m|████████________________________|\u001b[0m -> 26% completed... \r",
      "1235/4320 -> \u001b[94m|█████████_______________________|\u001b[0m -> 28% completed... \r",
      "1300/4320 -> \u001b[94m|█████████_______________________|\u001b[0m -> 29% completed... \r",
      "1365/4320 -> \u001b[94m|██████████______________________|\u001b[0m -> 31% completed... \r",
      "1430/4320 -> \u001b[94m|██████████______________________|\u001b[0m -> 32% completed... \r",
      "1495/4320 -> \u001b[94m|██████████______________________|\u001b[0m -> 34% completed... \r",
      "1560/4320 -> \u001b[94m|███████████_____________________|\u001b[0m -> 35% completed... \r",
      "1625/4320 -> \u001b[94m|███████████_____________________|\u001b[0m -> 37% completed... \r",
      "1690/4320 -> \u001b[94m|████████████____________________|\u001b[0m -> 38% completed... \r",
      "1755/4320 -> \u001b[94m|████████████____________________|\u001b[0m -> 40% completed... \r"
     ]
    },
    {
     "name": "stderr",
     "output_type": "stream",
     "text": [
      "\u001b[91m\u001b[1mUserWarning:\n",
      "\u001b[0m\u001b[93mTrying to add to a non CycleCount object instance after 05 November 2019, 23:10.\u001b[0m\n"
     ]
    },
    {
     "name": "stdout",
     "output_type": "stream",
     "text": [
      "3762/4464 -> \u001b[94m|██████████████████████████______|\u001b[0m -> 83% completed...  \r"
     ]
    },
    {
     "name": "stderr",
     "output_type": "stream",
     "text": [
      "\u001b[91m\u001b[1mUserWarning:\n",
      "\u001b[0m\u001b[93mTrying to add to a non CycleCount object instance after 25 January 2020, 07:00.\u001b[0m\n"
     ]
    },
    {
     "name": "stdout",
     "output_type": "stream",
     "text": [
      "3705/4320 -> \u001b[94m|███████████████████████████_____|\u001b[0m -> 85% completed...  \r"
     ]
    },
    {
     "name": "stderr",
     "output_type": "stream",
     "text": [
      "\u001b[91m\u001b[1mUserWarning:\n",
      "\u001b[0m\u001b[93mTrying to add to a non CycleCount object instance after 20 April 2020, 20:40.\u001b[0m\n"
     ]
    },
    {
     "name": "stdout",
     "output_type": "stream",
     "text": [
      "1386/4464 -> \u001b[94m|█████████_______________________|\u001b[0m -> 30% completed...  \r"
     ]
    },
    {
     "name": "stderr",
     "output_type": "stream",
     "text": [
      "\u001b[91m\u001b[1mUserWarning:\n",
      "\u001b[0m\u001b[93mTrying to add to a non CycleCount object instance after 10 July 2020, 04:00.\u001b[0m\n"
     ]
    },
    {
     "name": "stdout",
     "output_type": "stream",
     "text": [
      "3630/4464 -> \u001b[94m|█████████████████████████_______|\u001b[0m -> 80% completed... \r"
     ]
    },
    {
     "name": "stderr",
     "output_type": "stream",
     "text": [
      "\u001b[91m\u001b[1mUserWarning:\n",
      "\u001b[0m\u001b[93mTrying to add to a non CycleCount object instance after 19 July 2020, 08:00.\u001b[0m\n",
      "\u001b[91m\u001b[1mUserWarning:\n",
      "\u001b[0m\u001b[93mTrying to add to a non CycleCount object instance after 21 July 2020, 04:00.\u001b[0m\n",
      "\u001b[91m\u001b[1mUserWarning:\n",
      "\u001b[0m\u001b[93mTrying to add to a non CycleCount object instance after 21 July 2020, 15:00.\u001b[0m\n"
     ]
    },
    {
     "name": "stdout",
     "output_type": "stream",
     "text": [
      "1254/4464 -> \u001b[94m|████████________________________|\u001b[0m -> 27% completed...  \r"
     ]
    },
    {
     "name": "stderr",
     "output_type": "stream",
     "text": [
      "\u001b[91m\u001b[1mUserWarning:\n",
      "\u001b[0m\u001b[93mTrying to add to a non CycleCount object instance after 03 August 2020, 18:00.\u001b[0m\n"
     ]
    },
    {
     "name": "stdout",
     "output_type": "stream",
     "text": [
      "1300/4320 -> \u001b[94m|█████████_______________________|\u001b[0m -> 29% completed...  \r"
     ]
    },
    {
     "name": "stderr",
     "output_type": "stream",
     "text": [
      "\u001b[91m\u001b[1mUserWarning:\n",
      "\u001b[0m\u001b[93mTrying to add to a non CycleCount object instance after 01 September 2020, 21:40.\u001b[0m\n"
     ]
    },
    {
     "name": "stdout",
     "output_type": "stream",
     "text": [
      "2010/4320 -> \u001b[94m|████████████████████████████████|\u001b[0m -> 100% completed... \r"
     ]
    },
    {
     "name": "stderr",
     "output_type": "stream",
     "text": [
      "\u001b[91m\u001b[1mUserWarning:\n",
      "\u001b[0m\u001b[93mTrying to add to a non CycleCount object instance after 26 September 2020, 06:40.\u001b[0m\n",
      "\u001b[91m\u001b[1mUserWarning:\n",
      "\u001b[0m\u001b[93mTrying to add to a non CycleCount object instance after 27 September 2020, 04:20.\u001b[0m\n"
     ]
    },
    {
     "name": "stdout",
     "output_type": "stream",
     "text": [
      "2574/4464 -> \u001b[94m|██████████████████______________|\u001b[0m -> 57% completed... \r"
     ]
    },
    {
     "name": "stderr",
     "output_type": "stream",
     "text": [
      "\u001b[91m\u001b[1mUserWarning:\n",
      "\u001b[0m\u001b[93mTrying to add to a non CycleCount object instance after 11 October 2020, 13:00.\u001b[0m\n"
     ]
    },
    {
     "name": "stdout",
     "output_type": "stream",
     "text": [
      "1235/4277 -> \u001b[94m|█████████_______________________|\u001b[0m -> 28% completed...  \r"
     ]
    },
    {
     "name": "stderr",
     "output_type": "stream",
     "text": [
      "\u001b[91m\u001b[1mUserWarning:\n",
      "\u001b[0m\u001b[93mTrying to add to a non CycleCount object instance after 01 December 2020, 00:00.\u001b[0m\n"
     ]
    },
    {
     "name": "stdout",
     "output_type": "stream",
     "text": [
      "\u001b[36m4. Retrieving LFFD on aggregated \u001b[1mdf\u001b[22m.\u001b[0m0m -> 100% completed... \n",
      "Elapsed time for \u001b[36m\u001b[1m'M'\u001b[0m aggregation is 250.0, s.\n",
      "\n",
      "\u001b[36m1. Running checks on \u001b[1mdf\u001b[22m.\u001b[0m\n",
      "\u001b[36m2. Building the aggregation \u001b[1mdict\u001b[22m.\n",
      "3. Aggregate \u001b[1mdf\u001b[22m by \u001b[1m'Q'\u001b[22m.\u001b[0m\n",
      "3762/13171 -> \u001b[94m|█████████_______________________|\u001b[0m -> 28% completed...  \r"
     ]
    },
    {
     "name": "stderr",
     "output_type": "stream",
     "text": [
      "\u001b[91m\u001b[1mUserWarning:\n",
      "\u001b[0m\u001b[93mTrying to add to a non CycleCount object instance after 20 April 2018, 19:00.\u001b[0m\n"
     ]
    },
    {
     "name": "stdout",
     "output_type": "stream",
     "text": [
      "5814/13171 -> \u001b[94m|██████████████__________________|\u001b[0m -> 43% completed... \r"
     ]
    },
    {
     "name": "stderr",
     "output_type": "stream",
     "text": [
      "\u001b[91m\u001b[1mUserWarning:\n",
      "\u001b[0m\u001b[93mTrying to add to a non CycleCount object instance after 04 May 2018, 06:00.\u001b[0m\n"
     ]
    },
    {
     "name": "stdout",
     "output_type": "stream",
     "text": [
      "8094/13171 -> \u001b[94m|███████████████████_____________|\u001b[0m -> 61% completed... \r"
     ]
    },
    {
     "name": "stderr",
     "output_type": "stream",
     "text": [
      "\u001b[91m\u001b[1mUserWarning:\n",
      "\u001b[0m\u001b[93mTrying to add to a non CycleCount object instance after 21 May 2018, 16:00.\u001b[0m\n",
      "\u001b[91m\u001b[1mUserWarning:\n",
      "\u001b[0m\u001b[93mTrying to add to a non CycleCount object instance after 01 April 2018, 00:00.\u001b[0m\n",
      "\u001b[91m\u001b[1mUserWarning:\n",
      "\u001b[0m\u001b[93mNo residuals_sequence found on \u001b[31m25 May 2018, 13:10\u001b[93m.\u001b[0m\n",
      "\u001b[91m\u001b[1mUserWarning:\n",
      "\u001b[0m\u001b[93mTrying to add to a non CycleCount object instance after 25 May 2018, 04:00.\u001b[0m\n",
      "\u001b[91m\u001b[1mUserWarning:\n",
      "\u001b[0m\u001b[93mNo residuals_sequence found on \u001b[31m25 May 2018, 13:40\u001b[93m.\u001b[0m\n"
     ]
    },
    {
     "name": "stdout",
     "output_type": "stream",
     "text": [
      "5060/13225 -> \u001b[94m|████████████____________________|\u001b[0m -> 38% completed...  \r"
     ]
    },
    {
     "name": "stderr",
     "output_type": "stream",
     "text": [
      "\u001b[91m\u001b[1mUserWarning:\n",
      "\u001b[0m\u001b[93mTrying to add to a non CycleCount object instance after 01 August 2018, 03:30.\u001b[0m\n",
      "\u001b[91m\u001b[1mUserWarning:\n",
      "\u001b[0m\u001b[93mTrying to add to a non CycleCount object instance after 01 August 2018, 22:40.\u001b[0m\n"
     ]
    },
    {
     "name": "stdout",
     "output_type": "stream",
     "text": [
      "2668/13248 -> \u001b[94m|████████████████████████████████|\u001b[0m -> 100% completed...  \r"
     ]
    },
    {
     "name": "stderr",
     "output_type": "stream",
     "text": [
      "\u001b[91m\u001b[1mUserWarning:\n",
      "\u001b[0m\u001b[93mTrying to add to a non CycleCount object instance after 29 December 2018, 10:40.\u001b[0m\n"
     ]
    },
    {
     "name": "stdout",
     "output_type": "stream",
     "text": [
      "4520/12960 -> \u001b[94m|███████████_____________________|\u001b[0m -> 34% completed... \r"
     ]
    },
    {
     "name": "stderr",
     "output_type": "stream",
     "text": [
      "\u001b[91m\u001b[1mUserWarning:\n",
      "\u001b[0m\u001b[93mTrying to add to a non CycleCount object instance after 27 January 2019, 16:20.\u001b[0m\n"
     ]
    },
    {
     "name": "stdout",
     "output_type": "stream",
     "text": [
      "6840/13103 -> \u001b[94m|████████████████________________|\u001b[0m -> 52% completed...  \r"
     ]
    },
    {
     "name": "stderr",
     "output_type": "stream",
     "text": [
      "\u001b[91m\u001b[1mUserWarning:\n",
      "\u001b[0m\u001b[93mTrying to add to a non CycleCount object instance after 20 February 2019, 05:20.\u001b[0m\n",
      "\u001b[91m\u001b[1mUserWarning:\n",
      "\u001b[0m\u001b[93mTrying to add to a non CycleCount object instance after 01 January 2019, 00:00.\u001b[0m\n"
     ]
    },
    {
     "name": "stdout",
     "output_type": "stream",
     "text": [
      "6954/13103 -> \u001b[94m|████████████████________________|\u001b[0m -> 53% completed... \r",
      "7068/13103 -> \u001b[94m|█████████████████_______________|\u001b[0m -> 53% completed... \r",
      "7182/13103 -> \u001b[94m|█████████████████_______________|\u001b[0m -> 54% completed... \r",
      "7296/13103 -> \u001b[94m|█████████████████_______________|\u001b[0m -> 55% completed... \r",
      "7410/13103 -> \u001b[94m|██████████████████______________|\u001b[0m -> 56% completed... \r",
      "7524/13103 -> \u001b[94m|██████████████████______________|\u001b[0m -> 57% completed... \r",
      "7638/13103 -> \u001b[94m|██████████████████______________|\u001b[0m -> 58% completed... \r",
      "7752/13103 -> \u001b[94m|██████████████████______________|\u001b[0m -> 59% completed... \r",
      "7866/13103 -> \u001b[94m|███████████████████_____________|\u001b[0m -> 60% completed... \r",
      "7980/13103 -> \u001b[94m|███████████████████_____________|\u001b[0m -> 60% completed... \r",
      "8094/13103 -> \u001b[94m|███████████████████_____________|\u001b[0m -> 61% completed... \r"
     ]
    },
    {
     "name": "stderr",
     "output_type": "stream",
     "text": [
      "\u001b[91m\u001b[1mUserWarning:\n",
      "\u001b[0m\u001b[93mTrying to add to a non CycleCount object instance after 21 May 2019, 16:10.\u001b[0m\n"
     ]
    },
    {
     "name": "stdout",
     "output_type": "stream",
     "text": [
      "12768/13103 -> \u001b[94m|███████████████████████████████_|\u001b[0m -> 97% completed... \r"
     ]
    },
    {
     "name": "stderr",
     "output_type": "stream",
     "text": [
      "\u001b[91m\u001b[1mUserWarning:\n",
      "\u001b[0m\u001b[93mTrying to add to a non CycleCount object instance after 23 June 2019, 03:10.\u001b[0m\n",
      "\u001b[91m\u001b[1mUserWarning:\n",
      "\u001b[0m\u001b[93mTrying to add to a non CycleCount object instance after 18 May 2019, 00:10.\u001b[0m\n"
     ]
    },
    {
     "name": "stdout",
     "output_type": "stream",
     "text": [
      "1265/13248 -> \u001b[94m|███_____________________________|\u001b[0m -> 9% completed... .. \r"
     ]
    },
    {
     "name": "stderr",
     "output_type": "stream",
     "text": [
      "\u001b[91m\u001b[1mUserWarning:\n",
      "\u001b[0m\u001b[93mTrying to add to a non CycleCount object instance after 07 July 2019, 09:20.\u001b[0m\n"
     ]
    },
    {
     "name": "stdout",
     "output_type": "stream",
     "text": [
      "5750/13248 -> \u001b[94m|█████████████___________________|\u001b[0m -> 43% completed... \r"
     ]
    },
    {
     "name": "stderr",
     "output_type": "stream",
     "text": [
      "\u001b[91m\u001b[1mUserWarning:\n",
      "\u001b[0m\u001b[93mTrying to add to a non CycleCount object instance after 02 August 2019, 17:50.\u001b[0m\n"
     ]
    },
    {
     "name": "stdout",
     "output_type": "stream",
     "text": [
      "7705/13248 -> \u001b[94m|██████████████████______________|\u001b[0m -> 57% completed... \r"
     ]
    },
    {
     "name": "stderr",
     "output_type": "stream",
     "text": [
      "\u001b[91m\u001b[1mUserWarning:\n",
      "\u001b[0m\u001b[93mTrying to add to a non CycleCount object instance after 21 August 2019, 02:40.\u001b[0m\n",
      "\u001b[91m\u001b[1mUserWarning:\n",
      "\u001b[0m\u001b[93mTrying to add to a non CycleCount object instance after 21 August 2019, 21:50.\u001b[0m\n",
      "\u001b[91m\u001b[1mUserWarning:\n",
      "\u001b[0m\u001b[93mTrying to add to a non CycleCount object instance after 22 August 2019, 17:00.\u001b[0m\n"
     ]
    },
    {
     "name": "stdout",
     "output_type": "stream",
     "text": [
      "12765/13248 -> \u001b[94m|██████████████████████████████__|\u001b[0m -> 95% completed... \r"
     ]
    },
    {
     "name": "stderr",
     "output_type": "stream",
     "text": [
      "\u001b[91m\u001b[1mUserWarning:\n",
      "\u001b[0m\u001b[93mTrying to add to a non CycleCount object instance after 22 September 2019, 01:20.\u001b[0m\n"
     ]
    },
    {
     "name": "stdout",
     "output_type": "stream",
     "text": [
      "1150/13248 -> \u001b[94m|██______________________________|\u001b[0m -> 8% completed... . \r"
     ]
    },
    {
     "name": "stderr",
     "output_type": "stream",
     "text": [
      "\u001b[91m\u001b[1mUserWarning:\n",
      "\u001b[0m\u001b[93mTrying to add to a non CycleCount object instance after 01 October 2019, 19:10.\u001b[0m\n",
      "\u001b[91m\u001b[1mUserWarning:\n",
      "\u001b[0m\u001b[93mTrying to add to a non CycleCount object instance after 02 October 2019, 14:20.\u001b[0m\n"
     ]
    },
    {
     "name": "stdout",
     "output_type": "stream",
     "text": [
      "6785/13248 -> \u001b[94m|████████████████________________|\u001b[0m -> 50% completed... \r"
     ]
    },
    {
     "name": "stderr",
     "output_type": "stream",
     "text": [
      "\u001b[91m\u001b[1mUserWarning:\n",
      "\u001b[0m\u001b[93mTrying to add to a non CycleCount object instance after 08 November 2019, 08:00.\u001b[0m\n",
      "\u001b[91m\u001b[1mUserWarning:\n",
      "\u001b[0m\u001b[93mTrying to add to a non CycleCount object instance after 01 October 2019, 00:00.\u001b[0m\n"
     ]
    },
    {
     "name": "stdout",
     "output_type": "stream",
     "text": [
      "8550/13104 -> \u001b[94m|████████████████████____________|\u001b[0m -> 65% completed...  \r"
     ]
    },
    {
     "name": "stderr",
     "output_type": "stream",
     "text": [
      "\u001b[91m\u001b[1mUserWarning:\n",
      "\u001b[0m\u001b[93mTrying to add to a non CycleCount object instance after 27 February 2020, 19:00.\u001b[0m\n"
     ]
    },
    {
     "name": "stdout",
     "output_type": "stream",
     "text": [
      "2622/13104 -> \u001b[94m|██████__________________________|\u001b[0m -> 20% completed... . \r"
     ]
    },
    {
     "name": "stderr",
     "output_type": "stream",
     "text": [
      "\u001b[91m\u001b[1mUserWarning:\n",
      "\u001b[0m\u001b[93mTrying to add to a non CycleCount object instance after 18 April 2020, 10:00.\u001b[0m\n",
      "\u001b[91m\u001b[1mUserWarning:\n",
      "\u001b[0m\u001b[93mTrying to add to a non CycleCount object instance after 21 April 2020, 14:00.\u001b[0m\n"
     ]
    },
    {
     "name": "stdout",
     "output_type": "stream",
     "text": [
      "10716/13104 -> \u001b[94m|██████████████████████████______|\u001b[0m -> 81% completed... \r"
     ]
    },
    {
     "name": "stderr",
     "output_type": "stream",
     "text": [
      "\u001b[91m\u001b[1mUserWarning:\n",
      "\u001b[0m\u001b[93mTrying to add to a non CycleCount object instance after 30 April 2020, 07:00.\u001b[0m\n",
      "\u001b[91m\u001b[1mUserWarning:\n",
      "\u001b[0m\u001b[93mTrying to add to a non CycleCount object instance after 01 April 2020, 00:00.\u001b[0m\n"
     ]
    },
    {
     "name": "stdout",
     "output_type": "stream",
     "text": [
      "8970/12960 -> \u001b[94m|████████████████████████████████|\u001b[0m -> 100% completed...  \r"
     ]
    },
    {
     "name": "stderr",
     "output_type": "stream",
     "text": [
      "\u001b[91m\u001b[1mUserWarning:\n",
      "\u001b[0m\u001b[93mTrying to add to a non CycleCount object instance after 28 March 2018, 07:40.\u001b[0m\n"
     ]
    },
    {
     "name": "stdout",
     "output_type": "stream",
     "text": [
      "3534/13171 -> \u001b[94m|████████________________________|\u001b[0m -> 26% completed... \r"
     ]
    },
    {
     "name": "stderr",
     "output_type": "stream",
     "text": [
      "\u001b[91m\u001b[1mUserWarning:\n",
      "\u001b[0m\u001b[93mTrying to add to a non CycleCount object instance after 19 April 2018, 05:00.\u001b[0m\n"
     ]
    },
    {
     "name": "stdout",
     "output_type": "stream",
     "text": [
      "6498/13171 -> \u001b[94m|███████████████_________________|\u001b[0m -> 49% completed... \r"
     ]
    },
    {
     "name": "stderr",
     "output_type": "stream",
     "text": [
      "\u001b[91m\u001b[1mUserWarning:\n",
      "\u001b[0m\u001b[93mTrying to add to a non CycleCount object instance after 13 May 2018, 18:00.\u001b[0m\n",
      "\u001b[91m\u001b[1mUserWarning:\n",
      "\u001b[0m\u001b[93mTrying to add to a non CycleCount object instance after 14 May 2018, 13:00.\u001b[0m\n",
      "\u001b[91m\u001b[1mUserWarning:\n",
      "\u001b[0m\u001b[93mTrying to add to a non CycleCount object instance after 18 May 2018, 12:00.\u001b[0m\n"
     ]
    },
    {
     "name": "stdout",
     "output_type": "stream",
     "text": [
      "8664/13171 -> \u001b[94m|████████████████████____________|\u001b[0m -> 65% completed... \r"
     ]
    },
    {
     "name": "stderr",
     "output_type": "stream",
     "text": [
      "\u001b[91m\u001b[1mUserWarning:\n",
      "\u001b[0m\u001b[93mTrying to add to a non CycleCount object instance after 25 May 2018, 22:50.\u001b[0m\n"
     ]
    },
    {
     "name": "stdout",
     "output_type": "stream",
     "text": [
      "10260/13171 -> \u001b[94m|████████████████████████________|\u001b[0m -> 77% completed... \r"
     ]
    },
    {
     "name": "stderr",
     "output_type": "stream",
     "text": [
      "\u001b[91m\u001b[1mUserWarning:\n",
      "\u001b[0m\u001b[93mTrying to add to a non CycleCount object instance after 07 June 2018, 14:50.\u001b[0m\n",
      "\u001b[91m\u001b[1mUserWarning:\n",
      "\u001b[0m\u001b[93mTrying to add to a non CycleCount object instance after 12 June 2018, 08:50.\u001b[0m\n"
     ]
    },
    {
     "name": "stdout",
     "output_type": "stream",
     "text": [
      "4830/13225 -> \u001b[94m|███████████_____________________|\u001b[0m -> 36% completed...  \r"
     ]
    },
    {
     "name": "stderr",
     "output_type": "stream",
     "text": [
      "\u001b[91m\u001b[1mUserWarning:\n",
      "\u001b[0m\u001b[93mTrying to add to a non CycleCount object instance after 27 July 2018, 08:30.\u001b[0m\n"
     ]
    },
    {
     "name": "stdout",
     "output_type": "stream",
     "text": [
      "4945/13225 -> \u001b[94m|███████████_____________________|\u001b[0m -> 37% completed... \r",
      "5060/13225 -> \u001b[94m|████████████____________________|\u001b[0m -> 38% completed... \r",
      "5175/13225 -> \u001b[94m|████████████____________________|\u001b[0m -> 39% completed... \r",
      "5290/13225 -> \u001b[94m|████████████____________________|\u001b[0m -> 40% completed... \r",
      "5405/13225 -> \u001b[94m|█████████████___________________|\u001b[0m -> 40% completed... \r",
      "5520/13225 -> \u001b[94m|█████████████___________________|\u001b[0m -> 41% completed... \r",
      "5635/13225 -> \u001b[94m|█████████████___________________|\u001b[0m -> 42% completed... \r",
      "5750/13225 -> \u001b[94m|█████████████___________________|\u001b[0m -> 43% completed... \r",
      "5865/13225 -> \u001b[94m|██████████████__________________|\u001b[0m -> 44% completed... \r"
     ]
    },
    {
     "name": "stderr",
     "output_type": "stream",
     "text": [
      "\u001b[91m\u001b[1mUserWarning:\n",
      "\u001b[0m\u001b[93mTrying to add to a non CycleCount object instance after 03 August 2018, 16:50.\u001b[0m\n"
     ]
    },
    {
     "name": "stdout",
     "output_type": "stream",
     "text": [
      "10465/13225 -> \u001b[94m|█████████████████████████_______|\u001b[0m -> 79% completed... \r"
     ]
    },
    {
     "name": "stderr",
     "output_type": "stream",
     "text": [
      "\u001b[91m\u001b[1mUserWarning:\n",
      "\u001b[0m\u001b[93mTrying to add to a non CycleCount object instance after 05 September 2018, 10:40.\u001b[0m\n"
     ]
    },
    {
     "name": "stdout",
     "output_type": "stream",
     "text": [
      "5635/13248 -> \u001b[94m|█████████████___________________|\u001b[0m -> 42% completed... . \r"
     ]
    },
    {
     "name": "stderr",
     "output_type": "stream",
     "text": [
      "\u001b[91m\u001b[1mUserWarning:\n",
      "\u001b[0m\u001b[93mTrying to add to a non CycleCount object instance after 05 November 2018, 22:30.\u001b[0m\n",
      "\u001b[91m\u001b[1mUserWarning:\n",
      "\u001b[0m\u001b[93mTrying to add to a non CycleCount object instance after 08 November 2018, 08:00.\u001b[0m\n"
     ]
    },
    {
     "name": "stdout",
     "output_type": "stream",
     "text": [
      "1469/12960 -> \u001b[94m|███_____________________________|\u001b[0m -> 11% completed...  \r"
     ]
    },
    {
     "name": "stderr",
     "output_type": "stream",
     "text": [
      "\u001b[91m\u001b[1mUserWarning:\n",
      "\u001b[0m\u001b[93mTrying to add to a non CycleCount object instance after 01 January 2019, 18:50.\u001b[0m\n",
      "\u001b[91m\u001b[1mUserWarning:\n",
      "\u001b[0m\u001b[93mTrying to add to a non CycleCount object instance after 03 January 2019, 08:30.\u001b[0m\n"
     ]
    },
    {
     "name": "stdout",
     "output_type": "stream",
     "text": [
      "4859/12960 -> \u001b[94m|███████████_____________________|\u001b[0m -> 37% completed... \r"
     ]
    },
    {
     "name": "stderr",
     "output_type": "stream",
     "text": [
      "\u001b[91m\u001b[1mUserWarning:\n",
      "\u001b[0m\u001b[93mTrying to add to a non CycleCount object instance after 02 February 2019, 04:10.\u001b[0m\n"
     ]
    },
    {
     "name": "stdout",
     "output_type": "stream",
     "text": [
      "7980/13103 -> \u001b[94m|███████████████████_____________|\u001b[0m -> 60% completed...  \r"
     ]
    },
    {
     "name": "stderr",
     "output_type": "stream",
     "text": [
      "\u001b[91m\u001b[1mUserWarning:\n",
      "\u001b[0m\u001b[93mTrying to add to a non CycleCount object instance after 18 May 2019, 12:10.\u001b[0m\n"
     ]
    },
    {
     "name": "stdout",
     "output_type": "stream",
     "text": [
      "10580/13248 -> \u001b[94m|█████████████████████████_______|\u001b[0m -> 79% completed...  \r"
     ]
    },
    {
     "name": "stderr",
     "output_type": "stream",
     "text": [
      "\u001b[91m\u001b[1mUserWarning:\n",
      "\u001b[0m\u001b[93mTrying to add to a non CycleCount object instance after 07 September 2019, 16:20.\u001b[0m\n"
     ]
    },
    {
     "name": "stdout",
     "output_type": "stream",
     "text": [
      "12075/13248 -> \u001b[94m|████████████████████████████____|\u001b[0m -> 90% completed... \r"
     ]
    },
    {
     "name": "stderr",
     "output_type": "stream",
     "text": [
      "\u001b[91m\u001b[1mUserWarning:\n",
      "\u001b[0m\u001b[93mTrying to add to a non CycleCount object instance after 17 September 2019, 06:20.\u001b[0m\n"
     ]
    },
    {
     "name": "stdout",
     "output_type": "stream",
     "text": [
      "4715/13248 -> \u001b[94m|███████████_____________________|\u001b[0m -> 35% completed...  \r"
     ]
    },
    {
     "name": "stderr",
     "output_type": "stream",
     "text": [
      "\u001b[91m\u001b[1mUserWarning:\n",
      "\u001b[0m\u001b[93mTrying to add to a non CycleCount object instance after 27 October 2019, 08:30.\u001b[0m\n"
     ]
    },
    {
     "name": "stdout",
     "output_type": "stream",
     "text": [
      "4830/13248 -> \u001b[94m|███████████_____________________|\u001b[0m -> 36% completed... \r",
      "4945/13248 -> \u001b[94m|███████████_____________________|\u001b[0m -> 37% completed... \r",
      "5060/13248 -> \u001b[94m|████████████____________________|\u001b[0m -> 37% completed... \r",
      "5175/13248 -> \u001b[94m|████████████____________________|\u001b[0m -> 38% completed... \r",
      "5290/13248 -> \u001b[94m|████████████____________________|\u001b[0m -> 39% completed... \r",
      "5405/13248 -> \u001b[94m|████████████____________________|\u001b[0m -> 40% completed... \r",
      "5520/13248 -> \u001b[94m|█████████████___________________|\u001b[0m -> 41% completed... \r",
      "5635/13248 -> \u001b[94m|█████████████___________________|\u001b[0m -> 42% completed... \r"
     ]
    },
    {
     "name": "stderr",
     "output_type": "stream",
     "text": [
      "\u001b[91m\u001b[1mUserWarning:\n",
      "\u001b[0m\u001b[93mTrying to add to a non CycleCount object instance after 05 November 2019, 22:30.\u001b[0m\n"
     ]
    },
    {
     "name": "stdout",
     "output_type": "stream",
     "text": [
      "4560/13104 -> \u001b[94m|███████████_____________________|\u001b[0m -> 34% completed...  \r"
     ]
    },
    {
     "name": "stderr",
     "output_type": "stream",
     "text": [
      "\u001b[91m\u001b[1mUserWarning:\n",
      "\u001b[0m\u001b[93mTrying to add to a non CycleCount object instance after 25 January 2020, 13:00.\u001b[0m\n"
     ]
    },
    {
     "name": "stdout",
     "output_type": "stream",
     "text": [
      "3534/13104 -> \u001b[94m|████████________________________|\u001b[0m -> 26% completed... . \r"
     ]
    },
    {
     "name": "stderr",
     "output_type": "stream",
     "text": [
      "\u001b[91m\u001b[1mUserWarning:\n",
      "\u001b[0m\u001b[93mTrying to add to a non CycleCount object instance after 20 April 2020, 19:00.\u001b[0m\n"
     ]
    },
    {
     "name": "stdout",
     "output_type": "stream",
     "text": [
      "2415/13248 -> \u001b[94m|█████___________________________|\u001b[0m -> 18% completed... . \r"
     ]
    },
    {
     "name": "stderr",
     "output_type": "stream",
     "text": [
      "\u001b[91m\u001b[1mUserWarning:\n",
      "\u001b[0m\u001b[93mTrying to add to a non CycleCount object instance after 09 July 2020, 18:50.\u001b[0m\n"
     ]
    },
    {
     "name": "stdout",
     "output_type": "stream",
     "text": [
      "2530/13248 -> \u001b[94m|██████__________________________|\u001b[0m -> 18% completed... \r",
      "2645/13248 -> \u001b[94m|██████__________________________|\u001b[0m -> 19% completed... \r",
      "2760/13248 -> \u001b[94m|██████__________________________|\u001b[0m -> 20% completed... \r",
      "2875/13248 -> \u001b[94m|██████__________________________|\u001b[0m -> 21% completed... \r",
      "2990/13248 -> \u001b[94m|███████_________________________|\u001b[0m -> 22% completed... \r",
      "3105/13248 -> \u001b[94m|███████_________________________|\u001b[0m -> 23% completed... \r",
      "3220/13248 -> \u001b[94m|███████_________________________|\u001b[0m -> 24% completed... \r",
      "3335/13248 -> \u001b[94m|████████________________________|\u001b[0m -> 25% completed... \r",
      "3450/13248 -> \u001b[94m|████████________________________|\u001b[0m -> 25% completed... \r",
      "3565/13248 -> \u001b[94m|████████________________________|\u001b[0m -> 26% completed... \r"
     ]
    },
    {
     "name": "stderr",
     "output_type": "stream",
     "text": [
      "\u001b[91m\u001b[1mUserWarning:\n",
      "\u001b[0m\u001b[93mTrying to add to a non CycleCount object instance after 19 July 2020, 08:50.\u001b[0m\n",
      "\u001b[91m\u001b[1mUserWarning:\n",
      "\u001b[0m\u001b[93mTrying to add to a non CycleCount object instance after 20 July 2020, 23:10.\u001b[0m\n",
      "\u001b[91m\u001b[1mUserWarning:\n",
      "\u001b[0m\u001b[93mTrying to add to a non CycleCount object instance after 21 July 2020, 18:20.\u001b[0m\n"
     ]
    },
    {
     "name": "stdout",
     "output_type": "stream",
     "text": [
      "5520/13248 -> \u001b[94m|█████████████___________________|\u001b[0m -> 41% completed... \r"
     ]
    },
    {
     "name": "stderr",
     "output_type": "stream",
     "text": [
      "\u001b[91m\u001b[1mUserWarning:\n",
      "\u001b[0m\u001b[93mTrying to add to a non CycleCount object instance after 03 August 2020, 13:00.\u001b[0m\n"
     ]
    },
    {
     "name": "stdout",
     "output_type": "stream",
     "text": [
      "9200/13248 -> \u001b[94m|██████████████████████__________|\u001b[0m -> 68% completed... \r"
     ]
    },
    {
     "name": "stderr",
     "output_type": "stream",
     "text": [
      "\u001b[91m\u001b[1mUserWarning:\n",
      "\u001b[0m\u001b[93mTrying to add to a non CycleCount object instance after 01 September 2020, 07:00.\u001b[0m\n"
     ]
    },
    {
     "name": "stdout",
     "output_type": "stream",
     "text": [
      "12995/13248 -> \u001b[94m|███████████████████████████████_|\u001b[0m -> 97% completed... \r"
     ]
    },
    {
     "name": "stderr",
     "output_type": "stream",
     "text": [
      "\u001b[91m\u001b[1mUserWarning:\n",
      "\u001b[0m\u001b[93mTrying to add to a non CycleCount object instance after 26 September 2020, 01:10.\u001b[0m\n",
      "\u001b[91m\u001b[1mUserWarning:\n",
      "\u001b[0m\u001b[93mTrying to add to a non CycleCount object instance after 26 September 2020, 20:20.\u001b[0m\n"
     ]
    },
    {
     "name": "stdout",
     "output_type": "stream",
     "text": [
      "2508/13061 -> \u001b[94m|██████__________________________|\u001b[0m -> 19% completed...  \r"
     ]
    },
    {
     "name": "stderr",
     "output_type": "stream",
     "text": [
      "\u001b[91m\u001b[1mUserWarning:\n",
      "\u001b[0m\u001b[93mTrying to add to a non CycleCount object instance after 11 October 2020, 07:00.\u001b[0m\n"
     ]
    },
    {
     "name": "stdout",
     "output_type": "stream",
     "text": [
      "9234/13061 -> \u001b[94m|██████████████████████__________|\u001b[0m -> 70% completed... \r"
     ]
    },
    {
     "name": "stderr",
     "output_type": "stream",
     "text": [
      "\u001b[91m\u001b[1mUserWarning:\n",
      "\u001b[0m\u001b[93mTrying to add to a non CycleCount object instance after 30 November 2020, 23:00.\u001b[0m\n"
     ]
    },
    {
     "name": "stdout",
     "output_type": "stream",
     "text": [
      "\u001b[36m4. Retrieving LFFD on aggregated \u001b[1mdf\u001b[22m.\u001b[0m[0m -> 100% completed...  \n"
     ]
    }
   ],
   "source": [
    "dict_df_agg = dict()\n",
    "hc = dict()\n",
    "common_dt = pd.to_datetime(\"2000-01-01\")\n",
    "if \"all\" in aggregations:\n",
    "    aggregations.pop(\"all\")\n",
    "time_ = [common_dt + to_offset(to) for to in aggregations]\n",
    "sorted_aggregations = [x for _, x in sorted(zip(np.argsort(time_), aggregations))]\n",
    "# sorted_aggregations.append(\"all\")\n",
    "for aggr in sorted_aggregations:\n",
    "    dict_df_agg[aggr] = pf.cycle_count.utils.aggregate_cc(wf, aggr)\n",
    "#     dict_df_agg[aggr], hc[aggr] = pf.cycle_count.utils.aggregate_cc(wf, aggr, True)"
   ]
  },
  {
   "cell_type": "code",
   "execution_count": null,
   "id": "2fd0d8bb",
   "metadata": {
    "scrolled": false
   },
   "outputs": [],
   "source": [
    "# plt_prmtr = \"CC_BB_C01_TP_SG_LAT019_DEG325_0_nr1\"\n",
    "# pf.cycle_count.utils.plot_aggregated_residuals(\n",
    "#     hc,\n",
    "#     plt_prmtr,\n",
    "# )"
   ]
  },
  {
   "cell_type": "markdown",
   "id": "8b9a30d3",
   "metadata": {},
   "source": [
    "## 2. Fatigue calculation\n",
    "\n",
    "### SN curves\n",
    "\n",
    "We want to define a set of SN curves that produce some realistic damage figures. To this aim, we take one of the sn curves from DNV-RP-C203 (specifically the D curve with free corrosion), and use that as baseline.\n",
    "\n",
    "Given $\\bar{m}$, $\\ln\\bar{a}$, and a number of cycles $\\bar{N}$ where we want the SN curves to intersect (e.g. $1E7$), the intersection stress range is given by:\n",
    "\n",
    "$$\n",
    "    \\ln{\\bar{\\sigma}} = \\dfrac{\\ln{\\bar{a}} - \\ln{\\bar{N}}}{\\bar{m}}\\\\\n",
    "$$\n",
    "\n",
    "From the point $\\left(\\ln{\\bar{N}}, \\ln{\\bar{\\sigma}} \\right)$, it is possible to calculate the intersect $\\ln{a}$ for each slope $m$ as:\n",
    "\n",
    "$$\n",
    "    \\ln{a} = m \\ln{\\bar{\\sigma}} + \\ln{\\bar{N}}\n",
    "$$"
   ]
  },
  {
   "cell_type": "code",
   "execution_count": null,
   "id": "3e4e8cec",
   "metadata": {},
   "outputs": [],
   "source": [
    "m_hat = 3\n",
    "log_a_hat = 11.687\n",
    "log_N_hat = 7\n",
    "log_sigma_hat = (log_a_hat - log_N_hat) / m_hat\n",
    "\n",
    "if log_sigma_hat <= 0:\n",
    "    raise ValueError(\"log(a) <= log(N).\\n\\nThat is not possible.\")\n",
    "\n",
    "log_a_hat_m4 = 4 * log_sigma_hat + log_N_hat\n",
    "log_a_hat_m5 = 5 * log_sigma_hat + log_N_hat\n",
    "\n",
    "sn = defaultdict()\n",
    "sn['DNV-D-C (m=3)'] = pf.SNCurve(\n",
    "    slope=m_hat,\n",
    "    intercept=log_a_hat,\n",
    "    curve=\"D, m=3\",\n",
    "    environment=\"Free corrosion\",\n",
    "    norm=\"DNVGL-RP-C203\",\n",
    "    unit_string=\"MPa\"\n",
    ")\n",
    "\n",
    "sn['DNV-D-C (m=4)'] = pf.SNCurve(\n",
    "    slope=4,\n",
    "    intercept=log_a_hat_m4,\n",
    "    curve=\"D, m=4\",\n",
    "    environment=\"Free corrosion\",\n",
    "    norm=\"DNVGL-RP-C203\",\n",
    "    unit_string=\"MPa\"\n",
    ")\n",
    "\n",
    "sn['DNV-D-C (m=5)'] = pf.SNCurve(\n",
    "    slope=5,\n",
    "    intercept=log_a_hat_m5,\n",
    "    curve=\"D, m=5\",\n",
    "    environment=\"Free corrosion\",\n",
    "    norm=\"DNVGL-RP-C203\",\n",
    "    unit_string=\"MPa\"\n",
    ")\n"
   ]
  },
  {
   "cell_type": "code",
   "execution_count": null,
   "id": "41e12525",
   "metadata": {},
   "outputs": [],
   "source": [
    "fig, ax = plt.subplots()\n",
    "for k, s in sn.items():\n",
    "    s.plot(fig=fig, ax=ax)\n",
    "plt.legend()\n",
    "plt.show()"
   ]
  },
  {
   "cell_type": "markdown",
   "id": "8e70d233",
   "metadata": {},
   "source": [
    "### Damage calculation through Palmgren-Miner rule\n",
    "\n",
    "The Palmgren-Miner rule is applied to the aggregated damages using the `py_fatigue.cycle_count.utils.calc_aggregated_damage()` function which takes as input the aggregated dataframe and a dict or sequence of SN curves."
   ]
  },
  {
   "cell_type": "code",
   "execution_count": null,
   "id": "cf813e4a",
   "metadata": {
    "scrolled": true
   },
   "outputs": [],
   "source": [
    "dict_df_dmg = dict()\n",
    "for aggr, df_d in dict_df_agg.items():\n",
    "    dict_df_dmg[aggr] = pf.cycle_count.utils.calc_aggregated_damage(df_d, sn)"
   ]
  },
  {
   "cell_type": "markdown",
   "id": "e583d2f7",
   "metadata": {},
   "source": [
    "The variable `dict_df_dmg` is a dictionary that contains the date offset frequency strings as keys and the corresponding multi-indexed dataframes as values.\n",
    "\n",
    "The multi-index dataframe contains the `'timestamp'` and `'sn_curve'` columns as indices, and the cycle-counted parameters names as column names.\n",
    "\n",
    "To access a multi-index dataframe from within the `dict_df_dmg` dictionary, you can follow this logic:\n",
    "\n",
    "```python\n",
    "aggr_key = \"W\"\n",
    "sn_curve_lookup = \"m=[4.]\"\n",
    "dict_df_dmg[aggr_key].loc[sn_curve_lookup]\n",
    "```"
   ]
  },
  {
   "cell_type": "code",
   "execution_count": null,
   "id": "738bb4b0",
   "metadata": {},
   "outputs": [],
   "source": [
    "dict_df_dmg[\"M\"].loc[\"m=[3.]\"]"
   ]
  },
  {
   "cell_type": "markdown",
   "id": "964501b3",
   "metadata": {},
   "source": [
    "### Aggregation of damages into total damage\n",
    "\n",
    "The goal is obtaining one damage per date offset string aggregation (e.g. `'W'`), per parameter (e.g. `CC_...`), per SN curve. Therefore, the damages, grouped by date offset string and SN curve, are aggregated using the `sum()`.\n",
    "\n",
    "As above, the resulting damages are stored in a multi-index dataframe which contains the `'aggregate_by'` and `'sn_curve'` columns as indices, the cycle-counted parameters names as column names, and the final damages in the cells.\n",
    "\n",
    "To access this multi-index dataframe, follow for example this logic:\n",
    "\n",
    "```python\n",
    "sn_curve_lookup = \"m=[4.]\"\n",
    "df_multiindex.loc[sn_curve_lookup]\n",
    "```\n",
    "\n"
   ]
  },
  {
   "cell_type": "code",
   "execution_count": null,
   "id": "74a2df61",
   "metadata": {},
   "outputs": [],
   "source": [
    "df_dmg_agg = pd.DataFrame()\n",
    "for aggr, df_d in dict_df_dmg.items():\n",
    "    \n",
    "    df_1 = df_d.groupby([\"sn_curve\"]).agg(\"sum\")\n",
    "    df_1[\"aggregate_by\"] = aggr\n",
    "    df_dmg_agg = pd.concat([df_dmg_agg, df_1])\n",
    "# df_dmg_agg = df_dmg_agg.transpose()\n",
    "df_dmg_agg = df_dmg_agg.set_index([df_dmg_agg.index, \"aggregate_by\"])"
   ]
  },
  {
   "cell_type": "markdown",
   "id": "ac22a04a",
   "metadata": {},
   "source": [
    "### Damage normalization with respect to the total\n",
    "\n",
    "The subdataframe (for fixed SN curve) containing the damages for each parameter and for each aggregation string is normalized with respect to the `'all'` row that containing the damages due to all the frequencies.\n",
    "\n",
    "For this operation to give the correct results, the aggregation strings must be sorted in increasing time-range order. This operation has been performed in precedence."
   ]
  },
  {
   "cell_type": "markdown",
   "id": "c61e38e9",
   "metadata": {},
   "source": [
    "- Show minor gridlines and show every 5-10% major\n",
    "- Remove faulty sensors\n",
    "- Specify that we also account for the residuals of the residuals as half cycles and that the \"resolved residuals\" result in both full and half cycles. This is the cause of the additional damage.\n",
    "\n",
    "- For Marc: we were working exactly on this and to share the finished result. See for m=3 you have little influence of aggregations (coherent with the factor ~1.1), while m=5 there is a substantial effect of even monthly cycles. It is a site-dependent observation, but knowing the North Sea usual weather, this is a consistent result."
   ]
  },
  {
   "cell_type": "code",
   "execution_count": null,
   "id": "d7eabf4f",
   "metadata": {},
   "outputs": [],
   "source": [
    "fig, axes = plt.subplots(1, len(sn), figsize=(10, 3), dpi=600)\n",
    "\n",
    "for j, sn_key in enumerate([\"m=[3.]\", \"m=[4.]\", \"m=[5.]\"]):\n",
    "    \n",
    "    df_dmg_end = df_dmg_agg.loc[sn_key]\n",
    "    df_norm = df_dmg_end.div(df_dmg_end.max())\n",
    "    df_norm = pd.concat([df_norm.loc[\"T\"].to_frame().T, df_norm.diff()[1:]],\n",
    "                         ignore_index=True) * 100\n",
    "    df_norm.index = df_dmg_end.index\n",
    "    df_norm.columns = [name.split('_')[1] for name in df_norm.columns]\n",
    "    df_norm.transpose().plot.bar(stacked=True, ax=axes[j], legend=False, width=0.8)\n",
    "    axes\n",
    "    axes[j].set_title(f\"m = {sn_key[3]}\")\n",
    "    axes[j].set_yticks(np.linspace(0, 100, 11, dtype=int))\n",
    "    axes[j].set_xlabel(\"Parameter\")\n",
    "    axes[j].minorticks_on()\n",
    "    axes[j].grid(visible=True, which=\"minor\", color=\"#AAAAAA\", linestyle=\":\")\n",
    "    if j == 0:\n",
    "        axes[j].set_ylabel(\"Normalized Damage, %\")\n",
    "    if j == 1:\n",
    "        axes[j].legend(title=\"Aggregated by\", loc=\"lower center\", fancybox=True,\n",
    "                   bbox_to_anchor=(0.5, 1.1), ncol=6, shadow=False)"
   ]
  },
  {
   "cell_type": "code",
   "execution_count": null,
   "id": "78fc01e7",
   "metadata": {},
   "outputs": [],
   "source": []
  }
 ],
 "metadata": {
  "hide_input": false,
  "kernelspec": {
   "display_name": "Python 3 (ipykernel)",
   "language": "python",
   "name": "python3"
  },
  "language_info": {
   "codemirror_mode": {
    "name": "ipython",
    "version": 3
   },
   "file_extension": ".py",
   "mimetype": "text/x-python",
   "name": "python",
   "nbconvert_exporter": "python",
   "pygments_lexer": "ipython3",
   "version": "3.8.15"
  },
  "latex_envs": {
   "LaTeX_envs_menu_present": true,
   "autoclose": false,
   "autocomplete": true,
   "bibliofile": "biblio.bib",
   "cite_by": "apalike",
   "current_citInitial": 1,
   "eqLabelWithNumbers": true,
   "eqNumInitial": 1,
   "hotkeys": {
    "equation": "Ctrl-E",
    "itemize": "Ctrl-I"
   },
   "labels_anchors": false,
   "latex_user_defs": false,
   "report_style_numbering": false,
   "user_envs_cfg": false
  },
  "toc": {
   "base_numbering": 1,
   "nav_menu": {},
   "number_sections": true,
   "sideBar": true,
   "skip_h1_title": true,
   "title_cell": "Table of Contents",
   "title_sidebar": "Contents",
   "toc_cell": true,
   "toc_position": {},
   "toc_section_display": true,
   "toc_window_display": false
  }
 },
 "nbformat": 4,
 "nbformat_minor": 5
}
