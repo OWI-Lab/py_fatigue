{
 "cells": [
  {
   "cell_type": "markdown",
   "id": "147f668b",
   "metadata": {
    "toc": true
   },
   "source": [
    "<h1>Table of Contents<span class=\"tocSkip\"></span></h1>\n",
    "<div class=\"toc\"><ul class=\"toc-item\"></ul></div>"
   ]
  },
  {
   "cell_type": "code",
   "execution_count": 1,
   "id": "7a86d43d",
   "metadata": {
    "ExecuteTime": {
     "end_time": "2022-09-08T21:50:05.699387Z",
     "start_time": "2022-09-08T21:50:03.059085Z"
    }
   },
   "outputs": [],
   "source": [
    "# autoreload updated and newly installed packages\n",
    "# without having to restart Jupyter kernel\n",
    "%load_ext autoreload\n",
    "%autoreload 2\n",
    "# Some little interaction with matplotlib\n",
    "%matplotlib inline\n",
    "# Avoid using Jedi for faster autocomplete (tab)\n",
    "%config Completer.use_jedi = False"
   ]
  },
  {
   "cell_type": "markdown",
   "id": "c91812f9",
   "metadata": {},
   "source": [
    "## Crack growth analysis\n",
    "\n",
    "### Hollow cylinder with crack on the external surface "
   ]
  },
  {
   "cell_type": "code",
   "execution_count": 2,
   "id": "abbb9b78",
   "metadata": {
    "ExecuteTime": {
     "end_time": "2022-09-08T21:50:09.748925Z",
     "start_time": "2022-09-08T21:50:05.703650Z"
    },
    "scrolled": false
   },
   "outputs": [],
   "source": [
    "# Standard imports\n",
    "import ast\n",
    "import datetime\n",
    "import platform\n",
    "import os\n",
    "import sys\n",
    "from typing import List\n",
    "# Non-standard imports\n",
    "from pathlib import Path\n",
    "from scipy import stats\n",
    "from tqdm import tqdm\n",
    "import matplotlib\n",
    "import matplotlib.pyplot as plt\n",
    "import numba as nb\n",
    "import numpy as np\n",
    "import pandas as pd\n",
    "import plotly.graph_objs as go\n",
    "# py-fatigue import\n",
    "import py_fatigue as pf\n",
    "import py_fatigue.testing as test\n",
    "# Paths of this tutorial and of the data\n",
    "TUTORIAL_PATH = os.path.dirname(os.getcwd())\n",
    "DATA_PATH = os.path.join(Path.home(), \"Documents\", \"Work\", \"data\")\n",
    "if not TUTORIAL_PATH in sys.path:\n",
    "    sys.path.append(TUTORIAL_PATH)\n",
    "np.set_printoptions(threshold=sys.maxsize)"
   ]
  },
  {
   "cell_type": "code",
   "execution_count": 3,
   "id": "ab944957",
   "metadata": {
    "ExecuteTime": {
     "end_time": "2022-09-08T21:50:09.964008Z",
     "start_time": "2022-09-08T21:50:09.748925Z"
    }
   },
   "outputs": [
    {
     "name": "stdout",
     "output_type": "stream",
     "text": [
      "Platform: Linux-5.19.0-26-generic-x86_64-with-glibc2.35\n",
      "Python version: 3.8.14 (default, Dec  5 2022, 15:48:21) \n",
      "[GCC 12.2.0]\n",
      "py-fatigue version: \u001b[1m1.0.5\n",
      "\u001b[47m\u001b[1m\u001b[34m\n",
      "DATA_PATH = /home/pd/Documents/Work/data\n",
      "TUTORIAL_PATH = /home/pd/Python/Packages/Github/py-fatigue\n",
      "\u001b[0m\n"
     ]
    }
   ],
   "source": [
    "print(f\"Platform: {platform.platform()}\")\n",
    "print(f\"Python version: {sys.version}\")\n",
    "print(f\"py-fatigue version: {pf.styling.TermColors.CBOLD}{pf.__version__}\")\n",
    "\n",
    "print(f\"{pf.styling.TermColors.CWHITEBG}\\\n",
    "{pf.styling.TermColors.CBOLD}\\\n",
    "{pf.styling.TermColors.CBLUE}\")\n",
    "      \n",
    "print(f\"DATA_PATH = {DATA_PATH}\")\n",
    "print(f\"TUTORIAL_PATH = {TUTORIAL_PATH}\")\n",
    "\n",
    "print(f\"{pf.styling.TermColors.CEND}\")"
   ]
  },
  {
   "cell_type": "code",
   "execution_count": 4,
   "id": "51597e3a",
   "metadata": {
    "ExecuteTime": {
     "end_time": "2022-09-08T21:50:10.176190Z",
     "start_time": "2022-09-08T21:50:09.965291Z"
    }
   },
   "outputs": [],
   "source": [
    "plt.rcParams[\"figure.figsize\"] = (7, 3.5)\n",
    "plt.rcParams[\"font.family\"] = [\"Sans-Serif\"]\n",
    "plt.rcParams[\"font.size\"] = 10\n",
    "plt.rcParams[\"lines.markersize\"] = 3\n",
    "plt.rcParams[\"axes.grid\"] = True\n",
    "plt.rcParams[\"grid.color\"] = \"#DDDDDD\"\n",
    "plt.rcParams[\"grid.linestyle\"] = \"-\"\n",
    "plt.rcParams[\"axes.spines.right\"] = False\n",
    "plt.rcParams[\"axes.spines.top\"] = False\n",
    "plt.rcParams[\"xtick.bottom\"] = False\n",
    "plt.rcParams[\"xtick.labelbottom\"] = True\n",
    "plt.rcParams[\"ytick.left\"] = False\n",
    "plt.rcParams[\"ytick.labelleft\"] = True"
   ]
  },
  {
   "cell_type": "code",
   "execution_count": 5,
   "id": "c2b4c6c1",
   "metadata": {},
   "outputs": [
    {
     "name": "stdout",
     "output_type": "stream",
     "text": [
      "\u001b[36m1. Read \u001b[1m.csv\u001b[22m file\u001b[0m\n",
      "\u001b[36m2. Set \u001b[1m'timestamp'\u001b[22m as index\u001b[0m\n"
     ]
    },
    {
     "name": "stderr",
     "output_type": "stream",
     "text": [
      "\u001b[36m3. Converting \u001b[1mCC_Mtl\u001b[0m: 100%|█████████████| 52604/52604 [00:08<00:00, 6113.55it/s]\u001b[0m\n",
      "\u001b[36m3. Converting \u001b[1mCC_Mtn\u001b[0m: 100%|█████████████| 52604/52604 [00:07<00:00, 6752.40it/s]\u001b[0m\n"
     ]
    }
   ],
   "source": [
    "# 1\n",
    "print(f\"\\33[36m1. Read \\33[1m.csv\\33[22m file\\33[0m\")\n",
    "df_ = pd.read_csv(os.path.join(DATA_PATH, \"year-2018-shm-data.csv\"))\n",
    "# 2\n",
    "print(f\"\\33[36m2. Set \\33[1m'timestamp'\\33[22m as index\\33[0m\")\n",
    "df_ = df_.set_index(\"timestamp\")\n",
    "df_.index = pd.to_datetime(df_.index)\n",
    "df_ = df_.drop(columns=[\"location\"])\n",
    "# 3\n",
    "for col in df_.columns:\n",
    "    if col.startswith(\"CC_\"):\n",
    "        tqdm.pandas(desc=f\"\\33[36m3. Converting \\33[1m{col[:3]}{col[-3:]}\\33[0m\") \n",
    "        df_[col] = df_[col].progress_apply(\n",
    "            lambda x: ast.literal_eval(x) if not x!=x else x\n",
    "        )\n",
    "# 4\n",
    "tqdm.pandas(desc=f\"\\33[36m4. From \\33[1mdict \\33[22mto \\33[1mdwf.CycleCount\\33[0m\")"
   ]
  },
  {
   "cell_type": "code",
   "execution_count": 6,
   "id": "767917a7",
   "metadata": {},
   "outputs": [],
   "source": [
    "cc = pf.CycleCount.from_rainflow(df_.CC_BB_C01_TP_SG_LAT019_Mtl[0])"
   ]
  },
  {
   "cell_type": "code",
   "execution_count": 7,
   "id": "b78e33cf",
   "metadata": {},
   "outputs": [
    {
     "data": {
      "text/plain": [
       "array([25. , 12. ,  7. ,  3. ,  3. ,  3. ,  1. ,  1. ,  2. ,  2. ,  4. ,\n",
       "        3. ,  1. ,  3. ,  2. ,  4. ,  1. ,  1. ,  1. ,  2. ,  2. ,  5. ,\n",
       "        4. ,  1. ,  4. ,  1. ,  4. ,  2. ,  3. ,  6. ,  1. ,  3. ,  2. ,\n",
       "        2. ,  3. ,  1. ,  4. ,  1. ,  2. ,  3. ,  1. ,  4. ,  2. ,  5. ,\n",
       "        2. ,  1. ,  5. ,  1. ,  1. ,  6. ,  1. ,  1. ,  2. ,  3. ,  1. ,\n",
       "        4. ,  2. ,  2. ,  2. ,  7. ,  2. ,  3. ,  3. ,  1. ,  1. ,  3. ,\n",
       "        4. ,  1. ,  2. ,  2. ,  3. ,  2. ,  1. ,  4. ,  1. ,  2. ,  1. ,\n",
       "        1. ,  2. ,  3. ,  1. ,  1. ,  2. ,  1. ,  1. ,  2. ,  2. ,  1. ,\n",
       "        1. ,  1. ,  1. ,  1. ,  1. ,  1. ,  1. ,  1. ,  1. ,  1. ,  1. ,\n",
       "        1. ,  1. ,  0.5,  0.5,  0.5,  0.5,  0.5,  0.5,  0.5,  0.5,  0.5,\n",
       "        0.5,  0.5,  0.5,  0.5,  0.5])"
      ]
     },
     "execution_count": 7,
     "metadata": {},
     "output_type": "execute_result"
    }
   ],
   "source": [
    "cc.count_cycle"
   ]
  },
  {
   "cell_type": "code",
   "execution_count": 14,
   "id": "97df32fb",
   "metadata": {
    "scrolled": false
   },
   "outputs": [
    {
     "data": {
      "text/plain": [
       "array([2.5762, 3.6844, 6.1776, 6.6172, 6.8213, 7.4237, 7.621 , 9.5257,\n",
       "       7.784 , 7.1784, 6.4586, 5.8815, 5.0147, 4.949 , 0.225 , 0.225 ,\n",
       "       0.225 , 0.225 , 0.225 , 0.225 , 0.225 , 0.225 , 0.225 , 0.225 ,\n",
       "       0.225 , 0.225 , 0.225 , 0.225 , 0.225 , 0.225 , 0.225 , 0.225 ,\n",
       "       0.225 , 0.225 , 0.225 , 0.225 , 0.225 , 0.225 , 0.225 , 0.275 ,\n",
       "       0.275 , 0.275 , 0.275 , 0.275 , 0.275 , 0.275 , 0.275 , 0.275 ,\n",
       "       0.275 , 0.275 , 0.275 , 0.325 , 0.325 , 0.325 , 0.325 , 0.325 ,\n",
       "       0.325 , 0.325 , 0.375 , 0.375 , 0.375 , 0.425 , 0.425 , 0.425 ,\n",
       "       0.525 , 0.525 , 0.525 , 0.625 , 0.675 , 0.725 , 0.725 , 0.775 ,\n",
       "       0.775 , 0.825 , 0.825 , 0.825 , 0.825 , 0.875 , 0.875 , 0.875 ,\n",
       "       0.925 , 1.025 , 1.025 , 1.025 , 1.075 , 1.075 , 1.175 , 1.175 ,\n",
       "       1.175 , 1.175 , 1.225 , 1.275 , 1.325 , 1.375 , 1.375 , 1.425 ,\n",
       "       1.425 , 1.475 , 1.475 , 1.475 , 1.475 , 1.475 , 1.525 , 1.525 ,\n",
       "       1.525 , 1.525 , 1.575 , 1.625 , 1.625 , 1.625 , 1.625 , 1.675 ,\n",
       "       1.725 , 1.725 , 1.725 , 1.725 , 1.775 , 1.775 , 1.875 , 1.875 ,\n",
       "       1.875 , 1.925 , 1.925 , 1.925 , 1.925 , 1.925 , 1.925 , 1.975 ,\n",
       "       2.025 , 2.025 , 2.025 , 2.075 , 2.075 , 2.125 , 2.125 , 2.175 ,\n",
       "       2.175 , 2.175 , 2.225 , 2.275 , 2.275 , 2.275 , 2.275 , 2.325 ,\n",
       "       2.375 , 2.375 , 2.425 , 2.425 , 2.425 , 2.525 , 2.575 , 2.575 ,\n",
       "       2.575 , 2.575 , 2.625 , 2.625 , 2.675 , 2.675 , 2.675 , 2.675 ,\n",
       "       2.675 , 2.725 , 2.725 , 2.775 , 2.875 , 2.875 , 2.875 , 2.875 ,\n",
       "       2.875 , 2.925 , 2.975 , 3.075 , 3.075 , 3.075 , 3.075 , 3.075 ,\n",
       "       3.075 , 3.125 , 3.175 , 3.225 , 3.225 , 3.275 , 3.275 , 3.275 ,\n",
       "       3.325 , 3.375 , 3.375 , 3.375 , 3.375 , 3.425 , 3.425 , 3.475 ,\n",
       "       3.475 , 3.575 , 3.575 , 3.625 , 3.625 , 3.625 , 3.625 , 3.625 ,\n",
       "       3.625 , 3.625 , 3.675 , 3.675 , 3.775 , 3.775 , 3.775 , 3.875 ,\n",
       "       3.875 , 3.875 , 3.925 , 3.975 , 4.025 , 4.025 , 4.025 , 4.075 ,\n",
       "       4.075 , 4.075 , 4.075 , 4.175 , 4.225 , 4.225 , 4.275 , 4.275 ,\n",
       "       4.325 , 4.325 , 4.325 , 4.375 , 4.375 , 4.425 , 4.475 , 4.475 ,\n",
       "       4.475 , 4.475 , 4.575 , 4.625 , 4.625 , 4.675 , 4.825 , 4.875 ,\n",
       "       4.875 , 4.925 , 4.925 , 4.925 , 4.975 , 5.025 , 5.075 , 5.075 ,\n",
       "       5.125 , 5.175 , 5.275 , 5.275 , 5.325 , 5.325 , 5.3931, 5.5366,\n",
       "       5.6308, 7.0061, 6.1568, 6.319 , 6.002 , 5.5456, 6.022 , 6.2538,\n",
       "       5.5808, 5.3676, 5.3586, 5.6102])"
      ]
     },
     "execution_count": 14,
     "metadata": {},
     "output_type": "execute_result"
    }
   ],
   "source": [
    "np.hstack([cc.half_cycles[:, 1], cc.full_cycles[:, 1]])"
   ]
  },
  {
   "cell_type": "code",
   "execution_count": 48,
   "id": "75a06852",
   "metadata": {},
   "outputs": [
    {
     "data": {
      "text/plain": [
       "array([0., 0., 0., 0., 0., 0., 0., 0., 0., 0., 0., 0., 0., 0., 0., 0., 0.,\n",
       "       0., 0., 0., 0., 0., 0., 0., 0., 0., 0., 0., 0., 0., 0., 0., 0., 0.,\n",
       "       0., 0., 0., 0., 0., 0., 0., 0., 0., 0., 0., 0., 0., 0., 0., 0., 0.,\n",
       "       0., 0., 0., 0., 0., 0., 0., 0., 0., 0., 0., 0., 0., 0., 0., 0., 0.,\n",
       "       0., 0., 0., 0., 0., 0., 0., 0., 0., 0., 0., 0., 0., 0., 0., 0., 0.,\n",
       "       0., 0., 0., 0., 0., 0., 0., 0., 0., 0., 0., 0., 0., 0., 0., 0., 0.,\n",
       "       0., 0., 0., 0., 0., 0., 0., 0., 0., 0., 0., 0., 0.])"
      ]
     },
     "execution_count": 48,
     "metadata": {},
     "output_type": "execute_result"
    }
   ],
   "source": [
    "cc.mean_stress"
   ]
  },
  {
   "cell_type": "code",
   "execution_count": null,
   "id": "0fb60d6c",
   "metadata": {},
   "outputs": [],
   "source": [
    "ae, loce, scalee = stats.fatiguelife.fit(cc.count_cycle)"
   ]
  },
  {
   "cell_type": "code",
   "execution_count": null,
   "id": "7d9d4ae8",
   "metadata": {},
   "outputs": [],
   "source": [
    "xmin"
   ]
  },
  {
   "cell_type": "code",
   "execution_count": null,
   "id": "c2241a6a",
   "metadata": {},
   "outputs": [],
   "source": [
    "plt.figure()\n",
    "plt.hist(cc.count_cycle, bins=30, density=True, alpha=0.6, color='g')\n",
    "xmin, xmax = plt.xlim()\n",
    "x = np.linspace(0.6, xmax, 1000)\n",
    "p = stats.fatiguelife.pdf(x, ae, loce, scalee)\n",
    "plt.plot(x, p, 'k', linewidth=2)\n"
   ]
  },
  {
   "cell_type": "code",
   "execution_count": null,
   "id": "71f74b1e",
   "metadata": {},
   "outputs": [],
   "source": [
    "ae"
   ]
  },
  {
   "cell_type": "code",
   "execution_count": null,
   "id": "e21e468e",
   "metadata": {},
   "outputs": [],
   "source": [
    "mean, var, skew, kurt = stats.skewnorm.stats(ae, moments='mvsk')"
   ]
  },
  {
   "cell_type": "code",
   "execution_count": null,
   "id": "22ee72b6",
   "metadata": {},
   "outputs": [],
   "source": [
    "skew"
   ]
  },
  {
   "cell_type": "code",
   "execution_count": null,
   "id": "7ee0754d",
   "metadata": {},
   "outputs": [],
   "source": [
    "mean"
   ]
  },
  {
   "cell_type": "code",
   "execution_count": null,
   "id": "7f440aca",
   "metadata": {},
   "outputs": [],
   "source": [
    "var"
   ]
  },
  {
   "cell_type": "code",
   "execution_count": 29,
   "id": "f4c3b92c",
   "metadata": {},
   "outputs": [],
   "source": [
    "from typing import Any, Optional, Sequence, Union\n",
    "import matplotlib as mpl\n",
    "import warnings\n",
    "from __future__ import annotations"
   ]
  },
  {
   "cell_type": "code",
   "execution_count": 45,
   "id": "4a84598d",
   "metadata": {},
   "outputs": [],
   "source": [
    "# Create models from data\n",
    "def best_fit_distribution(\n",
    "    data: Union[Sequence[Any], np.ndarray, pd.Series],\n",
    "    bins: int = 200,\n",
    "    _distn_names: tuple = (\n",
    "        \"fatiguelife\",\n",
    "        \"weibull_min\",\n",
    "        \"exponweib\",\n",
    "        \"exponpow\",\n",
    "        \"norm\",\n",
    "        \"powerlaw\",\n",
    "        \"skewnorm\",\n",
    "    ),\n",
    "    ax: Optional[mpl.axes.Axes] = None,\n",
    ") -> list[tuple]:\n",
    "    \"\"\"Model data by finding best fit distribution to data\n",
    "\n",
    "    Parameters\n",
    "    ----------\n",
    "    data : array-like\n",
    "        Data to be fitted.\n",
    "    bins : int, optional\n",
    "        Number of bins to be used for the cumulative histogram, by default 200\n",
    "    _distn_names : tuple, optional\n",
    "        Tuple of distributions to check, by default\n",
    "        [\"fatiguelife\", \"weibull_min\", \"exponweib\", \"exponpow\", \"norm\",\n",
    "         \"powerlaw\"]\n",
    "    ax : matplotlib.axes.Axes, optional\n",
    "\n",
    "    Returns\n",
    "    -------\n",
    "    list[tuple]\n",
    "        List of best fit distributions and their parameters\n",
    "    \"\"\"\n",
    "    # Get histogram of original data\n",
    "    y, x = np.histogram(data, bins=bins, density=True)\n",
    "    x = (x + np.roll(x, -1))[:-1] / 2.0\n",
    "\n",
    "    # Best holders\n",
    "    # if best_fit_distribution is None:\n",
    "    best_distributions = []\n",
    "\n",
    "    # Estimate distribution parameters from data\n",
    "    for distribution in tqdm(_distn_names):\n",
    "#         print(distribution)\n",
    "        distribution = getattr(stats, distribution)\n",
    "        # Try to fit the distribution\n",
    "        try:\n",
    "            # Ignore warnings from data that can't be fit\n",
    "            with warnings.catch_warnings():\n",
    "                warnings.filterwarnings(\"ignore\")\n",
    "                # fit dist to data\n",
    "                params = distribution.fit(data)\n",
    "                # Separate parts of parameters\n",
    "                arg = params[:-2]\n",
    "                loc = params[-2]\n",
    "                scale = params[-1]\n",
    "                # Calculate fitted PDF and error with fit in distribution\n",
    "                pdf = distribution.pdf(x, loc=loc, scale=scale, *arg)\n",
    "                sse = np.sum(np.power(y - pdf, 2.0))\n",
    "                # if axis pass in add to plot\n",
    "                try:\n",
    "                    if ax:\n",
    "                        pd.Series(pdf, x).plot(ax=ax, label=distribution.name)\n",
    "                        ax.legend()\n",
    "                except Exception:  # pylint: disable=broad-except\n",
    "                    pass\n",
    "                # identify if this distribution is better\n",
    "                best_distributions.append((distribution, params, sse))\n",
    "        except Exception as e:  # pylint: disable=broad-except\n",
    "#             pritn(e)\n",
    "            pass\n",
    "    return sorted(best_distributions, key=lambda x: x[2])"
   ]
  },
  {
   "cell_type": "code",
   "execution_count": 46,
   "id": "eab03ff0",
   "metadata": {},
   "outputs": [
    {
     "name": "stderr",
     "output_type": "stream",
     "text": [
      "100%|█████████████████████████████████████████████| 7/7 [00:00<00:00, 12.73it/s]\n"
     ]
    },
    {
     "data": {
      "text/plain": [
       "[(<scipy.stats._continuous_distns.weibull_min_gen at 0x7f82db0524c0>,\n",
       "  (0.4588434789870345, 0.22499999999999998, 2.623292251776734),\n",
       "  3.143005828172729),\n",
       " (<scipy.stats._continuous_distns.powerlaw_gen at 0x7f82db03b310>,\n",
       "  (0.518261043742964, 0.22499999999999998, 9.763142372970805),\n",
       "  3.6369955278731307),\n",
       " (<scipy.stats._continuous_distns.exponpow_gen at 0x7f82db4697c0>,\n",
       "  (0.2421142957892638, 0.22499999999999998, 4.593502461963604),\n",
       "  3.9128078324369024),\n",
       " (<scipy.stats._continuous_distns.exponweib_gen at 0x7f82db469550>,\n",
       "  (0.14954787446159876,\n",
       "   1.4374425633799242,\n",
       "   0.22499999999999998,\n",
       "   3.549730842858807),\n",
       "  4.996415330296996),\n",
       " (<scipy.stats._continuous_distns.skew_norm_gen at 0x7f82db04c0a0>,\n",
       "  (41161584.494687185, 0.22499956376702213, 3.0869903399898373),\n",
       "  5.76268088977205),\n",
       " (<scipy.stats._continuous_distns.fatiguelife_gen at 0x7f82db469af0>,\n",
       "  (0.651363987368919, -0.774234823401462, 2.819710704190818),\n",
       "  6.317287123788892),\n",
       " (<scipy.stats._continuous_distns.norm_gen at 0x7f82db441430>,\n",
       "  (2.6496130597014926, 1.9105374609758718),\n",
       "  6.460428287400244)]"
      ]
     },
     "execution_count": 46,
     "metadata": {},
     "output_type": "execute_result"
    },
    {
     "data": {
      "image/png": "[encoded data removed]",
      "text/plain": [
       "<Figure size 700x350 with 1 Axes>"
      ]
     },
     "metadata": {},
     "output_type": "display_data"
    }
   ],
   "source": [
    "best_fit_distribution(\n",
    "    np.hstack([cc.half_cycles[:, 1], cc.full_cycles[:, 1]]),\n",
    "    ax=ax\n",
    "#     _distn_names=tuple(stats._continuous_distns._distn_names)\n",
    ")"
   ]
  },
  {
   "cell_type": "code",
   "execution_count": 40,
   "id": "e5c550b8",
   "metadata": {},
   "outputs": [
    {
     "name": "stderr",
     "output_type": "stream",
     "text": [
      "No artists with labels found to put in legend.  Note that artists whose label start with an underscore are ignored when legend() is called with no argument.\n"
     ]
    },
    {
     "data": {
      "text/plain": [
       "<matplotlib.legend.Legend at 0x7f82b376caf0>"
      ]
     },
     "execution_count": 40,
     "metadata": {},
     "output_type": "execute_result"
    }
   ],
   "source": [
    "ax.legend()"
   ]
  },
  {
   "cell_type": "code",
   "execution_count": 70,
   "id": "070edcf0",
   "metadata": {},
   "outputs": [],
   "source": [
    "mean, cov, skew = cc.statistical_moments"
   ]
  },
  {
   "cell_type": "code",
   "execution_count": 71,
   "id": "1ad12d23",
   "metadata": {},
   "outputs": [
    {
     "data": {
      "text/plain": [
       "(2.6496130597014926, 0.7210628185804286, 0.21568496332023693)"
      ]
     },
     "execution_count": 71,
     "metadata": {},
     "output_type": "execute_result"
    }
   ],
   "source": [
    "mean, cov, skew"
   ]
  },
  {
   "cell_type": "code",
   "execution_count": 72,
   "id": "364f1e63",
   "metadata": {},
   "outputs": [],
   "source": [
    "from typing import Sized, Iterable\n"
   ]
  },
  {
   "cell_type": "code",
   "execution_count": 74,
   "id": "1834949c",
   "metadata": {},
   "outputs": [],
   "source": [
    "vector = np.linspace(0, 50)"
   ]
  },
  {
   "cell_type": "code",
   "execution_count": 75,
   "id": "f3124dfd",
   "metadata": {},
   "outputs": [
    {
     "data": {
      "text/plain": [
       "True"
      ]
     },
     "execution_count": 75,
     "metadata": {},
     "output_type": "execute_result"
    }
   ],
   "source": [
    "isinstance(vector, Sized)"
   ]
  },
  {
   "cell_type": "code",
   "execution_count": 77,
   "id": "117ef56c",
   "metadata": {},
   "outputs": [
    {
     "data": {
      "text/plain": [
       "True"
      ]
     },
     "execution_count": 77,
     "metadata": {},
     "output_type": "execute_result"
    }
   ],
   "source": [
    "isinstance(vector, Iterable)"
   ]
  },
  {
   "cell_type": "code",
   "execution_count": null,
   "id": "88072704",
   "metadata": {},
   "outputs": [],
   "source": []
  }
 ],
 "metadata": {
  "hide_input": false,
  "kernelspec": {
   "display_name": "Python 3 (ipykernel)",
   "language": "python",
   "name": "python3"
  },
  "language_info": {
   "codemirror_mode": {
    "name": "ipython",
    "version": 3
   },
   "file_extension": ".py",
   "mimetype": "text/x-python",
   "name": "python",
   "nbconvert_exporter": "python",
   "pygments_lexer": "ipython3",
   "version": "3.8.14"
  },
  "latex_envs": {
   "LaTeX_envs_menu_present": true,
   "autoclose": false,
   "autocomplete": true,
   "bibliofile": "biblio.bib",
   "cite_by": "apalike",
   "current_citInitial": 1,
   "eqLabelWithNumbers": true,
   "eqNumInitial": 1,
   "hotkeys": {
    "equation": "Ctrl-E",
    "itemize": "Ctrl-I"
   },
   "labels_anchors": false,
   "latex_user_defs": false,
   "report_style_numbering": false,
   "user_envs_cfg": false
  },
  "toc": {
   "base_numbering": 1,
   "nav_menu": {},
   "number_sections": true,
   "sideBar": true,
   "skip_h1_title": true,
   "title_cell": "Table of Contents",
   "title_sidebar": "Contents",
   "toc_cell": true,
   "toc_position": {},
   "toc_section_display": true,
   "toc_window_display": false
  }
 },
 "nbformat": 4,
 "nbformat_minor": 5
}
