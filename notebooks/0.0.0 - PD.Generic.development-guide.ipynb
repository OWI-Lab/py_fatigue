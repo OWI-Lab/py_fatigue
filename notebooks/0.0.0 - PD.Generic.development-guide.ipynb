{
 "cells": [
  {
   "cell_type": "markdown",
   "metadata": {
    "toc": true
   },
   "source": [
    "<h1>Table of Contents<span class=\"tocSkip\"></span></h1>\n",
    "<div class=\"toc\"><ul class=\"toc-item\"><li><span><a href=\"#Import-the-source-code-of-the-project\" data-toc-modified-id=\"Import-the-source-code-of-the-project-1\"><span class=\"toc-item-num\">1&nbsp;&nbsp;</span>Import the source code of the project</a></span></li><li><span><a href=\"#Import-and-use-the-functionality\" data-toc-modified-id=\"Import-and-use-the-functionality-2\"><span class=\"toc-item-num\">2&nbsp;&nbsp;</span>Import and use the functionality</a></span></li></ul></div>"
   ]
  },
  {
   "cell_type": "markdown",
   "metadata": {},
   "source": [
    "# Development with the notebook\n",
    "This notebook server can be used as a scratchpad. Work in progress code, algorithms, visualizations, tests, ...\n",
    "\n",
    "The ultimate goal here is to refactor these snippets in well documented and tested python classes and methods so they can be imported easily. \n",
    "\n",
    "The suggested workflow is as follows:\n",
    "1. Use the notebook to prototype and test drive your development\n",
    "2. Migrate your developed code into the project. Create a python file, organize it in classes,...\n",
    "3. Document your migrated code (docstring) so it's functionality is documented in the sphinx docs.\n",
    "4. Import the migrated code back into this notebook and develop tests around it.\n",
    "5. Include these tests in the project.\n",
    "6. Cleanup your notebook as the functionality is now in the python project and can be easily imported in the future.\n"
   ]
  },
  {
   "cell_type": "markdown",
   "metadata": {},
   "source": [
    "## Import the source code of the project\n",
    "Updates to the project's source need to be reflected here so it's possible to add new functionality and fix bugs which are directly reflected here. Jupyter supports this behaviour with the `autoreload` magic. \n",
    "\n",
    "The 2 cells below will setup this autoreload functionality (so the original import is not cached) and add the project path to the system path. Now the project source can be imported (without installing it as a python package)."
   ]
  },
  {
   "cell_type": "code",
   "execution_count": 6,
   "metadata": {
    "ExecuteTime": {
     "end_time": "2022-06-16T14:47:08.852940Z",
     "start_time": "2022-06-16T14:47:08.805966Z"
    }
   },
   "outputs": [
    {
     "name": "stdout",
     "output_type": "stream",
     "text": [
      "The autoreload extension is already loaded. To reload it, use:\n",
      "  %reload_ext autoreload\n"
     ]
    }
   ],
   "source": [
    "%load_ext autoreload\n",
    "%autoreload 2\n",
    "# %matplotlib inline"
   ]
  },
  {
   "cell_type": "code",
   "execution_count": 7,
   "metadata": {
    "ExecuteTime": {
     "end_time": "2022-06-16T14:47:10.411668Z",
     "start_time": "2022-06-16T14:47:09.429114Z"
    }
   },
   "outputs": [
    {
     "name": "stdout",
     "output_type": "stream",
     "text": [
      "PROJECT_PATH = /home/pietro.dantuono@24SEA.local/Projects/MAXWind/py_fatigue\n",
      "Platform: Linux-6.8.0-52-generic-x86_64-with-glibc2.2.5\n",
      "Python version: 3.8.15 (default, Nov  6 2022, 02:12:40) \n",
      "[Clang 14.0.3 ]\n",
      "numpy version: 1.23.5\n"
     ]
    }
   ],
   "source": [
    "import datetime as dt\n",
    "import os\n",
    "import platform\n",
    "import sys\n",
    "import numpy as np\n",
    "import pandas as pd\n",
    "import matplotlib.pyplot as plt\n",
    "import plotly.graph_objs as go\n",
    "\n",
    "PROJECT_PATH = os.path.dirname(os.getcwd())\n",
    "print(f'PROJECT_PATH = {PROJECT_PATH}')\n",
    "\n",
    "if not PROJECT_PATH in sys.path:\n",
    "    sys.path.append(PROJECT_PATH)\n",
    "    \n",
    "print('Platform:', platform.platform())\n",
    "print('Python version:', sys.version)\n",
    "print('numpy version:', np.__version__)\n",
    "np.set_printoptions(threshold=sys.maxsize)"
   ]
  },
  {
   "cell_type": "code",
   "execution_count": 8,
   "metadata": {
    "ExecuteTime": {
     "end_time": "2022-06-16T14:47:10.475159Z",
     "start_time": "2022-06-16T14:47:10.411668Z"
    }
   },
   "outputs": [],
   "source": [
    "#matplotlib tweaking\n",
    "plt.rcParams['figure.figsize'] = (10.5/2.514/0.7, 4.5/2.514/0.7)\n",
    "plt.rcParams[\"font.family\"] = \"Sans\"\n",
    "plt.rcParams[\"font.size\"] = 10\n",
    "# plt.rcParams[\"axes.grid\"] = True\n",
    "# plt.rcParams['grid.color'] = \"#CCCCCC\"\n",
    "# plt.rcParams['grid.linestyle'] = \"-\"\n",
    "# plt.rcParams['grid.color'] = \"#DDDDDD\"\n",
    "# plt.rcParams['grid.linestyle'] = \"-\"\n",
    "plt.rcParams['axes.spines.right'] = False\n",
    "plt.rcParams['axes.spines.top'] = False\n",
    "plt.rcParams['lines.markersize'] = 3\n",
    "plt.rcParams['xtick.bottom'] = False\n",
    "plt.rcParams['xtick.labelbottom'] = True\n",
    "plt.rcParams['ytick.left'] = False\n",
    "plt.rcParams['ytick.labelleft'] = True"
   ]
  },
  {
   "cell_type": "markdown",
   "metadata": {},
   "source": [
    "## Import and use the functionality"
   ]
  },
  {
   "cell_type": "code",
   "execution_count": 9,
   "metadata": {
    "ExecuteTime": {
     "end_time": "2022-06-16T14:47:12.468692Z",
     "start_time": "2022-06-16T14:47:11.748517Z"
    }
   },
   "outputs": [],
   "source": [
    "# Use the package\n",
    "import py_fatigue as pf\n",
    "import py_fatigue.cycle_count.rainflow as rf\n",
    "import py_fatigue.cycle_count.histogram as ht\n",
    "from py_fatigue.version import parse_version, __version__\n",
    "v = parse_version(__version__)"
   ]
  },
  {
   "cell_type": "code",
   "execution_count": 10,
   "metadata": {},
   "outputs": [
    {
     "name": "stdout",
     "output_type": "stream",
     "text": [
      "Version(major=1, minor=3, patch=2, release=None, num=None)\n"
     ]
    }
   ],
   "source": [
    "print(v)"
   ]
  }
 ],
 "metadata": {
  "hide_input": false,
  "kernelspec": {
   "display_name": ".venv",
   "language": "python",
   "name": "python3"
  },
  "language_info": {
   "codemirror_mode": {
    "name": "ipython",
    "version": 3
   },
   "file_extension": ".py",
   "mimetype": "text/x-python",
   "name": "python",
   "nbconvert_exporter": "python",
   "pygments_lexer": "ipython3",
   "version": "3.8.15"
  },
  "latex_envs": {
   "LaTeX_envs_menu_present": true,
   "autoclose": false,
   "autocomplete": true,
   "bibliofile": "biblio.bib",
   "cite_by": "apalike",
   "current_citInitial": 1,
   "eqLabelWithNumbers": true,
   "eqNumInitial": 1,
   "hotkeys": {
    "equation": "Ctrl-E",
    "itemize": "Ctrl-I"
   },
   "labels_anchors": false,
   "latex_user_defs": false,
   "report_style_numbering": false,
   "user_envs_cfg": false
  },
  "toc": {
   "base_numbering": 1,
   "nav_menu": {},
   "number_sections": true,
   "sideBar": true,
   "skip_h1_title": true,
   "title_cell": "Table of Contents",
   "title_sidebar": "Contents",
   "toc_cell": true,
   "toc_position": {},
   "toc_section_display": true,
   "toc_window_display": false
  }
 },
 "nbformat": 4,
 "nbformat_minor": 2
}
