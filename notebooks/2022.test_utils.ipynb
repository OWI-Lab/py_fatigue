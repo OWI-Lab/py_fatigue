{
 "cells": [
  {
   "cell_type": "markdown",
   "id": "3c451bb6",
   "metadata": {
    "toc": true
   },
   "source": [
    "<h1>Table of Contents<span class=\"tocSkip\"></span></h1>\n",
    "<div class=\"toc\"><ul class=\"toc-item\"></ul></div>"
   ]
  },
  {
   "cell_type": "code",
   "execution_count": 1,
   "id": "63b613d9",
   "metadata": {
    "ExecuteTime": {
     "end_time": "2022-05-24T13:38:05.429713Z",
     "start_time": "2022-05-24T13:38:05.384639Z"
    }
   },
   "outputs": [],
   "source": [
    "%load_ext autoreload\n",
    "%autoreload 2\n",
    "# %matplotlib inline"
   ]
  },
  {
   "cell_type": "code",
   "execution_count": 2,
   "id": "78a9042c",
   "metadata": {
    "ExecuteTime": {
     "end_time": "2022-05-24T13:38:08.363593Z",
     "start_time": "2022-05-24T13:38:05.687123Z"
    }
   },
   "outputs": [
    {
     "name": "stdout",
     "output_type": "stream",
     "text": [
      "PROJECT_PATH = C:\\Users\\pietr\\Documents\\Azure\\py_fatigue\n",
      "Platform: Windows-10-10.0.25120-SP0\n",
      "Python version: 3.9.6 (tags/v3.9.6:db3ff76, Jun 28 2021, 15:26:21) [MSC v.1929 64 bit (AMD64)]\n",
      "numpy version: 1.21.5\n"
     ]
    }
   ],
   "source": [
    "import datetime as dt\n",
    "import os\n",
    "import platform\n",
    "import sys\n",
    "import numpy as np\n",
    "import pandas as pd\n",
    "import matplotlib\n",
    "import matplotlib.pyplot as plt\n",
    "import plotly.graph_objs as go\n",
    "\n",
    "PROJECT_PATH = os.path.dirname(os.getcwd())\n",
    "print(f'PROJECT_PATH = {PROJECT_PATH}')\n",
    "\n",
    "if not PROJECT_PATH in sys.path:\n",
    "    sys.path.append(PROJECT_PATH)\n",
    "    \n",
    "print('Platform:', platform.platform())\n",
    "print('Python version:', sys.version)\n",
    "print('numpy version:', np.__version__)\n",
    "np.set_printoptions(threshold=sys.maxsize)"
   ]
  },
  {
   "cell_type": "code",
   "execution_count": 3,
   "id": "943a556b",
   "metadata": {
    "ExecuteTime": {
     "end_time": "2022-05-24T13:38:08.440169Z",
     "start_time": "2022-05-24T13:38:08.365597Z"
    }
   },
   "outputs": [],
   "source": [
    "#matplotlib tweaking\n",
    "plt.rcParams['figure.figsize'] = (10.5/2.514/0.7, 4.5/2.514/0.7)\n",
    "plt.rcParams[\"font.family\"] = \"Sans\"\n",
    "plt.rcParams[\"font.size\"] = 10\n",
    "plt.rcParams[\"axes.grid\"] = True\n",
    "plt.rcParams['grid.color'] = \"#CCCCCC\"\n",
    "plt.rcParams['grid.linestyle'] = \"-\"\n",
    "plt.rcParams['grid.color'] = \"#DDDDDD\"\n",
    "plt.rcParams['grid.linestyle'] = \"-\"\n",
    "plt.rcParams['axes.spines.right'] = False\n",
    "plt.rcParams['axes.spines.top'] = False\n",
    "plt.rcParams['lines.markersize'] = 3\n",
    "plt.rcParams['xtick.bottom'] = False\n",
    "plt.rcParams['xtick.labelbottom'] = True\n",
    "plt.rcParams['ytick.left'] = False\n",
    "plt.rcParams['ytick.labelleft'] = True"
   ]
  },
  {
   "cell_type": "code",
   "execution_count": 4,
   "id": "09bb7468",
   "metadata": {
    "ExecuteTime": {
     "end_time": "2022-05-24T13:38:08.517728Z",
     "start_time": "2022-05-24T13:38:08.444181Z"
    }
   },
   "outputs": [],
   "source": [
    "import py_fatigue.utils as pu"
   ]
  },
  {
   "cell_type": "code",
   "execution_count": 47,
   "id": "36ab38ac",
   "metadata": {
    "ExecuteTime": {
     "end_time": "2022-05-25T09:04:06.087661Z",
     "start_time": "2022-05-25T09:04:05.942522Z"
    }
   },
   "outputs": [
    {
     "data": {
      "text/plain": [
       "99.0"
      ]
     },
     "execution_count": 47,
     "metadata": {},
     "output_type": "execute_result"
    }
   ],
   "source": [
    "# test_bin_upper_bound\n",
    "pu.bin_upper_bound(-10, 5, 100.5)  # 105\n",
    "pu.bin_upper_bound(60, 6, -20)  # -18\n",
    "pu.bin_upper_bound(60, 6, 60)  # 60\n",
    "pu.bin_upper_bound(0, 1, 99)  # 99\n",
    "pu.bin_upper_bound(0, 1, 98.9)  # 99\n",
    "\n",
    "# pu.bin_upper_bound(1, 3, 2)  # 99\n"
   ]
  },
  {
   "cell_type": "code",
   "execution_count": 38,
   "id": "1100a758",
   "metadata": {
    "ExecuteTime": {
     "end_time": "2022-05-25T08:16:36.746580Z",
     "start_time": "2022-05-25T08:16:35.608863Z"
    }
   },
   "outputs": [
    {
     "data": {
      "text/plain": [
       "array([1., 4.])"
      ]
     },
     "execution_count": 38,
     "metadata": {},
     "output_type": "execute_result"
    }
   ],
   "source": [
    "# calc_bin_edges\n",
    "pu.calc_bin_edges(1, 2, 3)  # 1\n",
    "# pu.calc_bin_edges(1, -1, 3)  # empty\n",
    "# pu.calc_bin_edges(1,10, 1)  # 10\n",
    "# pu.calc_bin_edges(1,10.1, 1)  # 11\n",
    "# pu.calc_bin_edges(1,10.1, 0.5)  # 10.5\n",
    "# pu.calc_bin_edges(1.1,10.1, 0.2)  # 10.1"
   ]
  },
  {
   "cell_type": "code",
   "execution_count": 35,
   "id": "ead81b0a",
   "metadata": {
    "ExecuteTime": {
     "end_time": "2022-05-23T16:23:29.022758Z",
     "start_time": "2022-05-23T16:23:28.958306Z"
    }
   },
   "outputs": [
    {
     "name": "stderr",
     "output_type": "stream",
     "text": [
      "C:\\Users\\pietr\\Documents\\Azure\\py_fatigue\\py_fatigue\\utils.py:379: RuntimeWarning: invalid value encountered in remainder\n",
      "  Left edge of the first bin\n"
     ]
    },
    {
     "data": {
      "text/plain": [
       "(array([ 0,  1,  2,  3,  4,  5,  6,  7,  8,  9, 10], dtype=int64),\n",
       " array([], dtype=int64))"
      ]
     },
     "execution_count": 35,
     "metadata": {},
     "output_type": "execute_result"
    }
   ],
   "source": [
    "pu.split_full_cycles_and_residuals(np.hstack([arr_1, [np.nan]]))"
   ]
  },
  {
   "cell_type": "code",
   "execution_count": 51,
   "id": "9bb3baef",
   "metadata": {
    "ExecuteTime": {
     "end_time": "2022-05-25T09:38:58.624939Z",
     "start_time": "2022-05-25T09:38:58.465460Z"
    }
   },
   "outputs": [
    {
     "data": {
      "text/plain": [
       "(array([ 0,  1,  2,  3,  4,  5,  6,  7,  8,  9, 10], dtype=int64),\n",
       " array([11, 12, 13, 14, 15], dtype=int64))"
      ]
     },
     "execution_count": 51,
     "metadata": {},
     "output_type": "execute_result"
    }
   ],
   "source": [
    "# test_split_full_cycles_and_residuals\n",
    "\n",
    "arr_1 = np.asarray([1, 2, 6, 8, 7, 7, 14, 2,  9, 4, 3], dtype=float)\n",
    "arr_2 = np.insert(arr_1, [0, 1, 4], 0.5)\n",
    "arr_3 = np.insert(arr_1, [-1, -1, -1], 0.5)\n",
    "arr_4 = np.append(arr_1, [0.5, 0.5, 0.5, 0.5, 0.5])\n",
    "arr_5 = np.hstack([arr_1, [np.nan]])\n",
    "pu.split_full_cycles_and_residuals(arr_1)  # (array([0, 1, 2, 3, 4, 5, 6, 7, 8, 9], dtype=int64), array([], dtype=int64))\n",
    "pu.split_full_cycles_and_residuals(arr_2)  # (array([ 1,  3,  4,  5,  7,  8,  9, 10, 11, 12], dtype=int64), array([0, 2, 6], dtype=int64))\n",
    "pu.split_full_cycles_and_residuals(arr_3)  # (array([ 0,  1,  2,  3,  4,  5,  6,  7,  8, 12], dtype=int64), array([ 9, 10, 11], dtype=int64))\n",
    "pu.split_full_cycles_and_residuals(arr_4)  # (array([0, 1, 2, 3, 4, 5, 6, 7, 8, 9], dtype=int64), array([10, 11, 12, 13, 14], dtype=int64))"
   ]
  },
  {
   "cell_type": "code",
   "execution_count": 53,
   "id": "2b80843f",
   "metadata": {
    "ExecuteTime": {
     "end_time": "2022-05-25T09:39:13.866640Z",
     "start_time": "2022-05-25T09:39:13.779063Z"
    }
   },
   "outputs": [
    {
     "name": "stderr",
     "output_type": "stream",
     "text": [
      "C:\\Users\\pietr\\Documents\\Azure\\py_fatigue\\py_fatigue\\utils.py:379: RuntimeWarning: invalid value encountered in remainder\n",
      "  full_idx = np.where((split[:, 1] % 1 == 0) & (split[:, 1] > 0))[0]\n"
     ]
    },
    {
     "data": {
      "text/plain": [
       "array([], dtype=int32)"
      ]
     },
     "execution_count": 53,
     "metadata": {},
     "output_type": "execute_result"
    }
   ],
   "source": [
    "pu.calc_half_cycles(np.arange(1, len(arr_1) + 1, 1), arr_1)  # array([], dtype=int32)\n",
    "pu.calc_half_cycles(np.arange(1, len(arr_2) + 1, 1), arr_2)  # array([1, 3, 7])\n",
    "# pu.calc_half_cycles(np.arange(1, len(arr_3) + 1, 1), arr_3)  # array([10, 11, 12])\n",
    "# pu.calc_half_cycles(np.arange(1, len(arr_4) + 1, 1), arr_4)  # array([11, 12, 13, 14, 15])\n",
    "pu.calc_half_cycles(np.arange(1, len(arr_5) + 1, 1), arr_5)  # array([11, 12, 13, 14, 15])"
   ]
  },
  {
   "cell_type": "code",
   "execution_count": 58,
   "id": "d7f02b9d",
   "metadata": {
    "ExecuteTime": {
     "end_time": "2022-05-25T09:51:38.807499Z",
     "start_time": "2022-05-25T09:51:38.731028Z"
    }
   },
   "outputs": [
    {
     "data": {
      "text/plain": [
       "array([ 1,  2,  2,  3,  3,  3,  3,  3,  3,  4,  4,  4,  4,  4,  4,  4,  4,\n",
       "        5,  5,  5,  5,  5,  5,  5,  6,  6,  6,  6,  6,  6,  6,  7,  7,  7,\n",
       "        7,  7,  7,  7,  7,  7,  7,  7,  7,  7,  7,  8,  8,  9,  9,  9,  9,\n",
       "        9,  9,  9,  9,  9, 10, 10, 10, 10, 11, 11, 11])"
      ]
     },
     "execution_count": 58,
     "metadata": {},
     "output_type": "execute_result"
    }
   ],
   "source": [
    "pu.calc_full_cycles(np.arange(1, len(arr_1) + 1, 1), arr_1)  # array([ 1,  1,  1,  1,  1,  1,  1,  1,  1,  1,  1,  1,  1,  1,  1,  1,  1,\n",
    "                                                             #         1,  1,  1,  1,  1,  2,  2,  2,  2,  2,  2,  2,  2,  2,  2,  2,  2,\n",
    "                                                             #         2,  2,  2,  2,  2,  2,  2,  2,  2,  2,  2,  2,  2,  2,  2,  2,  2,\n",
    "                                                             #         2,  2,  2,  2,  2,  2,  2,  3,  3,  3,  3,  3,  3,  3,  3,  3,  3,\n",
    "                                                             #         3,  3,  3,  3,  3,  3,  3,  3,  3,  3,  3,  3,  3,  3,  3,  3,  3,\n",
    "                                                             #         3,  3,  3,  3,  3,  3,  3,  3,  3,  3,  3,  4,  4,  4,  4,  4,  4,\n",
    "                                                             #         4,  4,  4,  4,  4,  4,  4,  4,  4,  4,  4,  4,  4,  4,  4,  4,  4,\n",
    "                                                             #         4,  4,  4,  4,  4,  4,  4,  4,  4,  4,  4,  4,  4,  4,  4,  4,  4,\n",
    "                                                             #         4,  4,  4,  4,  4,  4,  4,  4,  4,  4,  4,  4,  4,  4,  4,  4,  4,\n",
    "                                                             #         4,  4,  4,  4,  4,  4,  4,  4,  4,  4,  4,  4,  4,  4,  4,  4,  5,\n",
    "                                                             #         5,  5,  5,  5,  5,  5,  5,  5,  5,  5,  5,  5,  5,  5,  5,  5,  5,\n",
    "                                                             #         5,  5,  5,  5,  5,  5,  5,  5,  5,  5,  5,  5,  5,  5,  5,  5,  5,\n",
    "                                                             #         5,  5,  5,  5,  5,  5,  5,  5,  5,  5,  5,  5,  6,  6,  6,  6,  6,\n",
    "                                                             #         6,  6,  6,  6,  6,  6,  6,  6,  6,  6,  6,  6,  6,  6,  6,  6,  6,\n",
    "                                                             #         6,  6,  6,  6,  6,  6,  6,  6,  6,  6,  6,  6,  6,  6,  6,  6,  6,\n",
    "                                                             #         6,  6,  6,  6,  6,  6,  6,  6,  6,  6,  6,  6,  6,  6,  6,  6,  6,\n",
    "                                                             #         6,  6,  6,  6,  6,  6,  6,  6,  6,  6,  6,  6,  6,  6,  6,  6,  6,\n",
    "                                                             #         6,  6,  6,  6,  6,  6,  6,  6,  6,  6,  6,  7,  7,  7,  7,  7,  7,\n",
    "                                                             #         7,  7,  7,  7,  7,  7,  7,  7,  7,  7,  7,  7,  7,  7,  7,  7,  7,\n",
    "                                                             #         7,  7,  7,  7,  7,  7,  8,  8,  8,  8,  8,  8,  8,  8,  8,  9,  9,\n",
    "                                                             #         9,  9,  9,  9,  9,  9,  9,  9,  9,  9,  9,  9,  9,  9,  9,  9,  9,\n",
    "                                                             #         9,  9,  9,  9,  9,  9,  9,  9,  9,  9,  9,  9,  9,  9,  9,  9,  9,\n",
    "                                                             #         9,  9,  9,  9,  9,  9,  9,  9,  9,  9,  9,  9,  9,  9,  9,  9,  9,\n",
    "                                                             #         9,  9,  9,  9,  9,  9,  9,  9,  9,  9,  9,  9,  9,  9,  9,  9,  9,\n",
    "                                                             #         9,  9,  9,  9, 10, 10, 10, 10, 10, 10, 10, 10, 10, 10, 10, 10, 10,\n",
    "                                                             #        10, 10, 10, 10, 10, 10, 10, 10, 10, 10, 10, 10, 10, 10, 10, 10, 10])\n",
    "\n",
    "pu.calc_full_cycles(np.arange(1, len(arr_2) + 1, 1), arr_2)  # array([ 2,  2,  2,  2,  2,  2,  2,  2,  2,  2,  2,  2,  2,  2,  2,  2,  2,\n",
    "#                                                              #         2,  2,  2,  2,  2,  4,  4,  4,  4,  4,  4,  4,  4,  4,  4,  4,  4,\n",
    "#                                                              #         4,  4,  4,  4,  4,  4,  4,  4,  4,  4,  4,  4,  4,  4,  4,  4,  4,\n",
    "#                                                              #         4,  4,  4,  4,  4,  4,  4,  5,  5,  5,  5,  5,  5,  5,  5,  5,  5,\n",
    "#                                                              #         5,  5,  5,  5,  5,  5,  5,  5,  5,  5,  5,  5,  5,  5,  5,  5,  5,\n",
    "#                                                              #         5,  5,  5,  5,  5,  5,  5,  5,  5,  5,  5,  6,  6,  6,  6,  6,  6,\n",
    "#                                                              #         6,  6,  6,  6,  6,  6,  6,  6,  6,  6,  6,  6,  6,  6,  6,  6,  6,\n",
    "#                                                              #         6,  6,  6,  6,  6,  6,  6,  6,  6,  6,  6,  6,  6,  6,  6,  6,  6,\n",
    "#                                                              #         6,  6,  6,  6,  6,  6,  6,  6,  6,  6,  6,  6,  6,  6,  6,  6,  6,\n",
    "#                                                              #         6,  6,  6,  6,  6,  6,  6,  6,  6,  6,  6,  6,  6,  6,  6,  6,  8,\n",
    "#                                                              #         8,  8,  8,  8,  8,  8,  8,  8,  8,  8,  8,  8,  8,  8,  8,  8,  8,\n",
    "#                                                              #         8,  8,  8,  8,  8,  8,  8,  8,  8,  8,  8,  8,  8,  8,  8,  8,  8,\n",
    "#                                                              #         8,  8,  8,  8,  8,  8,  8,  8,  8,  8,  8,  8,  9,  9,  9,  9,  9,\n",
    "#                                                              #         9,  9,  9,  9,  9,  9,  9,  9,  9,  9,  9,  9,  9,  9,  9,  9,  9,\n",
    "#                                                              #         9,  9,  9,  9,  9,  9,  9,  9,  9,  9,  9,  9,  9,  9,  9,  9,  9,\n",
    "#                                                              #         9,  9,  9,  9,  9,  9,  9,  9,  9,  9,  9,  9,  9,  9,  9,  9,  9,\n",
    "#                                                              #         9,  9,  9,  9,  9,  9,  9,  9,  9,  9,  9,  9,  9,  9,  9,  9,  9,\n",
    "#                                                              #         9,  9,  9,  9,  9,  9,  9,  9,  9,  9,  9, 10, 10, 10, 10, 10, 10,\n",
    "#                                                              #         10, 10, 10, 10, 10, 10, 10, 10, 10, 10, 10, 10, 10, 10, 10, 10, 10,\n",
    "#                                                              #         10, 10, 10, 10, 10, 10, 11, 11, 11, 11, 11, 11, 11, 11, 11, 12, 12,\n",
    "#                                                              #         12, 12, 12, 12, 12, 12, 12, 12, 12, 12, 12, 12, 12, 12, 12, 12, 12,\n",
    "#                                                              #         12, 12, 12, 12, 12, 12, 12, 12, 12, 12, 12, 12, 12, 12, 12, 12, 12,\n",
    "#                                                              #         12, 12, 12, 12, 12, 12, 12, 12, 12, 12, 12, 12, 12, 12, 12, 12, 12,\n",
    "#                                                              #         12, 12, 12, 12, 12, 12, 12, 12, 12, 12, 12, 12, 12, 12, 12, 12, 12,\n",
    "#                                                              #         12, 12, 12, 12, 13, 13, 13, 13, 13, 13, 13, 13, 13, 13, 13, 13, 13,\n",
    "#                                                              #         13, 13, 13, 13, 13, 13, 13, 13, 13, 13, 13, 13, 13, 13, 13, 13, 13])\n",
    "\n",
    "pu.calc_full_cycles(np.arange(1, len(arr_3) + 1, 1), arr_3)  # array([ 1,  1,  1,  1,  1,  1,  1,  1,  1,  1,  1,  1,  1,  1,  1,  1,  1,\n",
    "#                                                              #         1,  1,  1,  1,  1,  2,  2,  2,  2,  2,  2,  2,  2,  2,  2,  2,  2,\n",
    "#                                                              #         2,  2,  2,  2,  2,  2,  2,  2,  2,  2,  2,  2,  2,  2,  2,  2,  2,\n",
    "#                                                              #         2,  2,  2,  2,  2,  2,  2,  3,  3,  3,  3,  3,  3,  3,  3,  3,  3,\n",
    "#                                                              #         3,  3,  3,  3,  3,  3,  3,  3,  3,  3,  3,  3,  3,  3,  3,  3,  3,\n",
    "#                                                              #         3,  3,  3,  3,  3,  3,  3,  3,  3,  3,  3,  4,  4,  4,  4,  4,  4,\n",
    "#                                                              #         4,  4,  4,  4,  4,  4,  4,  4,  4,  4,  4,  4,  4,  4,  4,  4,  4,\n",
    "#                                                              #         4,  4,  4,  4,  4,  4,  4,  4,  4,  4,  4,  4,  4,  4,  4,  4,  4,\n",
    "#                                                              #         4,  4,  4,  4,  4,  4,  4,  4,  4,  4,  4,  4,  4,  4,  4,  4,  4,\n",
    "#                                                              #         4,  4,  4,  4,  4,  4,  4,  4,  4,  4,  4,  4,  4,  4,  4,  4,  5,\n",
    "#                                                              #         5,  5,  5,  5,  5,  5,  5,  5,  5,  5,  5,  5,  5,  5,  5,  5,  5,\n",
    "#                                                              #         5,  5,  5,  5,  5,  5,  5,  5,  5,  5,  5,  5,  5,  5,  5,  5,  5,\n",
    "#                                                              #         5,  5,  5,  5,  5,  5,  5,  5,  5,  5,  5,  5,  6,  6,  6,  6,  6,\n",
    "#                                                              #         6,  6,  6,  6,  6,  6,  6,  6,  6,  6,  6,  6,  6,  6,  6,  6,  6,\n",
    "#                                                              #         6,  6,  6,  6,  6,  6,  6,  6,  6,  6,  6,  6,  6,  6,  6,  6,  6,\n",
    "#                                                              #         6,  6,  6,  6,  6,  6,  6,  6,  6,  6,  6,  6,  6,  6,  6,  6,  6,\n",
    "#                                                              #         6,  6,  6,  6,  6,  6,  6,  6,  6,  6,  6,  6,  6,  6,  6,  6,  6,\n",
    "#                                                              #         6,  6,  6,  6,  6,  6,  6,  6,  6,  6,  6,  7,  7,  7,  7,  7,  7,\n",
    "#                                                              #         7,  7,  7,  7,  7,  7,  7,  7,  7,  7,  7,  7,  7,  7,  7,  7,  7,\n",
    "#                                                              #         7,  7,  7,  7,  7,  7,  8,  8,  8,  8,  8,  8,  8,  8,  8,  9,  9,\n",
    "#                                                              #         9,  9,  9,  9,  9,  9,  9,  9,  9,  9,  9,  9,  9,  9,  9,  9,  9,\n",
    "#                                                              #         9,  9,  9,  9,  9,  9,  9,  9,  9,  9,  9,  9,  9,  9,  9,  9,  9,\n",
    "#                                                              #         9,  9,  9,  9,  9,  9,  9,  9,  9,  9,  9,  9,  9,  9,  9,  9,  9,\n",
    "#                                                              #         9,  9,  9,  9,  9,  9,  9,  9,  9,  9,  9,  9,  9,  9,  9,  9,  9,\n",
    "#                                                              #         9,  9,  9,  9, 13, 13, 13, 13, 13, 13, 13, 13, 13, 13, 13, 13, 13,\n",
    "#                                                              #        13, 13, 13, 13, 13, 13, 13, 13, 13, 13, 13, 13, 13, 13, 13, 13, 13])\n",
    "pu.calc_full_cycles(np.arange(1, len(arr_5) + 1, 1), arr_5)  # array([ 1,  1,  1,  1,  1,  1,  1,  1,  1,  1,  1,  1,  1,  1,  1,  1,  1,\n",
    "#                                                              #         1,  1,  1,  1,  1,  2,  2,  2,  2,  2,  2,  2,  2,  2,  2,  2,  2,\n",
    "#                                                              #         2,  2,  2,  2,  2,  2,  2,  2,  2,  2,  2,  2,  2,  2,  2,  2,  2,\n",
    "#                                                              #         2,  2,  2,  2,  2,  2,  2,  3,  3,  3,  3,  3,  3,  3,  3,  3,  3,\n",
    "#                                                              #         3,  3,  3,  3,  3,  3,  3,  3,  3,  3,  3,  3,  3,  3,  3,  3,  3,\n",
    "#                                                              #         3,  3,  3,  3,  3,  3,  3,  3,  3,  3,  3,  4,  4,  4,  4,  4,  4,\n",
    "#                                                              #         4,  4,  4,  4,  4,  4,  4,  4,  4,  4,  4,  4,  4,  4,  4,  4,  4,\n",
    "#                                                              #         4,  4,  4,  4,  4,  4,  4,  4,  4,  4,  4,  4,  4,  4,  4,  4,  4,\n",
    "#                                                              #         4,  4,  4,  4,  4,  4,  4,  4,  4,  4,  4,  4,  4,  4,  4,  4,  4,\n",
    "#                                                              #         4,  4,  4,  4,  4,  4,  4,  4,  4,  4,  4,  4,  4,  4,  4,  4,  5,\n",
    "#                                                              #         5,  5,  5,  5,  5,  5,  5,  5,  5,  5,  5,  5,  5,  5,  5,  5,  5,\n",
    "#                                                              #         5,  5,  5,  5,  5,  5,  5,  5,  5,  5,  5,  5,  5,  5,  5,  5,  5,\n",
    "#                                                              #         5,  5,  5,  5,  5,  5,  5,  5,  5,  5,  5,  5,  6,  6,  6,  6,  6,\n",
    "#                                                              #         6,  6,  6,  6,  6,  6,  6,  6,  6,  6,  6,  6,  6,  6,  6,  6,  6,\n",
    "#                                                              #         6,  6,  6,  6,  6,  6,  6,  6,  6,  6,  6,  6,  6,  6,  6,  6,  6,\n",
    "#                                                              #         6,  6,  6,  6,  6,  6,  6,  6,  6,  6,  6,  6,  6,  6,  6,  6,  6,\n",
    "#                                                              #         6,  6,  6,  6,  6,  6,  6,  6,  6,  6,  6,  6,  6,  6,  6,  6,  6,\n",
    "#                                                              #         6,  6,  6,  6,  6,  6,  6,  6,  6,  6,  6,  7,  7,  7,  7,  7,  7,\n",
    "#                                                              #         7,  7,  7,  7,  7,  7,  7,  7,  7,  7,  7,  7,  7,  7,  7,  7,  7,\n",
    "#                                                              #         7,  7,  7,  7,  7,  7,  8,  8,  8,  8,  8,  8,  8,  8,  8,  9,  9,\n",
    "#                                                              #         9,  9,  9,  9,  9,  9,  9,  9,  9,  9,  9,  9,  9,  9,  9,  9,  9,\n",
    "#                                                              #         9,  9,  9,  9,  9,  9,  9,  9,  9,  9,  9,  9,  9,  9,  9,  9,  9,\n",
    "#                                                              #         9,  9,  9,  9,  9,  9,  9,  9,  9,  9,  9,  9,  9,  9,  9,  9,  9,\n",
    "#                                                              #         9,  9,  9,  9,  9,  9,  9,  9,  9,  9,  9,  9,  9,  9,  9,  9,  9,\n",
    "#                                                              #         9,  9,  9,  9, 10, 10, 10, 10, 10, 10, 10, 10, 10, 10, 10, 10, 10,\n",
    "#                                                              #        10, 10, 10, 10, 10, 10, 10, 10, 10, 10, 10, 10, 10, 10, 10, 10, 10])"
   ]
  },
  {
   "cell_type": "code",
   "execution_count": null,
   "id": "9179a3c5",
   "metadata": {
    "ExecuteTime": {
     "end_time": "2022-05-23T08:28:37.563209Z",
     "start_time": "2022-05-23T08:28:37.502621Z"
    }
   },
   "outputs": [],
   "source": [
    "pu.calc_full_cycles(np.arange(1, len(arr_3) + 1, 1), arr_3) array([ 1,  1,  1,  1,  1,  1,  1,  1,  1,  1,  1,  1,  1,  1,  1,  1,  1,\n",
    "        1,  1,  1,  1,  1,  2,  2,  2,  2,  2,  2,  2,  2,  2,  2,  2,  2,\n",
    "        2,  2,  2,  2,  2,  2,  2,  2,  2,  2,  2,  2,  2,  2,  2,  2,  2,\n",
    "        2,  2,  2,  2,  2,  2,  2,  3,  3,  3,  3,  3,  3,  3,  3,  3,  3,\n",
    "        3,  3,  3,  3,  3,  3,  3,  3,  3,  3,  3,  3,  3,  3,  3,  3,  3,\n",
    "        3,  3,  3,  3,  3,  3,  3,  3,  3,  3,  3,  4,  4,  4,  4,  4,  4,\n",
    "        4,  4,  4,  4,  4,  4,  4,  4,  4,  4,  4,  4,  4,  4,  4,  4,  4,\n",
    "        4,  4,  4,  4,  4,  4,  4,  4,  4,  4,  4,  4,  4,  4,  4,  4,  4,\n",
    "        4,  4,  4,  4,  4,  4,  4,  4,  4,  4,  4,  4,  4,  4,  4,  4,  4,\n",
    "        4,  4,  4,  4,  4,  4,  4,  4,  4,  4,  4,  4,  4,  4,  4,  4,  5,\n",
    "        5,  5,  5,  5,  5,  5,  5,  5,  5,  5,  5,  5,  5,  5,  5,  5,  5,\n",
    "        5,  5,  5,  5,  5,  5,  5,  5,  5,  5,  5,  5,  5,  5,  5,  5,  5,\n",
    "        5,  5,  5,  5,  5,  5,  5,  5,  5,  5,  5,  5,  6,  6,  6,  6,  6,\n",
    "        6,  6,  6,  6,  6,  6,  6,  6,  6,  6,  6,  6,  6,  6,  6,  6,  6,\n",
    "        6,  6,  6,  6,  6,  6,  6,  6,  6,  6,  6,  6,  6,  6,  6,  6,  6,\n",
    "        6,  6,  6,  6,  6,  6,  6,  6,  6,  6,  6,  6,  6,  6,  6,  6,  6,\n",
    "        6,  6,  6,  6,  6,  6,  6,  6,  6,  6,  6,  6,  6,  6,  6,  6,  6,\n",
    "        6,  6,  6,  6,  6,  6,  6,  6,  6,  6,  6,  7,  7,  7,  7,  7,  7,\n",
    "        7,  7,  7,  7,  7,  7,  7,  7,  7,  7,  7,  7,  7,  7,  7,  7,  7,\n",
    "        7,  7,  7,  7,  7,  7,  8,  8,  8,  8,  8,  8,  8,  8,  8,  9,  9,\n",
    "        9,  9,  9,  9,  9,  9,  9,  9,  9,  9,  9,  9,  9,  9,  9,  9,  9,\n",
    "        9,  9,  9,  9,  9,  9,  9,  9,  9,  9,  9,  9,  9,  9,  9,  9,  9,\n",
    "        9,  9,  9,  9,  9,  9,  9,  9,  9,  9,  9,  9,  9,  9,  9,  9,  9,\n",
    "        9,  9,  9,  9,  9,  9,  9,  9,  9,  9,  9,  9,  9,  9,  9,  9,  9,\n",
    "        9,  9,  9,  9, 13, 13, 13, 13, 13, 13, 13, 13, 13, 13, 13, 13, 13,\n",
    "       13, 13, 13, 13, 13, 13, 13, 13, 13, 13, 13, 13, 13, 13, 13, 13, 13])"
   ]
  },
  {
   "cell_type": "code",
   "execution_count": 15,
   "id": "2680b4c3",
   "metadata": {
    "ExecuteTime": {
     "end_time": "2022-05-23T15:04:56.217875Z",
     "start_time": "2022-05-23T15:04:56.135550Z"
    }
   },
   "outputs": [],
   "source": [
    "s1 = pu.FatigueStress(_counts=arr_1, _values=np.arange(1, len(arr_1) + 1, 1), bin_width=0.5)"
   ]
  },
  {
   "cell_type": "code",
   "execution_count": 32,
   "id": "0501166b",
   "metadata": {
    "ExecuteTime": {
     "end_time": "2022-05-23T15:44:16.888343Z",
     "start_time": "2022-05-23T15:44:16.304104Z"
    }
   },
   "outputs": [
    {
     "name": "stdout",
     "output_type": "stream",
     "text": [
      "s1.bin_lb 0.75\n",
      "s1.bin_ub 10.25\n",
      "s1.bin_centers [ 1.   1.5  2.   2.5  3.   3.5  4.   4.5  5.   5.5  6.   6.5  7.   7.5\n",
      "  8.   8.5  9.   9.5 10. ]\n",
      "s1.bin_edges [ 0.75  1.25  1.75  2.25  2.75  3.25  3.75  4.25  4.75  5.25  5.75  6.25\n",
      "  6.75  7.25  7.75  8.25  8.75  9.25  9.75 10.25]\n",
      "s1.counts [22. 36. 38. 73. 47. 84. 29.  9. 74. 30.]\n",
      "s1.values [ 1  2  3  4  5  6  7  8  9 10]\n",
      "s1.full [ 1  1  1  1  1  1  1  1  1  1  1  1  1  1  1  1  1  1  1  1  1  1  2  2\n",
      "  2  2  2  2  2  2  2  2  2  2  2  2  2  2  2  2  2  2  2  2  2  2  2  2\n",
      "  2  2  2  2  2  2  2  2  2  2  3  3  3  3  3  3  3  3  3  3  3  3  3  3\n",
      "  3  3  3  3  3  3  3  3  3  3  3  3  3  3  3  3  3  3  3  3  3  3  3  3\n",
      "  4  4  4  4  4  4  4  4  4  4  4  4  4  4  4  4  4  4  4  4  4  4  4  4\n",
      "  4  4  4  4  4  4  4  4  4  4  4  4  4  4  4  4  4  4  4  4  4  4  4  4\n",
      "  4  4  4  4  4  4  4  4  4  4  4  4  4  4  4  4  4  4  4  4  4  4  4  4\n",
      "  4  5  5  5  5  5  5  5  5  5  5  5  5  5  5  5  5  5  5  5  5  5  5  5\n",
      "  5  5  5  5  5  5  5  5  5  5  5  5  5  5  5  5  5  5  5  5  5  5  5  5\n",
      "  6  6  6  6  6  6  6  6  6  6  6  6  6  6  6  6  6  6  6  6  6  6  6  6\n",
      "  6  6  6  6  6  6  6  6  6  6  6  6  6  6  6  6  6  6  6  6  6  6  6  6\n",
      "  6  6  6  6  6  6  6  6  6  6  6  6  6  6  6  6  6  6  6  6  6  6  6  6\n",
      "  6  6  6  6  6  6  6  6  6  6  6  6  7  7  7  7  7  7  7  7  7  7  7  7\n",
      "  7  7  7  7  7  7  7  7  7  7  7  7  7  7  7  7  7  8  8  8  8  8  8  8\n",
      "  8  8  9  9  9  9  9  9  9  9  9  9  9  9  9  9  9  9  9  9  9  9  9  9\n",
      "  9  9  9  9  9  9  9  9  9  9  9  9  9  9  9  9  9  9  9  9  9  9  9  9\n",
      "  9  9  9  9  9  9  9  9  9  9  9  9  9  9  9  9  9  9  9  9  9  9  9  9\n",
      "  9  9  9  9 10 10 10 10 10 10 10 10 10 10 10 10 10 10 10 10 10 10 10 10\n",
      " 10 10 10 10 10 10 10 10 10 10]\n",
      "s1.half []\n",
      "s1.bins_idx [ 0  0  0  0  0  0  0  0  0  0  0  0  0  0  0  0  0  0  0  0  0  0  2  2\n",
      "  2  2  2  2  2  2  2  2  2  2  2  2  2  2  2  2  2  2  2  2  2  2  2  2\n",
      "  2  2  2  2  2  2  2  2  2  2  4  4  4  4  4  4  4  4  4  4  4  4  4  4\n",
      "  4  4  4  4  4  4  4  4  4  4  4  4  4  4  4  4  4  4  4  4  4  4  4  4\n",
      "  6  6  6  6  6  6  6  6  6  6  6  6  6  6  6  6  6  6  6  6  6  6  6  6\n",
      "  6  6  6  6  6  6  6  6  6  6  6  6  6  6  6  6  6  6  6  6  6  6  6  6\n",
      "  6  6  6  6  6  6  6  6  6  6  6  6  6  6  6  6  6  6  6  6  6  6  6  6\n",
      "  6  8  8  8  8  8  8  8  8  8  8  8  8  8  8  8  8  8  8  8  8  8  8  8\n",
      "  8  8  8  8  8  8  8  8  8  8  8  8  8  8  8  8  8  8  8  8  8  8  8  8\n",
      " 10 10 10 10 10 10 10 10 10 10 10 10 10 10 10 10 10 10 10 10 10 10 10 10\n",
      " 10 10 10 10 10 10 10 10 10 10 10 10 10 10 10 10 10 10 10 10 10 10 10 10\n",
      " 10 10 10 10 10 10 10 10 10 10 10 10 10 10 10 10 10 10 10 10 10 10 10 10\n",
      " 10 10 10 10 10 10 10 10 10 10 10 10 12 12 12 12 12 12 12 12 12 12 12 12\n",
      " 12 12 12 12 12 12 12 12 12 12 12 12 12 12 12 12 12 14 14 14 14 14 14 14\n",
      " 14 14 16 16 16 16 16 16 16 16 16 16 16 16 16 16 16 16 16 16 16 16 16 16\n",
      " 16 16 16 16 16 16 16 16 16 16 16 16 16 16 16 16 16 16 16 16 16 16 16 16\n",
      " 16 16 16 16 16 16 16 16 16 16 16 16 16 16 16 16 16 16 16 16 16 16 16 16\n",
      " 16 16 16 16 18 18 18 18 18 18 18 18 18 18 18 18 18 18 18 18 18 18 18 18\n",
      " 18 18 18 18 18 18 18 18 18 18]\n",
      "s1.binned_values [ 1.  1.  1.  1.  1.  1.  1.  1.  1.  1.  1.  1.  1.  1.  1.  1.  1.  1.\n",
      "  1.  1.  1.  1.  2.  2.  2.  2.  2.  2.  2.  2.  2.  2.  2.  2.  2.  2.\n",
      "  2.  2.  2.  2.  2.  2.  2.  2.  2.  2.  2.  2.  2.  2.  2.  2.  2.  2.\n",
      "  2.  2.  2.  2.  3.  3.  3.  3.  3.  3.  3.  3.  3.  3.  3.  3.  3.  3.\n",
      "  3.  3.  3.  3.  3.  3.  3.  3.  3.  3.  3.  3.  3.  3.  3.  3.  3.  3.\n",
      "  3.  3.  3.  3.  3.  3.  4.  4.  4.  4.  4.  4.  4.  4.  4.  4.  4.  4.\n",
      "  4.  4.  4.  4.  4.  4.  4.  4.  4.  4.  4.  4.  4.  4.  4.  4.  4.  4.\n",
      "  4.  4.  4.  4.  4.  4.  4.  4.  4.  4.  4.  4.  4.  4.  4.  4.  4.  4.\n",
      "  4.  4.  4.  4.  4.  4.  4.  4.  4.  4.  4.  4.  4.  4.  4.  4.  4.  4.\n",
      "  4.  4.  4.  4.  4.  4.  4.  5.  5.  5.  5.  5.  5.  5.  5.  5.  5.  5.\n",
      "  5.  5.  5.  5.  5.  5.  5.  5.  5.  5.  5.  5.  5.  5.  5.  5.  5.  5.\n",
      "  5.  5.  5.  5.  5.  5.  5.  5.  5.  5.  5.  5.  5.  5.  5.  5.  5.  5.\n",
      "  6.  6.  6.  6.  6.  6.  6.  6.  6.  6.  6.  6.  6.  6.  6.  6.  6.  6.\n",
      "  6.  6.  6.  6.  6.  6.  6.  6.  6.  6.  6.  6.  6.  6.  6.  6.  6.  6.\n",
      "  6.  6.  6.  6.  6.  6.  6.  6.  6.  6.  6.  6.  6.  6.  6.  6.  6.  6.\n",
      "  6.  6.  6.  6.  6.  6.  6.  6.  6.  6.  6.  6.  6.  6.  6.  6.  6.  6.\n",
      "  6.  6.  6.  6.  6.  6.  6.  6.  6.  6.  6.  6.  7.  7.  7.  7.  7.  7.\n",
      "  7.  7.  7.  7.  7.  7.  7.  7.  7.  7.  7.  7.  7.  7.  7.  7.  7.  7.\n",
      "  7.  7.  7.  7.  7.  8.  8.  8.  8.  8.  8.  8.  8.  8.  9.  9.  9.  9.\n",
      "  9.  9.  9.  9.  9.  9.  9.  9.  9.  9.  9.  9.  9.  9.  9.  9.  9.  9.\n",
      "  9.  9.  9.  9.  9.  9.  9.  9.  9.  9.  9.  9.  9.  9.  9.  9.  9.  9.\n",
      "  9.  9.  9.  9.  9.  9.  9.  9.  9.  9.  9.  9.  9.  9.  9.  9.  9.  9.\n",
      "  9.  9.  9.  9.  9.  9.  9.  9.  9.  9.  9.  9.  9.  9.  9.  9. 10. 10.\n",
      " 10. 10. 10. 10. 10. 10. 10. 10. 10. 10. 10. 10. 10. 10. 10. 10. 10. 10.\n",
      " 10. 10. 10. 10. 10. 10. 10. 10. 10. 10.]\n"
     ]
    }
   ],
   "source": [
    "print('s1.bin_lb', s1.bin_lb)\n",
    "print('s1.bin_ub', s1.bin_ub)\n",
    "print('s1.bin_centers', s1.bin_centers)\n",
    "print('s1.bin_edges', s1.bin_edges)\n",
    "print('s1.counts', s1.counts)\n",
    "print('s1.values', s1.values)\n",
    "print('s1.full', s1.full)\n",
    "print('s1.half', s1.half)\n",
    "print('s1.bins_idx', s1.bins_idx)\n",
    "print('s1.binned_values', s1.binned_values)"
   ]
  },
  {
   "cell_type": "code",
   "execution_count": 25,
   "id": "fac67877",
   "metadata": {
    "ExecuteTime": {
     "end_time": "2022-05-23T15:13:01.831600Z",
     "start_time": "2022-05-23T15:13:01.771368Z"
    }
   },
   "outputs": [
    {
     "data": {
      "text/plain": [
       "array([22., 36., 38., 73., 47., 84., 29.,  9., 74., 30.])"
      ]
     },
     "execution_count": 25,
     "metadata": {},
     "output_type": "execute_result"
    }
   ],
   "source": [
    "s1.full_counts"
   ]
  },
  {
   "cell_type": "code",
   "execution_count": 31,
   "id": "d1c79ed5",
   "metadata": {
    "ExecuteTime": {
     "end_time": "2022-05-23T15:43:27.931955Z",
     "start_time": "2022-05-23T15:43:27.455855Z"
    }
   },
   "outputs": [
    {
     "data": {
      "text/plain": [
       "array([], dtype=float64)"
      ]
     },
     "execution_count": 31,
     "metadata": {},
     "output_type": "execute_result"
    }
   ],
   "source": [
    "s1.half_counts"
   ]
  },
  {
   "cell_type": "code",
   "execution_count": 28,
   "id": "465bac02",
   "metadata": {
    "ExecuteTime": {
     "end_time": "2022-05-23T15:25:26.738740Z",
     "start_time": "2022-05-23T15:25:26.677811Z"
    }
   },
   "outputs": [
    {
     "data": {
      "text/plain": [
       "74"
      ]
     },
     "execution_count": 28,
     "metadata": {},
     "output_type": "execute_result"
    }
   ],
   "source": []
  },
  {
   "cell_type": "code",
   "execution_count": 16,
   "id": "ddcd94c4",
   "metadata": {
    "ExecuteTime": {
     "end_time": "2022-05-24T13:40:06.814318Z",
     "start_time": "2022-05-24T13:40:06.738662Z"
    }
   },
   "outputs": [],
   "source": [
    "# from hypothesis import  given, strategies as hy\n",
    "# Standard imports\n",
    "from contextlib import nullcontext\n",
    "from typing import Any, Union, Callable, Tuple\n",
    "from unittest.mock import Mock\n",
    "\n",
    "import pytest\n",
    "import warnings\n",
    "\n",
    "# Non-standard imports\n",
    "import numpy as np\n",
    "\n",
    "import py_fatigue.utils as pu\n",
    "\n",
    "pu.UnionOfIntArray\n",
    "\n",
    "# from hypothesis import  given, strategies as hy\n",
    "\n",
    "def expected(x) -> Tuple[Any, nullcontext]:\n",
    "    \"\"\"Mocking function for pytest.mark.parametrize. Expected value\"\"\"\n",
    "    return x, nullcontext()\n",
    "\n",
    "\n",
    "def error(*args: Any, **kwargs: Any) -> None:\n",
    "    \"\"\"Mocking function for pytest.mark.parametrize. Error handling\"\"\"\n",
    "    return Mock(), pytest.raises(*args, **kwargs)\n",
    "\n",
    "\n",
    "COUNTS_1 = np.array([1, 2, 6, 8, 7, 7, 14, 2,  9, 4, 3], dtype=float)\n",
    "EXPECTED_1 = (\n",
    "    np.array([ 0,  1,  2,  3,  4,  5,  6,  7,  8,  9, 10], dtype=np.int64),\n",
    "    np.array([], dtype=np.int64)\n",
    ") \n",
    "COUNTS_2 = np.insert(COUNTS_1, [0, 1, 4], 0.5)\n",
    "EXPECTED_2 = (\n",
    "    np.array([ 1,  3,  4,  5,  7,  8,  9, 10, 11, 12, 13], dtype=np.int64),\n",
    "    np.array([0, 2, 6], dtype=np.int64)\n",
    ")\n",
    "COUNTS_3 = np.insert(COUNTS_1, [-1, -1, -1], 0.5)\n",
    "EXPECTED_3 = (\n",
    "    np.array([ 0,  1,  2,  3,  4,  5,  6,  7,  8,  9, 13], dtype=np.int64),\n",
    "    np.array([10, 11, 12], dtype=np.int64)\n",
    ")\n",
    "COUNTS_4 = np.append(COUNTS_1, [0.5, 0.5, 0.5, 0.5, 0.5])\n",
    "EXPECTED_4 = (\n",
    "    np.array([ 0,  1,  2,  3,  4,  5,  6,  7,  8,  9, 10], dtype=np.int64),\n",
    "    np.array([11, 12, 13, 14, 15], dtype=np.int64)\n",
    ")\n",
    "COUNTS_5 = np.hstack([COUNTS_1, [np.nan]])\n",
    "EXPECTED_5 = EXPECTED_1\n",
    "test_names = \"counts, expected, error\"\n",
    "test_data = [\n",
    "    (COUNTS_1, *expected(EXPECTED_1)),\n",
    "    (COUNTS_2, *expected(EXPECTED_2)),\n",
    "    (COUNTS_3, *expected(EXPECTED_3)),\n",
    "    (COUNTS_4, *expected(EXPECTED_4)),\n",
    "    (COUNTS_4, *error(RuntimeWarning, match=\"invalid value encountered\")),\n",
    "]\n",
    "\n",
    "\n",
    "@pytest.mark.parametrize(test_names, test_data)\n",
    "def test_split_full_cycles_and_residuals(\n",
    "    counts: np.ndarray,\n",
    "    expected: tuple,\n",
    "    error: Callable,\n",
    ") -> None:\n",
    "    \"\"\"Test split_full_cycles_and_residuals function\"\"\"\n",
    "\n",
    "    with error:\n",
    "        calculated_output = pu.split_full_cycles_and_residuals(counts)\n",
    "        assert np.all(calculated_output[0] == expected[0])\n",
    "        assert np.all(calculated_output[1] == expected[1])\n",
    "\n"
   ]
  },
  {
   "cell_type": "code",
   "execution_count": 20,
   "id": "6b5e1fa3",
   "metadata": {
    "ExecuteTime": {
     "end_time": "2022-05-24T13:40:33.575777Z",
     "start_time": "2022-05-24T13:40:33.503206Z"
    }
   },
   "outputs": [
    {
     "ename": "ValueError",
     "evalue": "The truth value of an array with more than one element is ambiguous. Use a.any() or a.all()",
     "output_type": "error",
     "traceback": [
      "\u001b[1;31m---------------------------------------------------------------------------\u001b[0m",
      "\u001b[1;31mValueError\u001b[0m                                Traceback (most recent call last)",
      "Input \u001b[1;32mIn [20]\u001b[0m, in \u001b[0;36m<cell line: 1>\u001b[1;34m()\u001b[0m\n\u001b[1;32m----> 1\u001b[0m np\u001b[38;5;241m.\u001b[39mall(\u001b[43mpu\u001b[49m\u001b[38;5;241;43m.\u001b[39;49m\u001b[43msplit_full_cycles_and_residuals\u001b[49m\u001b[43m(\u001b[49m\u001b[43mCOUNTS_1\u001b[49m\u001b[43m)\u001b[49m\u001b[43m \u001b[49m\u001b[38;5;241;43m==\u001b[39;49m\u001b[43m \u001b[49m\u001b[43mEXPECTED_1\u001b[49m)\n",
      "\u001b[1;31mValueError\u001b[0m: The truth value of an array with more than one element is ambiguous. Use a.any() or a.all()"
     ]
    }
   ],
   "source": [
    "np.all(pu.split_full_cycles_and_residuals(COUNTS_1) == EXPECTED_1)"
   ]
  },
  {
   "cell_type": "code",
   "execution_count": 14,
   "id": "9bf43488",
   "metadata": {
    "ExecuteTime": {
     "end_time": "2022-05-24T13:39:35.141318Z",
     "start_time": "2022-05-24T13:39:35.072790Z"
    }
   },
   "outputs": [
    {
     "data": {
      "text/plain": [
       "(array([ 0,  1,  2,  3,  4,  5,  6,  7,  8,  9, 10], dtype=int64),\n",
       " array([], dtype=int64))"
      ]
     },
     "execution_count": 14,
     "metadata": {},
     "output_type": "execute_result"
    }
   ],
   "source": [
    "pu.split_full_cycles_and_residuals(COUNTS_1)"
   ]
  },
  {
   "cell_type": "code",
   "execution_count": 15,
   "id": "789a24d2",
   "metadata": {
    "ExecuteTime": {
     "end_time": "2022-05-24T13:39:35.932798Z",
     "start_time": "2022-05-24T13:39:35.869001Z"
    }
   },
   "outputs": [
    {
     "data": {
      "text/plain": [
       "(array([ 0,  1,  2,  3,  4,  5,  6,  7,  8,  9, 10], dtype=int64),\n",
       " array([], dtype=int64))"
      ]
     },
     "execution_count": 15,
     "metadata": {},
     "output_type": "execute_result"
    }
   ],
   "source": [
    "EXPECTED_1"
   ]
  },
  {
   "cell_type": "code",
   "execution_count": null,
   "id": "97631245",
   "metadata": {},
   "outputs": [],
   "source": []
  }
 ],
 "metadata": {
  "hide_input": false,
  "kernelspec": {
   "display_name": "pyFatEnv",
   "language": "python",
   "name": "pyfatenv"
  },
  "language_info": {
   "codemirror_mode": {
    "name": "ipython",
    "version": 3
   },
   "file_extension": ".py",
   "mimetype": "text/x-python",
   "name": "python",
   "nbconvert_exporter": "python",
   "pygments_lexer": "ipython3",
   "version": "3.9.6"
  },
  "latex_envs": {
   "LaTeX_envs_menu_present": true,
   "autoclose": false,
   "autocomplete": true,
   "bibliofile": "biblio.bib",
   "cite_by": "apalike",
   "current_citInitial": 1,
   "eqLabelWithNumbers": true,
   "eqNumInitial": 1,
   "hotkeys": {
    "equation": "Ctrl-E",
    "itemize": "Ctrl-I"
   },
   "labels_anchors": false,
   "latex_user_defs": false,
   "report_style_numbering": false,
   "user_envs_cfg": false
  },
  "toc": {
   "base_numbering": 1,
   "nav_menu": {},
   "number_sections": true,
   "sideBar": true,
   "skip_h1_title": true,
   "title_cell": "Table of Contents",
   "title_sidebar": "Contents",
   "toc_cell": true,
   "toc_position": {},
   "toc_section_display": true,
   "toc_window_display": false
  }
 },
 "nbformat": 4,
 "nbformat_minor": 5
}
