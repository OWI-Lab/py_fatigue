{
 "cells": [
  {
   "cell_type": "markdown",
   "id": "332ad3d5",
   "metadata": {
    "toc": true
   },
   "source": [
    "<h1>Table of Contents<span class=\"tocSkip\"></span></h1>\n",
    "<div class=\"toc\"><ul class=\"toc-item\"></ul></div>"
   ]
  },
  {
   "cell_type": "code",
   "execution_count": 1,
   "id": "b5d01036",
   "metadata": {
    "ExecuteTime": {
     "end_time": "2022-06-27T08:55:03.772627Z",
     "start_time": "2022-06-27T08:54:51.049929Z"
    }
   },
   "outputs": [
    {
     "name": "stdout",
     "output_type": "stream",
     "text": [
      "PROJECT_PATH = C:\\Users\\pietr\\Documents\\Azure\\py_fatigue\n"
     ]
    }
   ],
   "source": [
    "# Standard imports\n",
    "import sys\n",
    "import os\n",
    "# Non-standard imports\n",
    "import matplotlib.pyplot as plt\n",
    "import numpy as np\n",
    "import plotly.graph_objs as go\n",
    "\n",
    "PROJECT_PATH = os.path.dirname(os.getcwd())\n",
    "print(f'PROJECT_PATH = {PROJECT_PATH}')\n",
    "\n",
    "if not PROJECT_PATH in sys.path:\n",
    "    sys.path.append(PROJECT_PATH)\n",
    "\n",
    "# Use the package\n",
    "import py_fatigue as pf\n",
    "from py_fatigue.version import parse_version, __version__\n",
    "v = parse_version(__version__)"
   ]
  },
  {
   "cell_type": "code",
   "execution_count": 2,
   "id": "4c676a81",
   "metadata": {
    "ExecuteTime": {
     "end_time": "2022-06-27T08:55:03.802806Z",
     "start_time": "2022-06-27T08:55:03.779611Z"
    }
   },
   "outputs": [],
   "source": [
    "plt.rcParams['figure.figsize'] = (10.5/2.514/0.7, 4.5/2.514/0.7)\n",
    "plt.rcParams[\"font.family\"] = \"Times New Roman\"  # \"Roboto\"\n",
    "plt.rcParams[\"font.size\"] = 12\n",
    "plt.rcParams[\"axes.grid\"] = True\n",
    "plt.rcParams['grid.color'] = \"#CCCCCC\"\n",
    "plt.rcParams['grid.linestyle'] = \"-\"\n",
    "plt.rcParams['grid.color'] = \"#DDDDDD\"\n",
    "plt.rcParams['grid.linestyle'] = \"-\"\n",
    "plt.rcParams['axes.spines.right'] = False\n",
    "plt.rcParams['axes.spines.top'] = False\n",
    "plt.rcParams['lines.markersize'] = 3\n",
    "plt.rcParams['xtick.bottom'] = False\n",
    "plt.rcParams['xtick.labelbottom'] = True\n",
    "plt.rcParams['ytick.left'] = False\n",
    "plt.rcParams['ytick.labelleft'] = True"
   ]
  },
  {
   "cell_type": "code",
   "execution_count": 3,
   "id": "deb1781f",
   "metadata": {
    "ExecuteTime": {
     "end_time": "2022-06-27T08:55:04.529560Z",
     "start_time": "2022-06-27T08:55:03.809820Z"
    }
   },
   "outputs": [
    {
     "data": {
      "image/png": "[encoded data removed]",
      "text/plain": [
       "<Figure size 429.594x184.112 with 1 Axes>"
      ]
     },
     "metadata": {
      "needs_background": "light"
     },
     "output_type": "display_data"
    }
   ],
   "source": [
    "t = np.arange(0, 10.1, 0.1)  # (in seconds)\n",
    "s = 200 * np.sin(np.pi*t) + 100   # (in MPa)\n",
    "plt.plot(t, s)\n",
    "plt.xlabel(\"time, s\")\n",
    "plt.ylabel(\"stress, MPa\")\n",
    "plt.show()"
   ]
  },
  {
   "cell_type": "code",
   "execution_count": 4,
   "id": "5a2769cb",
   "metadata": {
    "ExecuteTime": {
     "end_time": "2022-06-27T08:55:04.609097Z",
     "start_time": "2022-06-27T08:55:04.542561Z"
    },
    "scrolled": true
   },
   "outputs": [
    {
     "data": {
      "text/html": [
       "<div>\n",
       "<style scoped>\n",
       "    .dataframe tbody tr th:only-of-type {\n",
       "        vertical-align: middle;\n",
       "    }\n",
       "\n",
       "    .dataframe tbody tr th {\n",
       "        vertical-align: top;\n",
       "    }\n",
       "\n",
       "    .dataframe thead th {\n",
       "        text-align: right;\n",
       "    }\n",
       "</style>\n",
       "<table border=\"1\" class=\"dataframe\">\n",
       "  <thead>\n",
       "    <tr style=\"text-align: right;\">\n",
       "      <th></th>\n",
       "      <th>Example 2</th>\n",
       "    </tr>\n",
       "    <tr>\n",
       "      <th>Cycle counting object</th>\n",
       "      <th></th>\n",
       "    </tr>\n",
       "  </thead>\n",
       "  <tbody>\n",
       "    <tr>\n",
       "      <th>largest full stress range, MPa</th>\n",
       "      <td>None</td>\n",
       "    </tr>\n",
       "    <tr>\n",
       "      <th>largest stress range, MPa</th>\n",
       "      <td>400.0</td>\n",
       "    </tr>\n",
       "    <tr>\n",
       "      <th>number of full cycles</th>\n",
       "      <td>0</td>\n",
       "    </tr>\n",
       "    <tr>\n",
       "      <th>number of residuals</th>\n",
       "      <td>11</td>\n",
       "    </tr>\n",
       "    <tr>\n",
       "      <th>number of small cycles</th>\n",
       "      <td>0</td>\n",
       "    </tr>\n",
       "    <tr>\n",
       "      <th>stress concentration factor</th>\n",
       "      <td>N/A</td>\n",
       "    </tr>\n",
       "    <tr>\n",
       "      <th>residuals resolved</th>\n",
       "      <td>False</td>\n",
       "    </tr>\n",
       "    <tr>\n",
       "      <th>mean stress-corrected</th>\n",
       "      <td>No</td>\n",
       "    </tr>\n",
       "  </tbody>\n",
       "</table>\n",
       "</div>"
      ],
      "text/plain": [
       "CycleCount(count_cycle=array([0.5, 0.5, 0.5, 0.5, 0.5, 0.5, 0.5, 0.5, 0.5, 0.5, 0.5]), stress_range=array([200., 400., 400., 400., 400., 400., 400., 400., 400., 400., 200.]), mean_stress=array([ 2.00000000e+02,  1.00000000e+02,  1.00000000e+02,  1.00000000e+02,\n",
       "        1.00000000e+02,  1.00000000e+02,  1.00000000e+02,  1.00000000e+02,\n",
       "        1.00000000e+02,  1.00000000e+02, -1.20792265e-13]), timestamp=datetime.datetime(2022, 6, 27, 8, 55, 3, 215655, tzinfo=datetime.timezone.utc), range_bin_lower_bound=0.2, range_bin_width=0.05, _mean_bin_lower_bound=-5.0, mean_bin_width=10, nr_small_cycles=0, residuals_sequence=array([ 100.,  300., -100.,  300., -100.,  300., -100.,  300., -100.,\n",
       "        300., -100.,  100.]), _min_max_sequence=array([], dtype=float64), lffd_solved=False, mean_stress_corrected='No', stress_concentration_factor=1.0, name='Example 2', _time_sequence=None)"
      ]
     },
     "execution_count": 4,
     "metadata": {},
     "output_type": "execute_result"
    }
   ],
   "source": [
    "import datetime\n",
    "cc = pf.CycleCount.from_timeseries(s, time=t, name=\"Example 2\")\n",
    "cc"
   ]
  },
  {
   "cell_type": "code",
   "execution_count": 5,
   "id": "94d7105f",
   "metadata": {
    "ExecuteTime": {
     "end_time": "2022-06-27T08:55:19.456193Z",
     "start_time": "2022-06-27T08:55:13.090063Z"
    }
   },
   "outputs": [],
   "source": [
    "w3a = pf.SNCurve([3, 5], [10.970, 13.617],\n",
    "                 norm='DNVGL-RP-C203', curve='W3', environment='Air')"
   ]
  },
  {
   "cell_type": "code",
   "execution_count": 6,
   "id": "b06d1d4f",
   "metadata": {
    "ExecuteTime": {
     "end_time": "2022-06-27T08:55:25.536334Z",
     "start_time": "2022-06-27T08:55:19.476173Z"
    }
   },
   "outputs": [
    {
     "name": "stdout",
     "output_type": "stream",
     "text": [
      "    count_cycle   mean_stress  stress_range  cycles_to_failure  pm_damage\n",
      "0           0.5  2.000000e+02         200.0       11665.678760   0.000043\n",
      "1           0.5  1.000000e+02         400.0        1458.209845   0.000343\n",
      "2           0.5  1.000000e+02         400.0        1458.209845   0.000343\n",
      "3           0.5  1.000000e+02         400.0        1458.209845   0.000343\n",
      "4           0.5  1.000000e+02         400.0        1458.209845   0.000343\n",
      "5           0.5  1.000000e+02         400.0        1458.209845   0.000343\n",
      "6           0.5  1.000000e+02         400.0        1458.209845   0.000343\n",
      "7           0.5  1.000000e+02         400.0        1458.209845   0.000343\n",
      "8           0.5  1.000000e+02         400.0        1458.209845   0.000343\n",
      "9           0.5  1.000000e+02         400.0        1458.209845   0.000343\n",
      "10          0.5 -1.207923e-13         200.0       11665.678760   0.000043\n",
      "Damage from pandas df: 0.0031716971435032985\n",
      "Damage from  function: 0.0031716971435032985\n"
     ]
    }
   ],
   "source": [
    "df = cc.to_df()\n",
    "df.miner.damage(w3a)\n",
    "print(df)\n",
    "print(f\"Damage from pandas df: {df['pm_damage'].sum()}\")\n",
    "print(f\"Damage from  function: {sum(pf.stress_life.get_pm(cc, w3a))}\")"
   ]
  },
  {
   "cell_type": "code",
   "execution_count": 7,
   "id": "ff9a2684",
   "metadata": {
    "ExecuteTime": {
     "end_time": "2022-06-27T08:55:29.977455Z",
     "start_time": "2022-06-27T08:55:29.926428Z"
    }
   },
   "outputs": [
    {
     "data": {
      "text/html": [
       "<div>\n",
       "<style scoped>\n",
       "    .dataframe tbody tr th:only-of-type {\n",
       "        vertical-align: middle;\n",
       "    }\n",
       "\n",
       "    .dataframe tbody tr th {\n",
       "        vertical-align: top;\n",
       "    }\n",
       "\n",
       "    .dataframe thead th {\n",
       "        text-align: right;\n",
       "    }\n",
       "</style>\n",
       "<table border=\"1\" class=\"dataframe\">\n",
       "  <thead>\n",
       "    <tr style=\"text-align: right;\">\n",
       "      <th></th>\n",
       "      <th>count_cycle</th>\n",
       "      <th>mean_stress</th>\n",
       "      <th>stress_range</th>\n",
       "      <th>cycles_to_failure</th>\n",
       "      <th>pm_damage</th>\n",
       "    </tr>\n",
       "  </thead>\n",
       "  <tbody>\n",
       "    <tr>\n",
       "      <th>0</th>\n",
       "      <td>0.5</td>\n",
       "      <td>2.000000e+02</td>\n",
       "      <td>200.0</td>\n",
       "      <td>11665.678760</td>\n",
       "      <td>0.000043</td>\n",
       "    </tr>\n",
       "    <tr>\n",
       "      <th>1</th>\n",
       "      <td>0.5</td>\n",
       "      <td>1.000000e+02</td>\n",
       "      <td>400.0</td>\n",
       "      <td>1458.209845</td>\n",
       "      <td>0.000343</td>\n",
       "    </tr>\n",
       "    <tr>\n",
       "      <th>2</th>\n",
       "      <td>0.5</td>\n",
       "      <td>1.000000e+02</td>\n",
       "      <td>400.0</td>\n",
       "      <td>1458.209845</td>\n",
       "      <td>0.000343</td>\n",
       "    </tr>\n",
       "    <tr>\n",
       "      <th>3</th>\n",
       "      <td>0.5</td>\n",
       "      <td>1.000000e+02</td>\n",
       "      <td>400.0</td>\n",
       "      <td>1458.209845</td>\n",
       "      <td>0.000343</td>\n",
       "    </tr>\n",
       "    <tr>\n",
       "      <th>4</th>\n",
       "      <td>0.5</td>\n",
       "      <td>1.000000e+02</td>\n",
       "      <td>400.0</td>\n",
       "      <td>1458.209845</td>\n",
       "      <td>0.000343</td>\n",
       "    </tr>\n",
       "    <tr>\n",
       "      <th>5</th>\n",
       "      <td>0.5</td>\n",
       "      <td>1.000000e+02</td>\n",
       "      <td>400.0</td>\n",
       "      <td>1458.209845</td>\n",
       "      <td>0.000343</td>\n",
       "    </tr>\n",
       "    <tr>\n",
       "      <th>6</th>\n",
       "      <td>0.5</td>\n",
       "      <td>1.000000e+02</td>\n",
       "      <td>400.0</td>\n",
       "      <td>1458.209845</td>\n",
       "      <td>0.000343</td>\n",
       "    </tr>\n",
       "    <tr>\n",
       "      <th>7</th>\n",
       "      <td>0.5</td>\n",
       "      <td>1.000000e+02</td>\n",
       "      <td>400.0</td>\n",
       "      <td>1458.209845</td>\n",
       "      <td>0.000343</td>\n",
       "    </tr>\n",
       "    <tr>\n",
       "      <th>8</th>\n",
       "      <td>0.5</td>\n",
       "      <td>1.000000e+02</td>\n",
       "      <td>400.0</td>\n",
       "      <td>1458.209845</td>\n",
       "      <td>0.000343</td>\n",
       "    </tr>\n",
       "    <tr>\n",
       "      <th>9</th>\n",
       "      <td>0.5</td>\n",
       "      <td>1.000000e+02</td>\n",
       "      <td>400.0</td>\n",
       "      <td>1458.209845</td>\n",
       "      <td>0.000343</td>\n",
       "    </tr>\n",
       "    <tr>\n",
       "      <th>10</th>\n",
       "      <td>0.5</td>\n",
       "      <td>-1.207923e-13</td>\n",
       "      <td>200.0</td>\n",
       "      <td>11665.678760</td>\n",
       "      <td>0.000043</td>\n",
       "    </tr>\n",
       "  </tbody>\n",
       "</table>\n",
       "</div>"
      ],
      "text/plain": [
       "    count_cycle   mean_stress  stress_range  cycles_to_failure  pm_damage\n",
       "0           0.5  2.000000e+02         200.0       11665.678760   0.000043\n",
       "1           0.5  1.000000e+02         400.0        1458.209845   0.000343\n",
       "2           0.5  1.000000e+02         400.0        1458.209845   0.000343\n",
       "3           0.5  1.000000e+02         400.0        1458.209845   0.000343\n",
       "4           0.5  1.000000e+02         400.0        1458.209845   0.000343\n",
       "5           0.5  1.000000e+02         400.0        1458.209845   0.000343\n",
       "6           0.5  1.000000e+02         400.0        1458.209845   0.000343\n",
       "7           0.5  1.000000e+02         400.0        1458.209845   0.000343\n",
       "8           0.5  1.000000e+02         400.0        1458.209845   0.000343\n",
       "9           0.5  1.000000e+02         400.0        1458.209845   0.000343\n",
       "10          0.5 -1.207923e-13         200.0       11665.678760   0.000043"
      ]
     },
     "execution_count": 7,
     "metadata": {},
     "output_type": "execute_result"
    }
   ],
   "source": [
    "df"
   ]
  },
  {
   "cell_type": "code",
   "execution_count": 8,
   "id": "15192eb9",
   "metadata": {
    "ExecuteTime": {
     "end_time": "2022-06-27T08:55:33.845815Z",
     "start_time": "2022-06-27T08:55:31.553919Z"
    }
   },
   "outputs": [
    {
     "name": "stderr",
     "output_type": "stream",
     "text": [
      "\u001b[91m\u001b[1mUserWarning:\n",
      "\u001b[0m\u001b[93mIf mean stress correction is performed in the contest of long-term fatigue analysis, please perform the sum of multiple CycleCount instances prior mean stress correction (MSC).\n",
      "In fact, applying the MSC before summing into long-term CycleCount instance results in non-conservative life estimates, as after MSC, low-frequency fatigue cannot be estimated accurately.\u001b[0m\n"
     ]
    },
    {
     "data": {
      "image/png": "[encoded data removed]",
      "text/plain": [
       "<Figure size 429.594x184.112 with 1 Axes>"
      ]
     },
     "metadata": {
      "needs_background": "light"
     },
     "output_type": "display_data"
    },
    {
     "data": {
      "image/png": "[encoded data removed]",
      "text/plain": [
       "<Figure size 429.594x184.112 with 1 Axes>"
      ]
     },
     "metadata": {
      "needs_background": "light"
     },
     "output_type": "display_data"
    }
   ],
   "source": [
    "cc_corr_6 = cc.mean_stress_correction(\n",
    "    correction_type = \"DNVGL-RP-C203\",\n",
    "    plot = True,\n",
    "    detail_factor=0.6,\n",
    "  )\n",
    "cc_corr_8 = cc.mean_stress_correction(\n",
    "    correction_type = \"DNVGL-RP-C203\",\n",
    "    plot = True,\n",
    "    detail_factor=0.8,\n",
    ")"
   ]
  },
  {
   "cell_type": "code",
   "execution_count": 9,
   "id": "a1bf9c2e",
   "metadata": {
    "ExecuteTime": {
     "end_time": "2022-06-27T08:55:37.827429Z",
     "start_time": "2022-06-27T08:55:37.790097Z"
    }
   },
   "outputs": [
    {
     "data": {
      "text/html": [
       "<div>\n",
       "<style scoped>\n",
       "    .dataframe tbody tr th:only-of-type {\n",
       "        vertical-align: middle;\n",
       "    }\n",
       "\n",
       "    .dataframe tbody tr th {\n",
       "        vertical-align: top;\n",
       "    }\n",
       "\n",
       "    .dataframe thead th {\n",
       "        text-align: right;\n",
       "    }\n",
       "</style>\n",
       "<table border=\"1\" class=\"dataframe\">\n",
       "  <thead>\n",
       "    <tr style=\"text-align: right;\">\n",
       "      <th></th>\n",
       "      <th>Example 2</th>\n",
       "    </tr>\n",
       "    <tr>\n",
       "      <th>Cycle counting object</th>\n",
       "      <th></th>\n",
       "    </tr>\n",
       "  </thead>\n",
       "  <tbody>\n",
       "    <tr>\n",
       "      <th>largest full stress range, MPa</th>\n",
       "      <td>None</td>\n",
       "    </tr>\n",
       "    <tr>\n",
       "      <th>largest stress range, MPa</th>\n",
       "      <td>360.0</td>\n",
       "    </tr>\n",
       "    <tr>\n",
       "      <th>number of full cycles</th>\n",
       "      <td>0</td>\n",
       "    </tr>\n",
       "    <tr>\n",
       "      <th>number of residuals</th>\n",
       "      <td>11</td>\n",
       "    </tr>\n",
       "    <tr>\n",
       "      <th>number of small cycles</th>\n",
       "      <td>0</td>\n",
       "    </tr>\n",
       "    <tr>\n",
       "      <th>stress concentration factor</th>\n",
       "      <td>N/A</td>\n",
       "    </tr>\n",
       "    <tr>\n",
       "      <th>residuals resolved</th>\n",
       "      <td>True</td>\n",
       "    </tr>\n",
       "    <tr>\n",
       "      <th>mean stress-corrected</th>\n",
       "      <td>DNVGL-RP-C203: {'detail_factor': 0.6}</td>\n",
       "    </tr>\n",
       "  </tbody>\n",
       "</table>\n",
       "</div>"
      ],
      "text/plain": [
       "CycleCount(count_cycle=array([0.5, 0.5, 0.5, 0.5, 0.5, 0.5, 0.5, 0.5, 0.5, 0.5, 0.5]), stress_range=array([200., 360., 360., 360., 360., 360., 360., 360., 360., 360., 160.]), mean_stress=array([100., 180., 180., 180., 180., 180., 180., 180., 180., 180.,  80.]), timestamp=datetime.datetime(2022, 6, 27, 8, 55, 3, 215655, tzinfo=datetime.timezone.utc), range_bin_lower_bound=0.2, range_bin_width=0.05, _mean_bin_lower_bound=-5.0, mean_bin_width=10, nr_small_cycles=0, residuals_sequence=array([ 100.,  300., -100.,  300., -100.,  300., -100.,  300., -100.,\n",
       "        300., -100.,  100.]), _min_max_sequence=array([], dtype=float64), lffd_solved=True, mean_stress_corrected=\"DNVGL-RP-C203: {'detail_factor': 0.6}\", stress_concentration_factor=1.0, name='Example 2', _time_sequence=array([datetime.datetime(2022, 6, 27, 8, 55, 3, 215655, tzinfo=datetime.timezone.utc)],\n",
       "      dtype=object))"
      ]
     },
     "execution_count": 9,
     "metadata": {},
     "output_type": "execute_result"
    }
   ],
   "source": [
    "cc_corr_6"
   ]
  },
  {
   "cell_type": "code",
   "execution_count": 10,
   "id": "d57b9157",
   "metadata": {
    "ExecuteTime": {
     "end_time": "2022-06-27T08:56:15.008395Z",
     "start_time": "2022-06-27T08:56:14.391639Z"
    },
    "scrolled": false
   },
   "outputs": [
    {
     "name": "stderr",
     "output_type": "stream",
     "text": [
      "\u001b[91m\u001b[1mUserWarning:\n",
      "\u001b[0m\u001b[93mIf mean stress correction is performed in the contest of long-term fatigue analysis, please perform the sum of multiple CycleCount instances prior mean stress correction (MSC).\n",
      "In fact, applying the MSC before summing into long-term CycleCount instance results in non-conservative life estimates, as after MSC, low-frequency fatigue cannot be estimated accurately.\u001b[0m\n"
     ]
    },
    {
     "data": {
      "text/html": [
       "<div>\n",
       "<style scoped>\n",
       "    .dataframe tbody tr th:only-of-type {\n",
       "        vertical-align: middle;\n",
       "    }\n",
       "\n",
       "    .dataframe tbody tr th {\n",
       "        vertical-align: top;\n",
       "    }\n",
       "\n",
       "    .dataframe thead th {\n",
       "        text-align: right;\n",
       "    }\n",
       "</style>\n",
       "<table border=\"1\" class=\"dataframe\">\n",
       "  <thead>\n",
       "    <tr style=\"text-align: right;\">\n",
       "      <th></th>\n",
       "      <th>Example 2</th>\n",
       "    </tr>\n",
       "    <tr>\n",
       "      <th>Cycle counting object</th>\n",
       "      <th></th>\n",
       "    </tr>\n",
       "  </thead>\n",
       "  <tbody>\n",
       "    <tr>\n",
       "      <th>largest full stress range, MPa</th>\n",
       "      <td>None</td>\n",
       "    </tr>\n",
       "    <tr>\n",
       "      <th>largest stress range, MPa</th>\n",
       "      <td>235.215805</td>\n",
       "    </tr>\n",
       "    <tr>\n",
       "      <th>number of full cycles</th>\n",
       "      <td>0</td>\n",
       "    </tr>\n",
       "    <tr>\n",
       "      <th>number of residuals</th>\n",
       "      <td>11</td>\n",
       "    </tr>\n",
       "    <tr>\n",
       "      <th>number of small cycles</th>\n",
       "      <td>0</td>\n",
       "    </tr>\n",
       "    <tr>\n",
       "      <th>stress concentration factor</th>\n",
       "      <td>N/A</td>\n",
       "    </tr>\n",
       "    <tr>\n",
       "      <th>residuals resolved</th>\n",
       "      <td>True</td>\n",
       "    </tr>\n",
       "    <tr>\n",
       "      <th>mean stress-corrected</th>\n",
       "      <td>WALKER: {'gamma': 0.6}</td>\n",
       "    </tr>\n",
       "  </tbody>\n",
       "</table>\n",
       "</div>"
      ],
      "text/plain": [
       "CycleCount(count_cycle=array([0.5, 0.5, 0.5, 0.5, 0.5, 0.5, 0.5, 0.5, 0.5, 0.5, 0.5]), stress_range=array([155.18455739, 235.2158045 , 235.2158045 , 235.2158045 ,\n",
       "       235.2158045 , 235.2158045 , 235.2158045 , 235.2158045 ,\n",
       "       235.2158045 , 235.2158045 , 100.        ]), mean_stress=array([0., 0., 0., 0., 0., 0., 0., 0., 0., 0., 0.]), timestamp=datetime.datetime(2022, 6, 27, 8, 55, 3, 215655, tzinfo=datetime.timezone.utc), range_bin_lower_bound=0.2, range_bin_width=0.05, _mean_bin_lower_bound=-5.0, mean_bin_width=10, nr_small_cycles=0, residuals_sequence=array([ 100.,  300., -100.,  300., -100.,  300., -100.,  300., -100.,\n",
       "        300., -100.,  100.]), _min_max_sequence=array([], dtype=float64), lffd_solved=True, mean_stress_corrected=\"WALKER: {'gamma': 0.6}\", stress_concentration_factor=1.0, name='Example 2', _time_sequence=array([datetime.datetime(2022, 6, 27, 8, 55, 3, 215655, tzinfo=datetime.timezone.utc)],\n",
       "      dtype=object))"
      ]
     },
     "execution_count": 10,
     "metadata": {},
     "output_type": "execute_result"
    },
    {
     "data": {
      "image/png": "[encoded data removed]",
      "text/plain": [
       "<Figure size 429.594x184.112 with 1 Axes>"
      ]
     },
     "metadata": {
      "needs_background": "light"
     },
     "output_type": "display_data"
    }
   ],
   "source": [
    "cc_corr_w = cc.mean_stress_correction(\n",
    "    correction_type = \"walker\",\n",
    "    plot = True,\n",
    "    gamma=0.6,\n",
    "  )\n",
    "cc_corr_w"
   ]
  },
  {
   "cell_type": "code",
   "execution_count": 21,
   "id": "26205744",
   "metadata": {
    "ExecuteTime": {
     "end_time": "2022-06-27T09:26:01.173196Z",
     "start_time": "2022-06-27T09:26:01.141740Z"
    }
   },
   "outputs": [
    {
     "data": {
      "text/plain": [
       "array([300., 300., 300., 300., 300., 300., 300., 300., 300., 300., 100.])"
      ]
     },
     "execution_count": 21,
     "metadata": {},
     "output_type": "execute_result"
    }
   ],
   "source": [
    "cc.mean_stress + cc.stress_amplitude"
   ]
  },
  {
   "cell_type": "code",
   "execution_count": 23,
   "id": "7cd1dd58",
   "metadata": {
    "ExecuteTime": {
     "end_time": "2022-06-27T09:38:20.565438Z",
     "start_time": "2022-06-27T09:38:20.540446Z"
    }
   },
   "outputs": [
    {
     "data": {
      "text/plain": [
       "array([200., 400., 400., 400., 400., 400., 400., 400., 400., 400., 200.])"
      ]
     },
     "execution_count": 23,
     "metadata": {},
     "output_type": "execute_result"
    }
   ],
   "source": [
    "cc.stress_range"
   ]
  },
  {
   "cell_type": "code",
   "execution_count": 22,
   "id": "ed7ee1f6",
   "metadata": {
    "ExecuteTime": {
     "end_time": "2022-06-27T09:38:08.062123Z",
     "start_time": "2022-06-27T09:38:08.046124Z"
    }
   },
   "outputs": [
    {
     "data": {
      "text/plain": [
       "array([310.36911478, 470.43160901, 470.43160901, 470.43160901,\n",
       "       470.43160901, 470.43160901, 470.43160901, 470.43160901,\n",
       "       470.43160901, 470.43160901, 200.        ])"
      ]
     },
     "execution_count": 22,
     "metadata": {},
     "output_type": "execute_result"
    }
   ],
   "source": [
    "2 * (cc.mean_stress + cc.stress_amplitude) ** (1 - 0.6) * cc.stress_amplitude ** (0.6)"
   ]
  },
  {
   "cell_type": "code",
   "execution_count": 11,
   "id": "debe6135",
   "metadata": {
    "ExecuteTime": {
     "end_time": "2022-06-27T08:56:48.519173Z",
     "start_time": "2022-06-27T08:56:48.502157Z"
    }
   },
   "outputs": [
    {
     "data": {
      "text/plain": [
       "array([155.18455739, 235.2158045 , 235.2158045 , 235.2158045 ,\n",
       "       235.2158045 , 235.2158045 , 235.2158045 , 235.2158045 ,\n",
       "       235.2158045 , 235.2158045 , 100.        ])"
      ]
     },
     "execution_count": 11,
     "metadata": {},
     "output_type": "execute_result"
    }
   ],
   "source": [
    "cc_corr_w.stress_range"
   ]
  },
  {
   "cell_type": "code",
   "execution_count": 14,
   "id": "12639f28",
   "metadata": {
    "ExecuteTime": {
     "end_time": "2022-06-17T11:12:43.397631Z",
     "start_time": "2022-06-17T11:12:43.389777Z"
    }
   },
   "outputs": [
    {
     "data": {
      "text/plain": [
       "array([200., 400., 400., 400., 400., 400., 400., 400., 400., 400., 200.])"
      ]
     },
     "execution_count": 14,
     "metadata": {},
     "output_type": "execute_result"
    }
   ],
   "source": [
    "cc.stress_range"
   ]
  },
  {
   "cell_type": "code",
   "execution_count": 15,
   "id": "7bf56667",
   "metadata": {
    "ExecuteTime": {
     "end_time": "2022-06-17T11:13:09.964640Z",
     "start_time": "2022-06-17T11:13:09.952601Z"
    }
   },
   "outputs": [
    {
     "data": {
      "text/plain": [
       "array([1. , 0.9, 0.9, 0.9, 0.9, 0.9, 0.9, 0.9, 0.9, 0.9, 0.8])"
      ]
     },
     "execution_count": 15,
     "metadata": {},
     "output_type": "execute_result"
    }
   ],
   "source": [
    "np.divide(cc_corr_6.stress_range, cc.stress_range)"
   ]
  },
  {
   "cell_type": "code",
   "execution_count": 168,
   "id": "3cd91dff",
   "metadata": {
    "ExecuteTime": {
     "end_time": "2022-06-17T13:19:21.753815Z",
     "start_time": "2022-06-17T13:19:20.741100Z"
    },
    "scrolled": true
   },
   "outputs": [
    {
     "name": "stdout",
     "output_type": "stream",
     "text": [
      "29 / 30\r"
     ]
    },
    {
     "data": {
      "text/plain": [
       "Text(0, 0.5, 'stress, MPa')"
      ]
     },
     "execution_count": 168,
     "metadata": {},
     "output_type": "execute_result"
    },
    {
     "data": {
      "image/png": "[encoded data removed]",
      "text/plain": [
       "<Figure size 429.594x184.112 with 1 Axes>"
      ]
     },
     "metadata": {
      "needs_background": "light"
     },
     "output_type": "display_data"
    }
   ],
   "source": [
    "import random\n",
    "from collections import defaultdict\n",
    "# input data\n",
    "random.seed(0)\n",
    "α = 1\n",
    "β = 0.6\n",
    "signal_duration = int(86400 / 60)  # (in minutes)\n",
    "max_peak = 200  # (in MPa)\n",
    "\n",
    "# list of timestamps\n",
    "timestamps = []\n",
    "\n",
    "# list of timeseries\n",
    "timeseries = []\n",
    "\n",
    "# concatenated time and stress arrays\n",
    "conc_time = np.empty(0)\n",
    "conc_stress = np.empty(0)\n",
    "\n",
    "# main loop\n",
    "for i in range(0, 30):\n",
    "    print(f\"{i} / 30\", end = \"\\r\")\n",
    "    timestamps.append(\n",
    "        datetime.datetime(2020, 1, i + 1, tzinfo=datetime.timezone.utc)\n",
    "    )\n",
    "    timeseries.append(defaultdict())\n",
    "    weib_amp = [\n",
    "        random.weibullvariate(α, β) for _ in range(signal_duration)\n",
    "    ]\n",
    "    weib_amp = (max_peak / max(weib_amp) * np.array(weib_amp)).tolist()\n",
    "    t = np.arange(0, 1.1, 0.1)  # (in seconds)\n",
    "    time = t\n",
    "    stress = np.empty(0)  # (in MPa)\n",
    "    for j, a in enumerate(weib_amp):\n",
    "        stress = np.hstack([stress[:-1], (-1) ** j * a * np.sin(np.pi*t)])\n",
    "        if j > 0: time = np.hstack([time[:-1], t + time[-1]])\n",
    "    conc_time = np.hstack(\n",
    "        [conc_time, time + conc_time[-1] if len(conc_time) > 0 else time]\n",
    "    )\n",
    "    conc_stress = np.hstack([conc_stress, stress])\n",
    "    timeseries[i][\"data\"] = stress\n",
    "    timeseries[i][\"time\"] = time\n",
    "    timeseries[i][\"timestamp\"] = timestamps[-1]\n",
    "    timeseries[i][\"name\"] = \"Example sum\"\n",
    "timeseries.append({\n",
    "    \"data\": conc_stress,\n",
    "    \"time\": conc_time,\n",
    "    \"timestamp\": timestamps[0],\n",
    "    \"name\": \"Concatenated\"\n",
    "})\n",
    "\n",
    "# concatenated timeseries plot\n",
    "plt.plot(conc_time / 60 / 24, conc_stress, lw=1)\n",
    "plt.xlabel(\"time, days\")\n",
    "plt.ylabel(\"stress, MPa\")"
   ]
  },
  {
   "cell_type": "code",
   "execution_count": 166,
   "id": "f73a1187",
   "metadata": {
    "ExecuteTime": {
     "end_time": "2022-06-17T13:19:07.206522Z",
     "start_time": "2022-06-17T13:19:07.197479Z"
    }
   },
   "outputs": [
    {
     "data": {
      "text/plain": [
       "1.0"
      ]
     },
     "execution_count": 166,
     "metadata": {},
     "output_type": "execute_result"
    }
   ],
   "source": [
    "int(86400 / 60) / 60 / 24"
   ]
  },
  {
   "cell_type": "code",
   "execution_count": 48,
   "id": "c322dba0",
   "metadata": {
    "ExecuteTime": {
     "end_time": "2022-06-17T11:37:39.499110Z",
     "start_time": "2022-06-17T11:37:39.473522Z"
    }
   },
   "outputs": [],
   "source": [
    "cc_1 = pf.CycleCount.from_timeseries(stress, time, name=\"Example 2\")"
   ]
  },
  {
   "cell_type": "code",
   "execution_count": 50,
   "id": "a5b7f9b5",
   "metadata": {
    "ExecuteTime": {
     "end_time": "2022-06-17T11:37:44.043743Z",
     "start_time": "2022-06-17T11:37:44.027763Z"
    }
   },
   "outputs": [
    {
     "data": {
      "text/plain": [
       "100001"
      ]
     },
     "execution_count": 50,
     "metadata": {},
     "output_type": "execute_result"
    }
   ],
   "source": [
    "len(timeseries[0][\"data\"])"
   ]
  },
  {
   "cell_type": "code",
   "execution_count": 169,
   "id": "3bf756b8",
   "metadata": {
    "ExecuteTime": {
     "end_time": "2022-06-17T13:20:47.747845Z",
     "start_time": "2022-06-17T13:20:47.483450Z"
    }
   },
   "outputs": [],
   "source": [
    "cc = []\n",
    "for t_s in timeseries:\n",
    "    cc.append(pf.CycleCount.from_timeseries(**t_s))"
   ]
  },
  {
   "cell_type": "code",
   "execution_count": 170,
   "id": "6de88a7b",
   "metadata": {
    "ExecuteTime": {
     "end_time": "2022-06-17T13:20:48.288598Z",
     "start_time": "2022-06-17T13:20:48.268560Z"
    }
   },
   "outputs": [],
   "source": [
    "cc_s = sum(cc[:-1])"
   ]
  },
  {
   "cell_type": "code",
   "execution_count": 171,
   "id": "1b81f735",
   "metadata": {
    "ExecuteTime": {
     "end_time": "2022-06-17T13:20:48.761493Z",
     "start_time": "2022-06-17T13:20:48.620265Z"
    }
   },
   "outputs": [],
   "source": [
    "cc_c = pf.CycleCount.from_timeseries(**timeseries[-1])"
   ]
  },
  {
   "cell_type": "code",
   "execution_count": 172,
   "id": "acc371c9",
   "metadata": {
    "ExecuteTime": {
     "end_time": "2022-06-17T13:20:48.918842Z",
     "start_time": "2022-06-17T13:20:48.888843Z"
    }
   },
   "outputs": [
    {
     "data": {
      "text/html": [
       "<div>\n",
       "<style scoped>\n",
       "    .dataframe tbody tr th:only-of-type {\n",
       "        vertical-align: middle;\n",
       "    }\n",
       "\n",
       "    .dataframe tbody tr th {\n",
       "        vertical-align: top;\n",
       "    }\n",
       "\n",
       "    .dataframe thead th {\n",
       "        text-align: right;\n",
       "    }\n",
       "</style>\n",
       "<table border=\"1\" class=\"dataframe\">\n",
       "  <thead>\n",
       "    <tr style=\"text-align: right;\">\n",
       "      <th></th>\n",
       "      <th>Example sum</th>\n",
       "    </tr>\n",
       "    <tr>\n",
       "      <th>Cycle counting object</th>\n",
       "      <th></th>\n",
       "    </tr>\n",
       "  </thead>\n",
       "  <tbody>\n",
       "    <tr>\n",
       "      <th>largest full stress range, MPa</th>\n",
       "      <td>387.040934</td>\n",
       "    </tr>\n",
       "    <tr>\n",
       "      <th>largest stress range, MPa</th>\n",
       "      <td>400.0</td>\n",
       "    </tr>\n",
       "    <tr>\n",
       "      <th>number of full cycles</th>\n",
       "      <td>21584</td>\n",
       "    </tr>\n",
       "    <tr>\n",
       "      <th>number of residuals</th>\n",
       "      <td>33</td>\n",
       "    </tr>\n",
       "    <tr>\n",
       "      <th>number of small cycles</th>\n",
       "      <td>0</td>\n",
       "    </tr>\n",
       "    <tr>\n",
       "      <th>stress concentration factor</th>\n",
       "      <td>N/A</td>\n",
       "    </tr>\n",
       "    <tr>\n",
       "      <th>residuals resolved</th>\n",
       "      <td>True</td>\n",
       "    </tr>\n",
       "    <tr>\n",
       "      <th>mean stress-corrected</th>\n",
       "      <td>No</td>\n",
       "    </tr>\n",
       "  </tbody>\n",
       "</table>\n",
       "</div>"
      ],
      "text/plain": [
       "CycleCount(count_cycle=array([0.5, 0.5, 0.5, ..., 1. , 1. , 1. ]), stress_range=array([14.34671699, 23.47613034, 31.13632276, ...,  5.19016009,\n",
       "       29.70949469, 52.80861426]), mean_stress=array([ 7.17335849,  2.60865182,  6.43874803, ..., -0.04960237,\n",
       "        7.94366414,  5.18542634]), timestamp=datetime.datetime(2020, 1, 1, 0, 0, tzinfo=datetime.timezone.utc), range_bin_lower_bound=0.2, range_bin_width=0.05, _mean_bin_lower_bound=-85.0, mean_bin_width=10, nr_small_cycles=0, residuals_sequence=array([ 0.00000000e+00,  1.43467170e+01, -9.12941335e+00,  2.20069094e+01,\n",
       "       -5.27102322e+01,  8.96948137e+01, -1.44951668e+02,  2.00000000e+02,\n",
       "       -2.00000000e+02,  2.00000000e+02, -2.00000000e+02,  2.00000000e+02,\n",
       "       -2.00000000e+02,  2.00000000e+02, -2.00000000e+02,  2.00000000e+02,\n",
       "       -2.00000000e+02,  2.00000000e+02, -2.00000000e+02,  2.00000000e+02,\n",
       "       -2.00000000e+02,  2.00000000e+02, -2.00000000e+02,  1.64718875e+02,\n",
       "       -1.34075627e+02,  1.05437524e+02, -1.16840844e+02,  9.02098821e+01,\n",
       "       -8.86805089e+01,  4.72786717e+01, -2.62827824e+01,  1.97219547e+00,\n",
       "       -8.80822022e+00, -1.07869587e-15]), _min_max_sequence=array([-144.95166795,  200.        , -200.        ,  117.99474507,\n",
       "       -112.92458554,  200.        ,  -93.35093501,  200.        ,\n",
       "       -181.49496797,  200.        , -126.52051253,  200.        ,\n",
       "       -200.        ,  170.95580209, -200.        ,  168.16549296,\n",
       "       -150.62625846,  200.        , -200.        ,  146.26287262,\n",
       "       -200.        ,  161.82013802, -200.        ,  170.44111643,\n",
       "       -120.44692843,  200.        , -136.94998322,  200.        ,\n",
       "       -187.04093447,  200.        , -200.        ,  119.75598007,\n",
       "       -175.85277859,  200.        , -125.20778383,  200.        ,\n",
       "       -200.        ,  132.37883128, -200.        ,  150.99682688,\n",
       "       -134.68673278,  200.        , -200.        ,  148.74653158,\n",
       "       -200.        ,  135.74269734,  -95.43236493,  200.        ,\n",
       "       -130.05779879,  200.        , -200.        ,  197.92511794,\n",
       "       -121.26156514,  200.        , -159.19987167,  200.        ,\n",
       "       -200.        ,  134.40630318, -200.        ,  164.71887541]), lffd_solved=True, mean_stress_corrected='No', stress_concentration_factor=1.0, name='Example sum', _time_sequence=array([datetime.datetime(2020, 1, 1, 0, 0, tzinfo=datetime.timezone.utc),\n",
       "       datetime.datetime(2020, 1, 2, 0, 0, tzinfo=datetime.timezone.utc),\n",
       "       datetime.datetime(2020, 1, 3, 0, 0, tzinfo=datetime.timezone.utc),\n",
       "       datetime.datetime(2020, 1, 4, 0, 0, tzinfo=datetime.timezone.utc),\n",
       "       datetime.datetime(2020, 1, 5, 0, 0, tzinfo=datetime.timezone.utc),\n",
       "       datetime.datetime(2020, 1, 6, 0, 0, tzinfo=datetime.timezone.utc),\n",
       "       datetime.datetime(2020, 1, 7, 0, 0, tzinfo=datetime.timezone.utc),\n",
       "       datetime.datetime(2020, 1, 8, 0, 0, tzinfo=datetime.timezone.utc),\n",
       "       datetime.datetime(2020, 1, 9, 0, 0, tzinfo=datetime.timezone.utc),\n",
       "       datetime.datetime(2020, 1, 10, 0, 0, tzinfo=datetime.timezone.utc),\n",
       "       datetime.datetime(2020, 1, 11, 0, 0, tzinfo=datetime.timezone.utc),\n",
       "       datetime.datetime(2020, 1, 12, 0, 0, tzinfo=datetime.timezone.utc),\n",
       "       datetime.datetime(2020, 1, 13, 0, 0, tzinfo=datetime.timezone.utc),\n",
       "       datetime.datetime(2020, 1, 14, 0, 0, tzinfo=datetime.timezone.utc),\n",
       "       datetime.datetime(2020, 1, 15, 0, 0, tzinfo=datetime.timezone.utc),\n",
       "       datetime.datetime(2020, 1, 16, 0, 0, tzinfo=datetime.timezone.utc),\n",
       "       datetime.datetime(2020, 1, 17, 0, 0, tzinfo=datetime.timezone.utc),\n",
       "       datetime.datetime(2020, 1, 18, 0, 0, tzinfo=datetime.timezone.utc),\n",
       "       datetime.datetime(2020, 1, 19, 0, 0, tzinfo=datetime.timezone.utc),\n",
       "       datetime.datetime(2020, 1, 20, 0, 0, tzinfo=datetime.timezone.utc),\n",
       "       datetime.datetime(2020, 1, 21, 0, 0, tzinfo=datetime.timezone.utc),\n",
       "       datetime.datetime(2020, 1, 22, 0, 0, tzinfo=datetime.timezone.utc),\n",
       "       datetime.datetime(2020, 1, 23, 0, 0, tzinfo=datetime.timezone.utc),\n",
       "       datetime.datetime(2020, 1, 24, 0, 0, tzinfo=datetime.timezone.utc),\n",
       "       datetime.datetime(2020, 1, 25, 0, 0, tzinfo=datetime.timezone.utc),\n",
       "       datetime.datetime(2020, 1, 26, 0, 0, tzinfo=datetime.timezone.utc),\n",
       "       datetime.datetime(2020, 1, 27, 0, 0, tzinfo=datetime.timezone.utc),\n",
       "       datetime.datetime(2020, 1, 28, 0, 0, tzinfo=datetime.timezone.utc),\n",
       "       datetime.datetime(2020, 1, 29, 0, 0, tzinfo=datetime.timezone.utc),\n",
       "       datetime.datetime(2020, 1, 30, 0, 0, tzinfo=datetime.timezone.utc)],\n",
       "      dtype=object))"
      ]
     },
     "execution_count": 172,
     "metadata": {},
     "output_type": "execute_result"
    }
   ],
   "source": [
    "cc_s.solve_lffd()"
   ]
  },
  {
   "cell_type": "code",
   "execution_count": 177,
   "id": "7ce13b7f",
   "metadata": {
    "ExecuteTime": {
     "end_time": "2022-06-17T13:22:20.507460Z",
     "start_time": "2022-06-17T13:22:20.478946Z"
    }
   },
   "outputs": [
    {
     "data": {
      "text/html": [
       "<div>\n",
       "<style scoped>\n",
       "    .dataframe tbody tr th:only-of-type {\n",
       "        vertical-align: middle;\n",
       "    }\n",
       "\n",
       "    .dataframe tbody tr th {\n",
       "        vertical-align: top;\n",
       "    }\n",
       "\n",
       "    .dataframe thead th {\n",
       "        text-align: right;\n",
       "    }\n",
       "</style>\n",
       "<table border=\"1\" class=\"dataframe\">\n",
       "  <thead>\n",
       "    <tr style=\"text-align: right;\">\n",
       "      <th></th>\n",
       "      <th>Example sum</th>\n",
       "    </tr>\n",
       "    <tr>\n",
       "      <th>Cycle counting object</th>\n",
       "      <th></th>\n",
       "    </tr>\n",
       "  </thead>\n",
       "  <tbody>\n",
       "    <tr>\n",
       "      <th>largest full stress range, MPa</th>\n",
       "      <td>387.040934</td>\n",
       "    </tr>\n",
       "    <tr>\n",
       "      <th>largest stress range, MPa</th>\n",
       "      <td>400.0</td>\n",
       "    </tr>\n",
       "    <tr>\n",
       "      <th>number of full cycles</th>\n",
       "      <td>21584</td>\n",
       "    </tr>\n",
       "    <tr>\n",
       "      <th>number of residuals</th>\n",
       "      <td>33</td>\n",
       "    </tr>\n",
       "    <tr>\n",
       "      <th>number of small cycles</th>\n",
       "      <td>0</td>\n",
       "    </tr>\n",
       "    <tr>\n",
       "      <th>stress concentration factor</th>\n",
       "      <td>N/A</td>\n",
       "    </tr>\n",
       "    <tr>\n",
       "      <th>residuals resolved</th>\n",
       "      <td>True</td>\n",
       "    </tr>\n",
       "    <tr>\n",
       "      <th>mean stress-corrected</th>\n",
       "      <td>No</td>\n",
       "    </tr>\n",
       "  </tbody>\n",
       "</table>\n",
       "</div>"
      ],
      "text/plain": [
       "CycleCount(count_cycle=array([0.5, 0.5, 0.5, ..., 1. , 1. , 1. ]), stress_range=array([14.34671699, 23.47613034, 31.13632276, ...,  5.19016009,\n",
       "       29.70949469, 52.80861426]), mean_stress=array([ 7.17335849,  2.60865182,  6.43874803, ..., -0.04960237,\n",
       "        7.94366414,  5.18542634]), timestamp=datetime.datetime(2020, 1, 1, 0, 0, tzinfo=datetime.timezone.utc), range_bin_lower_bound=0.2, range_bin_width=0.05, _mean_bin_lower_bound=-85.0, mean_bin_width=10, nr_small_cycles=0, residuals_sequence=array([ 0.00000000e+00,  1.43467170e+01, -9.12941335e+00,  2.20069094e+01,\n",
       "       -5.27102322e+01,  8.96948137e+01, -1.44951668e+02,  2.00000000e+02,\n",
       "       -2.00000000e+02,  2.00000000e+02, -2.00000000e+02,  2.00000000e+02,\n",
       "       -2.00000000e+02,  2.00000000e+02, -2.00000000e+02,  2.00000000e+02,\n",
       "       -2.00000000e+02,  2.00000000e+02, -2.00000000e+02,  2.00000000e+02,\n",
       "       -2.00000000e+02,  2.00000000e+02, -2.00000000e+02,  1.64718875e+02,\n",
       "       -1.34075627e+02,  1.05437524e+02, -1.16840844e+02,  9.02098821e+01,\n",
       "       -8.86805089e+01,  4.72786717e+01, -2.62827824e+01,  1.97219547e+00,\n",
       "       -8.80822022e+00, -1.07869587e-15]), _min_max_sequence=array([-144.95166795,  200.        , -200.        ,  117.99474507,\n",
       "       -112.92458554,  200.        ,  -93.35093501,  200.        ,\n",
       "       -181.49496797,  200.        , -126.52051253,  200.        ,\n",
       "       -200.        ,  170.95580209, -200.        ,  168.16549296,\n",
       "       -150.62625846,  200.        , -200.        ,  146.26287262,\n",
       "       -200.        ,  161.82013802, -200.        ,  170.44111643,\n",
       "       -120.44692843,  200.        , -136.94998322,  200.        ,\n",
       "       -187.04093447,  200.        , -200.        ,  119.75598007,\n",
       "       -175.85277859,  200.        , -125.20778383,  200.        ,\n",
       "       -200.        ,  132.37883128, -200.        ,  150.99682688,\n",
       "       -134.68673278,  200.        , -200.        ,  148.74653158,\n",
       "       -200.        ,  135.74269734,  -95.43236493,  200.        ,\n",
       "       -130.05779879,  200.        , -200.        ,  197.92511794,\n",
       "       -121.26156514,  200.        , -159.19987167,  200.        ,\n",
       "       -200.        ,  134.40630318, -200.        ,  164.71887541]), lffd_solved=True, mean_stress_corrected='No', stress_concentration_factor=1.0, name='Example sum', _time_sequence=array([datetime.datetime(2020, 1, 1, 0, 0, tzinfo=datetime.timezone.utc),\n",
       "       datetime.datetime(2020, 1, 2, 0, 0, tzinfo=datetime.timezone.utc),\n",
       "       datetime.datetime(2020, 1, 3, 0, 0, tzinfo=datetime.timezone.utc),\n",
       "       datetime.datetime(2020, 1, 4, 0, 0, tzinfo=datetime.timezone.utc),\n",
       "       datetime.datetime(2020, 1, 5, 0, 0, tzinfo=datetime.timezone.utc),\n",
       "       datetime.datetime(2020, 1, 6, 0, 0, tzinfo=datetime.timezone.utc),\n",
       "       datetime.datetime(2020, 1, 7, 0, 0, tzinfo=datetime.timezone.utc),\n",
       "       datetime.datetime(2020, 1, 8, 0, 0, tzinfo=datetime.timezone.utc),\n",
       "       datetime.datetime(2020, 1, 9, 0, 0, tzinfo=datetime.timezone.utc),\n",
       "       datetime.datetime(2020, 1, 10, 0, 0, tzinfo=datetime.timezone.utc),\n",
       "       datetime.datetime(2020, 1, 11, 0, 0, tzinfo=datetime.timezone.utc),\n",
       "       datetime.datetime(2020, 1, 12, 0, 0, tzinfo=datetime.timezone.utc),\n",
       "       datetime.datetime(2020, 1, 13, 0, 0, tzinfo=datetime.timezone.utc),\n",
       "       datetime.datetime(2020, 1, 14, 0, 0, tzinfo=datetime.timezone.utc),\n",
       "       datetime.datetime(2020, 1, 15, 0, 0, tzinfo=datetime.timezone.utc),\n",
       "       datetime.datetime(2020, 1, 16, 0, 0, tzinfo=datetime.timezone.utc),\n",
       "       datetime.datetime(2020, 1, 17, 0, 0, tzinfo=datetime.timezone.utc),\n",
       "       datetime.datetime(2020, 1, 18, 0, 0, tzinfo=datetime.timezone.utc),\n",
       "       datetime.datetime(2020, 1, 19, 0, 0, tzinfo=datetime.timezone.utc),\n",
       "       datetime.datetime(2020, 1, 20, 0, 0, tzinfo=datetime.timezone.utc),\n",
       "       datetime.datetime(2020, 1, 21, 0, 0, tzinfo=datetime.timezone.utc),\n",
       "       datetime.datetime(2020, 1, 22, 0, 0, tzinfo=datetime.timezone.utc),\n",
       "       datetime.datetime(2020, 1, 23, 0, 0, tzinfo=datetime.timezone.utc),\n",
       "       datetime.datetime(2020, 1, 24, 0, 0, tzinfo=datetime.timezone.utc),\n",
       "       datetime.datetime(2020, 1, 25, 0, 0, tzinfo=datetime.timezone.utc),\n",
       "       datetime.datetime(2020, 1, 26, 0, 0, tzinfo=datetime.timezone.utc),\n",
       "       datetime.datetime(2020, 1, 27, 0, 0, tzinfo=datetime.timezone.utc),\n",
       "       datetime.datetime(2020, 1, 28, 0, 0, tzinfo=datetime.timezone.utc),\n",
       "       datetime.datetime(2020, 1, 29, 0, 0, tzinfo=datetime.timezone.utc),\n",
       "       datetime.datetime(2020, 1, 30, 0, 0, tzinfo=datetime.timezone.utc)],\n",
       "      dtype=object))"
      ]
     },
     "execution_count": 177,
     "metadata": {},
     "output_type": "execute_result"
    }
   ],
   "source": [
    "cc_s.solve_lffd()"
   ]
  },
  {
   "cell_type": "code",
   "execution_count": 178,
   "id": "a4c22118",
   "metadata": {
    "ExecuteTime": {
     "end_time": "2022-06-17T13:25:07.071375Z",
     "start_time": "2022-06-17T13:25:07.053887Z"
    },
    "scrolled": true
   },
   "outputs": [
    {
     "data": {
      "text/plain": [
       "array([ 0.00000000e+00,  1.43467170e+01, -9.12941335e+00,  2.20069094e+01,\n",
       "       -5.27102322e+01,  8.96948137e+01, -1.44951668e+02,  2.00000000e+02,\n",
       "       -2.00000000e+02,  2.00000000e+02, -2.00000000e+02,  2.00000000e+02,\n",
       "       -2.00000000e+02,  2.00000000e+02, -2.00000000e+02,  2.00000000e+02,\n",
       "       -2.00000000e+02,  2.00000000e+02, -2.00000000e+02,  2.00000000e+02,\n",
       "       -2.00000000e+02,  2.00000000e+02, -2.00000000e+02,  1.64718875e+02,\n",
       "       -1.34075627e+02,  1.05437524e+02, -1.16840844e+02,  9.02098821e+01,\n",
       "       -8.86805089e+01,  4.72786717e+01, -2.62827824e+01,  1.97219547e+00,\n",
       "       -8.80822022e+00, -1.07869587e-15])"
      ]
     },
     "execution_count": 178,
     "metadata": {},
     "output_type": "execute_result"
    }
   ],
   "source": [
    "cc_c.residuals_sequence"
   ]
  },
  {
   "cell_type": "code",
   "execution_count": 175,
   "id": "91a8bff7",
   "metadata": {
    "ExecuteTime": {
     "end_time": "2022-06-17T13:20:49.593293Z",
     "start_time": "2022-06-17T13:20:49.554293Z"
    }
   },
   "outputs": [
    {
     "data": {
      "text/html": [
       "<div>\n",
       "<style scoped>\n",
       "    .dataframe tbody tr th:only-of-type {\n",
       "        vertical-align: middle;\n",
       "    }\n",
       "\n",
       "    .dataframe tbody tr th {\n",
       "        vertical-align: top;\n",
       "    }\n",
       "\n",
       "    .dataframe thead th {\n",
       "        text-align: right;\n",
       "    }\n",
       "</style>\n",
       "<table border=\"1\" class=\"dataframe\">\n",
       "  <thead>\n",
       "    <tr style=\"text-align: right;\">\n",
       "      <th></th>\n",
       "      <th>Example sum</th>\n",
       "    </tr>\n",
       "    <tr>\n",
       "      <th>Cycle counting object</th>\n",
       "      <th></th>\n",
       "    </tr>\n",
       "  </thead>\n",
       "  <tbody>\n",
       "    <tr>\n",
       "      <th>largest full stress range, MPa</th>\n",
       "      <td>387.040934</td>\n",
       "    </tr>\n",
       "    <tr>\n",
       "      <th>largest stress range, MPa</th>\n",
       "      <td>400.0</td>\n",
       "    </tr>\n",
       "    <tr>\n",
       "      <th>number of full cycles</th>\n",
       "      <td>21398</td>\n",
       "    </tr>\n",
       "    <tr>\n",
       "      <th>number of residuals</th>\n",
       "      <td>17</td>\n",
       "    </tr>\n",
       "    <tr>\n",
       "      <th>number of small cycles</th>\n",
       "      <td>0</td>\n",
       "    </tr>\n",
       "    <tr>\n",
       "      <th>stress concentration factor</th>\n",
       "      <td>N/A</td>\n",
       "    </tr>\n",
       "    <tr>\n",
       "      <th>residuals resolved</th>\n",
       "      <td>True</td>\n",
       "    </tr>\n",
       "    <tr>\n",
       "      <th>mean stress-corrected</th>\n",
       "      <td>No</td>\n",
       "    </tr>\n",
       "  </tbody>\n",
       "</table>\n",
       "</div>"
      ],
      "text/plain": [
       "CycleCount(count_cycle=array([0.5, 1. , 0.5, ..., 1. , 1. , 1. ]), stress_range=array([344.95166795, 230.91933061, 400.        , ...,   5.19016009,\n",
       "        29.70949469,  52.80861426]), mean_stress=array([27.52416602,  2.53507977,  0.        , ..., -0.04960237,\n",
       "        7.94366414,  5.18542634]), timestamp=datetime.datetime(2020, 1, 1, 0, 0, tzinfo=datetime.timezone.utc), range_bin_lower_bound=0.2, range_bin_width=0.05, _mean_bin_lower_bound=-85.0, mean_bin_width=10, nr_small_cycles=0, residuals_sequence=array([-144.95166795,  200.        , -200.        ,  200.        ,\n",
       "       -200.        ,  200.        , -200.        ,  200.        ,\n",
       "       -200.        ,  200.        , -200.        ,  200.        ,\n",
       "       -200.        ,  200.        , -200.        ,  200.        ,\n",
       "       -200.        ,  164.71887541]), _min_max_sequence=array([-200.,  200.]), lffd_solved=True, mean_stress_corrected='No', stress_concentration_factor=1.0, name='Example sum', _time_sequence=array([datetime.datetime(2020, 1, 1, 0, 0, tzinfo=datetime.timezone.utc),\n",
       "       datetime.datetime(2020, 1, 2, 0, 0, tzinfo=datetime.timezone.utc),\n",
       "       datetime.datetime(2020, 1, 3, 0, 0, tzinfo=datetime.timezone.utc),\n",
       "       datetime.datetime(2020, 1, 4, 0, 0, tzinfo=datetime.timezone.utc),\n",
       "       datetime.datetime(2020, 1, 5, 0, 0, tzinfo=datetime.timezone.utc),\n",
       "       datetime.datetime(2020, 1, 6, 0, 0, tzinfo=datetime.timezone.utc),\n",
       "       datetime.datetime(2020, 1, 7, 0, 0, tzinfo=datetime.timezone.utc),\n",
       "       datetime.datetime(2020, 1, 8, 0, 0, tzinfo=datetime.timezone.utc),\n",
       "       datetime.datetime(2020, 1, 9, 0, 0, tzinfo=datetime.timezone.utc),\n",
       "       datetime.datetime(2020, 1, 10, 0, 0, tzinfo=datetime.timezone.utc),\n",
       "       datetime.datetime(2020, 1, 11, 0, 0, tzinfo=datetime.timezone.utc),\n",
       "       datetime.datetime(2020, 1, 12, 0, 0, tzinfo=datetime.timezone.utc),\n",
       "       datetime.datetime(2020, 1, 13, 0, 0, tzinfo=datetime.timezone.utc),\n",
       "       datetime.datetime(2020, 1, 14, 0, 0, tzinfo=datetime.timezone.utc),\n",
       "       datetime.datetime(2020, 1, 15, 0, 0, tzinfo=datetime.timezone.utc),\n",
       "       datetime.datetime(2020, 1, 16, 0, 0, tzinfo=datetime.timezone.utc),\n",
       "       datetime.datetime(2020, 1, 17, 0, 0, tzinfo=datetime.timezone.utc),\n",
       "       datetime.datetime(2020, 1, 18, 0, 0, tzinfo=datetime.timezone.utc),\n",
       "       datetime.datetime(2020, 1, 19, 0, 0, tzinfo=datetime.timezone.utc),\n",
       "       datetime.datetime(2020, 1, 20, 0, 0, tzinfo=datetime.timezone.utc),\n",
       "       datetime.datetime(2020, 1, 21, 0, 0, tzinfo=datetime.timezone.utc),\n",
       "       datetime.datetime(2020, 1, 22, 0, 0, tzinfo=datetime.timezone.utc),\n",
       "       datetime.datetime(2020, 1, 23, 0, 0, tzinfo=datetime.timezone.utc),\n",
       "       datetime.datetime(2020, 1, 24, 0, 0, tzinfo=datetime.timezone.utc),\n",
       "       datetime.datetime(2020, 1, 25, 0, 0, tzinfo=datetime.timezone.utc),\n",
       "       datetime.datetime(2020, 1, 26, 0, 0, tzinfo=datetime.timezone.utc),\n",
       "       datetime.datetime(2020, 1, 27, 0, 0, tzinfo=datetime.timezone.utc),\n",
       "       datetime.datetime(2020, 1, 28, 0, 0, tzinfo=datetime.timezone.utc),\n",
       "       datetime.datetime(2020, 1, 29, 0, 0, tzinfo=datetime.timezone.utc),\n",
       "       datetime.datetime(2020, 1, 30, 0, 0, tzinfo=datetime.timezone.utc)],\n",
       "      dtype=object))"
      ]
     },
     "execution_count": 175,
     "metadata": {},
     "output_type": "execute_result"
    }
   ],
   "source": [
    "cc_s.solve_lffd(solve_mode=\"min-max\")"
   ]
  },
  {
   "cell_type": "code",
   "execution_count": 176,
   "id": "d8d21374",
   "metadata": {
    "ExecuteTime": {
     "end_time": "2022-06-17T13:20:49.811585Z",
     "start_time": "2022-06-17T13:20:49.772653Z"
    }
   },
   "outputs": [
    {
     "data": {
      "text/html": [
       "<div>\n",
       "<style scoped>\n",
       "    .dataframe tbody tr th:only-of-type {\n",
       "        vertical-align: middle;\n",
       "    }\n",
       "\n",
       "    .dataframe tbody tr th {\n",
       "        vertical-align: top;\n",
       "    }\n",
       "\n",
       "    .dataframe thead th {\n",
       "        text-align: right;\n",
       "    }\n",
       "</style>\n",
       "<table border=\"1\" class=\"dataframe\">\n",
       "  <thead>\n",
       "    <tr style=\"text-align: right;\">\n",
       "      <th></th>\n",
       "      <th>Example sum</th>\n",
       "    </tr>\n",
       "    <tr>\n",
       "      <th>Cycle counting object</th>\n",
       "      <th></th>\n",
       "    </tr>\n",
       "  </thead>\n",
       "  <tbody>\n",
       "    <tr>\n",
       "      <th>largest full stress range, MPa</th>\n",
       "      <td>281.591558</td>\n",
       "    </tr>\n",
       "    <tr>\n",
       "      <th>largest stress range, MPa</th>\n",
       "      <td>344.951668</td>\n",
       "    </tr>\n",
       "    <tr>\n",
       "      <th>number of full cycles</th>\n",
       "      <td>714</td>\n",
       "    </tr>\n",
       "    <tr>\n",
       "      <th>number of residuals</th>\n",
       "      <td>13</td>\n",
       "    </tr>\n",
       "    <tr>\n",
       "      <th>number of small cycles</th>\n",
       "      <td>0</td>\n",
       "    </tr>\n",
       "    <tr>\n",
       "      <th>stress concentration factor</th>\n",
       "      <td>N/A</td>\n",
       "    </tr>\n",
       "    <tr>\n",
       "      <th>residuals resolved</th>\n",
       "      <td>False</td>\n",
       "    </tr>\n",
       "    <tr>\n",
       "      <th>mean stress-corrected</th>\n",
       "      <td>No</td>\n",
       "    </tr>\n",
       "  </tbody>\n",
       "</table>\n",
       "</div>"
      ],
      "text/plain": [
       "CycleCount(count_cycle=array([0.5, 1. , 1. , 1. , 1. , 0.5, 1. , 1. , 1. , 0.5, 1. , 1. , 1. ,\n",
       "       1. , 1. , 0.5, 1. , 1. , 1. , 1. , 1. , 1. , 1. , 1. , 1. , 1. ,\n",
       "       1. , 1. , 1. , 1. , 1. , 1. , 1. , 1. , 1. , 1. , 1. , 1. , 1. ,\n",
       "       1. , 1. , 1. , 1. , 1. , 1. , 1. , 1. , 1. , 1. , 1. , 1. , 1. ,\n",
       "       1. , 1. , 1. , 1. , 1. , 1. , 1. , 1. , 1. , 1. , 1. , 1. , 1. ,\n",
       "       1. , 1. , 1. , 1. , 1. , 1. , 1. , 1. , 0.5, 1. , 1. , 1. , 1. ,\n",
       "       1. , 1. , 1. , 1. , 1. , 1. , 1. , 1. , 1. , 1. , 1. , 1. , 1. ,\n",
       "       1. , 1. , 1. , 1. , 1. , 1. , 1. , 1. , 1. , 1. , 1. , 1. , 1. ,\n",
       "       1. , 1. , 1. , 1. , 1. , 1. , 1. , 1. , 1. , 1. , 1. , 1. , 1. ,\n",
       "       1. , 1. , 1. , 1. , 1. , 1. , 1. , 1. , 1. , 1. , 1. , 1. , 1. ,\n",
       "       1. , 1. , 1. , 1. , 1. , 1. , 1. , 1. , 1. , 1. , 1. , 1. , 1. ,\n",
       "       1. , 1. , 1. , 1. , 1. , 1. , 1. , 1. , 1. , 1. , 1. , 1. , 1. ,\n",
       "       1. , 1. , 1. , 1. , 1. , 1. , 1. , 1. , 1. , 1. , 1. , 1. , 1. ,\n",
       "       1. , 1. , 1. , 1. , 1. , 1. , 1. , 1. , 1. , 1. , 1. , 1. , 1. ,\n",
       "       1. , 1. , 1. , 1. , 1. , 1. , 1. , 1. , 1. , 1. , 1. , 1. , 1. ,\n",
       "       1. , 1. , 1. , 1. , 1. , 1. , 1. , 1. , 1. , 1. , 1. , 1. , 1. ,\n",
       "       1. , 1. , 1. , 1. , 1. , 1. , 1. , 1. , 1. , 1. , 1. , 1. , 1. ,\n",
       "       1. , 1. , 1. , 1. , 1. , 1. , 1. , 1. , 1. , 1. , 1. , 1. , 1. ,\n",
       "       1. , 1. , 1. , 1. , 1. , 1. , 1. , 1. , 1. , 1. , 1. , 1. , 1. ,\n",
       "       1. , 1. , 1. , 1. , 1. , 1. , 1. , 1. , 1. , 1. , 1. , 1. , 1. ,\n",
       "       1. , 1. , 1. , 1. , 1. , 1. , 1. , 1. , 1. , 1. , 1. , 1. , 1. ,\n",
       "       1. , 1. , 1. , 1. , 1. , 1. , 1. , 1. , 1. , 1. , 1. , 1. , 1. ,\n",
       "       1. , 1. , 1. , 1. , 1. , 1. , 1. , 1. , 1. , 1. , 1. , 1. , 1. ,\n",
       "       1. , 1. , 1. , 1. , 1. , 1. , 1. , 1. , 1. , 1. , 1. , 1. , 1. ,\n",
       "       1. , 1. , 1. , 1. , 1. , 1. , 1. , 1. , 1. , 1. , 1. , 1. , 1. ,\n",
       "       1. , 1. , 1. , 1. , 1. , 1. , 1. , 1. , 1. , 1. , 0.5, 1. , 1. ,\n",
       "       1. , 1. , 1. , 1. , 1. , 1. , 1. , 1. , 1. , 1. , 1. , 1. , 1. ,\n",
       "       1. , 1. , 1. , 1. , 1. , 1. , 1. , 1. , 1. , 1. , 1. , 1. , 1. ,\n",
       "       1. , 1. , 1. , 1. , 1. , 1. , 1. , 1. , 1. , 1. , 1. , 1. , 1. ,\n",
       "       1. , 1. , 1. , 1. , 1. , 1. , 1. , 1. , 1. , 1. , 1. , 1. , 1. ,\n",
       "       1. , 1. , 1. , 1. , 1. , 1. , 1. , 1. , 1. , 1. , 1. , 1. , 1. ,\n",
       "       1. , 1. , 1. , 1. , 1. , 1. , 1. , 1. , 1. , 1. , 1. , 1. , 1. ,\n",
       "       1. , 1. , 1. , 1. , 1. , 1. , 1. , 1. , 1. , 1. , 1. , 1. , 1. ,\n",
       "       1. , 1. , 1. , 1. , 1. , 1. , 1. , 1. , 1. , 1. , 1. , 1. , 1. ,\n",
       "       1. , 1. , 1. , 1. , 1. , 1. , 1. , 1. , 1. , 1. , 1. , 1. , 1. ,\n",
       "       1. , 1. , 1. , 1. , 1. , 1. , 1. , 1. , 1. , 1. , 1. , 1. , 1. ,\n",
       "       1. , 1. , 1. , 1. , 1. , 1. , 1. , 1. , 1. , 1. , 1. , 1. , 1. ,\n",
       "       1. , 1. , 1. , 1. , 1. , 1. , 1. , 1. , 1. , 1. , 1. , 1. , 1. ,\n",
       "       1. , 1. , 1. , 1. , 1. , 1. , 1. , 1. , 1. , 1. , 1. , 1. , 1. ,\n",
       "       1. , 1. , 1. , 1. , 1. , 1. , 1. , 1. , 1. , 1. , 1. , 1. , 1. ,\n",
       "       1. , 1. , 1. , 1. , 1. , 1. , 1. , 1. , 1. , 1. , 1. , 1. , 1. ,\n",
       "       1. , 1. , 1. , 1. , 1. , 1. , 1. , 1. , 1. , 1. , 1. , 1. , 1. ,\n",
       "       1. , 1. , 1. , 1. , 1. , 1. , 1. , 1. , 1. , 1. , 1. , 1. , 1. ,\n",
       "       1. , 1. , 1. , 1. , 1. , 1. , 1. , 1. , 1. , 1. , 1. , 1. , 1. ,\n",
       "       1. , 1. , 1. , 1. , 1. , 1. , 1. , 1. , 1. , 1. , 1. , 1. , 1. ,\n",
       "       1. , 1. , 1. , 1. , 1. , 1. , 1. , 1. , 1. , 1. , 1. , 1. , 1. ,\n",
       "       1. , 1. , 1. , 1. , 1. , 1. , 1. , 1. , 1. , 1. , 1. , 1. , 1. ,\n",
       "       1. , 1. , 1. , 1. , 1. , 1. , 1. , 1. , 1. , 1. , 1. , 1. , 1. ,\n",
       "       1. , 1. , 1. , 1. , 1. , 1. , 1. , 1. , 1. , 1. , 1. , 1. , 1. ,\n",
       "       1. , 1. , 1. , 1. , 1. , 1. , 1. , 1. , 1. , 1. , 1. , 1. , 1. ,\n",
       "       1. , 1. , 1. , 1. , 1. , 1. , 1. , 1. , 1. , 1. , 1. , 1. , 1. ,\n",
       "       1. , 1. , 1. , 1. , 1. , 1. , 1. , 1. , 1. , 1. , 1. , 1. , 1. ,\n",
       "       1. , 1. , 1. , 1. , 1. , 1. , 1. , 1. , 1. , 1. , 1. , 1. , 1. ,\n",
       "       1. , 1. , 1. , 1. , 1. , 1. , 1. , 1. , 1. , 1. , 1. , 1. , 1. ,\n",
       "       1. , 1. , 1. , 1. , 1. , 1. , 1. , 1. , 1. , 1. , 1. , 1. , 1. ,\n",
       "       1. , 1. , 1. , 1. , 1. , 0.5, 0.5, 0.5, 0.5, 0.5, 0.5, 0.5]), stress_range=array([1.43467170e+01, 2.54143986e+00, 4.62951569e+00, 3.40427562e+00,\n",
       "       1.44570506e+01, 2.34761303e+01, 3.63768094e+00, 5.43074502e+00,\n",
       "       3.07688212e+01, 3.11363228e+01, 8.95877931e+00, 3.26756394e+01,\n",
       "       2.11550039e+00, 7.04534428e+00, 2.67470771e+01, 7.47171416e+01,\n",
       "       1.22570374e+01, 1.87215432e+01, 3.48629598e+00, 9.26390664e+00,\n",
       "       2.68284730e+00, 1.88587392e+01, 1.68571315e+00, 4.18246741e+00,\n",
       "       1.73623737e+01, 5.56533970e+01, 1.12380054e+00, 5.01489276e+00,\n",
       "       3.66338055e+00, 1.06209772e+01, 3.81486572e+01, 1.55043148e+01,\n",
       "       6.22917964e+01, 6.27258710e+00, 7.46383114e-01, 4.79922472e+00,\n",
       "       5.86339152e+00, 9.13953892e+00, 2.56802132e+00, 1.48108978e+01,\n",
       "       3.43840085e+01, 4.20265875e+01, 4.93971101e+00, 7.88983162e+00,\n",
       "       2.67484218e+01, 2.39593541e+01, 6.18514217e+00, 3.74399432e+01,\n",
       "       6.21553492e+01, 4.75477041e+00, 7.64328286e+00, 6.60909771e-01,\n",
       "       8.64900201e+00, 2.52870216e+01, 1.20829572e+01, 3.57061630e-01,\n",
       "       3.94102674e+00, 1.91212880e+01, 5.17651715e+00, 9.60747149e+00,\n",
       "       2.99429506e+00, 8.48300524e+00, 4.53409331e+01, 2.97282997e-02,\n",
       "       5.36931758e-01, 1.17709248e+01, 1.91693949e+00, 8.12050575e-01,\n",
       "       5.95497462e+00, 1.59991153e+00, 1.45768227e-01, 3.05656719e+01,\n",
       "       8.63135605e+01, 1.42405046e+02, 1.73323235e+00, 2.19042205e+01,\n",
       "       6.43452399e+00, 6.27356876e+00, 1.83841363e+00, 2.40567449e+00,\n",
       "       4.16495566e+00, 2.29239028e+00, 6.70979828e+00, 3.68262677e+00,\n",
       "       9.08157811e+00, 8.33111892e-01, 1.74166908e+00, 1.81464461e+01,\n",
       "       2.11129319e+00, 3.20015304e+01, 9.98324419e+00, 3.35588368e+00,\n",
       "       3.89073654e-01, 1.72764821e+00, 6.69892587e+00, 1.30152362e+01,\n",
       "       4.73112682e+01, 3.48233179e+00, 2.14426772e+00, 9.55612284e-01,\n",
       "       7.67679141e+00, 5.75668487e+00, 1.06970530e+01, 1.28301461e+01,\n",
       "       3.34366634e+00, 1.45074037e+01, 1.23969161e+01, 3.55688731e+01,\n",
       "       5.64557195e+01, 8.47781375e+01, 5.20689582e+00, 1.48950017e+00,\n",
       "       7.97342983e+00, 7.52673009e+00, 6.64362449e+01, 2.77851254e-01,\n",
       "       8.67531641e+00, 1.79169853e+01, 1.52871801e+01, 8.51329212e-01,\n",
       "       3.82953576e+00, 3.25636788e+00, 6.77767661e+00, 2.66898315e+01,\n",
       "       6.07143758e+01, 3.21136740e-02, 7.15315550e+00, 2.05675726e+01,\n",
       "       8.77559542e+00, 1.26514105e+01, 3.76143901e+00, 2.51715822e-01,\n",
       "       5.28781800e+00, 6.71314571e+00, 2.82284405e+01, 3.15626299e-01,\n",
       "       6.00343011e+00, 1.82503782e+01, 5.01702755e+01, 2.46901755e+00,\n",
       "       3.76665773e-01, 3.07679652e+00, 1.75844036e+00, 3.96294088e+00,\n",
       "       1.91943042e+00, 4.57751502e+00, 1.64942911e+01, 3.70565171e+00,\n",
       "       2.84260935e+00, 1.51011468e+01, 6.42735597e+00, 4.34801033e+01,\n",
       "       6.77420632e+01, 8.21941485e+01, 1.47422868e-01, 5.25767394e-02,\n",
       "       4.63826696e+00, 4.76568741e+00, 3.27590509e+00, 1.04286620e+01,\n",
       "       1.40353745e+01, 1.07244695e+01, 1.37195888e+00, 1.80388045e+01,\n",
       "       1.80810359e+00, 4.74122323e-01, 8.42770161e+00, 2.79301054e+01,\n",
       "       6.46518980e-01, 1.95628816e+00, 3.69563816e+00, 9.26685230e+01,\n",
       "       1.06642000e+02, 1.95987717e+00, 2.02728141e+01, 3.80439483e+00,\n",
       "       5.03228811e+00, 1.67618200e+00, 8.80441723e+00, 2.96420629e+01,\n",
       "       2.61972900e-01, 1.10651082e+01, 1.16315418e+01, 1.48171939e-01,\n",
       "       2.58642739e+01, 5.46761857e-01, 3.01963443e-02, 2.90089781e+01,\n",
       "       5.22741474e-01, 6.79529331e+00, 3.46276266e+01, 6.71037576e+00,\n",
       "       2.34624803e+01, 1.78646783e+01, 4.94868336e+01, 8.99730932e+01,\n",
       "       3.71572815e+00, 5.70382661e+00, 1.32982864e+01, 1.72944989e+01,\n",
       "       3.00132599e+01, 3.51132890e-01, 7.18817367e-01, 8.56509442e+00,\n",
       "       2.60879399e+01, 2.66962025e+00, 5.35862115e+00, 1.02135534e+00,\n",
       "       6.37536289e-02, 4.49136724e+00, 2.50948262e+01, 4.51539311e+01,\n",
       "       6.40269744e+00, 2.35716275e+01, 1.57891159e+00, 6.41486458e+00,\n",
       "       2.68096224e-01, 7.16922756e+00, 3.62045648e+00, 2.74624527e+00,\n",
       "       1.26371050e+01, 6.97066817e+00, 2.30344237e+01, 1.34021070e+00,\n",
       "       1.12791744e+01, 1.08084920e+01, 2.74577468e+01, 3.45063117e+01,\n",
       "       1.06620147e+01, 1.11741039e+01, 1.26842665e+01, 1.02831360e-01,\n",
       "       1.37087777e+01, 1.82520656e+01, 2.32132144e+01, 4.40550811e+01,\n",
       "       5.89810791e-01, 9.83158818e+00, 1.09679384e+00, 3.76396050e+00,\n",
       "       1.06695406e+01, 2.90593322e+01, 3.69385863e+01, 1.92785333e+00,\n",
       "       2.14255233e+00, 6.54006219e+00, 1.80186323e+01, 5.11672492e+01,\n",
       "       1.43441455e-01, 1.23906159e+00, 1.33730537e+00, 4.45559146e+01,\n",
       "       1.25205498e+01, 8.87615381e-01, 2.56901696e+01, 1.74618959e-01,\n",
       "       1.41138356e+00, 5.16464851e-01, 1.68613863e+01, 3.26016797e+01,\n",
       "       7.43495880e+01, 3.55808487e+01, 3.30067223e+00, 2.91375880e+01,\n",
       "       5.54412172e+00, 7.40580887e+01, 1.24682884e+02, 4.16296706e+00,\n",
       "       2.03922665e+01, 1.61879174e+00, 8.54857731e-02, 2.28217210e-01,\n",
       "       1.91939247e+00, 2.71498078e+00, 2.09767269e+00, 1.19258332e+01,\n",
       "       2.19556014e+00, 6.61182230e+00, 2.05200485e+01, 1.78956162e+00,\n",
       "       1.30827542e+00, 3.44695442e+00, 9.74432271e+00, 6.16421005e+01,\n",
       "       4.41862782e+00, 3.77363011e+00, 1.75952252e+01, 2.59799792e+00,\n",
       "       1.17722394e+01, 2.52724363e+00, 4.32932806e-01, 7.77016529e+00,\n",
       "       9.07160232e-01, 1.17102266e+01, 3.69161521e+00, 8.69090104e+00,\n",
       "       1.21741122e+01, 9.77996584e+00, 1.01083753e+01, 3.74043047e+01,\n",
       "       4.28929106e+01, 6.97202331e-01, 1.84474168e+01, 7.76084565e-01,\n",
       "       2.44644469e+00, 7.18489809e+00, 4.33509006e+00, 3.08531723e+01,\n",
       "       2.12751402e+00, 3.82811716e+00, 2.09062724e+00, 3.89445924e+00,\n",
       "       4.97535390e+00, 8.89610689e+00, 6.84953626e+00, 2.28993246e+00,\n",
       "       5.28948910e+00, 4.44690654e+00, 3.70510764e+00, 7.50717907e+00,\n",
       "       4.27558420e+00, 9.65141018e-01, 6.60908550e+00, 1.36284577e+01,\n",
       "       2.42014209e+00, 4.88892157e+00, 1.91900386e+01, 3.14620015e+00,\n",
       "       1.64879128e+01, 2.70553435e-02, 1.08699957e+01, 1.49743909e+01,\n",
       "       2.89873149e+01, 3.46978847e+01, 1.27728773e+02, 2.34646482e+02,\n",
       "       8.40895376e+00, 9.74005532e-01, 1.41445591e+00, 4.15321071e+00,\n",
       "       1.57889672e+01, 4.13859236e+00, 3.29320647e+00, 2.72929304e+01,\n",
       "       1.22322936e+01, 9.04928747e-01, 1.32467446e+01, 2.42154537e+01,\n",
       "       1.59659389e+00, 4.13558678e-01, 6.52447233e-01, 4.94837954e+00,\n",
       "       9.38034311e+00, 3.75462569e+00, 1.17686750e+01, 4.56537080e+01,\n",
       "       3.53041220e+00, 8.08029858e+00, 5.17589474e+01, 6.67898576e+00,\n",
       "       2.86943259e-01, 7.48957086e-01, 5.86365422e+00, 7.55964937e+00,\n",
       "       1.68747543e+01, 5.29645149e+01, 2.57863176e+01, 1.30056134e+00,\n",
       "       2.03761391e+01, 3.28725386e+00, 4.35696499e-02, 1.85391349e+00,\n",
       "       7.96965542e-01, 4.18562715e+00, 9.19276433e+00, 1.70953439e+01,\n",
       "       1.86996323e+00, 7.38817085e+00, 2.35304648e+00, 7.82039509e+00,\n",
       "       3.88387908e+01, 5.74289699e+01, 2.00879681e-01, 2.44091852e+00,\n",
       "       1.12630141e+01, 1.99675640e+00, 1.10539440e+01, 3.69518526e-01,\n",
       "       2.82257283e+00, 3.00213479e+01, 3.04002769e+00, 1.31708205e+00,\n",
       "       4.18923121e+00, 5.69333984e+00, 7.14943515e-01, 3.97914859e+00,\n",
       "       8.21453651e+00, 1.45602203e+00, 1.48570307e+01, 1.39947096e+01,\n",
       "       1.14287151e+01, 5.56939149e+00, 8.43725676e+00, 7.50956040e+00,\n",
       "       6.30737552e+00, 3.60898114e+00, 5.57547719e+00, 1.15058825e+00,\n",
       "       4.64878257e+00, 2.01592494e-01, 5.74730497e+00, 1.80383306e+01,\n",
       "       2.04162516e+01, 4.27422320e+01, 2.98445609e+00, 1.97007069e+01,\n",
       "       7.28174155e+00, 1.19176334e+01, 5.50815605e+00, 1.42444842e+01,\n",
       "       2.21836143e+01, 1.36553813e+01, 5.04373404e-01, 3.54238879e+00,\n",
       "       8.73510150e+00, 8.50383383e+00, 3.52438453e+00, 5.17829295e+00,\n",
       "       1.96935424e+01, 7.10867601e-02, 9.37977322e+00, 2.50830806e+01,\n",
       "       5.35426657e+01, 6.92419474e+01, 8.18769986e+01, 3.26982170e+00,\n",
       "       6.41743244e+00, 2.24501905e+00, 9.43353888e+00, 2.59292550e-01,\n",
       "       4.09094406e-02, 5.52475826e+00, 1.11762013e-01, 1.37007039e+01,\n",
       "       4.44034380e+01, 2.49066908e+00, 1.43434994e+00, 2.07090882e+01,\n",
       "       4.45596450e+01, 2.45831048e+00, 4.72325167e+00, 2.33138093e+00,\n",
       "       1.47348257e+01, 2.13229024e-01, 3.32378934e+00, 3.28495986e+01,\n",
       "       1.35069614e+00, 1.10376222e+01, 6.32262067e-01, 1.08837103e+01,\n",
       "       3.82707573e-01, 1.80953615e+01, 2.65661405e+01, 2.49300220e+00,\n",
       "       9.19967639e+00, 5.09699124e+00, 8.10357217e+00, 3.70985953e+01,\n",
       "       1.19799082e-01, 8.21817031e-01, 2.16691676e+00, 2.44819736e+00,\n",
       "       2.57931015e+00, 1.08642646e+01, 4.32029517e+01, 2.40564026e+01,\n",
       "       4.55283361e+00, 8.76570466e+00, 2.72251383e+00, 9.36912241e+00,\n",
       "       6.37594846e+00, 1.24323009e+01, 3.62677848e+00, 7.36887974e+00,\n",
       "       1.11527419e+01, 5.67135358e+01, 4.22678872e+00, 4.14302896e+01,\n",
       "       1.17607692e+01, 7.65204695e+00, 8.67806090e+00, 1.33931106e+01,\n",
       "       2.41370433e+01, 4.79811800e+01, 6.01284098e+00, 1.16730176e+01,\n",
       "       3.69905509e+01, 9.04677209e+01, 2.20005396e-01, 2.08540714e-01,\n",
       "       3.31246689e+01, 3.85664224e+00, 1.05614478e+01, 2.25203727e+01,\n",
       "       5.71239003e+01, 6.32135612e-01, 4.11058128e-01, 8.57405945e+00,\n",
       "       1.54491927e+00, 1.09273615e+01, 1.55821517e+01, 9.14165971e+01,\n",
       "       6.88879276e+00, 3.80144096e+01, 1.25640626e+02, 1.06898357e+01,\n",
       "       6.07664795e+00, 2.31606398e+01, 5.06078808e+00, 3.54137645e+01,\n",
       "       5.46769399e+00, 5.42046354e-01, 1.46880643e+01, 3.36657822e+01,\n",
       "       7.72605121e+00, 1.14126367e+01, 8.65727578e+00, 2.00717270e+01,\n",
       "       2.22016231e+00, 5.04645623e+00, 1.87816823e+01, 3.37635685e+01,\n",
       "       6.16139248e+01, 2.48896606e+01, 3.07147235e+01, 1.86998113e+01,\n",
       "       1.80431333e-02, 7.42601762e-01, 1.08728406e+01, 1.44557528e+01,\n",
       "       6.51840816e+00, 2.35848208e+00, 2.78017832e+01, 7.47319356e+00,\n",
       "       1.10674426e+00, 3.09490806e+00, 3.83846163e-01, 1.37697771e+00,\n",
       "       6.20532269e+00, 3.38168168e+00, 3.88042829e+01, 4.30896617e+01,\n",
       "       2.22807515e+01, 6.50326719e+01, 6.84775082e+00, 2.27910540e-01,\n",
       "       1.15327410e+00, 4.22437500e+00, 9.64790873e+00, 9.43760382e+00,\n",
       "       3.61278055e+00, 1.36186490e+01, 2.22162775e+01, 3.75169080e+00,\n",
       "       5.34495020e+00, 1.11920527e+00, 1.34394968e+00, 1.90388527e+01,\n",
       "       5.89884033e+01, 1.19921567e+02, 2.07519248e+01, 3.57092859e+00,\n",
       "       5.33817030e+00, 1.32422370e+01, 5.55442578e+00, 2.81995568e+00,\n",
       "       1.40994576e+00, 7.91875615e+00, 6.06873397e+00, 1.57728030e+01,\n",
       "       2.00971078e+00, 1.32627094e+01, 3.44974880e+00, 1.64224464e+01,\n",
       "       7.19185109e+01, 1.03055998e+00, 8.13748950e+00, 1.60306951e+01,\n",
       "       1.03691469e+00, 2.18529255e+00, 1.60977009e+00, 8.63214270e+00,\n",
       "       1.17815313e-01, 1.49037121e+01, 2.81212505e+01, 9.83318358e+00,\n",
       "       1.79285342e+00, 2.05528577e+01, 1.93698176e+00, 1.43199401e+00,\n",
       "       1.64398774e+00, 2.23844408e+00, 9.18375956e+00, 1.61462058e+01,\n",
       "       1.20161213e-01, 1.86457493e+01, 5.58836575e+00, 1.36794103e+01,\n",
       "       1.67154890e+01, 2.76475342e+01, 2.42471609e+00, 5.44146376e+01,\n",
       "       8.58979770e-01, 1.72964810e+00, 5.62949683e-01, 8.42256967e+00,\n",
       "       5.88828915e+00, 2.26373675e+01, 4.59398545e+01, 2.13489465e+01,\n",
       "       6.21321331e-01, 8.92110773e-01, 1.33297392e+00, 3.75705714e+00,\n",
       "       1.76488865e+01, 1.99522932e+01, 1.57520651e+00, 3.23787640e+01,\n",
       "       4.16164454e+01, 2.81591558e+02, 1.28102704e+01, 2.92691295e+00,\n",
       "       4.78785313e+00, 1.50086754e+00, 8.16910102e+00, 2.01229047e+01,\n",
       "       8.40786372e-01, 4.03572322e+00, 1.80439196e+00, 8.99108653e+00,\n",
       "       3.98073029e+00, 2.14005953e+00, 5.68480456e+00, 7.81387998e+00,\n",
       "       5.25009891e+01, 1.43082867e+00, 6.01745877e-01, 3.49676553e+00,\n",
       "       1.57991729e+01, 1.87472320e+00, 7.42726797e+00, 1.76984722e+01,\n",
       "       1.83551020e+01, 5.62459423e+01, 1.29305908e+02, 1.46463061e+00,\n",
       "       5.98030223e+00, 1.18737503e+01, 3.63311814e+00, 1.12983291e+02,\n",
       "       6.23522495e+00, 9.33346777e+00, 1.45555887e+01, 4.42358358e+00,\n",
       "       2.82495262e+00, 6.04100335e+00, 7.13783595e+00, 1.42572237e+00,\n",
       "       2.25323428e+00, 1.72389279e+00, 1.19770654e+01, 1.42678285e+01,\n",
       "       7.55426248e-01, 3.65801038e+00, 6.98866831e+00, 1.37589018e+01,\n",
       "       1.30670701e+00, 1.57083585e+01, 2.81225962e+01, 6.14293506e+01,\n",
       "       1.69731639e+01, 3.90946424e+00, 7.98916086e+00, 3.63893889e+01,\n",
       "       5.95410160e+01, 9.47387613e+00, 7.29557629e+01, 3.25112734e+01,\n",
       "       4.10030558e+01, 2.59520065e-01, 1.07525169e+01, 1.91475483e+01,\n",
       "       9.84788250e+00, 5.82427298e+00, 3.28366370e+01, 6.73312014e+00,\n",
       "       6.15701226e+00, 1.08898296e+01, 2.32901519e+00, 3.25094748e+00,\n",
       "       6.62083052e+00, 2.23078597e+01, 1.31035435e+01, 1.90850421e+01,\n",
       "       4.38199813e+01, 1.33468241e+01, 5.02509335e+00, 2.10473390e-01,\n",
       "       3.26932660e+00, 1.02146041e+01, 3.24624441e+01, 2.22130371e+01,\n",
       "       4.71985956e+01, 4.26931279e+00, 3.99936548e+00, 2.63410338e+00,\n",
       "       1.56836345e+01, 2.77007860e+00, 8.04344698e+00, 3.63548453e+00,\n",
       "       3.44951668e+02, 2.72272488e+02, 1.59255238e+02, 1.38402000e+02,\n",
       "       7.73168974e+01, 4.09076844e+01, 1.50100372e+01]), mean_stress=array([ 7.17335849e+00,  5.86808330e-01,  6.05832833e-01,  7.67423287e-01,\n",
       "        3.14383515e+00,  2.60865182e+00, -1.01128502e+00,  2.07384794e+00,\n",
       "        6.34965980e+00,  6.43874803e+00, -3.50179400e+00, -4.45301403e+00,\n",
       "        9.36469187e-01, -1.10675089e+00,  6.92108139e+00, -1.53516614e+01,\n",
       "       -5.43649185e+00, -6.88619206e+00,  1.73893291e+00,  2.97871713e+00,\n",
       "       -1.34135992e+00,  3.42674781e+00,  2.33488474e-01, -1.70691753e+00,\n",
       "       -8.09695680e+00, -1.13471647e+01, -4.79995856e-01,  3.67066746e-01,\n",
       "       -1.69211359e+00,  1.84869478e+00, -7.62034542e+00,  4.40379865e+00,\n",
       "       -8.57425407e+00,  1.02814608e+00,  4.89365671e-03,  1.54312244e+00,\n",
       "        1.40055926e+00,  9.94430891e-02,  1.18474932e+00,  1.70845033e+00,\n",
       "        3.00594968e+00,  3.54753394e+00,  8.83447353e-01,  3.17202501e+00,\n",
       "       -1.40029499e+00,  7.77354442e+00, -9.23842427e-01,  1.29294144e+01,\n",
       "        6.57879064e+00,  2.29203759e+00,  1.23015254e+00, -1.72055097e-01,\n",
       "       -3.71932960e+00, -1.75752676e+00,  4.91485022e+00,  5.74481326e-02,\n",
       "       -1.94009574e+00,  2.68957646e+00,  2.57582686e+00,  1.54927892e+00,\n",
       "       -8.85026455e-02, -2.93309885e-01, -6.17889403e-01,  6.14363510e-03,\n",
       "       -9.34431844e-02,  5.42460400e+00, -9.48956602e-01, -2.83046763e-01,\n",
       "       -2.47338528e+00,  4.54682522e-01,  4.88632670e-02, -1.24669182e+01,\n",
       "       -6.90313482e+00,  1.84922908e+01, -4.50686833e-01, -2.90413613e+00,\n",
       "        2.90934478e+00, -3.09016718e+00, -2.76786448e-01,  8.76694968e-01,\n",
       "        3.27273633e-01, -1.60317869e-01,  4.71319813e-01,  1.83787513e+00,\n",
       "        3.89715337e+00, -3.85605889e-01, -2.79475513e-01,  4.73100897e+00,\n",
       "        2.13462610e-01, -1.46784771e+01,  1.43252894e-01,  1.20042816e-01,\n",
       "       -1.94433798e-01,  2.75834206e-01,  1.87107020e+00,  9.59295457e-01,\n",
       "       -9.22572287e+00,  5.67079165e-02,  1.03992120e+00, -2.07698678e-01,\n",
       "        2.00372432e+00, -2.76470448e-01,  1.65565929e+00,  2.60571921e+00,\n",
       "        6.82035775e-01, -4.55785351e+00, -5.82550072e+00, -5.14738532e-01,\n",
       "       -1.09129866e+01, -1.88078790e+01,  2.51611713e+00,  2.71673558e-01,\n",
       "       -2.30636279e+00,  3.76315176e+00, -2.53959612e+01, -2.37486585e-02,\n",
       "        1.17135678e+00, -8.16139811e+00, -7.52340899e+00,  3.42160868e-01,\n",
       "       -2.80614633e-01, -1.42839385e+00,  2.15823546e+00, -2.51351189e+00,\n",
       "       -1.76482601e+01, -9.31220709e-03,  2.78828918e+00,  6.64251161e+00,\n",
       "        4.36098772e+00, -6.62169607e-01, -1.43103061e+00, -1.23896180e-01,\n",
       "       -1.51120045e+00, -1.92922322e+00,  6.75983216e+00,  1.31868392e-01,\n",
       "        1.83482947e+00, -1.55726117e+00, -3.06048682e+00, -3.82695279e-01,\n",
       "       -1.54364211e-01,  9.49041530e-01,  8.13485176e-01,  1.10681503e+00,\n",
       "        8.41174513e-01,  1.18984980e+00,  5.80891462e+00, -6.47121662e-01,\n",
       "       -4.95286332e-01, -6.18258876e-01,  1.76077305e+00, -2.07542187e+00,\n",
       "       -1.20466730e+01, -1.05495142e+01, -1.58228491e-02, -2.46971839e-02,\n",
       "        7.10639747e-01,  2.36206430e-01, -2.43839300e-01,  1.10143284e+00,\n",
       "        1.76204861e+00, -4.66801334e+00, -6.31054418e-01, -7.05544896e+00,\n",
       "       -7.41361973e-01,  2.10145769e-01, -2.03357880e+00, -6.95521776e+00,\n",
       "       -8.72921857e-02,  4.95120483e-01, -1.59713218e+00, -1.53044750e+01,\n",
       "       -8.78361656e+00,  7.37972713e-01,  7.42981618e+00,  8.44296834e-01,\n",
       "        2.08988392e+00,  3.42831454e-01,  1.65299264e+00,  8.48714576e+00,\n",
       "       -1.10875860e-01, -4.85904135e+00,  1.73917024e+00, -1.53996119e-02,\n",
       "        1.24361825e+00,  2.49321560e-01, -1.02377066e-02,  2.10852540e+00,\n",
       "       -1.81726421e-02, -2.28447868e+00,  3.00560727e+00,  5.55536720e-01,\n",
       "        8.89687166e+00,  2.63764112e+00,  1.56187886e+01,  7.98142437e+00,\n",
       "        1.41520792e+00,  1.28924283e+00,  4.11060997e+00,  4.26887269e+00,\n",
       "        6.34845046e+00, -1.75561697e-01, -3.01843990e-01, -1.42286943e+00,\n",
       "       -1.89000103e+00,  4.03234400e-01, -2.62673286e+00, -3.26929812e-01,\n",
       "       -1.13161144e-02,  4.14507909e-01,  6.73885876e-01,  6.85998992e+00,\n",
       "       -2.95054359e+00, -4.26405076e+00,  7.56944842e-01, -1.44059538e+00,\n",
       "       -1.16738959e-01, -1.18362170e+00,  1.67904290e+00,  1.45355028e-01,\n",
       "       -3.67778176e+00,  1.12799819e+00, -6.46955992e+00, -4.94002097e-01,\n",
       "       -7.70063477e-01, -5.22104322e+00, -8.62727811e+00, -6.02509831e+00,\n",
       "        4.95389834e+00,  3.48330328e+00,  4.11898642e+00, -2.16752007e-02,\n",
       "        3.82456427e+00,  2.76088422e+00, -9.01863879e+00, -5.02910591e+00,\n",
       "       -1.88477161e-01, -1.04212748e+00,  3.98735111e-01,  2.89563520e-02,\n",
       "        1.56269226e+00,  4.38386247e+00,  5.98788424e+00,  8.45782419e-01,\n",
       "       -1.05553025e+00,  3.25477393e+00,  8.58701631e-01, -1.84756150e+00,\n",
       "       -6.83901096e-03, -6.17159297e-01, -6.54038175e-01, -1.45655243e+01,\n",
       "        6.19509276e+00, -6.42525593e-03,  6.68714782e+00, -8.59377439e-02,\n",
       "       -6.94826586e-01, -1.11023498e-01,  7.21917728e+00,  1.17966172e+01,\n",
       "       -7.17525826e+00,  1.75992963e+01,  7.80277192e-01,  1.32228842e+01,\n",
       "        2.41349571e+00,  2.09479710e+00,  3.92422966e+00,  1.95619265e+00,\n",
       "        9.93000840e+00, -2.05166457e-01, -3.47475629e-02, -8.25094459e-02,\n",
       "       -8.90146026e-01, -4.96712339e-01, -8.24574510e-01, -2.44710898e+00,\n",
       "        1.00845551e+00,  1.90438138e+00,  1.26652420e+00,  8.48430616e-01,\n",
       "       -2.19951424e-01,  6.77495072e-01,  3.04718497e+00,  5.38850047e-01,\n",
       "        1.42903369e+00, -2.33998880e-01,  2.21927411e+00,  6.70012432e-01,\n",
       "       -3.68553404e+00, -1.03855287e+00,  2.16324954e-01,  1.33318312e+00,\n",
       "       -4.52014065e-01,  1.05792833e+00,  1.58024492e+00,  1.93796794e+00,\n",
       "        1.06326642e+00, -4.33467435e+00, -4.25649957e+00, -9.08361615e+00,\n",
       "       -1.03807662e+01, -3.23355308e-01, -9.05631606e+00,  2.63928492e-01,\n",
       "        4.06814447e-01, -4.59408354e-01,  2.14745108e+00, -6.41721880e+00,\n",
       "        1.14800362e-01, -1.27973023e+00, -7.56617856e-01, -1.09447409e+00,\n",
       "        7.24007975e-01, -5.35368061e-01,  1.72982951e+00, -2.77142749e-01,\n",
       "        2.37655406e+00,  2.00693361e+00,  5.69616107e-01,  2.25190770e+00,\n",
       "        3.33206202e-01, -4.32916923e-01, -2.27461569e+00,  3.66474157e-02,\n",
       "        1.19853028e+00,  2.40534470e+00, -1.00932587e+00, -1.57067014e+00,\n",
       "       -8.18512089e+00,  1.23902015e-02,  5.91022654e-01, -9.66025052e-01,\n",
       "       -4.39061378e+00, -6.52334675e+00,  9.54159531e+00, -2.76284271e+01,\n",
       "       -3.67471047e+00,  3.55449408e-01, -4.03189799e-01,  2.07907710e-01,\n",
       "       -9.59273626e-01,  6.37224778e-02,  1.45792223e+00,  6.41166876e+00,\n",
       "        4.55082316e+00,  4.87479946e-02,  5.05230883e+00,  1.00088614e+01,\n",
       "       -7.62458267e-01,  1.61614754e-01,  2.36712375e-01,  2.15298390e+00,\n",
       "        5.46334295e-01, -1.05503763e+00,  1.22076536e+00,  5.76211846e+00,\n",
       "       -4.89728005e-01,  1.05144322e+00,  8.33590761e+00,  7.00228753e-01,\n",
       "        1.42982863e-01,  3.45678726e-01,  2.71286196e+00,  3.29880305e+00,\n",
       "        2.08683483e+00, -5.20747806e-01,  1.12606281e+01,  5.25508640e-01,\n",
       "        7.98462618e+00, -5.82590498e-01,  7.62879606e-03, -4.70142663e-01,\n",
       "       -2.63199411e-02, -1.01688005e+00, -3.60546986e+00, -2.42030209e+00,\n",
       "       -2.72823575e-01,  3.66450156e+00,  1.10840324e+00, -3.87717071e+00,\n",
       "        7.61052768e+00,  1.29869467e+01,  1.67010107e-02, -1.05967637e+00,\n",
       "       -3.83739357e+00,  9.22225449e-01, -3.46520084e+00,  1.60766440e-01,\n",
       "       -1.22556309e+00, -1.83331721e+00,  4.81144594e-01, -2.35455691e-01,\n",
       "       -1.26613561e+00, -7.72776731e-01,  1.95219340e-01,  1.29498291e+00,\n",
       "        3.98977221e+00,  9.50254896e-02,  2.92794020e+00, -1.22320792e+00,\n",
       "       -2.73756118e+00, -2.62362101e+00, -4.04885683e+00, -2.43478237e+00,\n",
       "       -2.64643131e+00, -1.21310471e+00,  2.22675826e+00, -2.60825299e-01,\n",
       "        1.22983376e+00,  8.94533923e-02,  1.24944178e+00, -2.83627343e+00,\n",
       "       -3.15018636e+00,  5.72878176e+00, -1.41724830e+00,  4.00024716e-01,\n",
       "       -3.16807270e+00, -2.12581920e+00, -1.47564516e+00, -2.09688213e+00,\n",
       "        1.17552801e+00, -6.69046509e+00,  2.48655581e-01,  4.53437935e-01,\n",
       "       -1.22958369e+00,  1.55455348e+00, -7.60261683e-01, -1.90399433e+00,\n",
       "       -2.79095461e+00,  1.26428017e-02,  3.16564423e+00, -2.08677508e+00,\n",
       "        6.18530555e+00,  1.08942923e+01,  7.43747640e+00, -4.32738682e-01,\n",
       "       -2.51868125e+00, -1.77927620e-01, -1.38042432e+00,  1.20686242e-01,\n",
       "        9.65292851e-03,  2.23665229e+00, -3.08939064e-03, -1.22486350e+00,\n",
       "       -1.43706001e+01, -7.59647811e-01,  3.83736934e-01, -9.04124663e+00,\n",
       "       -2.04018349e+01,  5.20219847e-01,  8.49469518e-01, -1.13895162e+00,\n",
       "       -8.35770621e-01, -1.06275863e-01,  8.41950909e-02, -7.75234554e+00,\n",
       "        4.34071904e-01,  2.56102273e+00, -3.07179173e-01, -5.13586733e+00,\n",
       "       -1.12880705e-01, -2.60480789e+00, -7.16156699e-01,  9.99590453e-01,\n",
       "       -2.36093959e-01,  1.89719977e+00, -4.03890228e+00, -6.93170641e+00,\n",
       "       -3.89661822e-02,  1.61795222e-01, -2.12791950e-01, -4.82773029e-01,\n",
       "        3.08131888e-01,  2.76572014e+00, -4.99281546e+00,  8.51774837e+00,\n",
       "        1.57424665e+00,  2.15469179e+00,  1.35317349e+00,  2.98626568e+00,\n",
       "        3.16899940e+00,  2.15710894e+00,  1.36672463e+00,  2.83118323e+00,\n",
       "        4.39501756e+00,  1.85329586e+01, -1.65912208e+00, -1.96099113e+01,\n",
       "        1.74381174e+00, -2.54839725e+00,  4.33699619e+00,  5.58294464e+00,\n",
       "        8.31624331e+00,  8.10617829e-01,  1.94489203e+00,  4.48313130e+00,\n",
       "        1.40751108e+01,  2.71288749e+00,  1.09950591e-01,  7.57008480e-02,\n",
       "        1.40460820e+01, -1.55663710e+00, -3.39060475e+00, -1.15373865e+00,\n",
       "        2.68702912e+00,  6.70352216e-03, -6.36921802e-02,  1.46723982e+00,\n",
       "        5.29026604e-02,  3.52527849e+00,  3.28281170e+00,  1.40507746e+01,\n",
       "        1.33548638e-01,  1.14597873e+01,  4.25012005e+00, -4.96461917e+00,\n",
       "        2.77549666e+00, -2.79284861e+00,  1.19461152e+00, -6.92112574e+00,\n",
       "       -9.62320001e-01, -2.65943409e-01,  4.16656388e+00,  1.21347772e+01,\n",
       "       -1.13567046e+00, -6.37084987e-01, -3.69358482e+00, -9.26936230e+00,\n",
       "        1.03258483e+00, -3.64467993e-01,  2.28348718e+00,  8.34412341e+00,\n",
       "        7.56765060e-01,  1.21531272e+01, -1.01991448e+01, -8.69754781e+00,\n",
       "       -6.23569725e-03, -2.70479571e-01,  3.89051794e+00,  2.62355422e+00,\n",
       "       -1.69052513e+00, -1.15620878e+00, -3.95281604e+00,  3.55415397e+00,\n",
       "       -5.42765062e-01,  1.52109704e+00, -1.91297115e-01, -5.44922423e-01,\n",
       "        6.67792293e-01, -1.66280659e+00, -6.18730189e+00, -7.14508948e+00,\n",
       "       -1.01328971e+01,  2.35506193e+00, -2.65402255e+00,  6.48305679e-02,\n",
       "        3.75407270e-01,  4.09991948e-01, -5.03981023e-01,  4.68666671e+00,\n",
       "        1.77796597e+00, -1.73288907e+00,  1.67210640e+00, -1.78972790e+00,\n",
       "       -1.45914399e+00,  1.34867158e-01, -1.36253330e-02,  2.56114169e+00,\n",
       "       -2.12495537e+00, -5.22643571e+00, -1.01135484e+01,  1.76224431e+00,\n",
       "       -2.65055678e+00, -2.49667297e+00,  2.71022067e+00, -8.25253407e-01,\n",
       "       -4.29534800e-01,  1.70018501e+00,  5.66158715e-01,  4.48837878e+00,\n",
       "        9.23761153e-01,  5.42760393e+00,  4.55054006e-01, -5.27495192e+00,\n",
       "       -2.33967094e+01,  5.05806993e-01,  4.06161295e+00,  7.85281216e+00,\n",
       "        4.66198233e-01,  6.99782081e-01, -7.65992227e-01,  3.00393908e+00,\n",
       "       -1.77228524e-02,  6.16191907e+00,  4.49320825e+00,  1.20100312e+00,\n",
       "       -8.80691450e-01,  1.21259880e+00, -5.86313766e-01,  5.42304860e-01,\n",
       "        4.88030841e-01, -1.11520413e+00, -1.02232228e+00, -3.33475301e+00,\n",
       "       -2.18319833e-02, -6.60810001e+00, -2.68324173e+00, -6.13859741e+00,\n",
       "       -7.22360702e+00, -3.08103268e+00,  1.19450124e+00, -6.46584236e+00,\n",
       "        4.08076778e-01,  5.97283030e-01,  4.39643521e-02, -7.35970228e-01,\n",
       "        2.34114455e+00,  6.38969466e+00, -1.07910289e+00,  8.12719784e+00,\n",
       "       -2.81454754e-01,  1.36164252e-01,  1.39589295e-01,  1.87459864e+00,\n",
       "        8.61218712e+00,  7.66863793e+00,  7.86688861e-01,  9.89835084e+00,\n",
       "        9.44878514e+00,  2.44711885e+01,  6.39780920e+00, -1.44066339e+00,\n",
       "       -2.24784843e+00,  7.38202114e-01, -2.06866389e+00,  3.02490780e-02,\n",
       "       -2.08598480e-01, -8.88536649e-01,  8.32913530e-01, -1.25401522e+00,\n",
       "        2.31451749e-02, -5.47579247e-01,  1.20500358e+00,  1.50303848e+00,\n",
       "        1.26069114e+01,  7.06632184e-01,  2.75884007e-01, -6.96421581e-01,\n",
       "       -3.25506392e+00,  9.24851966e-01,  3.67910855e+00,  8.71503149e+00,\n",
       "       -7.57523169e+00,  9.68080564e+00,  4.19596688e+01, -4.50584314e-01,\n",
       "       -1.22372997e+00,  1.44621822e+00,  9.98365110e-01,  3.16823027e+01,\n",
       "       -1.89899916e+00,  4.26493790e+00,  2.22319855e+00,  1.87848457e+00,\n",
       "        5.51398806e-01,  2.13010441e+00, -2.83173396e+00,  5.16449995e-01,\n",
       "        8.30780462e-01, -7.87454806e-01, -1.31178309e+00, -7.74086285e-01,\n",
       "       -7.04333080e-02, -1.29227395e+00, -7.29792239e-02,  5.57429867e+00,\n",
       "       -4.91714149e-01, -3.58392689e-01,  3.99625391e+00,  3.86851374e+00,\n",
       "        6.74110836e+00, -8.33289442e-01, -2.79742169e+00, -2.15534649e+00,\n",
       "       -7.34737013e+00,  3.79023784e+00, -1.85835277e+01, -1.50289123e+01,\n",
       "       -1.75771557e+01, -1.29032275e-01,  1.06006522e+00, -2.48390294e+00,\n",
       "       -1.92108870e+00,  2.47423653e+00, -1.09568015e+01, -3.22213485e+00,\n",
       "        1.62326634e+00,  5.44233165e+00,  1.02700091e+00, -9.67116640e-01,\n",
       "       -7.90557346e-01, -1.19189942e+00, -6.47426041e+00, -5.84556371e+00,\n",
       "       -2.51653302e+00,  6.37021333e+00,  2.06188613e+00, -9.68312375e-02,\n",
       "       -7.50286941e-02,  2.10417019e+00,  1.44978458e+00, -7.35298006e+00,\n",
       "        4.38770478e-01,  2.04116672e+00,  8.59138456e-01,  1.19342104e+00,\n",
       "        5.61805953e+00, -1.03728826e+00,  1.38146159e+00, -1.54183209e+00,\n",
       "        2.75241660e+01,  6.38637560e+01,  7.35513093e+00,  1.77817498e+01,\n",
       "       -1.27608015e+01,  5.44380501e+00, -7.50501860e+00]), timestamp=datetime.datetime(2020, 1, 1, 0, 0, tzinfo=datetime.timezone.utc), range_bin_lower_bound=0.2, range_bin_width=0.05, _mean_bin_lower_bound=-35.0, mean_bin_width=10, nr_small_cycles=0, residuals_sequence=array([ 0.00000000e+00,  1.43467170e+01, -9.12941335e+00,  2.20069094e+01,\n",
       "       -5.27102322e+01,  8.96948137e+01, -1.44951668e+02,  2.00000000e+02,\n",
       "       -7.22724880e+01,  8.69827498e+01, -5.14192502e+01,  2.58976472e+01,\n",
       "       -1.50100372e+01, -1.83819940e-15]), _min_max_sequence=array([], dtype=float64), lffd_solved=False, mean_stress_corrected='No', stress_concentration_factor=1.0, name='Example sum', _time_sequence=None)"
      ]
     },
     "execution_count": 176,
     "metadata": {},
     "output_type": "execute_result"
    }
   ],
   "source": [
    "cc[0]"
   ]
  },
  {
   "cell_type": "code",
   "execution_count": 157,
   "id": "9dfb0926",
   "metadata": {
    "ExecuteTime": {
     "end_time": "2022-06-17T13:14:05.302717Z",
     "start_time": "2022-06-17T13:14:05.284713Z"
    }
   },
   "outputs": [],
   "source": [
    "import matplotlib"
   ]
  },
  {
   "cell_type": "code",
   "execution_count": 180,
   "id": "52f8660b",
   "metadata": {
    "ExecuteTime": {
     "end_time": "2022-06-17T13:27:12.454096Z",
     "start_time": "2022-06-17T13:27:11.422483Z"
    }
   },
   "outputs": [
    {
     "data": {
      "image/png": "[encoded data removed]",
      "text/plain": [
       "<Figure size 1296x288 with 6 Axes>"
      ]
     },
     "metadata": {
      "needs_background": "light"
     },
     "output_type": "display_data"
    }
   ],
   "source": [
    "fig, axs = plt.subplots(1, 3, figsize=(18, 4))\n",
    "cc_c.plot_histogram(fig=fig, ax=axs[0], plot_type=\"mean-range\")\n",
    "cc_s.solve_lffd().plot_histogram(fig=fig, ax=axs[1], plot_type=\"mean-range\")\n",
    "cc_s.plot_histogram(fig=fig, ax=axs[2], plot_type=\"mean-range\")\n",
    "\n",
    "plt.show()"
   ]
  },
  {
   "cell_type": "code",
   "execution_count": 160,
   "id": "168b7425",
   "metadata": {
    "ExecuteTime": {
     "end_time": "2022-06-17T13:14:20.738679Z",
     "start_time": "2022-06-17T13:14:20.484999Z"
    }
   },
   "outputs": [
    {
     "data": {
      "text/plain": [
       "(<Figure size 429.594x184.112 with 1 Axes>,\n",
       " <AxesSubplot:xlabel='Residuals sequence', ylabel='Residuals'>)"
      ]
     },
     "execution_count": 160,
     "metadata": {},
     "output_type": "execute_result"
    },
    {
     "data": {
      "image/png": "[encoded data removed]",
      "text/plain": [
       "<Figure size 429.594x184.112 with 1 Axes>"
      ]
     },
     "metadata": {
      "needs_background": "light"
     },
     "output_type": "display_data"
    }
   ],
   "source": [
    "cc_s.plot_half_cycles_sequence(lw=1)"
   ]
  },
  {
   "cell_type": "code",
   "execution_count": null,
   "id": "bc3a0295",
   "metadata": {},
   "outputs": [],
   "source": []
  }
 ],
 "metadata": {
  "hide_input": false,
  "kernelspec": {
   "display_name": "pyFatEnv",
   "language": "python",
   "name": "pyfatenv"
  },
  "language_info": {
   "codemirror_mode": {
    "name": "ipython",
    "version": 3
   },
   "file_extension": ".py",
   "mimetype": "text/x-python",
   "name": "python",
   "nbconvert_exporter": "python",
   "pygments_lexer": "ipython3",
   "version": "3.9.6"
  },
  "latex_envs": {
   "LaTeX_envs_menu_present": true,
   "autoclose": false,
   "autocomplete": true,
   "bibliofile": "biblio.bib",
   "cite_by": "apalike",
   "current_citInitial": 1,
   "eqLabelWithNumbers": true,
   "eqNumInitial": 1,
   "hotkeys": {
    "equation": "Ctrl-E",
    "itemize": "Ctrl-I"
   },
   "labels_anchors": false,
   "latex_user_defs": false,
   "report_style_numbering": false,
   "user_envs_cfg": false
  },
  "toc": {
   "base_numbering": 1,
   "nav_menu": {},
   "number_sections": true,
   "sideBar": true,
   "skip_h1_title": true,
   "title_cell": "Table of Contents",
   "title_sidebar": "Contents",
   "toc_cell": true,
   "toc_position": {},
   "toc_section_display": true,
   "toc_window_display": false
  }
 },
 "nbformat": 4,
 "nbformat_minor": 5
}
