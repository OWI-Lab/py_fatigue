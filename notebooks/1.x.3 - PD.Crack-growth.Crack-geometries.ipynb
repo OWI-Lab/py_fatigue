{
 "cells": [
  {
   "cell_type": "markdown",
   "id": "147f668b",
   "metadata": {
    "toc": true
   },
   "source": [
    "<h1>Table of Contents<span class=\"tocSkip\"></span></h1>\n",
    "<div class=\"toc\"><ul class=\"toc-item\"></ul></div>"
   ]
  },
  {
   "cell_type": "code",
   "execution_count": 1,
   "id": "7a86d43d",
   "metadata": {
    "ExecuteTime": {
     "end_time": "2022-09-08T21:50:05.699387Z",
     "start_time": "2022-09-08T21:50:03.059085Z"
    }
   },
   "outputs": [],
   "source": [
    "# autoreload updated and newly installed packages\n",
    "# without having to restart Jupyter kernel\n",
    "%load_ext autoreload\n",
    "%autoreload 2\n",
    "# Some little interaction with matplotlib,\n",
    "# although this botebook tries to only use plotly.\n",
    "%matplotlib inline                \n",
    "# Avoid using Jedi for faster autocomplete (tab)\n",
    "%config Completer.use_jedi = False"
   ]
  },
  {
   "cell_type": "code",
   "execution_count": 2,
   "id": "abbb9b78",
   "metadata": {
    "ExecuteTime": {
     "end_time": "2022-09-08T21:50:09.748925Z",
     "start_time": "2022-09-08T21:50:05.703650Z"
    }
   },
   "outputs": [],
   "source": [
    "# Standard imports\n",
    "import datetime\n",
    "import platform\n",
    "import os\n",
    "import sys\n",
    "from typing import List\n",
    "# Non-standard imports\n",
    "import matplotlib\n",
    "import matplotlib.pyplot as plt\n",
    "import numba as nb\n",
    "import numpy as np\n",
    "import plotly.graph_objs as go\n",
    "# py-fatigue import\n",
    "import py_fatigue as pf\n",
    "# Paths of this tutorial and of the data\n",
    "TUTORIAL_PATH = os.path.dirname(os.getcwd())\n",
    "DATA_PATH = os.path.join(TUTORIAL_PATH, \"Data\")\n",
    "if not TUTORIAL_PATH in sys.path:\n",
    "    sys.path.append(TUTORIAL_PATH)\n",
    "np.set_printoptions(threshold=sys.maxsize)"
   ]
  },
  {
   "cell_type": "code",
   "execution_count": 3,
   "id": "ab944957",
   "metadata": {
    "ExecuteTime": {
     "end_time": "2022-09-08T21:50:09.964008Z",
     "start_time": "2022-09-08T21:50:09.748925Z"
    }
   },
   "outputs": [
    {
     "name": "stdout",
     "output_type": "stream",
     "text": [
      "Platform: Linux-5.15.0-52-generic-x86_64-with-glibc2.35\n",
      "Python version: 3.9.7 (default, Sep 20 2022, 16:21:01) \n",
      "[GCC 11.2.0]\n",
      "py-fatigue version: \u001b[1m1.2.0\n",
      "\u001b[47m\u001b[1m\u001b[34m\n",
      "DATA_PATH = /home/pd/Python/Packages/py-fatigue/Data\n",
      "TUTORIAL_PATH = /home/pd/Python/Packages/py-fatigue\n",
      "\u001b[0m\n"
     ]
    }
   ],
   "source": [
    "print(f\"Platform: {platform.platform()}\")\n",
    "print(f\"Python version: {sys.version}\")\n",
    "print(f\"py-fatigue version: {pf.styling.TermColors.CBOLD}{pf.__version__}\")\n",
    "\n",
    "print(f\"{pf.styling.TermColors.CWHITEBG}\\\n",
    "{pf.styling.TermColors.CBOLD}\\\n",
    "{pf.styling.TermColors.CBLUE}\")\n",
    "      \n",
    "print(f\"DATA_PATH = {DATA_PATH}\")\n",
    "print(f\"TUTORIAL_PATH = {TUTORIAL_PATH}\")\n",
    "\n",
    "print(f\"{pf.styling.TermColors.CEND}\")"
   ]
  },
  {
   "cell_type": "code",
   "execution_count": 4,
   "id": "51597e3a",
   "metadata": {
    "ExecuteTime": {
     "end_time": "2022-09-08T21:50:10.176190Z",
     "start_time": "2022-09-08T21:50:09.965291Z"
    }
   },
   "outputs": [],
   "source": [
    "plt.rcParams[\"figure.figsize\"] = (7, 3.5)\n",
    "plt.rcParams[\"font.family\"] = [\"sans\"]\n",
    "plt.rcParams[\"font.size\"] = 10\n",
    "plt.rcParams[\"lines.markersize\"] = 3\n",
    "plt.rcParams[\"axes.grid\"] = True\n",
    "plt.rcParams[\"grid.color\"] = \"#CCCCCC\"\n",
    "plt.rcParams[\"grid.linestyle\"] = \"-\"\n",
    "plt.rcParams[\"grid.color\"] = \"#DDDDDD\"\n",
    "plt.rcParams[\"grid.linestyle\"] = \"-\"\n",
    "plt.rcParams[\"axes.spines.right\"] = False\n",
    "plt.rcParams[\"axes.spines.top\"] = False\n",
    "plt.rcParams[\"xtick.bottom\"] = False\n",
    "plt.rcParams[\"xtick.labelbottom\"] = True\n",
    "plt.rcParams[\"ytick.left\"] = False\n",
    "plt.rcParams[\"ytick.labelleft\"] = True"
   ]
  },
  {
   "cell_type": "code",
   "execution_count": 5,
   "id": "ec2053d0",
   "metadata": {
    "ExecuteTime": {
     "end_time": "2022-09-08T21:50:10.403136Z",
     "start_time": "2022-09-08T21:50:10.176793Z"
    }
   },
   "outputs": [],
   "source": [
    "# pf.ParisCurve??"
   ]
  },
  {
   "cell_type": "code",
   "execution_count": 6,
   "id": "ea728c4c",
   "metadata": {
    "ExecuteTime": {
     "end_time": "2022-09-08T21:50:10.620078Z",
     "start_time": "2022-09-08T21:50:10.411152Z"
    }
   },
   "outputs": [],
   "source": [
    "SIF = np.linspace(1,2500, 300)\n",
    "SLOPE_1 = np.array([2.88, 8.16])\n",
    "INTERCEPT_1 = np.array([1.21E-16, 3.98E-29])\n",
    "SLOPE_2 = np.array([8.16, 2.88])\n",
    "INTERCEPT_2 = np.array([1.21E-26, 3.98E-13])\n",
    "SLOPE_3 = np.array([8.16])\n",
    "INTERCEPT_3 = np.array([1.21E-26])\n",
    "THRESHOLD = 75.\n",
    "CRITICAL = 2000."
   ]
  },
  {
   "cell_type": "code",
   "execution_count": 7,
   "id": "3d827e6a",
   "metadata": {
    "ExecuteTime": {
     "end_time": "2022-09-08T21:50:10.827527Z",
     "start_time": "2022-09-08T21:50:10.621164Z"
    }
   },
   "outputs": [],
   "source": [
    "# SN curves definition\n",
    "pc_1 = pf.ParisCurve(slope=SLOPE_1, intercept=INTERCEPT_1, norm=\"The norm\",\n",
    "                     environment=\"Environment\", curve=\"nr. 1\")\n",
    "pc_2 = pf.ParisCurve(slope=SLOPE_1, intercept=INTERCEPT_1,threshold=THRESHOLD,\n",
    "                     critical=CRITICAL, norm=\"The norm\",\n",
    "                     environment=\"Environment\", curve=\"nr. 2\")"
   ]
  },
  {
   "cell_type": "code",
   "execution_count": 8,
   "id": "d6b14a9a",
   "metadata": {
    "ExecuteTime": {
     "end_time": "2022-09-08T21:50:11.018320Z",
     "start_time": "2022-09-08T21:50:10.832319Z"
    }
   },
   "outputs": [],
   "source": [
    "# SN curves definition\n",
    "pc_3 = pf.ParisCurve(slope=SLOPE_3, intercept=INTERCEPT_3, norm=\"The norm\",\n",
    "                     environment=\"Environment\", curve=\"nr. 3\")\n",
    "pc_4 = pf.ParisCurve(slope=SLOPE_2, intercept=INTERCEPT_2,threshold=THRESHOLD,\n",
    "                     critical=CRITICAL, norm=\"The norm\",\n",
    "                     environment=\"Environment\", curve=\"nr. 4\")"
   ]
  },
  {
   "cell_type": "code",
   "execution_count": 9,
   "id": "01eeda0f",
   "metadata": {
    "ExecuteTime": {
     "end_time": "2022-09-08T21:50:33.602521Z",
     "start_time": "2022-09-08T21:50:11.019691Z"
    },
    "scrolled": false
   },
   "outputs": [
    {
     "data": {
      "image/png": "[encoded data removed]",
      "text/plain": [
       "<Figure size 1200x800 with 2 Axes>"
      ]
     },
     "metadata": {},
     "output_type": "display_data"
    }
   ],
   "source": [
    "fig, axs = plt.subplots(1,2, figsize=(12, 8))\n",
    "pc_1.plot(fig=fig, ax=axs[0],)\n",
    "pc_3.plot(fig=fig, ax=axs[0],)\n",
    "pc_2.plot(fig=fig, ax=axs[1],)\n",
    "pc_4.plot(fig=fig, ax=axs[1],)\n",
    "axs[0].legend()\n",
    "axs[1].legend()\n",
    "plt.show()"
   ]
  },
  {
   "cell_type": "markdown",
   "id": "f416249c",
   "metadata": {},
   "source": [
    "## Crack propagation analysis\n",
    "\n",
    "### Constant load"
   ]
  },
  {
   "cell_type": "code",
   "execution_count": 10,
   "id": "3e111f38",
   "metadata": {},
   "outputs": [],
   "source": [
    "max_ = 150\n",
    "scale_ = [1, 2/3, 4/7, 1/2, 3/7]\n",
    "_scale = scale_[0]"
   ]
  },
  {
   "cell_type": "markdown",
   "id": "4854cc84",
   "metadata": {},
   "source": [
    "#### Divided cycles"
   ]
  },
  {
   "cell_type": "code",
   "execution_count": 11,
   "id": "acd47881",
   "metadata": {},
   "outputs": [],
   "source": [
    "cd = pf.CycleCount(\n",
    "    count_cycle=np.ones(10000000),\n",
    "    stress_range=max_ * np.ones(10000000),\n",
    "    mean_stress=np.zeros(10000000)\n",
    ")"
   ]
  },
  {
   "cell_type": "markdown",
   "id": "da0a56fa",
   "metadata": {},
   "source": [
    "#### Clustered cycles"
   ]
  },
  {
   "cell_type": "code",
   "execution_count": 12,
   "id": "320e6f1e",
   "metadata": {},
   "outputs": [],
   "source": [
    "cc = pf.CycleCount(\n",
    "    count_cycle=np.array([10000000.]),\n",
    "    stress_range=np.array([max_]),\n",
    "    mean_stress=np.array([0])\n",
    ")"
   ]
  },
  {
   "cell_type": "markdown",
   "id": "783ce07c",
   "metadata": {},
   "source": [
    "### Analytical solution"
   ]
  },
  {
   "cell_type": "code",
   "execution_count": 13,
   "id": "0e5d4501",
   "metadata": {},
   "outputs": [],
   "source": [
    "# Renaming Paris constants\n",
    "m  = slope = pc_3.slope[0]\n",
    "C  = intercept = pc_3.intercept[0]\n",
    "Δσ = scf = max_ * _scale\n",
    "Y  = 1\n",
    "aⁱ = initial_size = 1\n",
    "aᶠ = 1e1000\n",
    "π  = np.pi"
   ]
  },
  {
   "cell_type": "code",
   "execution_count": 14,
   "id": "e7ebbf5a",
   "metadata": {},
   "outputs": [
    {
     "name": "stdout",
     "output_type": "stream",
     "text": [
      "Analytically integrated Nᶠ: 439934\n"
     ]
    }
   ],
   "source": [
    "# analytical = 2 / (2 - slope) / intercept * np.pi ** (-slope / 2) \\\n",
    "#     * scf ** (-slope) * (-(initial_size ** (1 - slope / 2)))\n",
    "# print(\"Analytically integrated Nᶠ:\", int(analytical))\n",
    "Nᶠ = 2 / (2 - m) / C * π ** (-m / 2) * (Y * Δσ) ** (-m) \\\n",
    "    * (- aⁱ ** (1 - m / 2)) if m != 2 else \\\n",
    "    1 / (C * π * (Y * Δσ) ** m) * np.log(aᶠ/aⁱ)\n",
    "print(\"Analytically integrated Nᶠ:\", int(Nᶠ))"
   ]
  },
  {
   "cell_type": "markdown",
   "id": "9dcc7164",
   "metadata": {},
   "source": [
    "### Numerical solution\n",
    "\n",
    "#### Geometry"
   ]
  },
  {
   "cell_type": "code",
   "execution_count": 64,
   "id": "004eaa99",
   "metadata": {},
   "outputs": [
    {
     "data": {
      "text/plain": [
       "InfiniteSurface(\n",
       "  _id=INF_SUR_00,\n",
       "  initial_depth=1.0,\n",
       ")"
      ]
     },
     "execution_count": 64,
     "metadata": {},
     "output_type": "execute_result"
    }
   ],
   "source": [
    "geo = pf.geometry.InfiniteSurface(initial_depth=1.)\n",
    "geo"
   ]
  },
  {
   "cell_type": "markdown",
   "id": "12c1c153",
   "metadata": {},
   "source": [
    "#### Crack growth"
   ]
  },
  {
   "cell_type": "code",
   "execution_count": 65,
   "id": "a9f1a400",
   "metadata": {},
   "outputs": [
    {
     "name": "stdout",
     "output_type": "stream",
     "text": [
      "Crack size increased by more than 10x in the last iteration. Stopping calculation.\n",
      "Cycles to failure: 439944\n"
     ]
    }
   ],
   "source": [
    "cg = pf.crack_growth.get_crack_growth(\n",
    "    cc * _scale, pc_3, geo\n",
    ")\n",
    "print(f\"Cycles to failure: {int(cg.final_cycles)}\")"
   ]
  },
  {
   "cell_type": "code",
   "execution_count": 73,
   "id": "7ca9c743",
   "metadata": {},
   "outputs": [
    {
     "data": {
      "text/plain": [
       "[<matplotlib.lines.Line2D at 0x7f8bd0f10f10>]"
      ]
     },
     "execution_count": 73,
     "metadata": {},
     "output_type": "execute_result"
    },
    {
     "data": {
      "image/png": "[encoded data removed]",
      "text/plain": [
       "<Figure size 700x350 with 1 Axes>"
      ]
     },
     "metadata": {},
     "output_type": "display_data"
    }
   ],
   "source": [
    "plt.loglog(np.cumsum(cg.count_cycle)[:-30000], cg.crack_depth[:-30000])"
   ]
  },
  {
   "cell_type": "code",
   "execution_count": 28,
   "id": "0adb500a",
   "metadata": {},
   "outputs": [
    {
     "data": {
      "text/plain": [
       "array([4.74079257e+001, 5.24840636e+001, 6.01713584e+001, 7.35981416e+001,\n",
       "       1.04138791e+002, 2.30008332e+002, 3.42136455e+003, 1.93911043e+008,\n",
       "       4.80263849e+027, 6.43427329e+106])"
      ]
     },
     "execution_count": 28,
     "metadata": {},
     "output_type": "execute_result"
    }
   ],
   "source": [
    "cg.crack_depth[-10:]"
   ]
  },
  {
   "cell_type": "code",
   "execution_count": 27,
   "id": "89af8864",
   "metadata": {},
   "outputs": [
    {
     "data": {
      "text/plain": [
       "[5]"
      ]
     },
     "execution_count": 27,
     "metadata": {},
     "output_type": "execute_result"
    }
   ],
   "source": [
    "a = [1,2,3,4,5]\n",
    "a[-1:]"
   ]
  },
  {
   "cell_type": "code",
   "execution_count": 17,
   "id": "bac25f80",
   "metadata": {},
   "outputs": [],
   "source": [
    "time = pf.testing.get_sampled_time(10, 1000000)"
   ]
  },
  {
   "cell_type": "code",
   "execution_count": null,
   "id": "3832462d",
   "metadata": {},
   "outputs": [],
   "source": [
    "data = pf.testing.get_random_data(t=time, range_=250)"
   ]
  },
  {
   "cell_type": "code",
   "execution_count": null,
   "id": "3b32ec3b",
   "metadata": {},
   "outputs": [],
   "source": [
    "plt.plot(time, data, c=\"k\", lw=0.5)\n",
    "plt.xlabel(\"Time, s\")\n",
    "plt.ylabel(\"Stress, MPa\")\n",
    "plt.show()"
   ]
  },
  {
   "cell_type": "code",
   "execution_count": null,
   "id": "8921dfe9",
   "metadata": {},
   "outputs": [],
   "source": [
    "cc = pf.CycleCount.from_timeseries(data=data, time=time, range_bin_width=1.25, mean_bin_width=1.25, name=\"Signal\")"
   ]
  },
  {
   "cell_type": "code",
   "execution_count": null,
   "id": "b6b56529",
   "metadata": {},
   "outputs": [],
   "source": [
    "cc"
   ]
  },
  {
   "cell_type": "code",
   "execution_count": null,
   "id": "8c8dde64",
   "metadata": {},
   "outputs": [],
   "source": [
    "# cc.plot_histogram()"
   ]
  },
  {
   "cell_type": "code",
   "execution_count": null,
   "id": "cf6da4db",
   "metadata": {},
   "outputs": [],
   "source": [
    "# cg = pf.crack_growth.get_crack_growth(cc, pc_2, 15.)"
   ]
  },
  {
   "cell_type": "code",
   "execution_count": null,
   "id": "ab6efc9c",
   "metadata": {},
   "outputs": [],
   "source": [
    "# cg.crack_size[-1]"
   ]
  },
  {
   "cell_type": "code",
   "execution_count": null,
   "id": "95df04ee",
   "metadata": {},
   "outputs": [],
   "source": [
    "# plt.loglog(np.cumsum(cc.count_cycle[:len(cg.crack_size)]), cg.crack_size[1:])"
   ]
  },
  {
   "cell_type": "code",
   "execution_count": null,
   "id": "a8288368",
   "metadata": {},
   "outputs": [],
   "source": [
    "# cg.get_knees_sif"
   ]
  },
  {
   "cell_type": "markdown",
   "id": "652aadb0",
   "metadata": {},
   "source": [
    "𝜋m∕2 (m∕2 − 1) C(gΔ𝜎i)m ̂ Ni"
   ]
  },
  {
   "cell_type": "code",
   "execution_count": null,
   "id": "bbdbdc47",
   "metadata": {},
   "outputs": [],
   "source": [
    "pc = pf.ParisCurve(intercept=pc_3.intercept[0], slope=pc_3.slope[0])  #, critical=350, threshold=230)\n",
    "# pc = pf.ParisCurve(intercept=1e-20, slope=4.1)  #, critical=350, threshold=230)\n",
    "# pc = pf.ParisCurve(intercept=2e-15, slope=5.1)  #, critical=350, threshold=230)\n",
    "# pc = pf.ParisCurve(intercept=1e-7, slope=2.000001)  #, critical=350, threshold=230)"
   ]
  },
  {
   "cell_type": "code",
   "execution_count": null,
   "id": "d0755c01",
   "metadata": {},
   "outputs": [],
   "source": [
    "pc"
   ]
  },
  {
   "cell_type": "code",
   "execution_count": null,
   "id": "53938a6c",
   "metadata": {},
   "outputs": [],
   "source": [
    "max_ = 1000\n",
    "data = np.empty((3000000,))\n",
    "data[::2] = max_ / 2\n",
    "data[1::2] = - max_ / 2"
   ]
  },
  {
   "cell_type": "code",
   "execution_count": null,
   "id": "b085feb0",
   "metadata": {},
   "outputs": [],
   "source": [
    "cc = pf.CycleCount(\n",
    "    count_cycle=np.ones(10000000),\n",
    "    stress_range=max_ * np.ones(10000000),\n",
    "    mean_stress=np.zeros(10000000)\n",
    ")"
   ]
  },
  {
   "cell_type": "code",
   "execution_count": null,
   "id": "7363e82b",
   "metadata": {},
   "outputs": [],
   "source": [
    "cc"
   ]
  },
  {
   "cell_type": "code",
   "execution_count": null,
   "id": "bb865fa9",
   "metadata": {},
   "outputs": [],
   "source": [
    "scale_ = [1, 2/3, 4/7, 1/2, 3/7]\n",
    "scale_ = scale_[-1]\n",
    "# Renaming Paris constants\n",
    "m  = slope = pc.slope[0]\n",
    "C  = intercept = pc.intercept[0]\n",
    "Δσ = scf = max_ * scale_ \n",
    "Y  = 1\n",
    "aⁱ = initial_size = 1\n",
    "aᶠ = 1e1000\n",
    "π  = np.pi"
   ]
  },
  {
   "cell_type": "code",
   "execution_count": null,
   "id": "f31157eb",
   "metadata": {},
   "outputs": [],
   "source": [
    "analytical = 2 / (2 - slope) / intercept * np.pi ** (-slope / 2) \\\n",
    "    * scf ** (-slope) * (-(initial_size ** (1 - slope / 2)))\n",
    "print(\"Analytically integrated Nᶠ:\", int(analytical))"
   ]
  },
  {
   "cell_type": "code",
   "execution_count": null,
   "id": "9149d123",
   "metadata": {},
   "outputs": [],
   "source": [
    "Nᶠ = 2 / (2 - m) / C * π ** (-m / 2) * (Y * Δσ) ** (-m) \\\n",
    "    * (- aⁱ ** (1 - m / 2)) if m != 2 else \\\n",
    "    1 / (C * π * (Y * Δσ) ** m) * np.log(aᶠ/aⁱ)\n",
    "print(\"Analytically integrated Nᶠ:\", int(Nᶠ))"
   ]
  },
  {
   "cell_type": "code",
   "execution_count": null,
   "id": "2f90d72a",
   "metadata": {},
   "outputs": [],
   "source": [
    "Nᶠ = 2 / (2 - m) / C * π ** (-m / 2) * (Y * Δσ) ** (-m) \\\n",
    "    * (aᶠ ** (1 - m / 2) - aⁱ ** (1 - m / 2)) if m != 2 else \\\n",
    "    1 / (C * π * (Y * Δσ) ** m) * np.log(aᶠ/aⁱ)\n",
    "print(\"Analytically integrated Nᶠ:\", int(Nᶠ))"
   ]
  },
  {
   "cell_type": "code",
   "execution_count": null,
   "id": "0da118a6",
   "metadata": {},
   "outputs": [],
   "source": [
    "# geo = pf.HollowCylinder(\n",
    "#     initial_depth=1.,\n",
    "#     thickness=80.,\n",
    "#     height=3000.,\n",
    "#     outer_diameter=3000.,\n",
    "#     crack_position=\"external\"\n",
    "# )\n",
    "\n",
    "geo = pf.geometry.NoType(initial_depth=1.)\n",
    "print(geo)"
   ]
  },
  {
   "cell_type": "code",
   "execution_count": null,
   "id": "651ecb8b",
   "metadata": {},
   "outputs": [],
   "source": [
    "geo = pf.HollowCylinder(\n",
    "    initial_depth=1.,\n",
    "    thickness=1000.,\n",
    "    height=3000.,\n",
    "    outer_diameter=3000.,\n",
    "    crack_position=\"external\"\n",
    ")"
   ]
  },
  {
   "cell_type": "code",
   "execution_count": null,
   "id": "fcc8539e",
   "metadata": {},
   "outputs": [],
   "source": [
    "geo"
   ]
  },
  {
   "cell_type": "code",
   "execution_count": null,
   "id": "03d9732d",
   "metadata": {
    "scrolled": true
   },
   "outputs": [],
   "source": [
    "cg = pf.crack_growth.get_crack_growth(\n",
    "    cc * scale_, pc, geo\n",
    ")\n",
    "print(f\"Cycles to failure: {int(cg.final_cycles)}\")"
   ]
  },
  {
   "cell_type": "code",
   "execution_count": null,
   "id": "a06059f2",
   "metadata": {},
   "outputs": [],
   "source": [
    "print(cg.crack_depth)\n",
    "print(cg.crack_type)\n",
    "print(cg.crack_geometry)\n"
   ]
  },
  {
   "cell_type": "code",
   "execution_count": null,
   "id": "954862d9",
   "metadata": {},
   "outputs": [],
   "source": [
    "cg.crack_growth_curve()"
   ]
  },
  {
   "cell_type": "code",
   "execution_count": null,
   "id": "e0866218",
   "metadata": {},
   "outputs": [],
   "source": [
    "str(cg)"
   ]
  },
  {
   "cell_type": "code",
   "execution_count": null,
   "id": "dde75e8b",
   "metadata": {},
   "outputs": [],
   "source": [
    "cc_ca = pf.CycleCount(\n",
    "    count_cycle=np.array([9999999.]),\n",
    "    stress_range=np.array([max_]),\n",
    "    mean_stress=np.array([0])\n",
    ")"
   ]
  },
  {
   "cell_type": "code",
   "execution_count": null,
   "id": "03f420bc",
   "metadata": {
    "scrolled": true
   },
   "outputs": [],
   "source": [
    "cg_ca = pf.crack_growth.get_crack_growth(\n",
    "    cc_ca * scale_, pc, 1, True\n",
    ")"
   ]
  },
  {
   "cell_type": "code",
   "execution_count": null,
   "id": "6a33e347",
   "metadata": {},
   "outputs": [],
   "source": [
    "cg_ca.final_cycles"
   ]
  },
  {
   "cell_type": "markdown",
   "id": "db09761c",
   "metadata": {},
   "source": [
    "## Testing geometries"
   ]
  },
  {
   "cell_type": "code",
   "execution_count": null,
   "id": "3e4da20c",
   "metadata": {},
   "outputs": [],
   "source": [
    "diameter = 10.\n",
    "initial_depth = 1.\n",
    "height = 3000\n",
    "\n",
    "neg_diam = -1 * diameter\n",
    "\n",
    "geo = pf.geometry.Cylinder(\n",
    "    diameter=neg_diam,\n",
    "    initial_depth=initial_depth,\n",
    "    height=height,\n",
    "    \n",
    ")"
   ]
  },
  {
   "cell_type": "code",
   "execution_count": null,
   "id": "f132347b",
   "metadata": {},
   "outputs": [],
   "source": [
    "geo"
   ]
  },
  {
   "cell_type": "markdown",
   "id": "2afc0b4b",
   "metadata": {},
   "source": [
    "## Testing split cycles"
   ]
  },
  {
   "cell_type": "code",
   "execution_count": null,
   "id": "846b26a3",
   "metadata": {},
   "outputs": [],
   "source": [
    "cycles = [0.5, 9, 88, 777, 6666]"
   ]
  },
  {
   "cell_type": "code",
   "execution_count": null,
   "id": "ad324a66",
   "metadata": {},
   "outputs": [],
   "source": [
    "express_mode = False"
   ]
  },
  {
   "cell_type": "code",
   "execution_count": null,
   "id": "7395ff87",
   "metadata": {},
   "outputs": [],
   "source": [
    "if express_mode:\n",
    "    # Express mode\n",
    "    splits = [\n",
    "        10 ** int(np.log10(cycle)) for cycle in cycles\n",
    "    ]\n",
    "    splt_cyc = [\n",
    "        split(int(cycle), n) if int(cycle) > 0 else [cycle]\n",
    "        for cycle, n in zip(cycles, splits)\n",
    "    ]\n",
    "    splt_len = [len(_) for _ in splt_cyc]\n",
    "else:\n",
    "    # Non-express mode\n",
    "    splt_cyc = [\n",
    "        split(int(cycle), int(cycle)) if int(cycle) > 0 else [cycle]\n",
    "        for cycle in cycles\n",
    "    ]\n",
    "    splt_len = [len(_) for _ in splt_cyc]\n",
    "\n",
    "count_cycle = np.asarray(\n",
    "    [float(item) for sublist in splt_cyc for item in sublist]\n",
    ")"
   ]
  },
  {
   "cell_type": "code",
   "execution_count": null,
   "id": "f91af6d8",
   "metadata": {},
   "outputs": [],
   "source": [
    "splits"
   ]
  },
  {
   "cell_type": "code",
   "execution_count": null,
   "id": "b0db84e8",
   "metadata": {},
   "outputs": [],
   "source": [
    "splt_len"
   ]
  },
  {
   "cell_type": "code",
   "execution_count": null,
   "id": "c340b11d",
   "metadata": {},
   "outputs": [],
   "source": [
    "sum(count_cycle)"
   ]
  },
  {
   "cell_type": "code",
   "execution_count": null,
   "id": "671fd745",
   "metadata": {},
   "outputs": [],
   "source": [
    "sum(cycles)"
   ]
  },
  {
   "cell_type": "code",
   "execution_count": null,
   "id": "ec17af1b",
   "metadata": {},
   "outputs": [],
   "source": [
    "splits = [10 ** int(np.log10(cycle)) for cycle in cycles]"
   ]
  },
  {
   "cell_type": "code",
   "execution_count": null,
   "id": "739fd98c",
   "metadata": {},
   "outputs": [],
   "source": [
    "[int(cycle / 10) if cycle < 100 else int(cycle / 100) if 100<= cycle <= 1000 else int(cycle / 1000) if 1000 <= cycle <= 10000 else int(cycle/10000) for cycle in cycles]"
   ]
  },
  {
   "cell_type": "code",
   "execution_count": null,
   "id": "381594ca",
   "metadata": {},
   "outputs": [],
   "source": [
    "def split(n: int, k: int):\n",
    "    d, r = divmod(n, k)\n",
    "    return [d + 1] * r + [d] * (k - r)"
   ]
  },
  {
   "cell_type": "code",
   "execution_count": null,
   "id": "2a173930",
   "metadata": {},
   "outputs": [],
   "source": [
    "[split(cycle, n) for cycle, n in zip(cycles, splits)]"
   ]
  },
  {
   "cell_type": "code",
   "execution_count": null,
   "id": "1f895031",
   "metadata": {},
   "outputs": [],
   "source": [
    "from numba.experimental import jitclass\n",
    "from numba import float64\n",
    "\n",
    "spec = [(\"alpha\", float64)]\n",
    "\n",
    "\n",
    "@jitclass(spec)\n",
    "class Foo:\n",
    "    def __init__(self, alpha):\n",
    "        self.alpha = alpha\n",
    "    \n",
    "    def __str__(self):\n",
    "        return \"Class Foo\"\n",
    "    \n",
    "    def __repr__(self):\n",
    "        return \"Class Foo Repr\"\n",
    "\n",
    "foo = Foo(1.)\n",
    "\n",
    "print(str(foo))"
   ]
  },
  {
   "cell_type": "code",
   "execution_count": null,
   "id": "6b1967ce",
   "metadata": {},
   "outputs": [],
   "source": [
    "repr(foo)"
   ]
  },
  {
   "cell_type": "code",
   "execution_count": null,
   "id": "37d8d279",
   "metadata": {},
   "outputs": [],
   "source": [
    "foo.__repr__()"
   ]
  },
  {
   "cell_type": "code",
   "execution_count": null,
   "id": "a91f13eb",
   "metadata": {},
   "outputs": [],
   "source": [
    "foo"
   ]
  },
  {
   "cell_type": "code",
   "execution_count": null,
   "id": "76d39f7f",
   "metadata": {},
   "outputs": [],
   "source": [
    "help(foo.__repr__)"
   ]
  },
  {
   "cell_type": "code",
   "execution_count": null,
   "id": "f0883910",
   "metadata": {},
   "outputs": [],
   "source": [
    "class TestCrackGrowth:\n",
    "    \"\"\"Test the functions related with the crack growth rules, i.e.:\n",
    "    - Paris' law\n",
    "    - Walker's law (TO BE IMPLEMENTED)\n",
    "    \"\"\"\n",
    "\n",
    "    @pytest.mark.parametrize(\"cc_clustered, cc_divided\", [(CC_1A, CC_1B)])\n",
    "    @pytest.mark.parametrize(\n",
    "        \"scf\", [800.])\n",
    "        # \"scf\", [100, 200, 300, 400, 500, 600, 700, 800, 900, 1000])\n",
    "    @given(\n",
    "        # scf=hy.floats(min_value=10.0, max_value=1000.0),\n",
    "        # slope=hy.floats(min_value=2.1, max_value=10.0),\n",
    "        # intercept=hy.floats(min_value=1.0e-30, max_value=1.0e-20),\n",
    "        initial_size=hy.floats(min_value=1.0, max_value=10.0),\n",
    "    )\n",
    "    @pytest.mark.parametrize(\n",
    "        \"slope, intercept\", [(3.1, 1.2e-26), (4.2, 1.1e-20), (5.0, 2.0e-15)]\n",
    "    )\n",
    "    def test_paris_law_constant_load(\n",
    "        self,\n",
    "        cc_clustered: CycleCount,\n",
    "        cc_divided: CycleCount,\n",
    "        scf: float,\n",
    "        slope: float,\n",
    "        intercept: float,\n",
    "        initial_size: float,\n",
    "    ):\n",
    "        \"\"\"Test the Paris' law for a constant load.\"\"\"\n",
    "        cc_clustered = cc_clustered * scf\n",
    "        cc_divided = cc_divided * scf\n",
    "        threshold = scf * np.sqrt(np.pi * initial_size)\n",
    "        paris_pure = ParisCurve(slope=slope, intercept=intercept)\n",
    "        paris_threshold = ParisCurve(\n",
    "            slope=slope, intercept=intercept, threshold=0.99 * threshold\n",
    "        )\n",
    "        paris_critical = ParisCurve(\n",
    "            slope=slope, intercept=intercept, critical=1.01 * threshold\n",
    "        )\n",
    "\n",
    "        # fmt: off\n",
    "        analytical = 2 / (2 - slope) / intercept * np.pi ** (-slope / 2) \\\n",
    "            * scf ** (-slope) * (-(initial_size ** (1 - slope / 2)))\n",
    "        # fmt: on\n",
    "        cg_c_ex = damage.get_crack_growth(\n",
    "            cc_clustered, paris_pure, initial_size, True\n",
    "        )\n",
    "        cg_c_no_ex = damage.get_crack_growth(\n",
    "            cc_clustered, paris_pure, initial_size, False\n",
    "        )\n",
    "        cg_d_ex = damage.get_crack_growth(\n",
    "            cc_divided, paris_pure, initial_size, True\n",
    "        )\n",
    "\n",
    "        cg_d_no_ex = damage.get_crack_growth(\n",
    "            cc_divided, paris_pure, initial_size, True\n",
    "        )"
   ]
  },
  {
   "cell_type": "code",
   "execution_count": null,
   "id": "db0b3e41",
   "metadata": {},
   "outputs": [],
   "source": [
    "\n",
    "\n",
    "# Standard imports\n",
    "import os\n",
    "import pytest\n",
    "import sys\n",
    "\n",
    "PROJECT_PATH = os.path.dirname(os.getcwd())\n",
    "if not PROJECT_PATH in sys.path:\n",
    "    sys.path.append(PROJECT_PATH)\n",
    "# Non-standard imports\n",
    "from hypothesis import given, strategies as hy\n",
    "import numpy as np\n",
    "\n",
    "from py_fatigue import CycleCount, ParisCurve\n",
    "import py_fatigue.damage as damage\n",
    "\n",
    "# PARIS_1A = ParisCurve(slope=8.16, intercept=1.21e-26)\n",
    "# PARIS_1B = ParisCurve(slope=8.16, intercept=1.21e-26, critical=350)\n",
    "# PARIS_1C = ParisCurve(slope=8.16, intercept=1.21e-26, threshold=230)\n",
    "\n"
   ]
  },
  {
   "cell_type": "code",
   "execution_count": null,
   "id": "5d9fd0d9",
   "metadata": {},
   "outputs": [],
   "source": []
  },
  {
   "cell_type": "code",
   "execution_count": null,
   "id": "27054b54",
   "metadata": {},
   "outputs": [],
   "source": [
    "cc_divided = pf.CycleCount(\n",
    "    count_cycle=np.ones(50000),\n",
    "    stress_range=np.ones(50000),\n",
    "    mean_stress=np.zeros(50000),\n",
    ")\n",
    "cc_clustered = pf.CycleCount(\n",
    "    count_cycle=np.array([50000.0]),\n",
    "    stress_range=np.array([1]),\n",
    "    mean_stress=np.array([0]),\n",
    ")\n",
    "\n",
    "scf = 800.\n",
    "s_i = [(3, 1.2e-14), (4.2, 1.1e-17), (5.0, 1.0e-20)]\n",
    "s_i = list(map(list, zip(*s_i)))\n",
    "slope = s_i[0][2]\n",
    "intercept = s_i[1][2]\n",
    "initial_size = 1\n",
    "cc_clustered = cc_clustered * scf\n",
    "cc_divided = cc_divided * scf"
   ]
  },
  {
   "cell_type": "code",
   "execution_count": null,
   "id": "af32156b",
   "metadata": {},
   "outputs": [],
   "source": [
    "scf * np.sqrt(np.pi * initial_size) * 0.9"
   ]
  },
  {
   "cell_type": "code",
   "execution_count": null,
   "id": "ec0e7159",
   "metadata": {},
   "outputs": [],
   "source": [
    "\n",
    "threshold = scf * np.sqrt(np.pi * initial_size)\n",
    "paris_pure = pf.ParisCurve(slope=slope, intercept=intercept)\n",
    "paris_threshold = pf.ParisCurve(\n",
    "    slope=slope, intercept=intercept, threshold=(1.01 * threshold)\n",
    ")\n",
    "paris_critical = pf.ParisCurve(\n",
    "    slope=slope, intercept=intercept, critical=1.2 * threshold\n",
    ")\n",
    "\n",
    "# fmt: off\n",
    "analytical = 2 / (2 - slope) / intercept * np.pi ** (-slope / 2) \\\n",
    "    * scf ** (-slope) * (-(initial_size ** (1 - slope / 2)))\n",
    "# fmt: on\n",
    "cg_c_ex = pf.damage.get_crack_growth(\n",
    "    cc_clustered, paris_pure, initial_size, True\n",
    ")\n",
    "cg_c_no_ex = pf.damage.get_crack_growth(\n",
    "    cc_clustered, paris_pure, initial_size, False\n",
    ")\n",
    "cg_d_ex = pf.damage.get_crack_growth(\n",
    "    cc_divided, paris_pure, initial_size, True\n",
    ")\n",
    "\n",
    "cg_d_no_ex = pf.damage.get_crack_growth(\n",
    "    cc_divided, paris_pure, initial_size, False\n",
    ")"
   ]
  },
  {
   "cell_type": "code",
   "execution_count": null,
   "id": "574a6579",
   "metadata": {},
   "outputs": [],
   "source": [
    "cg_th = pf.damage.get_crack_growth(\n",
    "    cc_clustered, paris_threshold, initial_size\n",
    ")\n",
    "cg_cr = pf.damage.get_crack_growth(\n",
    "    cc_clustered, paris_critical, initial_size\n",
    ")\n",
    "cg = pf.damage.get_crack_growth(cc_clustered, paris_pure, initial_size)\n",
    "\n",
    "# fmt: off\n",
    "if cg.failure:\n",
    "    if analytical > 1E4:\n",
    "        assert cg.final_cycles >= cg_cr.final_cycles\n",
    "    else:\n",
    "        assert abs(cg.final_cycles - analytical) < 1000\n",
    "\n",
    "assert not cg_th.failure"
   ]
  },
  {
   "cell_type": "code",
   "execution_count": null,
   "id": "7a380ed6",
   "metadata": {},
   "outputs": [],
   "source": [
    "threshold"
   ]
  },
  {
   "cell_type": "code",
   "execution_count": null,
   "id": "dd029610",
   "metadata": {},
   "outputs": [],
   "source": [
    "cg_th.sif[0]"
   ]
  },
  {
   "cell_type": "code",
   "execution_count": null,
   "id": "903e62c1",
   "metadata": {},
   "outputs": [],
   "source": [
    "paris_threshold"
   ]
  },
  {
   "cell_type": "code",
   "execution_count": null,
   "id": "1dfe77fd",
   "metadata": {},
   "outputs": [],
   "source": [
    "assert all((cg_c_ex.failure, cg_d_ex.failure, cg_c_no_ex.failure, \\\n",
    "    cg_d_no_ex.failure)) is False"
   ]
  },
  {
   "cell_type": "code",
   "execution_count": null,
   "id": "f0b5d516",
   "metadata": {},
   "outputs": [],
   "source": [
    "analytical"
   ]
  },
  {
   "cell_type": "code",
   "execution_count": null,
   "id": "3d855fb8",
   "metadata": {},
   "outputs": [],
   "source": [
    "cg_d_no_ex.final_cycles"
   ]
  },
  {
   "cell_type": "code",
   "execution_count": null,
   "id": "fcba3148",
   "metadata": {},
   "outputs": [],
   "source": [
    "if cg_c_ex.failure:\n",
    "    assert np.isclose(cg_c_ex.final_cycles, analytical, rtol=0.1)\n",
    "    assert np.isclose(cg_d_ex.final_cycles, analytical, rtol=0.1)\n",
    "else:\n",
    "    assert all((cg_c_ex.final_cycles, cg_d_ex.final_cycles, cg_c_no_ex.final_cycles, cg_d_no_ex.final_cycles)) < analytical\n",
    "    assert all((cg_c_ex.failure, cg_d_ex.failure, cg_c_no_ex.failure, cg_d_no_ex.failure)) is False"
   ]
  },
  {
   "cell_type": "code",
   "execution_count": null,
   "id": "fa735a02",
   "metadata": {},
   "outputs": [],
   "source": [
    "assert (\n",
    "    cg_d_ex.final_cycles\n",
    "    == cg_d_no_ex.final_cycles\n",
    "    == cg_c_no_ex.final_cycles\n",
    ")"
   ]
  },
  {
   "cell_type": "code",
   "execution_count": null,
   "id": "9b00a8fb",
   "metadata": {},
   "outputs": [],
   "source": [
    "cg_d_ex.final_cycles"
   ]
  },
  {
   "cell_type": "code",
   "execution_count": null,
   "id": "7ccfe6e9",
   "metadata": {},
   "outputs": [],
   "source": [
    "cg_c_ex.final_cycles"
   ]
  },
  {
   "cell_type": "code",
   "execution_count": null,
   "id": "6a19cd75",
   "metadata": {},
   "outputs": [],
   "source": [
    "foo()"
   ]
  },
  {
   "cell_type": "code",
   "execution_count": null,
   "id": "37019e5f",
   "metadata": {},
   "outputs": [],
   "source": []
  }
 ],
 "metadata": {
  "hide_input": false,
  "kernelspec": {
   "display_name": "Python 3",
   "language": "python",
   "name": "python3"
  },
  "language_info": {
   "codemirror_mode": {
    "name": "ipython",
    "version": 3
   },
   "file_extension": ".py",
   "mimetype": "text/x-python",
   "name": "python",
   "nbconvert_exporter": "python",
   "pygments_lexer": "ipython3",
   "version": "3.9.7"
  },
  "latex_envs": {
   "LaTeX_envs_menu_present": true,
   "autoclose": false,
   "autocomplete": true,
   "bibliofile": "biblio.bib",
   "cite_by": "apalike",
   "current_citInitial": 1,
   "eqLabelWithNumbers": true,
   "eqNumInitial": 1,
   "hotkeys": {
    "equation": "Ctrl-E",
    "itemize": "Ctrl-I"
   },
   "labels_anchors": false,
   "latex_user_defs": false,
   "report_style_numbering": false,
   "user_envs_cfg": false
  },
  "toc": {
   "base_numbering": 1,
   "nav_menu": {},
   "number_sections": true,
   "sideBar": true,
   "skip_h1_title": true,
   "title_cell": "Table of Contents",
   "title_sidebar": "Contents",
   "toc_cell": true,
   "toc_position": {},
   "toc_section_display": true,
   "toc_window_display": false
  }
 },
 "nbformat": 4,
 "nbformat_minor": 5
}
