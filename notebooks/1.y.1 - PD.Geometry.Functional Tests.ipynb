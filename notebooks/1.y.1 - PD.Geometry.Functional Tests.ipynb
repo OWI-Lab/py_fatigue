{
 "cells": [
  {
   "cell_type": "markdown",
   "id": "147f668b",
   "metadata": {
    "toc": true
   },
   "source": [
    "<h1>Table of Contents<span class=\"tocSkip\"></span></h1>\n",
    "<div class=\"toc\"><ul class=\"toc-item\"></ul></div>"
   ]
  },
  {
   "cell_type": "code",
   "execution_count": 1,
   "id": "7a86d43d",
   "metadata": {
    "ExecuteTime": {
     "end_time": "2022-09-08T21:50:05.699387Z",
     "start_time": "2022-09-08T21:50:03.059085Z"
    }
   },
   "outputs": [],
   "source": [
    "# autoreload updated and newly installed packages\n",
    "# without having to restart Jupyter kernel\n",
    "%load_ext autoreload\n",
    "%autoreload 2\n",
    "# Some little interaction with matplotlib,\n",
    "# although this botebook tries to only use plotly.\n",
    "%matplotlib inline                \n",
    "# Avoid using Jedi for faster autocomplete (tab)\n",
    "%config Completer.use_jedi = False"
   ]
  },
  {
   "cell_type": "code",
   "execution_count": 2,
   "id": "abbb9b78",
   "metadata": {
    "ExecuteTime": {
     "end_time": "2022-09-08T21:50:09.748925Z",
     "start_time": "2022-09-08T21:50:05.703650Z"
    }
   },
   "outputs": [],
   "source": [
    "# Standard imports\n",
    "import datetime\n",
    "import platform\n",
    "import os\n",
    "import sys\n",
    "from typing import List\n",
    "# Non-standard imports\n",
    "import matplotlib\n",
    "import matplotlib.pyplot as plt\n",
    "import numba as nb\n",
    "import numpy as np\n",
    "import plotly.graph_objs as go\n",
    "# py-fatigue import\n",
    "import py_fatigue as pf\n",
    "# Paths of this tutorial and of the data\n",
    "TUTORIAL_PATH = os.path.dirname(os.getcwd())\n",
    "DATA_PATH = os.path.join(TUTORIAL_PATH, \"Data\")\n",
    "if not TUTORIAL_PATH in sys.path:\n",
    "    sys.path.append(TUTORIAL_PATH)\n",
    "np.set_printoptions(threshold=sys.maxsize)"
   ]
  },
  {
   "cell_type": "code",
   "execution_count": 3,
   "id": "ab944957",
   "metadata": {
    "ExecuteTime": {
     "end_time": "2022-09-08T21:50:09.964008Z",
     "start_time": "2022-09-08T21:50:09.748925Z"
    }
   },
   "outputs": [
    {
     "name": "stdout",
     "output_type": "stream",
     "text": [
      "Platform: Linux-5.15.0-52-generic-x86_64-with-glibc2.35\n",
      "Python version: 3.9.7 (default, Sep 20 2022, 16:21:01) \n",
      "[GCC 11.2.0]\n",
      "py-fatigue version: \u001b[1m1.2.0\n",
      "\u001b[47m\u001b[1m\u001b[34m\n",
      "DATA_PATH = /home/pd/Python/Packages/py-fatigue/Data\n",
      "TUTORIAL_PATH = /home/pd/Python/Packages/py-fatigue\n",
      "\u001b[0m\n"
     ]
    }
   ],
   "source": [
    "print(f\"Platform: {platform.platform()}\")\n",
    "print(f\"Python version: {sys.version}\")\n",
    "print(f\"py-fatigue version: {pf.styling.TermColors.CBOLD}{pf.__version__}\")\n",
    "\n",
    "print(f\"{pf.styling.TermColors.CWHITEBG}\\\n",
    "{pf.styling.TermColors.CBOLD}\\\n",
    "{pf.styling.TermColors.CBLUE}\")\n",
    "      \n",
    "print(f\"DATA_PATH = {DATA_PATH}\")\n",
    "print(f\"TUTORIAL_PATH = {TUTORIAL_PATH}\")\n",
    "\n",
    "print(f\"{pf.styling.TermColors.CEND}\")"
   ]
  },
  {
   "cell_type": "code",
   "execution_count": 4,
   "id": "51597e3a",
   "metadata": {
    "ExecuteTime": {
     "end_time": "2022-09-08T21:50:10.176190Z",
     "start_time": "2022-09-08T21:50:09.965291Z"
    }
   },
   "outputs": [],
   "source": [
    "plt.rcParams[\"figure.figsize\"] = (7, 3.5)\n",
    "plt.rcParams[\"font.family\"] = [\"sans\"]\n",
    "plt.rcParams[\"font.size\"] = 10\n",
    "plt.rcParams[\"lines.markersize\"] = 3\n",
    "plt.rcParams[\"axes.grid\"] = True\n",
    "plt.rcParams[\"grid.color\"] = \"#CCCCCC\"\n",
    "plt.rcParams[\"grid.linestyle\"] = \"-\"\n",
    "plt.rcParams[\"grid.color\"] = \"#DDDDDD\"\n",
    "plt.rcParams[\"grid.linestyle\"] = \"-\"\n",
    "plt.rcParams[\"axes.spines.right\"] = False\n",
    "plt.rcParams[\"axes.spines.top\"] = False\n",
    "plt.rcParams[\"xtick.bottom\"] = False\n",
    "plt.rcParams[\"xtick.labelbottom\"] = True\n",
    "plt.rcParams[\"ytick.left\"] = False\n",
    "plt.rcParams[\"ytick.labelleft\"] = True"
   ]
  },
  {
   "cell_type": "code",
   "execution_count": 5,
   "id": "0da118a6",
   "metadata": {},
   "outputs": [
    {
     "name": "stdout",
     "output_type": "stream",
     "text": [
      "NoType(\n",
      "  _id=INF_SUR_00,\n",
      "  initial_depth=1.0,\n",
      ")\n"
     ]
    }
   ],
   "source": [
    "# geo = pf.HollowCylinder(\n",
    "#     initial_depth=1.,\n",
    "#     thickness=80.,\n",
    "#     height=3000.,\n",
    "#     outer_diameter=3000.,\n",
    "#     crack_position=\"external\"\n",
    "# )\n",
    "\n",
    "geo = pf.geometry.NoType(initial_depth=1.)\n",
    "print(geo)"
   ]
  },
  {
   "cell_type": "code",
   "execution_count": 11,
   "id": "651ecb8b",
   "metadata": {},
   "outputs": [],
   "source": [
    "geo = pf.geometry.HollowCylinder(\n",
    "    initial_depth=1.,\n",
    "    thickness=1000.,\n",
    "    height=3000.,\n",
    "    outer_diameter=3000.,\n",
    "    crack_position=\"external\"\n",
    ")"
   ]
  },
  {
   "cell_type": "code",
   "execution_count": 12,
   "id": "fcc8539e",
   "metadata": {},
   "outputs": [
    {
     "data": {
      "text/plain": [
       "HollowCylinder(\n",
       "  _id=HOL_CYL_01,\n",
       "  initial_depth=1.0,\n",
       "  outer_diameter=3000.0,\n",
       "  thickness=1000.0,\n",
       "  height=3000.0,\n",
       "  crack_position=external,\n",
       ")"
      ]
     },
     "execution_count": 12,
     "metadata": {},
     "output_type": "execute_result"
    }
   ],
   "source": [
    "geo"
   ]
  },
  {
   "cell_type": "code",
   "execution_count": 13,
   "id": "6a19cd75",
   "metadata": {},
   "outputs": [],
   "source": [
    "geo = pf.geometry.HollowCylinder(\n",
    "    initial_depth=1.,\n",
    "    thickness=80.,\n",
    "    height=3000.,\n",
    "    outer_diameter=3000.,\n",
    "    crack_position=\"internal\"\n",
    ")"
   ]
  },
  {
   "cell_type": "code",
   "execution_count": 14,
   "id": "37019e5f",
   "metadata": {},
   "outputs": [
    {
     "data": {
      "text/plain": [
       "HollowCylinder(\n",
       "  _id=HOL_CYL_00,\n",
       "  initial_depth=1.0,\n",
       "  outer_diameter=3000.0,\n",
       "  thickness=80.0,\n",
       "  height=3000.0,\n",
       "  crack_position=internal,\n",
       ")"
      ]
     },
     "execution_count": 14,
     "metadata": {},
     "output_type": "execute_result"
    }
   ],
   "source": [
    "geo"
   ]
  },
  {
   "cell_type": "code",
   "execution_count": 18,
   "id": "88d3e627",
   "metadata": {},
   "outputs": [],
   "source": [
    "geo = pf.geometry.Cylinder(\n",
    "    initial_depth=1.,\n",
    "    height=3000.,\n",
    "    diameter=3000.,\n",
    ")"
   ]
  },
  {
   "cell_type": "code",
   "execution_count": 19,
   "id": "ba8e8c02",
   "metadata": {},
   "outputs": [
    {
     "data": {
      "text/plain": [
       "Cylinder(\n",
       "  _id=FUL_CYL_00,\n",
       "  initial_depth=1.0,\n",
       "  diameter=3000.0,\n",
       "  height=3000.0,\n",
       ")"
      ]
     },
     "execution_count": 19,
     "metadata": {},
     "output_type": "execute_result"
    }
   ],
   "source": [
    "geo"
   ]
  },
  {
   "cell_type": "code",
   "execution_count": null,
   "id": "4eaa58bd",
   "metadata": {},
   "outputs": [],
   "source": []
  }
 ],
 "metadata": {
  "hide_input": false,
  "kernelspec": {
   "display_name": "Python 3",
   "language": "python",
   "name": "python3"
  },
  "language_info": {
   "codemirror_mode": {
    "name": "ipython",
    "version": 3
   },
   "file_extension": ".py",
   "mimetype": "text/x-python",
   "name": "python",
   "nbconvert_exporter": "python",
   "pygments_lexer": "ipython3",
   "version": "3.9.7"
  },
  "latex_envs": {
   "LaTeX_envs_menu_present": true,
   "autoclose": false,
   "autocomplete": true,
   "bibliofile": "biblio.bib",
   "cite_by": "apalike",
   "current_citInitial": 1,
   "eqLabelWithNumbers": true,
   "eqNumInitial": 1,
   "hotkeys": {
    "equation": "Ctrl-E",
    "itemize": "Ctrl-I"
   },
   "labels_anchors": false,
   "latex_user_defs": false,
   "report_style_numbering": false,
   "user_envs_cfg": false
  },
  "toc": {
   "base_numbering": 1,
   "nav_menu": {},
   "number_sections": true,
   "sideBar": true,
   "skip_h1_title": true,
   "title_cell": "Table of Contents",
   "title_sidebar": "Contents",
   "toc_cell": true,
   "toc_position": {},
   "toc_section_display": true,
   "toc_window_display": false
  }
 },
 "nbformat": 4,
 "nbformat_minor": 5
}
